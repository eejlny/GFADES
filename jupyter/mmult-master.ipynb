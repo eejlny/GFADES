{
 "cells": [
  {
   "cell_type": "markdown",
   "id": "fcabf42d-701b-474b-b951-27f018707015",
   "metadata": {},
   "source": [
    "# GNN stream adj,fea and weight matrix multiplication with AXI master interfaces on PYNQ\n",
    "\n",
    "## Import and download the HLS Overlay"
   ]
  },
  {
   "cell_type": "code",
   "execution_count": 845,
   "id": "bd853e5c",
   "metadata": {},
   "outputs": [],
   "source": [
    "#import os\n",
    "#base_dir=os.getcwd()\n",
    "#filename=\"/home/xilinx/pynq/overlays/gnn/gnn.bit\";\n",
    "#bitname=os.path.join(base_dir, filename)\n",
    "#print(bitname)\n",
    "#import torch"
   ]
  },
  {
   "cell_type": "code",
   "execution_count": 846,
   "id": "3d69bb92-ad10-4de1-b869-8d43a9108266",
   "metadata": {},
   "outputs": [],
   "source": [
    "from pynq import Overlay\n",
    "ol = Overlay(\"gnn_all.bit\")"
   ]
  },
  {
   "cell_type": "code",
   "execution_count": 847,
   "id": "a2b66af3",
   "metadata": {},
   "outputs": [
    {
     "name": "stdout",
     "output_type": "stream",
     "text": [
      "DATASET selection\n"
     ]
    }
   ],
   "source": [
    "print(\"DATASET selection\")"
   ]
  },
  {
   "cell_type": "code",
   "execution_count": 562,
   "id": "887d5639",
   "metadata": {},
   "outputs": [],
   "source": [
    "adj_name = '/home/xilinx/jupyter_notebooks/gnn_all/matrices/cora_adj.txt'\n",
    "fea_name = '/home/xilinx/jupyter_notebooks/gnn_all/matrices/cora_feat.txt'\n",
    "w_name = '/home/xilinx/jupyter_notebooks/gnn_all/matrices/cora_weights.txt'\n",
    "N_adj = 2708  # number of nodes\n",
    "M_fea = 1433  # number of input features\n",
    "P_w = 16  # number of features in the hidden layer\n",
    "NNZ_adj = 13264  # number of non-zero values of adjacency\n",
    "NNZ_fea = 49216  # number of non-zero values of feature\n",
    "ADJ_THREADS = 1"
   ]
  },
  {
   "cell_type": "code",
   "execution_count": 848,
   "id": "89873709",
   "metadata": {},
   "outputs": [],
   "source": [
    "adj_name = '/home/xilinx/jupyter_notebooks/gnn_all/matrices/citeseer_adj.txt'\n",
    "fea_name = '/home/xilinx/jupyter_notebooks/gnn_all/matrices/citeseer_feat.txt'\n",
    "w_name = '/home/xilinx/jupyter_notebooks/gnn_all/matrices/citeseer_weights.txt'\n",
    "N_adj = 3327  # number of nodes\n",
    "M_fea = 3703  # number of input features\n",
    "P_w = 16  # number of features in the hidden layer\n",
    "NNZ_adj = 12431  # number of non-zero values of adjacency\n",
    "NNZ_fea = 105165  # number of non-zero values of feature\n",
    "ADJ_THREADS = 1"
   ]
  },
  {
   "cell_type": "code",
   "execution_count": 263,
   "id": "d1e79812",
   "metadata": {},
   "outputs": [],
   "source": [
    "adj_name = '/home/xilinx/jupyter_notebooks/gnn_all/matrices/pubmed_adj.txt'\n",
    "fea_name = '/home/xilinx/jupyter_notebooks/gnn_all/matrices/pubmed_feat.txt'\n",
    "w_name = '/home/xilinx/jupyter_notebooks/gnn_all/matrices/pubmed_weights.txt'\n",
    "N_adj = 19717  # number of nodes\n",
    "M_fea = 500  # number of input features\n",
    "P_w = 16  # number of features in the hidden layer\n",
    "NNZ_adj = 108365  # number of non-zero values of adjacency\n",
    "NNZ_fea = 988031  # number of non-zero values of feature\n",
    "ADJ_THREADS = 1"
   ]
  },
  {
   "cell_type": "markdown",
   "id": "b82107aa",
   "metadata": {},
   "source": [
    "adj_name = '/home/xilinx/jupyter_notebooks/gnn/matrices/test_adj.txt'\n",
    "fea_name = '/home/xilinx/jupyter_notebooks/gnn/matrices/test_feat.txt'\n",
    "w_name = '/home/xilinx/jupyter_notebooks/gnn/matrices/test_weights.txt'\n",
    "N_adj = 4  # number of nodes\n",
    "M_fea = 4  # number of input features\n",
    "P_w = 2  # number of features in the hidden layer\n",
    "NNZ_adj = 4  # number of non-zero values of adjacency\n",
    "NNZ_fea = 2  # number of non-zero values of feature\n",
    "FRAC_BITS_IN = 14\n",
    "FRAC_BITS_OUT = 14\n",
    "DATA_WIDTH = 16"
   ]
  },
  {
   "cell_type": "markdown",
   "id": "ce976b5c-5058-47b1-acc7-4b7a9c6c2176",
   "metadata": {},
   "source": [
    "## Examine the design "
   ]
  },
  {
   "cell_type": "code",
   "execution_count": 849,
   "id": "a4c25fb4-4437-4e4f-86f5-3925b94ef446",
   "metadata": {},
   "outputs": [
    {
     "data": {
      "application/json": {
       "axi_intc_0": {
        "addr_range": 65536,
        "bdtype": null,
        "device": "<pynq.pl_server.embedded_device.EmbeddedDevice object at 0xffff932b2880>",
        "driver": "<class 'pynq.overlay.DefaultIP'>",
        "fullpath": "axi_intc_0",
        "gpio": {},
        "interrupts": {
         "intr": {
          "controller": "axi_intc_0",
          "fullpath": "axi_intc_0/intr",
          "index": 0
         }
        },
        "mem_id": "s_axi",
        "memtype": "REGISTER",
        "parameters": {
         "C_ADDR_WIDTH": "32",
         "C_ASYNC_INTR": "0xFFFFFFFE",
         "C_BASEADDR": "0xA0000000",
         "C_CASCADE_MASTER": "0",
         "C_DISABLE_SYNCHRONIZERS": "0",
         "C_ENABLE_ASYNC": "0",
         "C_EN_CASCADE_MODE": "0",
         "C_FAMILY": "zynquplus",
         "C_HAS_CIE": "1",
         "C_HAS_FAST": "0",
         "C_HAS_ILR": "0",
         "C_HAS_IPR": "1",
         "C_HAS_IVR": "1",
         "C_HAS_SIE": "1",
         "C_HIGHADDR": "0xA000FFFF",
         "C_INSTANCE": "design_1_axi_intc_0_0",
         "C_IRQ_ACTIVE": "0x1",
         "C_IRQ_CONNECTION": "1",
         "C_IRQ_IS_LEVEL": "1",
         "C_IVAR_RESET_VALUE": "0x0000000000000010",
         "C_KIND_OF_EDGE": "0xFFFFFFFF",
         "C_KIND_OF_INTR": "0xfffffffe",
         "C_KIND_OF_LVL": "0xFFFFFFFF",
         "C_MB_CLK_NOT_CONNECTED": "1",
         "C_NUM_INTR_INPUTS": "1",
         "C_NUM_SW_INTR": "0",
         "C_NUM_SYNC_FF": "2",
         "C_PROCESSOR_CLK_FREQ_MHZ": "100.0",
         "C_S_AXI_ACLK_FREQ_MHZ": "249.997498",
         "C_S_AXI_ADDR_WIDTH": "9",
         "C_S_AXI_DATA_WIDTH": "32",
         "Component_Name": "design_1_axi_intc_0_0",
         "EDK_IPTYPE": "PERIPHERAL",
         "EDK_SPECIAL": "INTR_CTRL",
         "Sense_of_IRQ_Edge_Type": "Rising",
         "Sense_of_IRQ_Level_Type": "Active_High"
        },
        "phys_addr": 2684354560,
        "registers": {
         "CIE": {
          "access": "read-write",
          "address_offset": 20,
          "description": "Clear Interrupt Enables",
          "fields": {
           "INT": {
            "access": "read-write",
            "bit_offset": 0,
            "bit_width": 1,
            "description": "Clear Interrupt Enables"
           }
          },
          "size": 1
         },
         "IAR": {
          "access": "write-only",
          "address_offset": 12,
          "description": "Interrupt Acknowledge Register",
          "fields": {
           "INT": {
            "access": "write-only",
            "bit_offset": 0,
            "bit_width": 1,
            "description": "Interrupt Acknowledge Register"
           }
          },
          "size": 1
         },
         "IER": {
          "access": "read-write",
          "address_offset": 8,
          "description": "Interrupt Enable Register",
          "fields": {
           "INT": {
            "access": "read-write",
            "bit_offset": 0,
            "bit_width": 1,
            "description": "Interrupt Enable Register"
           }
          },
          "size": 1
         },
         "ILR": {
          "access": "read-write",
          "address_offset": 36,
          "description": "Interrupt Level Register",
          "fields": {
           "ILN": {
            "access": "read-write",
            "bit_offset": 0,
            "bit_width": 5,
            "description": "Interrupt Level Register"
           }
          },
          "size": 5
         },
         "IMR": {
          "access": "read-write",
          "address_offset": 32,
          "description": "Interrupt Mode Register",
          "fields": {
           "INT": {
            "access": "read-write",
            "bit_offset": 0,
            "bit_width": 1,
            "description": "Interrupt Mode Register"
           }
          },
          "size": 1
         },
         "IPR": {
          "access": "read-only",
          "address_offset": 4,
          "description": "Interrupt Pending Register",
          "fields": {
           "INT": {
            "access": "read-only",
            "bit_offset": 0,
            "bit_width": 1,
            "description": "Interrupt Pending Register"
           }
          },
          "size": 1
         },
         "ISR": {
          "access": "read-write",
          "address_offset": 0,
          "description": "Interrupt Status Register",
          "fields": {
           "INT": {
            "access": "read-write",
            "bit_offset": 0,
            "bit_width": 1,
            "description": "Interrupt Status Register"
           }
          },
          "size": 1
         },
         "IVAR[0]": {
          "access": "read-write",
          "address_offset": 256,
          "description": "Interrupt Vector Address Register 0",
          "fields": {
           "IVA": {
            "access": "read-write",
            "bit_offset": 0,
            "bit_width": 32,
            "description": "Interrupt Vector Address Register 0"
           }
          },
          "size": 32
         },
         "IVAR[10]": {
          "access": "read-write",
          "address_offset": 296,
          "description": "Interrupt Vector Address Register 10",
          "fields": {
           "IVA": {
            "access": "read-write",
            "bit_offset": 0,
            "bit_width": 32,
            "description": "Interrupt Vector Address Register 10"
           }
          },
          "size": 32
         },
         "IVAR[11]": {
          "access": "read-write",
          "address_offset": 300,
          "description": "Interrupt Vector Address Register 11",
          "fields": {
           "IVA": {
            "access": "read-write",
            "bit_offset": 0,
            "bit_width": 32,
            "description": "Interrupt Vector Address Register 11"
           }
          },
          "size": 32
         },
         "IVAR[12]": {
          "access": "read-write",
          "address_offset": 304,
          "description": "Interrupt Vector Address Register 12",
          "fields": {
           "IVA": {
            "access": "read-write",
            "bit_offset": 0,
            "bit_width": 32,
            "description": "Interrupt Vector Address Register 12"
           }
          },
          "size": 32
         },
         "IVAR[13]": {
          "access": "read-write",
          "address_offset": 308,
          "description": "Interrupt Vector Address Register 13",
          "fields": {
           "IVA": {
            "access": "read-write",
            "bit_offset": 0,
            "bit_width": 32,
            "description": "Interrupt Vector Address Register 13"
           }
          },
          "size": 32
         },
         "IVAR[14]": {
          "access": "read-write",
          "address_offset": 312,
          "description": "Interrupt Vector Address Register 14",
          "fields": {
           "IVA": {
            "access": "read-write",
            "bit_offset": 0,
            "bit_width": 32,
            "description": "Interrupt Vector Address Register 14"
           }
          },
          "size": 32
         },
         "IVAR[15]": {
          "access": "read-write",
          "address_offset": 316,
          "description": "Interrupt Vector Address Register 15",
          "fields": {
           "IVA": {
            "access": "read-write",
            "bit_offset": 0,
            "bit_width": 32,
            "description": "Interrupt Vector Address Register 15"
           }
          },
          "size": 32
         },
         "IVAR[16]": {
          "access": "read-write",
          "address_offset": 320,
          "description": "Interrupt Vector Address Register 16",
          "fields": {
           "IVA": {
            "access": "read-write",
            "bit_offset": 0,
            "bit_width": 32,
            "description": "Interrupt Vector Address Register 16"
           }
          },
          "size": 32
         },
         "IVAR[17]": {
          "access": "read-write",
          "address_offset": 324,
          "description": "Interrupt Vector Address Register 17",
          "fields": {
           "IVA": {
            "access": "read-write",
            "bit_offset": 0,
            "bit_width": 32,
            "description": "Interrupt Vector Address Register 17"
           }
          },
          "size": 32
         },
         "IVAR[18]": {
          "access": "read-write",
          "address_offset": 328,
          "description": "Interrupt Vector Address Register 18",
          "fields": {
           "IVA": {
            "access": "read-write",
            "bit_offset": 0,
            "bit_width": 32,
            "description": "Interrupt Vector Address Register 18"
           }
          },
          "size": 32
         },
         "IVAR[19]": {
          "access": "read-write",
          "address_offset": 332,
          "description": "Interrupt Vector Address Register 19",
          "fields": {
           "IVA": {
            "access": "read-write",
            "bit_offset": 0,
            "bit_width": 32,
            "description": "Interrupt Vector Address Register 19"
           }
          },
          "size": 32
         },
         "IVAR[1]": {
          "access": "read-write",
          "address_offset": 260,
          "description": "Interrupt Vector Address Register 1",
          "fields": {
           "IVA": {
            "access": "read-write",
            "bit_offset": 0,
            "bit_width": 32,
            "description": "Interrupt Vector Address Register 1"
           }
          },
          "size": 32
         },
         "IVAR[20]": {
          "access": "read-write",
          "address_offset": 336,
          "description": "Interrupt Vector Address Register 20",
          "fields": {
           "IVA": {
            "access": "read-write",
            "bit_offset": 0,
            "bit_width": 32,
            "description": "Interrupt Vector Address Register 20"
           }
          },
          "size": 32
         },
         "IVAR[21]": {
          "access": "read-write",
          "address_offset": 340,
          "description": "Interrupt Vector Address Register 21",
          "fields": {
           "IVA": {
            "access": "read-write",
            "bit_offset": 0,
            "bit_width": 32,
            "description": "Interrupt Vector Address Register 21"
           }
          },
          "size": 32
         },
         "IVAR[22]": {
          "access": "read-write",
          "address_offset": 344,
          "description": "Interrupt Vector Address Register 22",
          "fields": {
           "IVA": {
            "access": "read-write",
            "bit_offset": 0,
            "bit_width": 32,
            "description": "Interrupt Vector Address Register 22"
           }
          },
          "size": 32
         },
         "IVAR[23]": {
          "access": "read-write",
          "address_offset": 348,
          "description": "Interrupt Vector Address Register 23",
          "fields": {
           "IVA": {
            "access": "read-write",
            "bit_offset": 0,
            "bit_width": 32,
            "description": "Interrupt Vector Address Register 23"
           }
          },
          "size": 32
         },
         "IVAR[24]": {
          "access": "read-write",
          "address_offset": 352,
          "description": "Interrupt Vector Address Register 24",
          "fields": {
           "IVA": {
            "access": "read-write",
            "bit_offset": 0,
            "bit_width": 32,
            "description": "Interrupt Vector Address Register 24"
           }
          },
          "size": 32
         },
         "IVAR[25]": {
          "access": "read-write",
          "address_offset": 356,
          "description": "Interrupt Vector Address Register 25",
          "fields": {
           "IVA": {
            "access": "read-write",
            "bit_offset": 0,
            "bit_width": 32,
            "description": "Interrupt Vector Address Register 25"
           }
          },
          "size": 32
         },
         "IVAR[26]": {
          "access": "read-write",
          "address_offset": 360,
          "description": "Interrupt Vector Address Register 26",
          "fields": {
           "IVA": {
            "access": "read-write",
            "bit_offset": 0,
            "bit_width": 32,
            "description": "Interrupt Vector Address Register 26"
           }
          },
          "size": 32
         },
         "IVAR[27]": {
          "access": "read-write",
          "address_offset": 364,
          "description": "Interrupt Vector Address Register 27",
          "fields": {
           "IVA": {
            "access": "read-write",
            "bit_offset": 0,
            "bit_width": 32,
            "description": "Interrupt Vector Address Register 27"
           }
          },
          "size": 32
         },
         "IVAR[28]": {
          "access": "read-write",
          "address_offset": 368,
          "description": "Interrupt Vector Address Register 28",
          "fields": {
           "IVA": {
            "access": "read-write",
            "bit_offset": 0,
            "bit_width": 32,
            "description": "Interrupt Vector Address Register 28"
           }
          },
          "size": 32
         },
         "IVAR[29]": {
          "access": "read-write",
          "address_offset": 372,
          "description": "Interrupt Vector Address Register 29",
          "fields": {
           "IVA": {
            "access": "read-write",
            "bit_offset": 0,
            "bit_width": 32,
            "description": "Interrupt Vector Address Register 29"
           }
          },
          "size": 32
         },
         "IVAR[2]": {
          "access": "read-write",
          "address_offset": 264,
          "description": "Interrupt Vector Address Register 2",
          "fields": {
           "IVA": {
            "access": "read-write",
            "bit_offset": 0,
            "bit_width": 32,
            "description": "Interrupt Vector Address Register 2"
           }
          },
          "size": 32
         },
         "IVAR[30]": {
          "access": "read-write",
          "address_offset": 376,
          "description": "Interrupt Vector Address Register 30",
          "fields": {
           "IVA": {
            "access": "read-write",
            "bit_offset": 0,
            "bit_width": 32,
            "description": "Interrupt Vector Address Register 30"
           }
          },
          "size": 32
         },
         "IVAR[31]": {
          "access": "read-write",
          "address_offset": 380,
          "description": "Interrupt Vector Address Register 31",
          "fields": {
           "IVA": {
            "access": "read-write",
            "bit_offset": 0,
            "bit_width": 32,
            "description": "Interrupt Vector Address Register 31"
           }
          },
          "size": 32
         },
         "IVAR[3]": {
          "access": "read-write",
          "address_offset": 268,
          "description": "Interrupt Vector Address Register 3",
          "fields": {
           "IVA": {
            "access": "read-write",
            "bit_offset": 0,
            "bit_width": 32,
            "description": "Interrupt Vector Address Register 3"
           }
          },
          "size": 32
         },
         "IVAR[4]": {
          "access": "read-write",
          "address_offset": 272,
          "description": "Interrupt Vector Address Register 4",
          "fields": {
           "IVA": {
            "access": "read-write",
            "bit_offset": 0,
            "bit_width": 32,
            "description": "Interrupt Vector Address Register 4"
           }
          },
          "size": 32
         },
         "IVAR[5]": {
          "access": "read-write",
          "address_offset": 276,
          "description": "Interrupt Vector Address Register 5",
          "fields": {
           "IVA": {
            "access": "read-write",
            "bit_offset": 0,
            "bit_width": 32,
            "description": "Interrupt Vector Address Register 5"
           }
          },
          "size": 32
         },
         "IVAR[6]": {
          "access": "read-write",
          "address_offset": 280,
          "description": "Interrupt Vector Address Register 6",
          "fields": {
           "IVA": {
            "access": "read-write",
            "bit_offset": 0,
            "bit_width": 32,
            "description": "Interrupt Vector Address Register 6"
           }
          },
          "size": 32
         },
         "IVAR[7]": {
          "access": "read-write",
          "address_offset": 284,
          "description": "Interrupt Vector Address Register 7",
          "fields": {
           "IVA": {
            "access": "read-write",
            "bit_offset": 0,
            "bit_width": 32,
            "description": "Interrupt Vector Address Register 7"
           }
          },
          "size": 32
         },
         "IVAR[8]": {
          "access": "read-write",
          "address_offset": 288,
          "description": "Interrupt Vector Address Register 8",
          "fields": {
           "IVA": {
            "access": "read-write",
            "bit_offset": 0,
            "bit_width": 32,
            "description": "Interrupt Vector Address Register 8"
           }
          },
          "size": 32
         },
         "IVAR[9]": {
          "access": "read-write",
          "address_offset": 292,
          "description": "Interrupt Vector Address Register 9",
          "fields": {
           "IVA": {
            "access": "read-write",
            "bit_offset": 0,
            "bit_width": 32,
            "description": "Interrupt Vector Address Register 9"
           }
          },
          "size": 32
         },
         "IVEAR[0]": {
          "access": "read-write",
          "address_offset": 512,
          "description": "Interrupt Vector Address Register 0",
          "fields": {
           "IVA": {
            "access": "read-write",
            "bit_offset": 0,
            "bit_width": 32,
            "description": "Interrupt Vector Address Register 0"
           }
          },
          "size": 32
         },
         "IVEAR[10]": {
          "access": "read-write",
          "address_offset": 592,
          "description": "Interrupt Vector Address Register 10",
          "fields": {
           "IVA": {
            "access": "read-write",
            "bit_offset": 0,
            "bit_width": 32,
            "description": "Interrupt Vector Address Register 10"
           }
          },
          "size": 32
         },
         "IVEAR[11]": {
          "access": "read-write",
          "address_offset": 600,
          "description": "Interrupt Vector Address Register 11",
          "fields": {
           "IVA": {
            "access": "read-write",
            "bit_offset": 0,
            "bit_width": 32,
            "description": "Interrupt Vector Address Register 11"
           }
          },
          "size": 32
         },
         "IVEAR[12]": {
          "access": "read-write",
          "address_offset": 608,
          "description": "Interrupt Vector Address Register 12",
          "fields": {
           "IVA": {
            "access": "read-write",
            "bit_offset": 0,
            "bit_width": 32,
            "description": "Interrupt Vector Address Register 12"
           }
          },
          "size": 32
         },
         "IVEAR[13]": {
          "access": "read-write",
          "address_offset": 616,
          "description": "Interrupt Vector Address Register 13",
          "fields": {
           "IVA": {
            "access": "read-write",
            "bit_offset": 0,
            "bit_width": 32,
            "description": "Interrupt Vector Address Register 13"
           }
          },
          "size": 32
         },
         "IVEAR[14]": {
          "access": "read-write",
          "address_offset": 624,
          "description": "Interrupt Vector Address Register 14",
          "fields": {
           "IVA": {
            "access": "read-write",
            "bit_offset": 0,
            "bit_width": 32,
            "description": "Interrupt Vector Address Register 14"
           }
          },
          "size": 32
         },
         "IVEAR[15]": {
          "access": "read-write",
          "address_offset": 632,
          "description": "Interrupt Vector Address Register 15",
          "fields": {
           "IVA": {
            "access": "read-write",
            "bit_offset": 0,
            "bit_width": 32,
            "description": "Interrupt Vector Address Register 15"
           }
          },
          "size": 32
         },
         "IVEAR[16]": {
          "access": "read-write",
          "address_offset": 640,
          "description": "Interrupt Vector Address Register 16",
          "fields": {
           "IVA": {
            "access": "read-write",
            "bit_offset": 0,
            "bit_width": 32,
            "description": "Interrupt Vector Address Register 16"
           }
          },
          "size": 32
         },
         "IVEAR[17]": {
          "access": "read-write",
          "address_offset": 648,
          "description": "Interrupt Vector Address Register 17",
          "fields": {
           "IVA": {
            "access": "read-write",
            "bit_offset": 0,
            "bit_width": 32,
            "description": "Interrupt Vector Address Register 17"
           }
          },
          "size": 32
         },
         "IVEAR[18]": {
          "access": "read-write",
          "address_offset": 656,
          "description": "Interrupt Vector Address Register 18",
          "fields": {
           "IVA": {
            "access": "read-write",
            "bit_offset": 0,
            "bit_width": 32,
            "description": "Interrupt Vector Address Register 18"
           }
          },
          "size": 32
         },
         "IVEAR[19]": {
          "access": "read-write",
          "address_offset": 664,
          "description": "Interrupt Vector Address Register 19",
          "fields": {
           "IVA": {
            "access": "read-write",
            "bit_offset": 0,
            "bit_width": 32,
            "description": "Interrupt Vector Address Register 19"
           }
          },
          "size": 32
         },
         "IVEAR[1]": {
          "access": "read-write",
          "address_offset": 520,
          "description": "Interrupt Vector Address Register 1",
          "fields": {
           "IVA": {
            "access": "read-write",
            "bit_offset": 0,
            "bit_width": 32,
            "description": "Interrupt Vector Address Register 1"
           }
          },
          "size": 32
         },
         "IVEAR[20]": {
          "access": "read-write",
          "address_offset": 672,
          "description": "Interrupt Vector Address Register 20",
          "fields": {
           "IVA": {
            "access": "read-write",
            "bit_offset": 0,
            "bit_width": 32,
            "description": "Interrupt Vector Address Register 20"
           }
          },
          "size": 32
         },
         "IVEAR[21]": {
          "access": "read-write",
          "address_offset": 680,
          "description": "Interrupt Vector Address Register 21",
          "fields": {
           "IVA": {
            "access": "read-write",
            "bit_offset": 0,
            "bit_width": 32,
            "description": "Interrupt Vector Address Register 21"
           }
          },
          "size": 32
         },
         "IVEAR[22]": {
          "access": "read-write",
          "address_offset": 688,
          "description": "Interrupt Vector Address Register 22",
          "fields": {
           "IVA": {
            "access": "read-write",
            "bit_offset": 0,
            "bit_width": 32,
            "description": "Interrupt Vector Address Register 22"
           }
          },
          "size": 32
         },
         "IVEAR[23]": {
          "access": "read-write",
          "address_offset": 696,
          "description": "Interrupt Vector Address Register 23",
          "fields": {
           "IVA": {
            "access": "read-write",
            "bit_offset": 0,
            "bit_width": 32,
            "description": "Interrupt Vector Address Register 23"
           }
          },
          "size": 32
         },
         "IVEAR[24]": {
          "access": "read-write",
          "address_offset": 704,
          "description": "Interrupt Vector Address Register 24",
          "fields": {
           "IVA": {
            "access": "read-write",
            "bit_offset": 0,
            "bit_width": 32,
            "description": "Interrupt Vector Address Register 24"
           }
          },
          "size": 32
         },
         "IVEAR[25]": {
          "access": "read-write",
          "address_offset": 712,
          "description": "Interrupt Vector Address Register 25",
          "fields": {
           "IVA": {
            "access": "read-write",
            "bit_offset": 0,
            "bit_width": 32,
            "description": "Interrupt Vector Address Register 25"
           }
          },
          "size": 32
         },
         "IVEAR[26]": {
          "access": "read-write",
          "address_offset": 720,
          "description": "Interrupt Vector Address Register 26",
          "fields": {
           "IVA": {
            "access": "read-write",
            "bit_offset": 0,
            "bit_width": 32,
            "description": "Interrupt Vector Address Register 26"
           }
          },
          "size": 32
         },
         "IVEAR[27]": {
          "access": "read-write",
          "address_offset": 728,
          "description": "Interrupt Vector Address Register 27",
          "fields": {
           "IVA": {
            "access": "read-write",
            "bit_offset": 0,
            "bit_width": 32,
            "description": "Interrupt Vector Address Register 27"
           }
          },
          "size": 32
         },
         "IVEAR[28]": {
          "access": "read-write",
          "address_offset": 736,
          "description": "Interrupt Vector Address Register 28",
          "fields": {
           "IVA": {
            "access": "read-write",
            "bit_offset": 0,
            "bit_width": 32,
            "description": "Interrupt Vector Address Register 28"
           }
          },
          "size": 32
         },
         "IVEAR[29]": {
          "access": "read-write",
          "address_offset": 744,
          "description": "Interrupt Vector Address Register 29",
          "fields": {
           "IVA": {
            "access": "read-write",
            "bit_offset": 0,
            "bit_width": 32,
            "description": "Interrupt Vector Address Register 29"
           }
          },
          "size": 32
         },
         "IVEAR[2]": {
          "access": "read-write",
          "address_offset": 528,
          "description": "Interrupt Vector Address Register 2",
          "fields": {
           "IVA": {
            "access": "read-write",
            "bit_offset": 0,
            "bit_width": 32,
            "description": "Interrupt Vector Address Register 2"
           }
          },
          "size": 32
         },
         "IVEAR[30]": {
          "access": "read-write",
          "address_offset": 752,
          "description": "Interrupt Vector Address Register 30",
          "fields": {
           "IVA": {
            "access": "read-write",
            "bit_offset": 0,
            "bit_width": 32,
            "description": "Interrupt Vector Address Register 30"
           }
          },
          "size": 32
         },
         "IVEAR[31]": {
          "access": "read-write",
          "address_offset": 760,
          "description": "Interrupt Vector Address Register 31",
          "fields": {
           "IVA": {
            "access": "read-write",
            "bit_offset": 0,
            "bit_width": 32,
            "description": "Interrupt Vector Address Register 31"
           }
          },
          "size": 32
         },
         "IVEAR[3]": {
          "access": "read-write",
          "address_offset": 536,
          "description": "Interrupt Vector Address Register 3",
          "fields": {
           "IVA": {
            "access": "read-write",
            "bit_offset": 0,
            "bit_width": 32,
            "description": "Interrupt Vector Address Register 3"
           }
          },
          "size": 32
         },
         "IVEAR[4]": {
          "access": "read-write",
          "address_offset": 544,
          "description": "Interrupt Vector Address Register 4",
          "fields": {
           "IVA": {
            "access": "read-write",
            "bit_offset": 0,
            "bit_width": 32,
            "description": "Interrupt Vector Address Register 4"
           }
          },
          "size": 32
         },
         "IVEAR[5]": {
          "access": "read-write",
          "address_offset": 552,
          "description": "Interrupt Vector Address Register 5",
          "fields": {
           "IVA": {
            "access": "read-write",
            "bit_offset": 0,
            "bit_width": 32,
            "description": "Interrupt Vector Address Register 5"
           }
          },
          "size": 32
         },
         "IVEAR[6]": {
          "access": "read-write",
          "address_offset": 560,
          "description": "Interrupt Vector Address Register 6",
          "fields": {
           "IVA": {
            "access": "read-write",
            "bit_offset": 0,
            "bit_width": 32,
            "description": "Interrupt Vector Address Register 6"
           }
          },
          "size": 32
         },
         "IVEAR[7]": {
          "access": "read-write",
          "address_offset": 568,
          "description": "Interrupt Vector Address Register 7",
          "fields": {
           "IVA": {
            "access": "read-write",
            "bit_offset": 0,
            "bit_width": 32,
            "description": "Interrupt Vector Address Register 7"
           }
          },
          "size": 32
         },
         "IVEAR[8]": {
          "access": "read-write",
          "address_offset": 576,
          "description": "Interrupt Vector Address Register 8",
          "fields": {
           "IVA": {
            "access": "read-write",
            "bit_offset": 0,
            "bit_width": 32,
            "description": "Interrupt Vector Address Register 8"
           }
          },
          "size": 32
         },
         "IVEAR[9]": {
          "access": "read-write",
          "address_offset": 584,
          "description": "Interrupt Vector Address Register 9",
          "fields": {
           "IVA": {
            "access": "read-write",
            "bit_offset": 0,
            "bit_width": 32,
            "description": "Interrupt Vector Address Register 9"
           }
          },
          "size": 32
         },
         "IVR": {
          "access": "read-only",
          "address_offset": 24,
          "description": "Interrupt Vector Register",
          "fields": {
           "IVN": {
            "access": "read-only",
            "bit_offset": 0,
            "bit_width": 5,
            "description": "Interrupt Vector Register"
           }
          },
          "size": 5
         },
         "MER": {
          "access": "read-write",
          "address_offset": 28,
          "description": "Master Enable Register",
          "fields": {
           "HIE": {
            "access": "read-write",
            "bit_offset": 1,
            "bit_width": 1,
            "description": "Master Enable Register"
           },
           "ME": {
            "access": "read-write",
            "bit_offset": 0,
            "bit_width": 1,
            "description": "Master Enable Register"
           }
          },
          "size": 2
         },
         "SIE": {
          "access": "read-write",
          "address_offset": 16,
          "description": "Set Interrupt Enables",
          "fields": {
           "INT": {
            "access": "read-write",
            "bit_offset": 0,
            "bit_width": 1,
            "description": "Set Interrupt Enables"
           }
          },
          "size": 1
         }
        },
        "state": null,
        "type": "xilinx.com:ip:axi_intc:4.1"
       },
       "axi_perf_mon_0": {
        "addr_range": 65536,
        "bdtype": null,
        "device": "<pynq.pl_server.embedded_device.EmbeddedDevice object at 0xffff932b2880>",
        "driver": "<class 'pynq.overlay.DefaultIP'>",
        "fullpath": "axi_perf_mon_0",
        "gpio": {},
        "interrupts": {},
        "mem_id": "S_AXI",
        "memtype": "REGISTER",
        "parameters": {
         "COUNTER_LOAD_VALUE": "0x00000000",
         "C_AXI4LITE_CORE_CLK_ASYNC": "0",
         "C_AXIS_DWIDTH_ROUND_TO_32": "64",
         "C_BASEADDR": "0xA0010000",
         "C_ENABLE_ADVANCED": "1",
         "C_ENABLE_EVENT_COUNT": "1",
         "C_ENABLE_EVENT_LOG": "0",
         "C_ENABLE_PROFILE": "0",
         "C_ENABLE_TRACE": "0",
         "C_EN_ALL_TRACE": "1",
         "C_EN_AXI_DEBUG": "0",
         "C_EN_EXT_EVENTS_FLAG": "0",
         "C_EN_FIRST_READ_FLAG": "1",
         "C_EN_FIRST_WRITE_FLAG": "1",
         "C_EN_LAST_READ_FLAG": "1",
         "C_EN_LAST_WRITE_FLAG": "1",
         "C_EN_RD_ADD_FLAG": "1",
         "C_EN_RESPONSE_FLAG": "1",
         "C_EN_SW_REG_WR_FLAG": "0",
         "C_EN_TRIGGER": "0",
         "C_EN_WR_ADD_FLAG": "1",
         "C_EXT_EVENT0_FIFO_ENABLE": "1",
         "C_EXT_EVENT1_FIFO_ENABLE": "1",
         "C_EXT_EVENT2_FIFO_ENABLE": "1",
         "C_EXT_EVENT3_FIFO_ENABLE": "1",
         "C_EXT_EVENT4_FIFO_ENABLE": "1",
         "C_EXT_EVENT5_FIFO_ENABLE": "1",
         "C_EXT_EVENT6_FIFO_ENABLE": "1",
         "C_EXT_EVENT7_FIFO_ENABLE": "1",
         "C_FAMILY": "zynquplus",
         "C_FIFO_AXIS_DEPTH": "32",
         "C_FIFO_AXIS_SYNC": "0",
         "C_FIFO_AXIS_TDATA_WIDTH": "56",
         "C_FIFO_AXIS_TID_WIDTH": "1",
         "C_GLOBAL_COUNT_WIDTH": "32",
         "C_HAVE_SAMPLED_METRIC_CNT": "1",
         "C_HIGHADDR": "0xA001FFFF",
         "C_INSTANCE": "design_1_axi_perf_mon_0_0",
         "C_LITE_ADDRESS_WIDTH": "16",
         "C_LOG_DATA_OFFLD": "0",
         "C_METRICS_SAMPLE_COUNT_WIDTH": "32",
         "C_METRIC_COUNT_SCALE": "1",
         "C_METRIC_COUNT_WIDTH": "32",
         "C_NUM_MONITOR_SLOTS": "1",
         "C_NUM_OF_COUNTERS": "1",
         "C_REG_ALL_MONITOR_SIGNALS": "0",
         "C_SHOW_AXIS_TDEST": "0",
         "C_SHOW_AXIS_TID": "0",
         "C_SHOW_AXIS_TUSER": "0",
         "C_SHOW_AXI_IDS": "0",
         "C_SHOW_AXI_LEN": "0",
         "C_SLOT_0_AXIS_TDATA_WIDTH": "32",
         "C_SLOT_0_AXIS_TDEST_WIDTH": "1",
         "C_SLOT_0_AXIS_TID_WIDTH": "1",
         "C_SLOT_0_AXIS_TUSER_WIDTH": "1",
         "C_SLOT_0_AXI_ADDR_WIDTH": "49",
         "C_SLOT_0_AXI_AWLEN": "7",
         "C_SLOT_0_AXI_DATA_WIDTH": "128",
         "C_SLOT_0_AXI_ID_WIDTH": "3",
         "C_SLOT_0_AXI_LOCK": "0",
         "C_SLOT_0_AXI_PROTOCOL": "AXI4",
         "C_SLOT_0_FIFO_ENABLE": "0",
         "C_SLOT_1_AXIS_TDATA_WIDTH": "32",
         "C_SLOT_1_AXIS_TDEST_WIDTH": "1",
         "C_SLOT_1_AXIS_TID_WIDTH": "1",
         "C_SLOT_1_AXIS_TUSER_WIDTH": "1",
         "C_SLOT_1_AXI_ADDR_WIDTH": "32",
         "C_SLOT_1_AXI_AWLEN": "7",
         "C_SLOT_1_AXI_DATA_WIDTH": "32",
         "C_SLOT_1_AXI_ID_WIDTH": "1",
         "C_SLOT_1_AXI_LOCK": "0",
         "C_SLOT_1_AXI_PROTOCOL": "AXI4",
         "C_SLOT_1_FIFO_ENABLE": "1",
         "C_SLOT_2_AXIS_TDATA_WIDTH": "32",
         "C_SLOT_2_AXIS_TDEST_WIDTH": "1",
         "C_SLOT_2_AXIS_TID_WIDTH": "1",
         "C_SLOT_2_AXIS_TUSER_WIDTH": "1",
         "C_SLOT_2_AXI_ADDR_WIDTH": "32",
         "C_SLOT_2_AXI_AWLEN": "7",
         "C_SLOT_2_AXI_DATA_WIDTH": "32",
         "C_SLOT_2_AXI_ID_WIDTH": "1",
         "C_SLOT_2_AXI_LOCK": "0",
         "C_SLOT_2_AXI_PROTOCOL": "AXI4",
         "C_SLOT_2_FIFO_ENABLE": "1",
         "C_SLOT_3_AXIS_TDATA_WIDTH": "32",
         "C_SLOT_3_AXIS_TDEST_WIDTH": "1",
         "C_SLOT_3_AXIS_TID_WIDTH": "1",
         "C_SLOT_3_AXIS_TUSER_WIDTH": "1",
         "C_SLOT_3_AXI_ADDR_WIDTH": "32",
         "C_SLOT_3_AXI_AWLEN": "7",
         "C_SLOT_3_AXI_DATA_WIDTH": "32",
         "C_SLOT_3_AXI_ID_WIDTH": "1",
         "C_SLOT_3_AXI_LOCK": "0",
         "C_SLOT_3_AXI_PROTOCOL": "AXI4",
         "C_SLOT_3_FIFO_ENABLE": "1",
         "C_SLOT_4_AXIS_TDATA_WIDTH": "32",
         "C_SLOT_4_AXIS_TDEST_WIDTH": "1",
         "C_SLOT_4_AXIS_TID_WIDTH": "1",
         "C_SLOT_4_AXIS_TUSER_WIDTH": "1",
         "C_SLOT_4_AXI_ADDR_WIDTH": "32",
         "C_SLOT_4_AXI_AWLEN": "7",
         "C_SLOT_4_AXI_DATA_WIDTH": "32",
         "C_SLOT_4_AXI_ID_WIDTH": "1",
         "C_SLOT_4_AXI_LOCK": "0",
         "C_SLOT_4_AXI_PROTOCOL": "AXI4",
         "C_SLOT_4_FIFO_ENABLE": "1",
         "C_SLOT_5_AXIS_TDATA_WIDTH": "32",
         "C_SLOT_5_AXIS_TDEST_WIDTH": "1",
         "C_SLOT_5_AXIS_TID_WIDTH": "1",
         "C_SLOT_5_AXIS_TUSER_WIDTH": "1",
         "C_SLOT_5_AXI_ADDR_WIDTH": "32",
         "C_SLOT_5_AXI_AWLEN": "7",
         "C_SLOT_5_AXI_DATA_WIDTH": "32",
         "C_SLOT_5_AXI_ID_WIDTH": "1",
         "C_SLOT_5_AXI_LOCK": "0",
         "C_SLOT_5_AXI_PROTOCOL": "AXI4",
         "C_SLOT_5_FIFO_ENABLE": "1",
         "C_SLOT_6_AXIS_TDATA_WIDTH": "32",
         "C_SLOT_6_AXIS_TDEST_WIDTH": "1",
         "C_SLOT_6_AXIS_TID_WIDTH": "1",
         "C_SLOT_6_AXIS_TUSER_WIDTH": "1",
         "C_SLOT_6_AXI_ADDR_WIDTH": "32",
         "C_SLOT_6_AXI_AWLEN": "7",
         "C_SLOT_6_AXI_DATA_WIDTH": "32",
         "C_SLOT_6_AXI_ID_WIDTH": "1",
         "C_SLOT_6_AXI_LOCK": "0",
         "C_SLOT_6_AXI_PROTOCOL": "AXI4",
         "C_SLOT_6_FIFO_ENABLE": "1",
         "C_SLOT_7_AXIS_TDATA_WIDTH": "32",
         "C_SLOT_7_AXIS_TDEST_WIDTH": "1",
         "C_SLOT_7_AXIS_TID_WIDTH": "1",
         "C_SLOT_7_AXIS_TUSER_WIDTH": "1",
         "C_SLOT_7_AXI_ADDR_WIDTH": "32",
         "C_SLOT_7_AXI_AWLEN": "7",
         "C_SLOT_7_AXI_DATA_WIDTH": "32",
         "C_SLOT_7_AXI_ID_WIDTH": "1",
         "C_SLOT_7_AXI_LOCK": "0",
         "C_SLOT_7_AXI_PROTOCOL": "AXI4",
         "C_SLOT_7_FIFO_ENABLE": "1",
         "C_SUPPORT_ID_REFLECTION": "0",
         "C_S_AXI4_BASEADDR": "0xFFFFFFFF",
         "C_S_AXI4_HIGHADDR": "0x00000000",
         "C_S_AXI_ADDR_WIDTH": "16",
         "C_S_AXI_DATA_WIDTH": "32",
         "C_S_AXI_ID_WIDTH": "1",
         "C_S_AXI_PROTOCOL": "AXI4LITE",
         "Component_Name": "design_1_axi_perf_mon_0_0",
         "EDK_IPTYPE": "MONITOR",
         "EDK_SPECIAL": "MONITOR",
         "ENABLE_EXT_EVENTS": "0",
         "ENABLE_EXT_TRIGGERS": "0",
         "S_AXI_OFFLD_ID_WIDTH": "1"
        },
        "phys_addr": 2684420096,
        "registers": {
         "Control_Register": {
          "access": "read-write",
          "address_offset": 768,
          "description": "Control Register",
          "fields": {
           "Enable_Event_Log": {
            "access": "read-write",
            "bit_offset": 8,
            "bit_width": 1,
            "description": "Control Register"
           },
           "Enable_ID_Based_Filtering_Masking": {
            "access": "read-write",
            "bit_offset": 3,
            "bit_width": 1,
            "description": "Control Register"
           },
           "Global_Clk_Cnt_En": {
            "access": "read-write",
            "bit_offset": 16,
            "bit_width": 1,
            "description": "Control Register"
           },
           "Global_Clk_Cnt_Reset": {
            "access": "read-write",
            "bit_offset": 17,
            "bit_width": 1,
            "description": "Control Register"
           },
           "Metrics_Cnt_EN": {
            "access": "read-write",
            "bit_offset": 0,
            "bit_width": 1,
            "description": "Control Register"
           },
           "Metrics_Cnt_Reset": {
            "access": "read-write",
            "bit_offset": 1,
            "bit_width": 1,
            "description": "Control Register"
           },
           "Read_Latency_End_Point": {
            "access": "read-write",
            "bit_offset": 7,
            "bit_width": 1,
            "description": "Control Register"
           },
           "Read_Latency_Start_Point": {
            "access": "read-write",
            "bit_offset": 6,
            "bit_width": 1,
            "description": "Control Register"
           },
           "Streaming_FIFO_Reset": {
            "access": "read-write",
            "bit_offset": 25,
            "bit_width": 1,
            "description": "Control Register"
           },
           "Use_Ext_Trig": {
            "access": "read-write",
            "bit_offset": 2,
            "bit_width": 1,
            "description": "Control Register"
           },
           "Use_Ext_Trig_Log": {
            "access": "read-write",
            "bit_offset": 9,
            "bit_width": 1,
            "description": "Control Register"
           },
           "Write_Latency_End_Point": {
            "access": "read-write",
            "bit_offset": 5,
            "bit_width": 1,
            "description": "Control Register"
           },
           "Write_Latency_Start_Point": {
            "access": "read-write",
            "bit_offset": 4,
            "bit_width": 1,
            "description": "Control Register"
           }
          },
          "size": 32
         },
         "Flag_Enable_Register": {
          "access": "read-write",
          "address_offset": 1024,
          "description": "Flag Enable Register",
          "fields": {
           "Enable_External_Event_Flag": {
            "access": "read-write",
            "bit_offset": 17,
            "bit_width": 1,
            "description": "Flag Enable Register"
           },
           "Enable_External_Event_Start_Flag": {
            "access": "read-write",
            "bit_offset": 19,
            "bit_width": 1,
            "description": "Flag Enable Register"
           },
           "Enable_External_Event_Stop_Flag": {
            "access": "read-write",
            "bit_offset": 18,
            "bit_width": 1,
            "description": "Flag Enable Register"
           },
           "Enable_First_Read_Flag": {
            "access": "read-write",
            "bit_offset": 5,
            "bit_width": 1,
            "description": "Flag Enable Register"
           },
           "Enable_First_Write_Flag": {
            "access": "read-write",
            "bit_offset": 1,
            "bit_width": 1,
            "description": "Flag Enable Register"
           },
           "Enable_Global_Clock_Count_Overflow_Flag": {
            "access": "read-write",
            "bit_offset": 20,
            "bit_width": 1,
            "description": "Flag Enable Register"
           },
           "Enable_Last_Read_Flag": {
            "access": "read-write",
            "bit_offset": 6,
            "bit_width": 1,
            "description": "Flag Enable Register"
           },
           "Enable_Last_Write_Flag": {
            "access": "read-write",
            "bit_offset": 2,
            "bit_width": 1,
            "description": "Flag Enable Register"
           },
           "Enable_Metric_Counter_0_Flag": {
            "access": "read-write",
            "bit_offset": 22,
            "bit_width": 1,
            "description": "Flag Enable Register"
           },
           "Enable_Metric_Counter_1_Flag": {
            "access": "read-write",
            "bit_offset": 23,
            "bit_width": 1,
            "description": "Flag Enable Register"
           },
           "Enable_Metric_Counter_2_Flag": {
            "access": "read-write",
            "bit_offset": 24,
            "bit_width": 1,
            "description": "Flag Enable Register"
           },
           "Enable_Metric_Counter_3_Flag": {
            "access": "read-write",
            "bit_offset": 25,
            "bit_width": 1,
            "description": "Flag Enable Register"
           },
           "Enable_Metric_Counter_4_Flag": {
            "access": "read-write",
            "bit_offset": 26,
            "bit_width": 1,
            "description": "Flag Enable Register"
           },
           "Enable_Metric_Counter_5_Flag": {
            "access": "read-write",
            "bit_offset": 27,
            "bit_width": 1,
            "description": "Flag Enable Register"
           },
           "Enable_Metric_Counter_6_Flag": {
            "access": "read-write",
            "bit_offset": 28,
            "bit_width": 1,
            "description": "Flag Enable Register"
           },
           "Enable_Metric_Counter_7_Flag": {
            "access": "read-write",
            "bit_offset": 29,
            "bit_width": 1,
            "description": "Flag Enable Register"
           },
           "Enable_Metric_Counter_8_Flag": {
            "access": "read-write",
            "bit_offset": 30,
            "bit_width": 1,
            "description": "Flag Enable Register"
           },
           "Enable_Metric_Counter_9_Flag": {
            "access": "read-write",
            "bit_offset": 31,
            "bit_width": 1,
            "description": "Flag Enable Register"
           },
           "Enable_Read_Addr_Flag": {
            "access": "read-write",
            "bit_offset": 4,
            "bit_width": 1,
            "description": "Flag Enable Register"
           },
           "Enable_Response_Flag": {
            "access": "read-write",
            "bit_offset": 3,
            "bit_width": 1,
            "description": "Flag Enable Register"
           },
           "Enable_Sample_Counter_Lapse_Flag": {
            "access": "read-write",
            "bit_offset": 21,
            "bit_width": 1,
            "description": "Flag Enable Register"
           },
           "Enable_Software_Written_Data_Flag": {
            "access": "read-write",
            "bit_offset": 16,
            "bit_width": 1,
            "description": "Flag Enable Register"
           },
           "Enable_Write_Addr_Flag": {
            "access": "read-write",
            "bit_offset": 0,
            "bit_width": 1,
            "description": "Flag Enable Register"
           }
          },
          "size": 32
         },
         "Global_Clock_Counter_LSB": {
          "access": "read-only",
          "address_offset": 4,
          "description": "Lower 32-bit data of the Global Clock Counter Register",
          "fields": {
           "Global_Clock_Count": {
            "access": "read-only",
            "bit_offset": 0,
            "bit_width": 32,
            "description": "Lower 32-bit data of the Global Clock Counter Register"
           }
          },
          "size": 32
         },
         "Global_Clock_Counter_MSB": {
          "access": "read-only",
          "address_offset": 0,
          "description": "Higher 32-bit data of the Global Clock Counter Register",
          "fields": {
           "Global_Clock_Count": {
            "access": "read-only",
            "bit_offset": 0,
            "bit_width": 32,
            "description": "Higher 32-bit data of the Global Clock Counter Register"
           }
          },
          "size": 32
         },
         "Global_Interrupt_Enable_Register": {
          "access": "read-write",
          "address_offset": 48,
          "description": "Global Interrupt Enable Register",
          "fields": {
           "GIE": {
            "access": "read-write",
            "bit_offset": 0,
            "bit_width": 1,
            "description": "Global Interrupt Enable Register"
           }
          },
          "size": 32
         },
         "ID_Mask_Register": {
          "access": "read-write",
          "address_offset": 776,
          "description": "ID Mask Register",
          "fields": {
           "RID": {
            "access": "read-write",
            "bit_offset": 16,
            "bit_width": 16,
            "description": "ID Mask Register"
           },
           "WID": {
            "access": "read-write",
            "bit_offset": 0,
            "bit_width": 16,
            "description": "ID Mask Register"
           }
          },
          "size": 32
         },
         "ID_Mask_Register_2": {
          "access": "read-write",
          "address_offset": 784,
          "description": "ID Mask Register 2",
          "fields": {
           "RID": {
            "access": "read-write",
            "bit_offset": 16,
            "bit_width": 16,
            "description": "ID Mask Register 2"
           },
           "WID": {
            "access": "read-write",
            "bit_offset": 0,
            "bit_width": 16,
            "description": "ID Mask Register 2"
           }
          },
          "size": 32
         },
         "ID_Register": {
          "access": "read-write",
          "address_offset": 772,
          "description": "ID Register",
          "fields": {
           "RID": {
            "access": "read-write",
            "bit_offset": 16,
            "bit_width": 16,
            "description": "ID Register"
           },
           "WID": {
            "access": "read-write",
            "bit_offset": 0,
            "bit_width": 16,
            "description": "ID Register"
           }
          },
          "size": 32
         },
         "ID_Register_2": {
          "access": "read-write",
          "address_offset": 780,
          "description": "ID Register 2",
          "fields": {
           "RID": {
            "access": "read-write",
            "bit_offset": 16,
            "bit_width": 16,
            "description": "ID Register 2"
           },
           "WID": {
            "access": "read-write",
            "bit_offset": 0,
            "bit_width": 16,
            "description": "ID Register 2"
           }
          },
          "size": 32
         },
         "Incrementer_0": {
          "access": "read-only",
          "address_offset": 260,
          "description": "Incrementer 0 Register",
          "fields": {
           "Incrementer": {
            "access": "read-only",
            "bit_offset": 0,
            "bit_width": 32,
            "description": "Incrementer 0 Register"
           }
          },
          "size": 32
         },
         "Incrementer_1": {
          "access": "read-only",
          "address_offset": 276,
          "description": "Incrementer 1 Register",
          "fields": {
           "Incrementer": {
            "access": "read-only",
            "bit_offset": 0,
            "bit_width": 32,
            "description": "Incrementer 1 Register"
           }
          },
          "size": 32
         },
         "Incrementer_2": {
          "access": "read-only",
          "address_offset": 292,
          "description": "Incrementer 2 Register",
          "fields": {
           "Incrementer": {
            "access": "read-only",
            "bit_offset": 0,
            "bit_width": 32,
            "description": "Incrementer 2 Register"
           }
          },
          "size": 32
         },
         "Incrementer_3": {
          "access": "read-only",
          "address_offset": 308,
          "description": "Incrementer 3 Register",
          "fields": {
           "Incrementer": {
            "access": "read-only",
            "bit_offset": 0,
            "bit_width": 32,
            "description": "Incrementer 3 Register"
           }
          },
          "size": 32
         },
         "Incrementer_4": {
          "access": "read-only",
          "address_offset": 324,
          "description": "Incrementer 4 Register",
          "fields": {
           "Incrementer": {
            "access": "read-only",
            "bit_offset": 0,
            "bit_width": 32,
            "description": "Incrementer 4 Register"
           }
          },
          "size": 32
         },
         "Incrementer_5": {
          "access": "read-only",
          "address_offset": 340,
          "description": "Incrementer 5 Register",
          "fields": {
           "Incrementer": {
            "access": "read-only",
            "bit_offset": 0,
            "bit_width": 32,
            "description": "Incrementer 5 Register"
           }
          },
          "size": 32
         },
         "Incrementer_6": {
          "access": "read-only",
          "address_offset": 356,
          "description": "Incrementer 6 Register",
          "fields": {
           "Incrementer": {
            "access": "read-only",
            "bit_offset": 0,
            "bit_width": 32,
            "description": "Incrementer 6 Register"
           }
          },
          "size": 32
         },
         "Incrementer_7": {
          "access": "read-only",
          "address_offset": 372,
          "description": "Incrementer 7 Register",
          "fields": {
           "Incrementer": {
            "access": "read-only",
            "bit_offset": 0,
            "bit_width": 32,
            "description": "Incrementer 7 Register"
           }
          },
          "size": 32
         },
         "Incrementer_8": {
          "access": "read-only",
          "address_offset": 388,
          "description": "Incrementer 8 Register",
          "fields": {
           "Incrementer": {
            "access": "read-only",
            "bit_offset": 0,
            "bit_width": 32,
            "description": "Incrementer 8 Register"
           }
          },
          "size": 32
         },
         "Incrementer_9": {
          "access": "read-only",
          "address_offset": 404,
          "description": "Incrementer 9 Register",
          "fields": {
           "Incrementer": {
            "access": "read-only",
            "bit_offset": 0,
            "bit_width": 32,
            "description": "Incrementer 9 Register"
           }
          },
          "size": 32
         },
         "Interrupt_Enable_Register": {
          "access": "read-write",
          "address_offset": 52,
          "description": "Interrupt Enable Register",
          "fields": {
           "ELF_Overflow_Interrupt_Enable": {
            "access": "read-write",
            "bit_offset": 2,
            "bit_width": 1,
            "description": "Interrupt Enable Register"
           },
           "GCC_Overflow_Interrupt_Enable": {
            "access": "read-write",
            "bit_offset": 0,
            "bit_width": 1,
            "description": "Interrupt Enable Register"
           },
           "Metric_Counter_0_Overflow_Interrupt_Enable": {
            "access": "read-write",
            "bit_offset": 3,
            "bit_width": 1,
            "description": "Interrupt Enable Register"
           },
           "Metric_Counter_1_Overflow_Interrupt_Enable": {
            "access": "read-write",
            "bit_offset": 4,
            "bit_width": 1,
            "description": "Interrupt Enable Register"
           },
           "Metric_Counter_2_Overflow_Interrupt_Enable": {
            "access": "read-write",
            "bit_offset": 5,
            "bit_width": 1,
            "description": "Interrupt Enable Register"
           },
           "Metric_Counter_3_Overflow_Interrupt_Enable": {
            "access": "read-write",
            "bit_offset": 6,
            "bit_width": 1,
            "description": "Interrupt Enable Register"
           },
           "Metric_Counter_4_Overflow_Interrupt_Enable": {
            "access": "read-write",
            "bit_offset": 7,
            "bit_width": 1,
            "description": "Interrupt Enable Register"
           },
           "Metric_Counter_5_Overflow_Interrupt_Enable": {
            "access": "read-write",
            "bit_offset": 8,
            "bit_width": 1,
            "description": "Interrupt Enable Register"
           },
           "Metric_Counter_6_Overflow_Interrupt_Enable": {
            "access": "read-write",
            "bit_offset": 9,
            "bit_width": 1,
            "description": "Interrupt Enable Register"
           },
           "Metric_Counter_7_Overflow_Interrupt_Enable": {
            "access": "read-write",
            "bit_offset": 10,
            "bit_width": 1,
            "description": "Interrupt Enable Register"
           },
           "Metric_Counter_8_Overflow_Interrupt_Enable": {
            "access": "read-write",
            "bit_offset": 11,
            "bit_width": 1,
            "description": "Interrupt Enable Register"
           },
           "Metric_Counter_9_Overflow_Interrupt_Enable": {
            "access": "read-write",
            "bit_offset": 12,
            "bit_width": 1,
            "description": "Interrupt Enable Register"
           },
           "SIC_Overflow_Interrupt_Enable": {
            "access": "read-write",
            "bit_offset": 1,
            "bit_width": 1,
            "description": "Interrupt Enable Register"
           }
          },
          "size": 32
         },
         "Interrupt_Status_Register": {
          "access": "read-write",
          "address_offset": 56,
          "description": "Interrupt_Status_Register",
          "fields": {
           "ELF_Overflow_Interrupt": {
            "access": "read-write",
            "bit_offset": 2,
            "bit_width": 1,
            "description": "Interrupt_Status_Register"
           },
           "GCC_Overflow_Interrupt": {
            "access": "read-write",
            "bit_offset": 0,
            "bit_width": 1,
            "description": "Interrupt_Status_Register"
           },
           "Metric_Counter_0_Overflow_Interrupt": {
            "access": "read-write",
            "bit_offset": 3,
            "bit_width": 1,
            "description": "Interrupt_Status_Register"
           },
           "Metric_Counter_1_Overflow_Interrupt": {
            "access": "read-write",
            "bit_offset": 4,
            "bit_width": 1,
            "description": "Interrupt_Status_Register"
           },
           "Metric_Counter_2_Overflow_Interrupt": {
            "access": "read-write",
            "bit_offset": 5,
            "bit_width": 1,
            "description": "Interrupt_Status_Register"
           },
           "Metric_Counter_3_Overflow_Interrupt": {
            "access": "read-write",
            "bit_offset": 6,
            "bit_width": 1,
            "description": "Interrupt_Status_Register"
           },
           "Metric_Counter_4_Overflow_Interrupt": {
            "access": "read-write",
            "bit_offset": 7,
            "bit_width": 1,
            "description": "Interrupt_Status_Register"
           },
           "Metric_Counter_5_Overflow_Interrupt": {
            "access": "read-write",
            "bit_offset": 8,
            "bit_width": 1,
            "description": "Interrupt_Status_Register"
           },
           "Metric_Counter_6_Overflow_Interrupt": {
            "access": "read-write",
            "bit_offset": 9,
            "bit_width": 1,
            "description": "Interrupt_Status_Register"
           },
           "Metric_Counter_7_Overflow_Interrupt": {
            "access": "read-write",
            "bit_offset": 10,
            "bit_width": 1,
            "description": "Interrupt_Status_Register"
           },
           "Metric_Counter_8_Overflow_Interrupt": {
            "access": "read-write",
            "bit_offset": 11,
            "bit_width": 1,
            "description": "Interrupt_Status_Register"
           },
           "Metric_Counter_9_Overflow_Interrupt": {
            "access": "read-write",
            "bit_offset": 12,
            "bit_width": 1,
            "description": "Interrupt_Status_Register"
           },
           "SIC_Overflow_Interrupt": {
            "access": "read-write",
            "bit_offset": 1,
            "bit_width": 1,
            "description": "Interrupt_Status_Register"
           }
          },
          "size": 32
         },
         "Metric_Count_Log_Enable_Register_0": {
          "access": "read-write",
          "address_offset": 268,
          "description": "Metric Count Log Enable Register 0",
          "fields": {
           "Counter_Cut_Off_Value": {
            "access": "read-write",
            "bit_offset": 0,
            "bit_width": 32,
            "description": "Metric Count Log Enable Register 0"
           }
          },
          "size": 32
         },
         "Metric_Count_Log_Enable_Register_1": {
          "access": "read-write",
          "address_offset": 284,
          "description": "Metric Count Log Enable Register 1",
          "fields": {
           "Counter_Cut_Off_Value": {
            "access": "read-write",
            "bit_offset": 0,
            "bit_width": 32,
            "description": "Metric Count Log Enable Register 1"
           }
          },
          "size": 32
         },
         "Metric_Count_Log_Enable_Register_2": {
          "access": "read-write",
          "address_offset": 300,
          "description": "Metric Count Log Enable Register 2",
          "fields": {
           "Counter_Cut_Off_Value": {
            "access": "read-write",
            "bit_offset": 0,
            "bit_width": 32,
            "description": "Metric Count Log Enable Register 2"
           }
          },
          "size": 32
         },
         "Metric_Count_Log_Enable_Register_3": {
          "access": "read-write",
          "address_offset": 316,
          "description": "Metric Count Log Enable Register 3",
          "fields": {
           "Counter_Cut_Off_Value": {
            "access": "read-write",
            "bit_offset": 0,
            "bit_width": 32,
            "description": "Metric Count Log Enable Register 3"
           }
          },
          "size": 32
         },
         "Metric_Count_Log_Enable_Register_4": {
          "access": "read-write",
          "address_offset": 332,
          "description": "Metric Count Log Enable Register 4",
          "fields": {
           "Counter_Cut_Off_Value": {
            "access": "read-write",
            "bit_offset": 0,
            "bit_width": 32,
            "description": "Metric Count Log Enable Register 4"
           }
          },
          "size": 32
         },
         "Metric_Count_Log_Enable_Register_5": {
          "access": "read-write",
          "address_offset": 348,
          "description": "Metric Count Log Enable Register 5",
          "fields": {
           "Counter_Cut_Off_Value": {
            "access": "read-write",
            "bit_offset": 0,
            "bit_width": 32,
            "description": "Metric Count Log Enable Register 5"
           }
          },
          "size": 32
         },
         "Metric_Count_Log_Enable_Register_6": {
          "access": "read-write",
          "address_offset": 364,
          "description": "Metric Count Log Enable Register 6",
          "fields": {
           "Counter_Cut_Off_Value": {
            "access": "read-write",
            "bit_offset": 0,
            "bit_width": 32,
            "description": "Metric Count Log Enable Register 6"
           }
          },
          "size": 32
         },
         "Metric_Count_Log_Enable_Register_7": {
          "access": "read-write",
          "address_offset": 380,
          "description": "Metric Count Log Enable Register 7",
          "fields": {
           "Counter_Cut_Off_Value": {
            "access": "read-write",
            "bit_offset": 0,
            "bit_width": 32,
            "description": "Metric Count Log Enable Register 7"
           }
          },
          "size": 32
         },
         "Metric_Count_Log_Enable_Register_8": {
          "access": "read-write",
          "address_offset": 396,
          "description": "Metric Count Log Enable Register 8",
          "fields": {
           "Counter_Cut_Off_Value": {
            "access": "read-write",
            "bit_offset": 0,
            "bit_width": 32,
            "description": "Metric Count Log Enable Register 8"
           }
          },
          "size": 32
         },
         "Metric_Count_Log_Enable_Register_9": {
          "access": "read-write",
          "address_offset": 412,
          "description": "Metric Count Log Enable Register 9",
          "fields": {
           "Counter_Cut_Off_Value": {
            "access": "read-write",
            "bit_offset": 0,
            "bit_width": 32,
            "description": "Metric Count Log Enable Register 9"
           }
          },
          "size": 32
         },
         "Metric_Counter_0": {
          "access": "read-only",
          "address_offset": 256,
          "description": "Metric Counter 0 Register",
          "fields": {
           "Metric_Counter": {
            "access": "read-only",
            "bit_offset": 0,
            "bit_width": 32,
            "description": "Metric Counter 0 Register"
           }
          },
          "size": 32
         },
         "Metric_Counter_1": {
          "access": "read-only",
          "address_offset": 272,
          "description": "Metric Counter 1 Register",
          "fields": {
           "Metric_Counter": {
            "access": "read-only",
            "bit_offset": 0,
            "bit_width": 32,
            "description": "Metric Counter 1 Register"
           }
          },
          "size": 32
         },
         "Metric_Counter_10": {
          "access": "read-only",
          "address_offset": 416,
          "description": "Metric Counter for slot 1 read transaction count",
          "fields": {
           "Metric_Counter": {
            "access": "read-only",
            "bit_offset": 0,
            "bit_width": 32,
            "description": "Metric Counter for slot 1 read transaction count"
           }
          },
          "size": 32
         },
         "Metric_Counter_11": {
          "access": "read-only",
          "address_offset": 432,
          "description": "Metric Counter for slot 1 read latency count",
          "fields": {
           "Metric_Counter": {
            "access": "read-only",
            "bit_offset": 0,
            "bit_width": 32,
            "description": "Metric Counter for slot 1 read latency count"
           }
          },
          "size": 32
         },
         "Metric_Counter_12": {
          "access": "read-only",
          "address_offset": 1280,
          "description": "Metric Counter for slot 2 write byte count",
          "fields": {
           "Metric_Counter": {
            "access": "read-only",
            "bit_offset": 0,
            "bit_width": 32,
            "description": "Metric Counter for slot 2 write byte count"
           }
          },
          "size": 32
         },
         "Metric_Counter_13": {
          "access": "read-only",
          "address_offset": 1296,
          "description": "Metric Counter for slot 2 write transaction count",
          "fields": {
           "Metric_Counter": {
            "access": "read-only",
            "bit_offset": 0,
            "bit_width": 32,
            "description": "Metric Counter for slot 2 write transaction count"
           }
          },
          "size": 32
         },
         "Metric_Counter_14": {
          "access": "read-only",
          "address_offset": 1312,
          "description": "Metric Counter for slot 2 write latency count",
          "fields": {
           "Metric_Counter": {
            "access": "read-only",
            "bit_offset": 0,
            "bit_width": 32,
            "description": "Metric Counter for slot 2 write latency count"
           }
          },
          "size": 32
         },
         "Metric_Counter_15": {
          "access": "read-only",
          "address_offset": 1328,
          "description": "Metric Counter for slot 2 read byte count",
          "fields": {
           "Metric_Counter": {
            "access": "read-only",
            "bit_offset": 0,
            "bit_width": 32,
            "description": "Metric Counter for slot 2 read byte count"
           }
          },
          "size": 32
         },
         "Metric_Counter_16": {
          "access": "read-only",
          "address_offset": 1344,
          "description": "Metric Counter for slot 2 read transaction count",
          "fields": {
           "Metric_Counter": {
            "access": "read-only",
            "bit_offset": 0,
            "bit_width": 32,
            "description": "Metric Counter for slot 2 read transaction count"
           }
          },
          "size": 32
         },
         "Metric_Counter_17": {
          "access": "read-only",
          "address_offset": 1360,
          "description": "Metric Counter for slot 2 read latency count",
          "fields": {
           "Metric_Counter": {
            "access": "read-only",
            "bit_offset": 0,
            "bit_width": 32,
            "description": "Metric Counter for slot 2 read latency count"
           }
          },
          "size": 32
         },
         "Metric_Counter_18": {
          "access": "read-only",
          "address_offset": 1376,
          "description": "Metric Counter for slot 3 write byte count",
          "fields": {
           "Metric_Counter": {
            "access": "read-only",
            "bit_offset": 0,
            "bit_width": 32,
            "description": "Metric Counter for slot 3 write byte count"
           }
          },
          "size": 32
         },
         "Metric_Counter_19": {
          "access": "read-only",
          "address_offset": 1392,
          "description": "Metric Counter for slot 3 write transaction count",
          "fields": {
           "Metric_Counter": {
            "access": "read-only",
            "bit_offset": 0,
            "bit_width": 32,
            "description": "Metric Counter for slot 3 write transaction count"
           }
          },
          "size": 32
         },
         "Metric_Counter_2": {
          "access": "read-only",
          "address_offset": 288,
          "description": "Metric Counter 2 Register",
          "fields": {
           "Metric_Counter": {
            "access": "read-only",
            "bit_offset": 0,
            "bit_width": 32,
            "description": "Metric Counter 2 Register"
           }
          },
          "size": 32
         },
         "Metric_Counter_20": {
          "access": "read-only",
          "address_offset": 1408,
          "description": "Metric Counter for slot 3 write latency count",
          "fields": {
           "Metric_Counter": {
            "access": "read-only",
            "bit_offset": 0,
            "bit_width": 32,
            "description": "Metric Counter for slot 3 write latency count"
           }
          },
          "size": 32
         },
         "Metric_Counter_21": {
          "access": "read-only",
          "address_offset": 1424,
          "description": "Metric Counter for slot 3 read byte count",
          "fields": {
           "Metric_Counter": {
            "access": "read-only",
            "bit_offset": 0,
            "bit_width": 32,
            "description": "Metric Counter for slot 3 read byte count"
           }
          },
          "size": 32
         },
         "Metric_Counter_22": {
          "access": "read-only",
          "address_offset": 1440,
          "description": "Metric Counter for slot 3 read transaction count",
          "fields": {
           "Metric_Counter": {
            "access": "read-only",
            "bit_offset": 0,
            "bit_width": 32,
            "description": "Metric Counter for slot 3 read transaction count"
           }
          },
          "size": 32
         },
         "Metric_Counter_23": {
          "access": "read-only",
          "address_offset": 1456,
          "description": "Metric Counter for slot 3 read latency count",
          "fields": {
           "Metric_Counter": {
            "access": "read-only",
            "bit_offset": 0,
            "bit_width": 32,
            "description": "Metric Counter for slot 3 read latency count"
           }
          },
          "size": 32
         },
         "Metric_Counter_24": {
          "access": "read-only",
          "address_offset": 1792,
          "description": "Metric Counter for slot 4 write byte count",
          "fields": {
           "Metric_Counter": {
            "access": "read-only",
            "bit_offset": 0,
            "bit_width": 32,
            "description": "Metric Counter for slot 4 write byte count"
           }
          },
          "size": 32
         },
         "Metric_Counter_25": {
          "access": "read-only",
          "address_offset": 1808,
          "description": "Metric Counter for slot 4 write transaction count",
          "fields": {
           "Metric_Counter": {
            "access": "read-only",
            "bit_offset": 0,
            "bit_width": 32,
            "description": "Metric Counter for slot 4 write transaction count"
           }
          },
          "size": 32
         },
         "Metric_Counter_26": {
          "access": "read-only",
          "address_offset": 1824,
          "description": "Metric Counter for slot 4 write latency count",
          "fields": {
           "Metric_Counter": {
            "access": "read-only",
            "bit_offset": 0,
            "bit_width": 32,
            "description": "Metric Counter for slot 4 write latency count"
           }
          },
          "size": 32
         },
         "Metric_Counter_27": {
          "access": "read-only",
          "address_offset": 1840,
          "description": "Metric Counter for slot 4 read byte count",
          "fields": {
           "Metric_Counter": {
            "access": "read-only",
            "bit_offset": 0,
            "bit_width": 32,
            "description": "Metric Counter for slot 4 read byte count"
           }
          },
          "size": 32
         },
         "Metric_Counter_28": {
          "access": "read-only",
          "address_offset": 1856,
          "description": "Metric Counter for slot 4 read transaction count",
          "fields": {
           "Metric_Counter": {
            "access": "read-only",
            "bit_offset": 0,
            "bit_width": 32,
            "description": "Metric Counter for slot 4 read transaction count"
           }
          },
          "size": 32
         },
         "Metric_Counter_29": {
          "access": "read-only",
          "address_offset": 1872,
          "description": "Metric Counter for slot 4 read latency count",
          "fields": {
           "Metric_Counter": {
            "access": "read-only",
            "bit_offset": 0,
            "bit_width": 32,
            "description": "Metric Counter for slot 4 read latency count"
           }
          },
          "size": 32
         },
         "Metric_Counter_3": {
          "access": "read-only",
          "address_offset": 304,
          "description": "Metric Counter 3 Register",
          "fields": {
           "Metric_Counter": {
            "access": "read-only",
            "bit_offset": 0,
            "bit_width": 32,
            "description": "Metric Counter 3 Register"
           }
          },
          "size": 32
         },
         "Metric_Counter_30": {
          "access": "read-only",
          "address_offset": 1888,
          "description": "Metric Counter for slot 5 write byte count",
          "fields": {
           "Metric_Counter": {
            "access": "read-only",
            "bit_offset": 0,
            "bit_width": 32,
            "description": "Metric Counter for slot 5 write byte count"
           }
          },
          "size": 32
         },
         "Metric_Counter_31": {
          "access": "read-only",
          "address_offset": 1904,
          "description": "Metric Counter for slot 5 write transaction count",
          "fields": {
           "Metric_Counter": {
            "access": "read-only",
            "bit_offset": 0,
            "bit_width": 32,
            "description": "Metric Counter for slot 5 write transaction count"
           }
          },
          "size": 32
         },
         "Metric_Counter_32": {
          "access": "read-only",
          "address_offset": 1920,
          "description": "Metric Counter for slot 5 write latency count",
          "fields": {
           "Metric_Counter": {
            "access": "read-only",
            "bit_offset": 0,
            "bit_width": 32,
            "description": "Metric Counter for slot 5 write latency count"
           }
          },
          "size": 32
         },
         "Metric_Counter_33": {
          "access": "read-only",
          "address_offset": 1936,
          "description": "Metric Counter for slot 5 read byte count",
          "fields": {
           "Metric_Counter": {
            "access": "read-only",
            "bit_offset": 0,
            "bit_width": 32,
            "description": "Metric Counter for slot 5 read byte count"
           }
          },
          "size": 32
         },
         "Metric_Counter_34": {
          "access": "read-only",
          "address_offset": 1952,
          "description": "Metric Counter for slot 5 read transaction count",
          "fields": {
           "Metric_Counter": {
            "access": "read-only",
            "bit_offset": 0,
            "bit_width": 32,
            "description": "Metric Counter for slot 5 read transaction count"
           }
          },
          "size": 32
         },
         "Metric_Counter_35": {
          "access": "read-only",
          "address_offset": 1968,
          "description": "Metric Counter for slot 5 read latency count",
          "fields": {
           "Metric_Counter": {
            "access": "read-only",
            "bit_offset": 0,
            "bit_width": 32,
            "description": "Metric Counter for slot 5 read latency count"
           }
          },
          "size": 32
         },
         "Metric_Counter_36": {
          "access": "read-only",
          "address_offset": 2304,
          "description": "Metric Counter for slot 6 write byte count",
          "fields": {
           "Metric_Counter": {
            "access": "read-only",
            "bit_offset": 0,
            "bit_width": 32,
            "description": "Metric Counter for slot 6 write byte count"
           }
          },
          "size": 32
         },
         "Metric_Counter_37": {
          "access": "read-only",
          "address_offset": 2320,
          "description": "Metric Counter for slot 6 write transaction count",
          "fields": {
           "Metric_Counter": {
            "access": "read-only",
            "bit_offset": 0,
            "bit_width": 32,
            "description": "Metric Counter for slot 6 write transaction count"
           }
          },
          "size": 32
         },
         "Metric_Counter_38": {
          "access": "read-only",
          "address_offset": 2336,
          "description": "Metric Counter for slot 6 write latency count",
          "fields": {
           "Metric_Counter": {
            "access": "read-only",
            "bit_offset": 0,
            "bit_width": 32,
            "description": "Metric Counter for slot 6 write latency count"
           }
          },
          "size": 32
         },
         "Metric_Counter_39": {
          "access": "read-only",
          "address_offset": 2352,
          "description": "Metric Counter for slot 6 read byte count",
          "fields": {
           "Metric_Counter": {
            "access": "read-only",
            "bit_offset": 0,
            "bit_width": 32,
            "description": "Metric Counter for slot 6 read byte count"
           }
          },
          "size": 32
         },
         "Metric_Counter_4": {
          "access": "read-only",
          "address_offset": 320,
          "description": "Metric Counter 4 Register",
          "fields": {
           "Metric_Counter": {
            "access": "read-only",
            "bit_offset": 0,
            "bit_width": 32,
            "description": "Metric Counter 4 Register"
           }
          },
          "size": 32
         },
         "Metric_Counter_40": {
          "access": "read-only",
          "address_offset": 2368,
          "description": "Metric Counter for slot 6 read transaction count",
          "fields": {
           "Metric_Counter": {
            "access": "read-only",
            "bit_offset": 0,
            "bit_width": 32,
            "description": "Metric Counter for slot 6 read transaction count"
           }
          },
          "size": 32
         },
         "Metric_Counter_41": {
          "access": "read-only",
          "address_offset": 2384,
          "description": "Metric Counter for slot 6 read latency count",
          "fields": {
           "Metric_Counter": {
            "access": "read-only",
            "bit_offset": 0,
            "bit_width": 32,
            "description": "Metric Counter for slot 6 read latency count"
           }
          },
          "size": 32
         },
         "Metric_Counter_42": {
          "access": "read-only",
          "address_offset": 2400,
          "description": "Metric Counter for slot 7 write byte count",
          "fields": {
           "Metric_Counter": {
            "access": "read-only",
            "bit_offset": 0,
            "bit_width": 32,
            "description": "Metric Counter for slot 7 write byte count"
           }
          },
          "size": 32
         },
         "Metric_Counter_43": {
          "access": "read-only",
          "address_offset": 2416,
          "description": "Metric Counter for slot 7 write transaction count",
          "fields": {
           "Metric_Counter": {
            "access": "read-only",
            "bit_offset": 0,
            "bit_width": 32,
            "description": "Metric Counter for slot 7 write transaction count"
           }
          },
          "size": 32
         },
         "Metric_Counter_44": {
          "access": "read-only",
          "address_offset": 2432,
          "description": "Metric Counter for slot 7 write latency count",
          "fields": {
           "Metric_Counter": {
            "access": "read-only",
            "bit_offset": 0,
            "bit_width": 32,
            "description": "Metric Counter for slot 7 write latency count"
           }
          },
          "size": 32
         },
         "Metric_Counter_45": {
          "access": "read-only",
          "address_offset": 2448,
          "description": "Metric Counter for slot 7 read byte count",
          "fields": {
           "Metric_Counter": {
            "access": "read-only",
            "bit_offset": 0,
            "bit_width": 32,
            "description": "Metric Counter for slot 7 read byte count"
           }
          },
          "size": 32
         },
         "Metric_Counter_46": {
          "access": "read-only",
          "address_offset": 2464,
          "description": "Metric Counter for slot 7 read transaction count",
          "fields": {
           "Metric_Counter": {
            "access": "read-only",
            "bit_offset": 0,
            "bit_width": 32,
            "description": "Metric Counter for slot 7 read transaction count"
           }
          },
          "size": 32
         },
         "Metric_Counter_47": {
          "access": "read-only",
          "address_offset": 2480,
          "description": "Metric Counter for slot 7 read latency count",
          "fields": {
           "Metric_Counter": {
            "access": "read-only",
            "bit_offset": 0,
            "bit_width": 32,
            "description": "Metric Counter for slot 7 read latency count"
           }
          },
          "size": 32
         },
         "Metric_Counter_48": {
          "access": "read-only",
          "address_offset": 340,
          "description": "Metric Counter for slot 0 maximum write and minimum write latency",
          "fields": {
           "Maximum_Latency_Metric_Counter": {
            "access": "read-only",
            "bit_offset": 0,
            "bit_width": 16,
            "description": "Metric Counter for slot 0 maximum write and minimum write latency"
           },
           "Minimum_Latency_Metric_Counter": {
            "access": "read-only",
            "bit_offset": 16,
            "bit_width": 16,
            "description": "Metric Counter for slot 0 maximum write and minimum write latency"
           }
          },
          "size": 32
         },
         "Metric_Counter_49": {
          "access": "read-only",
          "address_offset": 344,
          "description": "Metric Counter for slot 0 maximum read and minimun read latency",
          "fields": {
           "Maximum_Latency_Metric_Counter": {
            "access": "read-only",
            "bit_offset": 0,
            "bit_width": 16,
            "description": "Metric Counter for slot 0 maximum read and minimun read latency"
           },
           "Minimum_Latency_Metric_Counter": {
            "access": "read-only",
            "bit_offset": 16,
            "bit_width": 16,
            "description": "Metric Counter for slot 0 maximum read and minimun read latency"
           }
          },
          "size": 32
         },
         "Metric_Counter_5": {
          "access": "read-only",
          "address_offset": 336,
          "description": "Metric Counter 5 Register",
          "fields": {
           "Metric_Counter": {
            "access": "read-only",
            "bit_offset": 0,
            "bit_width": 32,
            "description": "Metric Counter 5 Register"
           }
          },
          "size": 32
         },
         "Metric_Counter_50": {
          "access": "read-only",
          "address_offset": 436,
          "description": "Metric Counter for slot 1 maximum write and minimum write latency",
          "fields": {
           "Maximum_Latency_Metric_Counter": {
            "access": "read-only",
            "bit_offset": 0,
            "bit_width": 16,
            "description": "Metric Counter for slot 1 maximum write and minimum write latency"
           },
           "Minimum_Latency_Metric_Counter": {
            "access": "read-only",
            "bit_offset": 16,
            "bit_width": 16,
            "description": "Metric Counter for slot 1 maximum write and minimum write latency"
           }
          },
          "size": 32
         },
         "Metric_Counter_51": {
          "access": "read-only",
          "address_offset": 440,
          "description": "Metric Counter for slot 1 maximum read and minimun read latency",
          "fields": {
           "Maximum_Latency_Metric_Counter": {
            "access": "read-only",
            "bit_offset": 0,
            "bit_width": 16,
            "description": "Metric Counter for slot 1 maximum read and minimun read latency"
           },
           "Minimum_Latency_Metric_Counter": {
            "access": "read-only",
            "bit_offset": 16,
            "bit_width": 16,
            "description": "Metric Counter for slot 1 maximum read and minimun read latency"
           }
          },
          "size": 32
         },
         "Metric_Counter_52": {
          "access": "read-only",
          "address_offset": 1364,
          "description": "Metric Counter for slot 2 maximum write and minimum write latency",
          "fields": {
           "Maximum_Latency_Metric_Counter": {
            "access": "read-only",
            "bit_offset": 0,
            "bit_width": 16,
            "description": "Metric Counter for slot 2 maximum write and minimum write latency"
           },
           "Minimum_Latency_Metric_Counter": {
            "access": "read-only",
            "bit_offset": 16,
            "bit_width": 16,
            "description": "Metric Counter for slot 2 maximum write and minimum write latency"
           }
          },
          "size": 32
         },
         "Metric_Counter_53": {
          "access": "read-only",
          "address_offset": 1368,
          "description": "Metric Counter for slot 2 maximum read and minimun read latency",
          "fields": {
           "Maximum_Latency_Metric_Counter": {
            "access": "read-only",
            "bit_offset": 0,
            "bit_width": 16,
            "description": "Metric Counter for slot 2 maximum read and minimun read latency"
           },
           "Minimum_Latency_Metric_Counter": {
            "access": "read-only",
            "bit_offset": 16,
            "bit_width": 16,
            "description": "Metric Counter for slot 2 maximum read and minimun read latency"
           }
          },
          "size": 32
         },
         "Metric_Counter_54": {
          "access": "read-only",
          "address_offset": 1460,
          "description": "Metric Counter for slot 3 maximum write and minimum write latency",
          "fields": {
           "Maximum_Latency_Metric_Counter": {
            "access": "read-only",
            "bit_offset": 0,
            "bit_width": 16,
            "description": "Metric Counter for slot 3 maximum write and minimum write latency"
           },
           "Minimum_Latency_Metric_Counter": {
            "access": "read-only",
            "bit_offset": 16,
            "bit_width": 16,
            "description": "Metric Counter for slot 3 maximum write and minimum write latency"
           }
          },
          "size": 32
         },
         "Metric_Counter_55": {
          "access": "read-only",
          "address_offset": 1464,
          "description": "Metric Counter for slot 3 maximum read and minimun read latency",
          "fields": {
           "Maximum_Latency_Metric_Counter": {
            "access": "read-only",
            "bit_offset": 0,
            "bit_width": 16,
            "description": "Metric Counter for slot 3 maximum read and minimun read latency"
           },
           "Minimum_Latency_Metric_Counter": {
            "access": "read-only",
            "bit_offset": 16,
            "bit_width": 16,
            "description": "Metric Counter for slot 3 maximum read and minimun read latency"
           }
          },
          "size": 32
         },
         "Metric_Counter_56": {
          "access": "read-only",
          "address_offset": 1876,
          "description": "Metric Counter for slot 4 maximum write and minimum write latency",
          "fields": {
           "Maximum_Latency_Metric_Counter": {
            "access": "read-only",
            "bit_offset": 0,
            "bit_width": 16,
            "description": "Metric Counter for slot 4 maximum write and minimum write latency"
           },
           "Minimum_Latency_Metric_Counter": {
            "access": "read-only",
            "bit_offset": 16,
            "bit_width": 16,
            "description": "Metric Counter for slot 4 maximum write and minimum write latency"
           }
          },
          "size": 32
         },
         "Metric_Counter_57": {
          "access": "read-only",
          "address_offset": 1880,
          "description": "Metric Counter for slot 4 maximum read and minimun read latency",
          "fields": {
           "Maximum_Latency_Metric_Counter": {
            "access": "read-only",
            "bit_offset": 0,
            "bit_width": 16,
            "description": "Metric Counter for slot 4 maximum read and minimun read latency"
           },
           "Minimum_Latency_Metric_Counter": {
            "access": "read-only",
            "bit_offset": 16,
            "bit_width": 16,
            "description": "Metric Counter for slot 4 maximum read and minimun read latency"
           }
          },
          "size": 32
         },
         "Metric_Counter_58": {
          "access": "read-only",
          "address_offset": 1972,
          "description": "Metric Counter for slot 5 maximum write and minimum write latency",
          "fields": {
           "Maximum_Latency_Metric_Counter": {
            "access": "read-only",
            "bit_offset": 0,
            "bit_width": 16,
            "description": "Metric Counter for slot 5 maximum write and minimum write latency"
           },
           "Minimum_Latency_Metric_Counter": {
            "access": "read-only",
            "bit_offset": 16,
            "bit_width": 16,
            "description": "Metric Counter for slot 5 maximum write and minimum write latency"
           }
          },
          "size": 32
         },
         "Metric_Counter_59": {
          "access": "read-only",
          "address_offset": 1976,
          "description": "Metric Counter for slot 5 maximum read and minimun read latency",
          "fields": {
           "Maximum_Latency_Metric_Counter": {
            "access": "read-only",
            "bit_offset": 0,
            "bit_width": 16,
            "description": "Metric Counter for slot 5 maximum read and minimun read latency"
           },
           "Minimum_Latency_Metric_Counter": {
            "access": "read-only",
            "bit_offset": 16,
            "bit_width": 16,
            "description": "Metric Counter for slot 5 maximum read and minimun read latency"
           }
          },
          "size": 32
         },
         "Metric_Counter_6": {
          "access": "read-only",
          "address_offset": 352,
          "description": "Metric Counter 6 Register",
          "fields": {
           "Metric_Counter": {
            "access": "read-only",
            "bit_offset": 0,
            "bit_width": 32,
            "description": "Metric Counter 6 Register"
           }
          },
          "size": 32
         },
         "Metric_Counter_60": {
          "access": "read-only",
          "address_offset": 2388,
          "description": "Metric Counter for slot 6 maximum write and minimum write latency",
          "fields": {
           "Maximum_Latency_Metric_Counter": {
            "access": "read-only",
            "bit_offset": 0,
            "bit_width": 16,
            "description": "Metric Counter for slot 6 maximum write and minimum write latency"
           },
           "Minimum_Latency_Metric_Counter": {
            "access": "read-only",
            "bit_offset": 16,
            "bit_width": 16,
            "description": "Metric Counter for slot 6 maximum write and minimum write latency"
           }
          },
          "size": 32
         },
         "Metric_Counter_61": {
          "access": "read-only",
          "address_offset": 2392,
          "description": "Metric Counter for slot 6 maximum read and minimun read latency",
          "fields": {
           "Maximum_Latency_Metric_Counter": {
            "access": "read-only",
            "bit_offset": 0,
            "bit_width": 16,
            "description": "Metric Counter for slot 6 maximum read and minimun read latency"
           },
           "Minimum_Latency_Metric_Counter": {
            "access": "read-only",
            "bit_offset": 16,
            "bit_width": 16,
            "description": "Metric Counter for slot 6 maximum read and minimun read latency"
           }
          },
          "size": 32
         },
         "Metric_Counter_62": {
          "access": "read-only",
          "address_offset": 2484,
          "description": "Metric Counter for slot 7 maximum write and minimum write latency",
          "fields": {
           "Maximum_Latency_Metric_Counter": {
            "access": "read-only",
            "bit_offset": 0,
            "bit_width": 16,
            "description": "Metric Counter for slot 7 maximum write and minimum write latency"
           },
           "Minimum_Latency_Metric_Counter": {
            "access": "read-only",
            "bit_offset": 16,
            "bit_width": 16,
            "description": "Metric Counter for slot 7 maximum write and minimum write latency"
           }
          },
          "size": 32
         },
         "Metric_Counter_63": {
          "access": "read-only",
          "address_offset": 2488,
          "description": "Metric Counter for slot 7 maximum read and minimun read latency",
          "fields": {
           "Maximum_Latency_Metric_Counter": {
            "access": "read-only",
            "bit_offset": 0,
            "bit_width": 16,
            "description": "Metric Counter for slot 7 maximum read and minimun read latency"
           },
           "Minimum_Latency_Metric_Counter": {
            "access": "read-only",
            "bit_offset": 16,
            "bit_width": 16,
            "description": "Metric Counter for slot 7 maximum read and minimun read latency"
           }
          },
          "size": 32
         },
         "Metric_Counter_7": {
          "access": "read-only",
          "address_offset": 368,
          "description": "Metric Counter 7 Register",
          "fields": {
           "Metric_Counter": {
            "access": "read-only",
            "bit_offset": 0,
            "bit_width": 32,
            "description": "Metric Counter 7 Register"
           }
          },
          "size": 32
         },
         "Metric_Counter_8": {
          "access": "read-only",
          "address_offset": 384,
          "description": "Metric Counter 8 Register",
          "fields": {
           "Metric_Counter": {
            "access": "read-only",
            "bit_offset": 0,
            "bit_width": 32,
            "description": "Metric Counter 8 Register"
           }
          },
          "size": 32
         },
         "Metric_Counter_9": {
          "access": "read-only",
          "address_offset": 400,
          "description": "Metric Counter 9 Register",
          "fields": {
           "Metric_Counter": {
            "access": "read-only",
            "bit_offset": 0,
            "bit_width": 32,
            "description": "Metric Counter 9 Register"
           }
          },
          "size": 32
         },
         "Metric_Selector_Register_0": {
          "access": "read-write",
          "address_offset": 68,
          "description": "Metric Selector for Metric Counters 0, 1, 2 and 3",
          "fields": {
           "Metric_Counter_0_Slot_ID": {
            "access": "read-write",
            "bit_offset": 5,
            "bit_width": 3,
            "description": "Metric Selector for Metric Counters 0, 1, 2 and 3"
           },
           "Metric_Counter_1_Slot_ID": {
            "access": "read-write",
            "bit_offset": 13,
            "bit_width": 3,
            "description": "Metric Selector for Metric Counters 0, 1, 2 and 3"
           },
           "Metric_Counter_2_Slot_ID": {
            "access": "read-write",
            "bit_offset": 21,
            "bit_width": 3,
            "description": "Metric Selector for Metric Counters 0, 1, 2 and 3"
           },
           "Metric_Counter_3_Slot_ID": {
            "access": "read-write",
            "bit_offset": 29,
            "bit_width": 3,
            "description": "Metric Selector for Metric Counters 0, 1, 2 and 3"
           },
           "Metric_Selector_for_Counter_0": {
            "access": "read-write",
            "bit_offset": 0,
            "bit_width": 5,
            "description": "Metric Selector for Metric Counters 0, 1, 2 and 3"
           },
           "Metric_Selector_for_Counter_1": {
            "access": "read-write",
            "bit_offset": 8,
            "bit_width": 5,
            "description": "Metric Selector for Metric Counters 0, 1, 2 and 3"
           },
           "Metric_Selector_for_Counter_2": {
            "access": "read-write",
            "bit_offset": 16,
            "bit_width": 5,
            "description": "Metric Selector for Metric Counters 0, 1, 2 and 3"
           },
           "Metric_Selector_for_Counter_3": {
            "access": "read-write",
            "bit_offset": 24,
            "bit_width": 5,
            "description": "Metric Selector for Metric Counters 0, 1, 2 and 3"
           }
          },
          "size": 32
         },
         "Metric_Selector_Register_1": {
          "access": "read-write",
          "address_offset": 72,
          "description": "Metric Selector for Metric Counters 4, 5, 6 and 7",
          "fields": {
           "Metric_Counter_4_Slot_ID": {
            "access": "read-write",
            "bit_offset": 5,
            "bit_width": 3,
            "description": "Metric Selector for Metric Counters 4, 5, 6 and 7"
           },
           "Metric_Counter_5_Slot_ID": {
            "access": "read-write",
            "bit_offset": 13,
            "bit_width": 3,
            "description": "Metric Selector for Metric Counters 4, 5, 6 and 7"
           },
           "Metric_Counter_6_Slot_ID": {
            "access": "read-write",
            "bit_offset": 21,
            "bit_width": 3,
            "description": "Metric Selector for Metric Counters 4, 5, 6 and 7"
           },
           "Metric_Counter_7_Slot_ID": {
            "access": "read-write",
            "bit_offset": 29,
            "bit_width": 3,
            "description": "Metric Selector for Metric Counters 4, 5, 6 and 7"
           },
           "Metric_Selector_for_Counter_4": {
            "access": "read-write",
            "bit_offset": 0,
            "bit_width": 5,
            "description": "Metric Selector for Metric Counters 4, 5, 6 and 7"
           },
           "Metric_Selector_for_Counter_5": {
            "access": "read-write",
            "bit_offset": 8,
            "bit_width": 5,
            "description": "Metric Selector for Metric Counters 4, 5, 6 and 7"
           },
           "Metric_Selector_for_Counter_6": {
            "access": "read-write",
            "bit_offset": 16,
            "bit_width": 5,
            "description": "Metric Selector for Metric Counters 4, 5, 6 and 7"
           },
           "Metric_Selector_for_Counter_7": {
            "access": "read-write",
            "bit_offset": 24,
            "bit_width": 5,
            "description": "Metric Selector for Metric Counters 4, 5, 6 and 7"
           }
          },
          "size": 32
         },
         "Metric_Selector_Register_2": {
          "access": "read-write",
          "address_offset": 76,
          "description": "Metric Selector for Metric Counters 8 and 9",
          "fields": {
           "Metric_Counter_8_Slot_ID": {
            "access": "read-write",
            "bit_offset": 5,
            "bit_width": 3,
            "description": "Metric Selector for Metric Counters 8 and 9"
           },
           "Metric_Counter_9_Slot_ID": {
            "access": "read-write",
            "bit_offset": 13,
            "bit_width": 3,
            "description": "Metric Selector for Metric Counters 8 and 9"
           },
           "Metric_Selector_for_Counter_8": {
            "access": "read-write",
            "bit_offset": 0,
            "bit_width": 5,
            "description": "Metric Selector for Metric Counters 8 and 9"
           },
           "Metric_Selector_for_Counter_9": {
            "access": "read-write",
            "bit_offset": 8,
            "bit_width": 5,
            "description": "Metric Selector for Metric Counters 8 and 9"
           }
          },
          "size": 32
         },
         "Range_Register_0": {
          "access": "read-write",
          "address_offset": 264,
          "description": "Low & High Ranges for Incrementer 0",
          "fields": {
           "Range_HIGH": {
            "access": "read-write",
            "bit_offset": 16,
            "bit_width": 16,
            "description": "Low & High Ranges for Incrementer 0"
           },
           "Range_LOW": {
            "access": "read-write",
            "bit_offset": 0,
            "bit_width": 16,
            "description": "Low & High Ranges for Incrementer 0"
           }
          },
          "size": 32
         },
         "Range_Register_1": {
          "access": "read-write",
          "address_offset": 280,
          "description": "Low & High Ranges for Incrementer 1",
          "fields": {
           "Range_HIGH": {
            "access": "read-write",
            "bit_offset": 16,
            "bit_width": 16,
            "description": "Low & High Ranges for Incrementer 1"
           },
           "Range_LOW": {
            "access": "read-write",
            "bit_offset": 0,
            "bit_width": 16,
            "description": "Low & High Ranges for Incrementer 1"
           }
          },
          "size": 32
         },
         "Range_Register_2": {
          "access": "read-write",
          "address_offset": 296,
          "description": "Low & High Ranges for Incrementer 2",
          "fields": {
           "Range_HIGH": {
            "access": "read-write",
            "bit_offset": 16,
            "bit_width": 16,
            "description": "Low & High Ranges for Incrementer 2"
           },
           "Range_LOW": {
            "access": "read-write",
            "bit_offset": 0,
            "bit_width": 16,
            "description": "Low & High Ranges for Incrementer 2"
           }
          },
          "size": 32
         },
         "Range_Register_3": {
          "access": "read-write",
          "address_offset": 312,
          "description": "Low & High Ranges for Incrementer 3",
          "fields": {
           "Range_HIGH": {
            "access": "read-write",
            "bit_offset": 16,
            "bit_width": 16,
            "description": "Low & High Ranges for Incrementer 3"
           },
           "Range_LOW": {
            "access": "read-write",
            "bit_offset": 0,
            "bit_width": 16,
            "description": "Low & High Ranges for Incrementer 3"
           }
          },
          "size": 32
         },
         "Range_Register_4": {
          "access": "read-write",
          "address_offset": 328,
          "description": "Low & High Ranges for Incrementer 4",
          "fields": {
           "Range_HIGH": {
            "access": "read-write",
            "bit_offset": 16,
            "bit_width": 16,
            "description": "Low & High Ranges for Incrementer 4"
           },
           "Range_LOW": {
            "access": "read-write",
            "bit_offset": 0,
            "bit_width": 16,
            "description": "Low & High Ranges for Incrementer 4"
           }
          },
          "size": 32
         },
         "Range_Register_5": {
          "access": "read-write",
          "address_offset": 344,
          "description": "Low & High Ranges for Incrementer 5",
          "fields": {
           "Range_HIGH": {
            "access": "read-write",
            "bit_offset": 16,
            "bit_width": 16,
            "description": "Low & High Ranges for Incrementer 5"
           },
           "Range_LOW": {
            "access": "read-write",
            "bit_offset": 0,
            "bit_width": 16,
            "description": "Low & High Ranges for Incrementer 5"
           }
          },
          "size": 32
         },
         "Range_Register_6": {
          "access": "read-write",
          "address_offset": 360,
          "description": "Low & High Ranges for Incrementer 6",
          "fields": {
           "Range_HIGH": {
            "access": "read-write",
            "bit_offset": 16,
            "bit_width": 16,
            "description": "Low & High Ranges for Incrementer 6"
           },
           "Range_LOW": {
            "access": "read-write",
            "bit_offset": 0,
            "bit_width": 16,
            "description": "Low & High Ranges for Incrementer 6"
           }
          },
          "size": 32
         },
         "Range_Register_7": {
          "access": "read-write",
          "address_offset": 376,
          "description": "Low & High Ranges for Incrementer 7",
          "fields": {
           "Range_HIGH": {
            "access": "read-write",
            "bit_offset": 16,
            "bit_width": 16,
            "description": "Low & High Ranges for Incrementer 7"
           },
           "Range_LOW": {
            "access": "read-write",
            "bit_offset": 0,
            "bit_width": 16,
            "description": "Low & High Ranges for Incrementer 7"
           }
          },
          "size": 32
         },
         "Range_Register_8": {
          "access": "read-write",
          "address_offset": 392,
          "description": "Low & High Ranges for Incrementer 8",
          "fields": {
           "Range_HIGH": {
            "access": "read-write",
            "bit_offset": 16,
            "bit_width": 16,
            "description": "Low & High Ranges for Incrementer 8"
           },
           "Range_LOW": {
            "access": "read-write",
            "bit_offset": 0,
            "bit_width": 16,
            "description": "Low & High Ranges for Incrementer 8"
           }
          },
          "size": 32
         },
         "Range_Register_9": {
          "access": "read-write",
          "address_offset": 408,
          "description": "Low & High Ranges for Incrementer 9",
          "fields": {
           "Range_HIGH": {
            "access": "read-write",
            "bit_offset": 16,
            "bit_width": 16,
            "description": "Low & High Ranges for Incrementer 9"
           },
           "Range_LOW": {
            "access": "read-write",
            "bit_offset": 0,
            "bit_width": 16,
            "description": "Low & High Ranges for Incrementer 9"
           }
          },
          "size": 32
         },
         "Sample_Interval": {
          "access": "read-write",
          "address_offset": 36,
          "description": "Sample Interval Time Configuration Register",
          "fields": {
           "Sample_Interval": {
            "access": "read-write",
            "bit_offset": 0,
            "bit_width": 32,
            "description": "Sample Interval Time Configuration Register"
           }
          },
          "size": 32
         },
         "Sample_Interval_Control_Register": {
          "access": "read-write",
          "address_offset": 40,
          "description": "Sample Interval Control Register",
          "fields": {
           "Enable": {
            "access": "read-write",
            "bit_offset": 0,
            "bit_width": 1,
            "description": "Sample Interval Control Register"
           },
           "Load": {
            "access": "read-write",
            "bit_offset": 1,
            "bit_width": 1,
            "description": "Sample Interval Control Register"
           },
           "Metric_Counters_Reset": {
            "access": "read-write",
            "bit_offset": 8,
            "bit_width": 1,
            "description": "Sample Interval Control Register"
           }
          },
          "size": 32
         },
         "Sample_Register": {
          "access": "read-only",
          "address_offset": 44,
          "description": "Sample Register",
          "fields": {
           "Sample_Register_Read": {
            "access": "read-only",
            "bit_offset": 0,
            "bit_width": 32,
            "description": "Sample Register"
           }
          },
          "size": 32
         },
         "Sampled_Incrementer_0": {
          "access": "read-only",
          "address_offset": 516,
          "description": "Sampled Incrementer 0 Register",
          "fields": {
           "Sampled_Incrementer": {
            "access": "read-only",
            "bit_offset": 0,
            "bit_width": 32,
            "description": "Sampled Incrementer 0 Register"
           }
          },
          "size": 32
         },
         "Sampled_Incrementer_1": {
          "access": "read-only",
          "address_offset": 532,
          "description": "Sampled Incrementer 1 Register",
          "fields": {
           "Sampled_Incrementer": {
            "access": "read-only",
            "bit_offset": 0,
            "bit_width": 32,
            "description": "Sampled Incrementer 1 Register"
           }
          },
          "size": 32
         },
         "Sampled_Incrementer_2": {
          "access": "read-only",
          "address_offset": 548,
          "description": "Sampled Incrementer 2 Register",
          "fields": {
           "Sampled_Incrementer": {
            "access": "read-only",
            "bit_offset": 0,
            "bit_width": 32,
            "description": "Sampled Incrementer 2 Register"
           }
          },
          "size": 32
         },
         "Sampled_Incrementer_3": {
          "access": "read-only",
          "address_offset": 564,
          "description": "Sampled Incrementer 3 Register",
          "fields": {
           "Sampled_Incrementer": {
            "access": "read-only",
            "bit_offset": 0,
            "bit_width": 32,
            "description": "Sampled Incrementer 3 Register"
           }
          },
          "size": 32
         },
         "Sampled_Incrementer_4": {
          "access": "read-only",
          "address_offset": 580,
          "description": "Sampled Incrementer 4 Register",
          "fields": {
           "Sampled_Incrementer": {
            "access": "read-only",
            "bit_offset": 0,
            "bit_width": 32,
            "description": "Sampled Incrementer 4 Register"
           }
          },
          "size": 32
         },
         "Sampled_Incrementer_5": {
          "access": "read-only",
          "address_offset": 596,
          "description": "Sampled Incrementer 5 Register",
          "fields": {
           "Sampled_Incrementer": {
            "access": "read-only",
            "bit_offset": 0,
            "bit_width": 32,
            "description": "Sampled Incrementer 5 Register"
           }
          },
          "size": 32
         },
         "Sampled_Incrementer_6": {
          "access": "read-only",
          "address_offset": 612,
          "description": "Sampled Incrementer 6 Register",
          "fields": {
           "Sampled_Incrementer": {
            "access": "read-only",
            "bit_offset": 0,
            "bit_width": 32,
            "description": "Sampled Incrementer 6 Register"
           }
          },
          "size": 32
         },
         "Sampled_Incrementer_7": {
          "access": "read-only",
          "address_offset": 628,
          "description": "Sampled Incrementer 7 Register",
          "fields": {
           "Sampled_Incrementer": {
            "access": "read-only",
            "bit_offset": 0,
            "bit_width": 32,
            "description": "Sampled Incrementer 7 Register"
           }
          },
          "size": 32
         },
         "Sampled_Incrementer_8": {
          "access": "read-only",
          "address_offset": 644,
          "description": "Sampled Incrementer 8 Register",
          "fields": {
           "Sampled_Incrementer": {
            "access": "read-only",
            "bit_offset": 0,
            "bit_width": 32,
            "description": "Sampled Incrementer 8 Register"
           }
          },
          "size": 32
         },
         "Sampled_Incrementer_9": {
          "access": "read-only",
          "address_offset": 660,
          "description": "Sampled Incrementer 9 Register",
          "fields": {
           "Sampled_Incrementer": {
            "access": "read-only",
            "bit_offset": 0,
            "bit_width": 32,
            "description": "Sampled Incrementer 9 Register"
           }
          },
          "size": 32
         },
         "Sampled_Metric_Counter_0": {
          "access": "read-only",
          "address_offset": 512,
          "description": "Sampled Metric Counter 0 Register",
          "fields": {
           "Sampled_Metric_Counter": {
            "access": "read-only",
            "bit_offset": 0,
            "bit_width": 32,
            "description": "Sampled Metric Counter 0 Register"
           }
          },
          "size": 32
         },
         "Sampled_Metric_Counter_1": {
          "access": "read-only",
          "address_offset": 528,
          "description": "Sampled Metric Counter 1 Register",
          "fields": {
           "Sampled_Metric_Counter": {
            "access": "read-only",
            "bit_offset": 0,
            "bit_width": 32,
            "description": "Sampled Metric Counter 1 Register"
           }
          },
          "size": 32
         },
         "Sampled_Metric_Counter_10": {
          "access": "read-only",
          "address_offset": 672,
          "description": "Sampled Metric Counter for Slot 1 read transaction count",
          "fields": {
           "Sampled_Metric_Counter": {
            "access": "read-only",
            "bit_offset": 0,
            "bit_width": 32,
            "description": "Sampled Metric Counter for Slot 1 read transaction count"
           }
          },
          "size": 32
         },
         "Sampled_Metric_Counter_11": {
          "access": "read-only",
          "address_offset": 688,
          "description": "Sampled Metric Counter for Slot 1 read latency count",
          "fields": {
           "Sampled_Metric_Counter": {
            "access": "read-only",
            "bit_offset": 0,
            "bit_width": 32,
            "description": "Sampled Metric Counter for Slot 1 read latency count"
           }
          },
          "size": 32
         },
         "Sampled_Metric_Counter_12": {
          "access": "read-only",
          "address_offset": 1536,
          "description": "Sampled Metric Counter for Slot 2 write byte count",
          "fields": {
           "Sampled_Metric_Counter": {
            "access": "read-only",
            "bit_offset": 0,
            "bit_width": 32,
            "description": "Sampled Metric Counter for Slot 2 write byte count"
           }
          },
          "size": 32
         },
         "Sampled_Metric_Counter_13": {
          "access": "read-only",
          "address_offset": 1552,
          "description": "Sampled Metric Counter for Slot 2 write transaction count",
          "fields": {
           "Sampled_Metric_Counter": {
            "access": "read-only",
            "bit_offset": 0,
            "bit_width": 32,
            "description": "Sampled Metric Counter for Slot 2 write transaction count"
           }
          },
          "size": 32
         },
         "Sampled_Metric_Counter_14": {
          "access": "read-only",
          "address_offset": 1568,
          "description": "Sampled Metric Counter for Slot 2 write latency count",
          "fields": {
           "Sampled_Metric_Counter": {
            "access": "read-only",
            "bit_offset": 0,
            "bit_width": 32,
            "description": "Sampled Metric Counter for Slot 2 write latency count"
           }
          },
          "size": 32
         },
         "Sampled_Metric_Counter_15": {
          "access": "read-only",
          "address_offset": 1584,
          "description": "Sampled Metric Counter for Slot 2 read byte count",
          "fields": {
           "Sampled_Metric_Counter": {
            "access": "read-only",
            "bit_offset": 0,
            "bit_width": 32,
            "description": "Sampled Metric Counter for Slot 2 read byte count"
           }
          },
          "size": 32
         },
         "Sampled_Metric_Counter_16": {
          "access": "read-only",
          "address_offset": 1600,
          "description": "Sampled Metric Counter for Slot 2 read transaction count",
          "fields": {
           "Sampled_Metric_Counter": {
            "access": "read-only",
            "bit_offset": 0,
            "bit_width": 32,
            "description": "Sampled Metric Counter for Slot 2 read transaction count"
           }
          },
          "size": 32
         },
         "Sampled_Metric_Counter_17": {
          "access": "read-only",
          "address_offset": 1616,
          "description": "Sampled Metric Counter for Slot 2 read latency count",
          "fields": {
           "Sampled_Metric_Counter": {
            "access": "read-only",
            "bit_offset": 0,
            "bit_width": 32,
            "description": "Sampled Metric Counter for Slot 2 read latency count"
           }
          },
          "size": 32
         },
         "Sampled_Metric_Counter_18": {
          "access": "read-only",
          "address_offset": 1632,
          "description": "Sampled Metric Counter for Slot 3 write byte count",
          "fields": {
           "Sampled_Metric_Counter": {
            "access": "read-only",
            "bit_offset": 0,
            "bit_width": 32,
            "description": "Sampled Metric Counter for Slot 3 write byte count"
           }
          },
          "size": 32
         },
         "Sampled_Metric_Counter_19": {
          "access": "read-only",
          "address_offset": 1648,
          "description": "Sampled Metric Counter for Slot 3 write transaction count",
          "fields": {
           "Sampled_Metric_Counter": {
            "access": "read-only",
            "bit_offset": 0,
            "bit_width": 32,
            "description": "Sampled Metric Counter for Slot 3 write transaction count"
           }
          },
          "size": 32
         },
         "Sampled_Metric_Counter_2": {
          "access": "read-only",
          "address_offset": 544,
          "description": "Sampled Metric Counter 2 Register",
          "fields": {
           "Sampled_Metric_Counter": {
            "access": "read-only",
            "bit_offset": 0,
            "bit_width": 32,
            "description": "Sampled Metric Counter 2 Register"
           }
          },
          "size": 32
         },
         "Sampled_Metric_Counter_20": {
          "access": "read-only",
          "address_offset": 1664,
          "description": "Sampled Metric Counter for Slot 3 write latency count",
          "fields": {
           "Sampled_Metric_Counter": {
            "access": "read-only",
            "bit_offset": 0,
            "bit_width": 32,
            "description": "Sampled Metric Counter for Slot 3 write latency count"
           }
          },
          "size": 32
         },
         "Sampled_Metric_Counter_21": {
          "access": "read-only",
          "address_offset": 1680,
          "description": "Sampled Metric Counter for Slot 3 read byte count",
          "fields": {
           "Sampled_Metric_Counter": {
            "access": "read-only",
            "bit_offset": 0,
            "bit_width": 32,
            "description": "Sampled Metric Counter for Slot 3 read byte count"
           }
          },
          "size": 32
         },
         "Sampled_Metric_Counter_22": {
          "access": "read-only",
          "address_offset": 1696,
          "description": "Sampled Metric Counter for Slot 3 read transaction count",
          "fields": {
           "Sampled_Metric_Counter": {
            "access": "read-only",
            "bit_offset": 0,
            "bit_width": 32,
            "description": "Sampled Metric Counter for Slot 3 read transaction count"
           }
          },
          "size": 32
         },
         "Sampled_Metric_Counter_23": {
          "access": "read-only",
          "address_offset": 1712,
          "description": "Sampled Metric Counter for Slot 3 read latency count",
          "fields": {
           "Sampled_Metric_Counter": {
            "access": "read-only",
            "bit_offset": 0,
            "bit_width": 32,
            "description": "Sampled Metric Counter for Slot 3 read latency count"
           }
          },
          "size": 32
         },
         "Sampled_Metric_Counter_24": {
          "access": "read-only",
          "address_offset": 2048,
          "description": "Sampled Metric Counter for Slot 4 write byte count",
          "fields": {
           "Sampled_Metric_Counter": {
            "access": "read-only",
            "bit_offset": 0,
            "bit_width": 32,
            "description": "Sampled Metric Counter for Slot 4 write byte count"
           }
          },
          "size": 32
         },
         "Sampled_Metric_Counter_25": {
          "access": "read-only",
          "address_offset": 2064,
          "description": "Sampled Metric Counter for Slot 4 write transaction count",
          "fields": {
           "Sampled_Metric_Counter": {
            "access": "read-only",
            "bit_offset": 0,
            "bit_width": 32,
            "description": "Sampled Metric Counter for Slot 4 write transaction count"
           }
          },
          "size": 32
         },
         "Sampled_Metric_Counter_26": {
          "access": "read-only",
          "address_offset": 2080,
          "description": "Sampled Metric Counter for Slot 4 write latency count",
          "fields": {
           "Sampled_Metric_Counter": {
            "access": "read-only",
            "bit_offset": 0,
            "bit_width": 32,
            "description": "Sampled Metric Counter for Slot 4 write latency count"
           }
          },
          "size": 32
         },
         "Sampled_Metric_Counter_27": {
          "access": "read-only",
          "address_offset": 2096,
          "description": "Sampled Metric Counter for Slot 4 read byte count",
          "fields": {
           "Sampled_Metric_Counter": {
            "access": "read-only",
            "bit_offset": 0,
            "bit_width": 32,
            "description": "Sampled Metric Counter for Slot 4 read byte count"
           }
          },
          "size": 32
         },
         "Sampled_Metric_Counter_28": {
          "access": "read-only",
          "address_offset": 2112,
          "description": "Sampled Metric Counter for Slot 4 read transaction count",
          "fields": {
           "Sampled_Metric_Counter": {
            "access": "read-only",
            "bit_offset": 0,
            "bit_width": 32,
            "description": "Sampled Metric Counter for Slot 4 read transaction count"
           }
          },
          "size": 32
         },
         "Sampled_Metric_Counter_29": {
          "access": "read-only",
          "address_offset": 2128,
          "description": "Sampled Metric Counter for Slot 4 read latency count",
          "fields": {
           "Sampled_Metric_Counter": {
            "access": "read-only",
            "bit_offset": 0,
            "bit_width": 32,
            "description": "Sampled Metric Counter for Slot 4 read latency count"
           }
          },
          "size": 32
         },
         "Sampled_Metric_Counter_3": {
          "access": "read-only",
          "address_offset": 560,
          "description": "Sampled Metric Counter 3 Register",
          "fields": {
           "Sampled_Metric_Counter": {
            "access": "read-only",
            "bit_offset": 0,
            "bit_width": 32,
            "description": "Sampled Metric Counter 3 Register"
           }
          },
          "size": 32
         },
         "Sampled_Metric_Counter_30": {
          "access": "read-only",
          "address_offset": 2144,
          "description": "Sampled Metric Counter for Slot 5 write byte count",
          "fields": {
           "Sampled_Metric_Counter": {
            "access": "read-only",
            "bit_offset": 0,
            "bit_width": 32,
            "description": "Sampled Metric Counter for Slot 5 write byte count"
           }
          },
          "size": 32
         },
         "Sampled_Metric_Counter_31": {
          "access": "read-only",
          "address_offset": 2160,
          "description": "Sampled Metric Counter for Slot 5 write transaction count",
          "fields": {
           "Sampled_Metric_Counter": {
            "access": "read-only",
            "bit_offset": 0,
            "bit_width": 32,
            "description": "Sampled Metric Counter for Slot 5 write transaction count"
           }
          },
          "size": 32
         },
         "Sampled_Metric_Counter_32": {
          "access": "read-only",
          "address_offset": 2176,
          "description": "Sampled Metric Counter for Slot 5 write latency count",
          "fields": {
           "Sampled_Metric_Counter": {
            "access": "read-only",
            "bit_offset": 0,
            "bit_width": 32,
            "description": "Sampled Metric Counter for Slot 5 write latency count"
           }
          },
          "size": 32
         },
         "Sampled_Metric_Counter_33": {
          "access": "read-only",
          "address_offset": 2192,
          "description": "Sampled Metric Counter for Slot 5 read byte count",
          "fields": {
           "Sampled_Metric_Counter": {
            "access": "read-only",
            "bit_offset": 0,
            "bit_width": 32,
            "description": "Sampled Metric Counter for Slot 5 read byte count"
           }
          },
          "size": 32
         },
         "Sampled_Metric_Counter_34": {
          "access": "read-only",
          "address_offset": 2208,
          "description": "Sampled Metric Counter for Slot 5 read transaction count",
          "fields": {
           "Sampled_Metric_Counter": {
            "access": "read-only",
            "bit_offset": 0,
            "bit_width": 32,
            "description": "Sampled Metric Counter for Slot 5 read transaction count"
           }
          },
          "size": 32
         },
         "Sampled_Metric_Counter_35": {
          "access": "read-only",
          "address_offset": 2224,
          "description": "Sampled Metric Counter for Slot 5 read latency count",
          "fields": {
           "Sampled_Metric_Counter": {
            "access": "read-only",
            "bit_offset": 0,
            "bit_width": 32,
            "description": "Sampled Metric Counter for Slot 5 read latency count"
           }
          },
          "size": 32
         },
         "Sampled_Metric_Counter_36": {
          "access": "read-only",
          "address_offset": 2560,
          "description": "Sampled Metric Counter for Slot 6 write byte count",
          "fields": {
           "Sampled_Metric_Counter": {
            "access": "read-only",
            "bit_offset": 0,
            "bit_width": 32,
            "description": "Sampled Metric Counter for Slot 6 write byte count"
           }
          },
          "size": 32
         },
         "Sampled_Metric_Counter_37": {
          "access": "read-only",
          "address_offset": 2576,
          "description": "Sampled Metric Counter for Slot 6 write transaction count",
          "fields": {
           "Sampled_Metric_Counter": {
            "access": "read-only",
            "bit_offset": 0,
            "bit_width": 32,
            "description": "Sampled Metric Counter for Slot 6 write transaction count"
           }
          },
          "size": 32
         },
         "Sampled_Metric_Counter_38": {
          "access": "read-only",
          "address_offset": 2592,
          "description": "Sampled Metric Counter for Slot 6 write latency count",
          "fields": {
           "Sampled_Metric_Counter": {
            "access": "read-only",
            "bit_offset": 0,
            "bit_width": 32,
            "description": "Sampled Metric Counter for Slot 6 write latency count"
           }
          },
          "size": 32
         },
         "Sampled_Metric_Counter_39": {
          "access": "read-only",
          "address_offset": 2608,
          "description": "Sampled Metric Counter for Slot 6 read byte count",
          "fields": {
           "Sampled_Metric_Counter": {
            "access": "read-only",
            "bit_offset": 0,
            "bit_width": 32,
            "description": "Sampled Metric Counter for Slot 6 read byte count"
           }
          },
          "size": 32
         },
         "Sampled_Metric_Counter_4": {
          "access": "read-only",
          "address_offset": 576,
          "description": "Sampled Metric Counter 4 Register",
          "fields": {
           "Sampled_Metric_Counter": {
            "access": "read-only",
            "bit_offset": 0,
            "bit_width": 32,
            "description": "Sampled Metric Counter 4 Register"
           }
          },
          "size": 32
         },
         "Sampled_Metric_Counter_40": {
          "access": "read-only",
          "address_offset": 2624,
          "description": "Sampled Metric Counter for Slot 6 read transaction count",
          "fields": {
           "Sampled_Metric_Counter": {
            "access": "read-only",
            "bit_offset": 0,
            "bit_width": 32,
            "description": "Sampled Metric Counter for Slot 6 read transaction count"
           }
          },
          "size": 32
         },
         "Sampled_Metric_Counter_41": {
          "access": "read-only",
          "address_offset": 2640,
          "description": "Sampled Metric Counter for Slot 6 read latency count",
          "fields": {
           "Sampled_Metric_Counter": {
            "access": "read-only",
            "bit_offset": 0,
            "bit_width": 32,
            "description": "Sampled Metric Counter for Slot 6 read latency count"
           }
          },
          "size": 32
         },
         "Sampled_Metric_Counter_42": {
          "access": "read-only",
          "address_offset": 2656,
          "description": "Sampled Metric Counter for Slot 7 write byte count",
          "fields": {
           "Sampled_Metric_Counter": {
            "access": "read-only",
            "bit_offset": 0,
            "bit_width": 32,
            "description": "Sampled Metric Counter for Slot 7 write byte count"
           }
          },
          "size": 32
         },
         "Sampled_Metric_Counter_43": {
          "access": "read-only",
          "address_offset": 2672,
          "description": "Sampled Metric Counter for Slot 7 write transaction count",
          "fields": {
           "Sampled_Metric_Counter": {
            "access": "read-only",
            "bit_offset": 0,
            "bit_width": 32,
            "description": "Sampled Metric Counter for Slot 7 write transaction count"
           }
          },
          "size": 32
         },
         "Sampled_Metric_Counter_44": {
          "access": "read-only",
          "address_offset": 2688,
          "description": "Sampled Metric Counter for Slot 7 write latency count",
          "fields": {
           "Sampled_Metric_Counter": {
            "access": "read-only",
            "bit_offset": 0,
            "bit_width": 32,
            "description": "Sampled Metric Counter for Slot 7 write latency count"
           }
          },
          "size": 32
         },
         "Sampled_Metric_Counter_45": {
          "access": "read-only",
          "address_offset": 2704,
          "description": "Sampled Metric Counter for Slot 7 read byte count",
          "fields": {
           "Sampled_Metric_Counter": {
            "access": "read-only",
            "bit_offset": 0,
            "bit_width": 32,
            "description": "Sampled Metric Counter for Slot 7 read byte count"
           }
          },
          "size": 32
         },
         "Sampled_Metric_Counter_46": {
          "access": "read-only",
          "address_offset": 2720,
          "description": "Sampled Metric Counter for Slot 7 read transaction count",
          "fields": {
           "Sampled_Metric_Counter": {
            "access": "read-only",
            "bit_offset": 0,
            "bit_width": 32,
            "description": "Sampled Metric Counter for Slot 7 read transaction count"
           }
          },
          "size": 32
         },
         "Sampled_Metric_Counter_47": {
          "access": "read-only",
          "address_offset": 2736,
          "description": "Sampled Metric Counter for Slot 7 read latency count",
          "fields": {
           "Sampled_Metric_Counter": {
            "access": "read-only",
            "bit_offset": 0,
            "bit_width": 32,
            "description": "Sampled Metric Counter for Slot 7 read latency count"
           }
          },
          "size": 32
         },
         "Sampled_Metric_Counter_48": {
          "access": "read-only",
          "address_offset": 596,
          "description": "Sampled Metric Counter for Slot 0 maximum write and minimum write latency",
          "fields": {
           "Sampled_Metric_Counter": {
            "access": "read-only",
            "bit_offset": 0,
            "bit_width": 32,
            "description": "Sampled Metric Counter for Slot 0 maximum write and minimum write latency"
           }
          },
          "size": 32
         },
         "Sampled_Metric_Counter_49": {
          "access": "read-only",
          "address_offset": 600,
          "description": "Sampled Metric Counter for Slot 0 maximum read and minimum read latency",
          "fields": {
           "Sampled_Metric_Counter": {
            "access": "read-only",
            "bit_offset": 0,
            "bit_width": 32,
            "description": "Sampled Metric Counter for Slot 0 maximum read and minimum read latency"
           }
          },
          "size": 32
         },
         "Sampled_Metric_Counter_5": {
          "access": "read-only",
          "address_offset": 592,
          "description": "Sampled Metric Counter 5 Register",
          "fields": {
           "Sampled_Metric_Counter": {
            "access": "read-only",
            "bit_offset": 0,
            "bit_width": 32,
            "description": "Sampled Metric Counter 5 Register"
           }
          },
          "size": 32
         },
         "Sampled_Metric_Counter_50": {
          "access": "read-only",
          "address_offset": 692,
          "description": "Sampled Metric Counter for Slot 1 maximum write and minimum write latency",
          "fields": {
           "Sampled_Metric_Counter": {
            "access": "read-only",
            "bit_offset": 0,
            "bit_width": 32,
            "description": "Sampled Metric Counter for Slot 1 maximum write and minimum write latency"
           }
          },
          "size": 32
         },
         "Sampled_Metric_Counter_51": {
          "access": "read-only",
          "address_offset": 696,
          "description": "Sampled Metric Counter for Slot 1 maximum read and minimum read latency",
          "fields": {
           "Sampled_Metric_Counter": {
            "access": "read-only",
            "bit_offset": 0,
            "bit_width": 32,
            "description": "Sampled Metric Counter for Slot 1 maximum read and minimum read latency"
           }
          },
          "size": 32
         },
         "Sampled_Metric_Counter_52": {
          "access": "read-only",
          "address_offset": 1620,
          "description": "Sampled Metric Counter for Slot 2 maximum write and minimum write latency",
          "fields": {
           "Sampled_Metric_Counter": {
            "access": "read-only",
            "bit_offset": 0,
            "bit_width": 32,
            "description": "Sampled Metric Counter for Slot 2 maximum write and minimum write latency"
           }
          },
          "size": 32
         },
         "Sampled_Metric_Counter_53": {
          "access": "read-only",
          "address_offset": 1624,
          "description": "Sampled Metric Counter for Slot 2 maximum read and minimum read latency",
          "fields": {
           "Sampled_Metric_Counter": {
            "access": "read-only",
            "bit_offset": 0,
            "bit_width": 32,
            "description": "Sampled Metric Counter for Slot 2 maximum read and minimum read latency"
           }
          },
          "size": 32
         },
         "Sampled_Metric_Counter_54": {
          "access": "read-only",
          "address_offset": 1716,
          "description": "Sampled Metric Counter for Slot 3 maximum write and minimum write latency",
          "fields": {
           "Sampled_Metric_Counter": {
            "access": "read-only",
            "bit_offset": 0,
            "bit_width": 32,
            "description": "Sampled Metric Counter for Slot 3 maximum write and minimum write latency"
           }
          },
          "size": 32
         },
         "Sampled_Metric_Counter_55": {
          "access": "read-only",
          "address_offset": 1720,
          "description": "Sampled Metric Counter for Slot 3 maximum read and minimum read latency",
          "fields": {
           "Sampled_Metric_Counter": {
            "access": "read-only",
            "bit_offset": 0,
            "bit_width": 32,
            "description": "Sampled Metric Counter for Slot 3 maximum read and minimum read latency"
           }
          },
          "size": 32
         },
         "Sampled_Metric_Counter_56": {
          "access": "read-only",
          "address_offset": 2132,
          "description": "Sampled Metric Counter for Slot 4 maximum write and minimum write latency",
          "fields": {
           "Sampled_Metric_Counter": {
            "access": "read-only",
            "bit_offset": 0,
            "bit_width": 32,
            "description": "Sampled Metric Counter for Slot 4 maximum write and minimum write latency"
           }
          },
          "size": 32
         },
         "Sampled_Metric_Counter_57": {
          "access": "read-only",
          "address_offset": 2136,
          "description": "Sampled Metric Counter for Slot 4 maximum read and minimum read latency",
          "fields": {
           "Sampled_Metric_Counter": {
            "access": "read-only",
            "bit_offset": 0,
            "bit_width": 32,
            "description": "Sampled Metric Counter for Slot 4 maximum read and minimum read latency"
           }
          },
          "size": 32
         },
         "Sampled_Metric_Counter_58": {
          "access": "read-only",
          "address_offset": 2228,
          "description": "Sampled Metric Counter for Slot 5 maximum write and minimum write latency",
          "fields": {
           "Sampled_Metric_Counter": {
            "access": "read-only",
            "bit_offset": 0,
            "bit_width": 32,
            "description": "Sampled Metric Counter for Slot 5 maximum write and minimum write latency"
           }
          },
          "size": 32
         },
         "Sampled_Metric_Counter_59": {
          "access": "read-only",
          "address_offset": 2232,
          "description": "Sampled Metric Counter for Slot 5 maximum read and minimum read latency",
          "fields": {
           "Sampled_Metric_Counter": {
            "access": "read-only",
            "bit_offset": 0,
            "bit_width": 32,
            "description": "Sampled Metric Counter for Slot 5 maximum read and minimum read latency"
           }
          },
          "size": 32
         },
         "Sampled_Metric_Counter_6": {
          "access": "read-only",
          "address_offset": 608,
          "description": "Sampled Metric Counter 6 Register",
          "fields": {
           "Sampled_Metric_Counter": {
            "access": "read-only",
            "bit_offset": 0,
            "bit_width": 32,
            "description": "Sampled Metric Counter 6 Register"
           }
          },
          "size": 32
         },
         "Sampled_Metric_Counter_60": {
          "access": "read-only",
          "address_offset": 2644,
          "description": "Sampled Metric Counter for Slot 6 maximum write and minimum write latency",
          "fields": {
           "Sampled_Metric_Counter": {
            "access": "read-only",
            "bit_offset": 0,
            "bit_width": 32,
            "description": "Sampled Metric Counter for Slot 6 maximum write and minimum write latency"
           }
          },
          "size": 32
         },
         "Sampled_Metric_Counter_61": {
          "access": "read-only",
          "address_offset": 2648,
          "description": "Sampled Metric Counter for Slot 6 maximum read and minimum read latency",
          "fields": {
           "Sampled_Metric_Counter": {
            "access": "read-only",
            "bit_offset": 0,
            "bit_width": 32,
            "description": "Sampled Metric Counter for Slot 6 maximum read and minimum read latency"
           }
          },
          "size": 32
         },
         "Sampled_Metric_Counter_62": {
          "access": "read-only",
          "address_offset": 2740,
          "description": "Sampled Metric Counter for Slot 7 maximum write and minimum write latency",
          "fields": {
           "Sampled_Metric_Counter": {
            "access": "read-only",
            "bit_offset": 0,
            "bit_width": 32,
            "description": "Sampled Metric Counter for Slot 7 maximum write and minimum write latency"
           }
          },
          "size": 32
         },
         "Sampled_Metric_Counter_63": {
          "access": "read-only",
          "address_offset": 2744,
          "description": "Sampled Metric Counter for Slot 7 maximum read and minimum read latency",
          "fields": {
           "Sampled_Metric_Counter": {
            "access": "read-only",
            "bit_offset": 0,
            "bit_width": 32,
            "description": "Sampled Metric Counter for Slot 7 maximum read and minimum read latency"
           }
          },
          "size": 32
         },
         "Sampled_Metric_Counter_7": {
          "access": "read-only",
          "address_offset": 624,
          "description": "Sampled Metric Counter 7 Register",
          "fields": {
           "Sampled_Metric_Counter": {
            "access": "read-only",
            "bit_offset": 0,
            "bit_width": 32,
            "description": "Sampled Metric Counter 7 Register"
           }
          },
          "size": 32
         },
         "Sampled_Metric_Counter_8": {
          "access": "read-only",
          "address_offset": 640,
          "description": "Sampled Metric Counter 8 Register",
          "fields": {
           "Sampled_Metric_Counter": {
            "access": "read-only",
            "bit_offset": 0,
            "bit_width": 32,
            "description": "Sampled Metric Counter 8 Register"
           }
          },
          "size": 32
         },
         "Sampled_Metric_Counter_9": {
          "access": "read-only",
          "address_offset": 656,
          "description": "Sampled Metric Counter 9 Register",
          "fields": {
           "Sampled_Metric_Counter": {
            "access": "read-only",
            "bit_offset": 0,
            "bit_width": 32,
            "description": "Sampled Metric Counter 9 Register"
           }
          },
          "size": 32
         },
         "Software_Written_Data_Register": {
          "access": "read-write",
          "address_offset": 1028,
          "description": "Software_Written_Data_Register",
          "fields": {
           "Software_Written_Data": {
            "access": "read-write",
            "bit_offset": 0,
            "bit_width": 32,
            "description": "Software_Written_Data_Register"
           }
          },
          "size": 32
         }
        },
        "state": null,
        "type": "xilinx.com:ip:axi_perf_mon:5.0"
       },
       "mmult_top_0": {
        "addr_range": 65536,
        "bdtype": null,
        "device": "<pynq.pl_server.embedded_device.EmbeddedDevice object at 0xffff932b2880>",
        "driver": "<class 'pynq.overlay.DefaultIP'>",
        "fullpath": "mmult_top_0",
        "gpio": {},
        "interrupts": {
         "interrupt": {
          "controller": "axi_intc_0",
          "fullpath": "mmult_top_0/interrupt",
          "index": 0
         }
        },
        "mem_id": "s_axi_control",
        "memtype": "REGISTER",
        "parameters": {
         "C_M_AXI_BIAS_ADDR_WIDTH": "64",
         "C_M_AXI_BIAS_ARUSER_WIDTH": "1",
         "C_M_AXI_BIAS_AWUSER_WIDTH": "1",
         "C_M_AXI_BIAS_BUSER_WIDTH": "1",
         "C_M_AXI_BIAS_CACHE_VALUE": "\"0011\"",
         "C_M_AXI_BIAS_DATA_WIDTH": "32",
         "C_M_AXI_BIAS_ENABLE_ID_PORTS": "false",
         "C_M_AXI_BIAS_ENABLE_USER_PORTS": "false",
         "C_M_AXI_BIAS_ID_WIDTH": "1",
         "C_M_AXI_BIAS_PROT_VALUE": "\"000\"",
         "C_M_AXI_BIAS_RUSER_WIDTH": "1",
         "C_M_AXI_BIAS_USER_VALUE": "0x00000000",
         "C_M_AXI_BIAS_WUSER_WIDTH": "1",
         "C_M_AXI_B_ADDR_WIDTH": "64",
         "C_M_AXI_B_ARUSER_WIDTH": "1",
         "C_M_AXI_B_AWUSER_WIDTH": "1",
         "C_M_AXI_B_BUSER_WIDTH": "1",
         "C_M_AXI_B_CACHE_VALUE": "\"0011\"",
         "C_M_AXI_B_DATA_WIDTH": "32",
         "C_M_AXI_B_ENABLE_ID_PORTS": "false",
         "C_M_AXI_B_ENABLE_USER_PORTS": "false",
         "C_M_AXI_B_ID_WIDTH": "1",
         "C_M_AXI_B_PROT_VALUE": "\"000\"",
         "C_M_AXI_B_RUSER_WIDTH": "1",
         "C_M_AXI_B_USER_VALUE": "0x00000000",
         "C_M_AXI_B_WUSER_WIDTH": "1",
         "C_M_AXI_COLUMNINDEX_ADJ1_ADDR_WIDTH": "64",
         "C_M_AXI_COLUMNINDEX_ADJ1_ARUSER_WIDTH": "1",
         "C_M_AXI_COLUMNINDEX_ADJ1_AWUSER_WIDTH": "1",
         "C_M_AXI_COLUMNINDEX_ADJ1_BUSER_WIDTH": "1",
         "C_M_AXI_COLUMNINDEX_ADJ1_CACHE_VALUE": "\"0011\"",
         "C_M_AXI_COLUMNINDEX_ADJ1_DATA_WIDTH": "32",
         "C_M_AXI_COLUMNINDEX_ADJ1_ENABLE_ID_PORTS": "false",
         "C_M_AXI_COLUMNINDEX_ADJ1_ENABLE_USER_PORTS": "false",
         "C_M_AXI_COLUMNINDEX_ADJ1_ID_WIDTH": "1",
         "C_M_AXI_COLUMNINDEX_ADJ1_PROT_VALUE": "\"000\"",
         "C_M_AXI_COLUMNINDEX_ADJ1_RUSER_WIDTH": "1",
         "C_M_AXI_COLUMNINDEX_ADJ1_USER_VALUE": "0x00000000",
         "C_M_AXI_COLUMNINDEX_ADJ1_WUSER_WIDTH": "1",
         "C_M_AXI_COLUMNINDEX_ADJ2_ADDR_WIDTH": "64",
         "C_M_AXI_COLUMNINDEX_ADJ2_ARUSER_WIDTH": "1",
         "C_M_AXI_COLUMNINDEX_ADJ2_AWUSER_WIDTH": "1",
         "C_M_AXI_COLUMNINDEX_ADJ2_BUSER_WIDTH": "1",
         "C_M_AXI_COLUMNINDEX_ADJ2_CACHE_VALUE": "\"0011\"",
         "C_M_AXI_COLUMNINDEX_ADJ2_DATA_WIDTH": "32",
         "C_M_AXI_COLUMNINDEX_ADJ2_ENABLE_ID_PORTS": "false",
         "C_M_AXI_COLUMNINDEX_ADJ2_ENABLE_USER_PORTS": "false",
         "C_M_AXI_COLUMNINDEX_ADJ2_ID_WIDTH": "1",
         "C_M_AXI_COLUMNINDEX_ADJ2_PROT_VALUE": "\"000\"",
         "C_M_AXI_COLUMNINDEX_ADJ2_RUSER_WIDTH": "1",
         "C_M_AXI_COLUMNINDEX_ADJ2_USER_VALUE": "0x00000000",
         "C_M_AXI_COLUMNINDEX_ADJ2_WUSER_WIDTH": "1",
         "C_M_AXI_COLUMNINDEX_ADJ3_ADDR_WIDTH": "64",
         "C_M_AXI_COLUMNINDEX_ADJ3_ARUSER_WIDTH": "1",
         "C_M_AXI_COLUMNINDEX_ADJ3_AWUSER_WIDTH": "1",
         "C_M_AXI_COLUMNINDEX_ADJ3_BUSER_WIDTH": "1",
         "C_M_AXI_COLUMNINDEX_ADJ3_CACHE_VALUE": "\"0011\"",
         "C_M_AXI_COLUMNINDEX_ADJ3_DATA_WIDTH": "32",
         "C_M_AXI_COLUMNINDEX_ADJ3_ENABLE_ID_PORTS": "false",
         "C_M_AXI_COLUMNINDEX_ADJ3_ENABLE_USER_PORTS": "false",
         "C_M_AXI_COLUMNINDEX_ADJ3_ID_WIDTH": "1",
         "C_M_AXI_COLUMNINDEX_ADJ3_PROT_VALUE": "\"000\"",
         "C_M_AXI_COLUMNINDEX_ADJ3_RUSER_WIDTH": "1",
         "C_M_AXI_COLUMNINDEX_ADJ3_USER_VALUE": "0x00000000",
         "C_M_AXI_COLUMNINDEX_ADJ3_WUSER_WIDTH": "1",
         "C_M_AXI_COLUMNINDEX_ADJ4_ADDR_WIDTH": "64",
         "C_M_AXI_COLUMNINDEX_ADJ4_ARUSER_WIDTH": "1",
         "C_M_AXI_COLUMNINDEX_ADJ4_AWUSER_WIDTH": "1",
         "C_M_AXI_COLUMNINDEX_ADJ4_BUSER_WIDTH": "1",
         "C_M_AXI_COLUMNINDEX_ADJ4_CACHE_VALUE": "\"0011\"",
         "C_M_AXI_COLUMNINDEX_ADJ4_DATA_WIDTH": "32",
         "C_M_AXI_COLUMNINDEX_ADJ4_ENABLE_ID_PORTS": "false",
         "C_M_AXI_COLUMNINDEX_ADJ4_ENABLE_USER_PORTS": "false",
         "C_M_AXI_COLUMNINDEX_ADJ4_ID_WIDTH": "1",
         "C_M_AXI_COLUMNINDEX_ADJ4_PROT_VALUE": "\"000\"",
         "C_M_AXI_COLUMNINDEX_ADJ4_RUSER_WIDTH": "1",
         "C_M_AXI_COLUMNINDEX_ADJ4_USER_VALUE": "0x00000000",
         "C_M_AXI_COLUMNINDEX_ADJ4_WUSER_WIDTH": "1",
         "C_M_AXI_COLUMNINDEX_FEA1_ADDR_WIDTH": "64",
         "C_M_AXI_COLUMNINDEX_FEA1_ARUSER_WIDTH": "1",
         "C_M_AXI_COLUMNINDEX_FEA1_AWUSER_WIDTH": "1",
         "C_M_AXI_COLUMNINDEX_FEA1_BUSER_WIDTH": "1",
         "C_M_AXI_COLUMNINDEX_FEA1_CACHE_VALUE": "\"0011\"",
         "C_M_AXI_COLUMNINDEX_FEA1_DATA_WIDTH": "32",
         "C_M_AXI_COLUMNINDEX_FEA1_ENABLE_ID_PORTS": "false",
         "C_M_AXI_COLUMNINDEX_FEA1_ENABLE_USER_PORTS": "false",
         "C_M_AXI_COLUMNINDEX_FEA1_ID_WIDTH": "1",
         "C_M_AXI_COLUMNINDEX_FEA1_PROT_VALUE": "\"000\"",
         "C_M_AXI_COLUMNINDEX_FEA1_RUSER_WIDTH": "1",
         "C_M_AXI_COLUMNINDEX_FEA1_USER_VALUE": "0x00000000",
         "C_M_AXI_COLUMNINDEX_FEA1_WUSER_WIDTH": "1",
         "C_M_AXI_COLUMNINDEX_FEA2_ADDR_WIDTH": "64",
         "C_M_AXI_COLUMNINDEX_FEA2_ARUSER_WIDTH": "1",
         "C_M_AXI_COLUMNINDEX_FEA2_AWUSER_WIDTH": "1",
         "C_M_AXI_COLUMNINDEX_FEA2_BUSER_WIDTH": "1",
         "C_M_AXI_COLUMNINDEX_FEA2_CACHE_VALUE": "\"0011\"",
         "C_M_AXI_COLUMNINDEX_FEA2_DATA_WIDTH": "32",
         "C_M_AXI_COLUMNINDEX_FEA2_ENABLE_ID_PORTS": "false",
         "C_M_AXI_COLUMNINDEX_FEA2_ENABLE_USER_PORTS": "false",
         "C_M_AXI_COLUMNINDEX_FEA2_ID_WIDTH": "1",
         "C_M_AXI_COLUMNINDEX_FEA2_PROT_VALUE": "\"000\"",
         "C_M_AXI_COLUMNINDEX_FEA2_RUSER_WIDTH": "1",
         "C_M_AXI_COLUMNINDEX_FEA2_USER_VALUE": "0x00000000",
         "C_M_AXI_COLUMNINDEX_FEA2_WUSER_WIDTH": "1",
         "C_M_AXI_COLUMNINDEX_FEA3_ADDR_WIDTH": "64",
         "C_M_AXI_COLUMNINDEX_FEA3_ARUSER_WIDTH": "1",
         "C_M_AXI_COLUMNINDEX_FEA3_AWUSER_WIDTH": "1",
         "C_M_AXI_COLUMNINDEX_FEA3_BUSER_WIDTH": "1",
         "C_M_AXI_COLUMNINDEX_FEA3_CACHE_VALUE": "\"0011\"",
         "C_M_AXI_COLUMNINDEX_FEA3_DATA_WIDTH": "32",
         "C_M_AXI_COLUMNINDEX_FEA3_ENABLE_ID_PORTS": "false",
         "C_M_AXI_COLUMNINDEX_FEA3_ENABLE_USER_PORTS": "false",
         "C_M_AXI_COLUMNINDEX_FEA3_ID_WIDTH": "1",
         "C_M_AXI_COLUMNINDEX_FEA3_PROT_VALUE": "\"000\"",
         "C_M_AXI_COLUMNINDEX_FEA3_RUSER_WIDTH": "1",
         "C_M_AXI_COLUMNINDEX_FEA3_USER_VALUE": "0x00000000",
         "C_M_AXI_COLUMNINDEX_FEA3_WUSER_WIDTH": "1",
         "C_M_AXI_COLUMNINDEX_FEA4_ADDR_WIDTH": "64",
         "C_M_AXI_COLUMNINDEX_FEA4_ARUSER_WIDTH": "1",
         "C_M_AXI_COLUMNINDEX_FEA4_AWUSER_WIDTH": "1",
         "C_M_AXI_COLUMNINDEX_FEA4_BUSER_WIDTH": "1",
         "C_M_AXI_COLUMNINDEX_FEA4_CACHE_VALUE": "\"0011\"",
         "C_M_AXI_COLUMNINDEX_FEA4_DATA_WIDTH": "32",
         "C_M_AXI_COLUMNINDEX_FEA4_ENABLE_ID_PORTS": "false",
         "C_M_AXI_COLUMNINDEX_FEA4_ENABLE_USER_PORTS": "false",
         "C_M_AXI_COLUMNINDEX_FEA4_ID_WIDTH": "1",
         "C_M_AXI_COLUMNINDEX_FEA4_PROT_VALUE": "\"000\"",
         "C_M_AXI_COLUMNINDEX_FEA4_RUSER_WIDTH": "1",
         "C_M_AXI_COLUMNINDEX_FEA4_USER_VALUE": "0x00000000",
         "C_M_AXI_COLUMNINDEX_FEA4_WUSER_WIDTH": "1",
         "C_M_AXI_D1_ADDR_WIDTH": "64",
         "C_M_AXI_D1_ARUSER_WIDTH": "1",
         "C_M_AXI_D1_AWUSER_WIDTH": "1",
         "C_M_AXI_D1_BUSER_WIDTH": "1",
         "C_M_AXI_D1_CACHE_VALUE": "\"0011\"",
         "C_M_AXI_D1_DATA_WIDTH": "32",
         "C_M_AXI_D1_ENABLE_ID_PORTS": "false",
         "C_M_AXI_D1_ENABLE_USER_PORTS": "false",
         "C_M_AXI_D1_ID_WIDTH": "1",
         "C_M_AXI_D1_PROT_VALUE": "\"000\"",
         "C_M_AXI_D1_RUSER_WIDTH": "1",
         "C_M_AXI_D1_USER_VALUE": "0x00000000",
         "C_M_AXI_D1_WUSER_WIDTH": "1",
         "C_M_AXI_D2_ADDR_WIDTH": "64",
         "C_M_AXI_D2_ARUSER_WIDTH": "1",
         "C_M_AXI_D2_AWUSER_WIDTH": "1",
         "C_M_AXI_D2_BUSER_WIDTH": "1",
         "C_M_AXI_D2_CACHE_VALUE": "\"0011\"",
         "C_M_AXI_D2_DATA_WIDTH": "32",
         "C_M_AXI_D2_ENABLE_ID_PORTS": "false",
         "C_M_AXI_D2_ENABLE_USER_PORTS": "false",
         "C_M_AXI_D2_ID_WIDTH": "1",
         "C_M_AXI_D2_PROT_VALUE": "\"000\"",
         "C_M_AXI_D2_RUSER_WIDTH": "1",
         "C_M_AXI_D2_USER_VALUE": "0x00000000",
         "C_M_AXI_D2_WUSER_WIDTH": "1",
         "C_M_AXI_D3_ADDR_WIDTH": "64",
         "C_M_AXI_D3_ARUSER_WIDTH": "1",
         "C_M_AXI_D3_AWUSER_WIDTH": "1",
         "C_M_AXI_D3_BUSER_WIDTH": "1",
         "C_M_AXI_D3_CACHE_VALUE": "\"0011\"",
         "C_M_AXI_D3_DATA_WIDTH": "32",
         "C_M_AXI_D3_ENABLE_ID_PORTS": "false",
         "C_M_AXI_D3_ENABLE_USER_PORTS": "false",
         "C_M_AXI_D3_ID_WIDTH": "1",
         "C_M_AXI_D3_PROT_VALUE": "\"000\"",
         "C_M_AXI_D3_RUSER_WIDTH": "1",
         "C_M_AXI_D3_USER_VALUE": "0x00000000",
         "C_M_AXI_D3_WUSER_WIDTH": "1",
         "C_M_AXI_D4_ADDR_WIDTH": "64",
         "C_M_AXI_D4_ARUSER_WIDTH": "1",
         "C_M_AXI_D4_AWUSER_WIDTH": "1",
         "C_M_AXI_D4_BUSER_WIDTH": "1",
         "C_M_AXI_D4_CACHE_VALUE": "\"0011\"",
         "C_M_AXI_D4_DATA_WIDTH": "32",
         "C_M_AXI_D4_ENABLE_ID_PORTS": "false",
         "C_M_AXI_D4_ENABLE_USER_PORTS": "false",
         "C_M_AXI_D4_ID_WIDTH": "1",
         "C_M_AXI_D4_PROT_VALUE": "\"000\"",
         "C_M_AXI_D4_RUSER_WIDTH": "1",
         "C_M_AXI_D4_USER_VALUE": "0x00000000",
         "C_M_AXI_D4_WUSER_WIDTH": "1",
         "C_M_AXI_PROFILING_ADDR_WIDTH": "64",
         "C_M_AXI_PROFILING_ARUSER_WIDTH": "1",
         "C_M_AXI_PROFILING_AWUSER_WIDTH": "1",
         "C_M_AXI_PROFILING_BUSER_WIDTH": "1",
         "C_M_AXI_PROFILING_CACHE_VALUE": "\"0011\"",
         "C_M_AXI_PROFILING_DATA_WIDTH": "64",
         "C_M_AXI_PROFILING_ENABLE_ID_PORTS": "false",
         "C_M_AXI_PROFILING_ENABLE_USER_PORTS": "false",
         "C_M_AXI_PROFILING_ID_WIDTH": "1",
         "C_M_AXI_PROFILING_PROT_VALUE": "\"000\"",
         "C_M_AXI_PROFILING_RUSER_WIDTH": "1",
         "C_M_AXI_PROFILING_USER_VALUE": "0x00000000",
         "C_M_AXI_PROFILING_WUSER_WIDTH": "1",
         "C_M_AXI_QUANTIZED_MULTIPLIER_ADDR_WIDTH": "64",
         "C_M_AXI_QUANTIZED_MULTIPLIER_ARUSER_WIDTH": "1",
         "C_M_AXI_QUANTIZED_MULTIPLIER_AWUSER_WIDTH": "1",
         "C_M_AXI_QUANTIZED_MULTIPLIER_BUSER_WIDTH": "1",
         "C_M_AXI_QUANTIZED_MULTIPLIER_CACHE_VALUE": "\"0011\"",
         "C_M_AXI_QUANTIZED_MULTIPLIER_DATA_WIDTH": "32",
         "C_M_AXI_QUANTIZED_MULTIPLIER_ENABLE_ID_PORTS": "false",
         "C_M_AXI_QUANTIZED_MULTIPLIER_ENABLE_USER_PORTS": "false",
         "C_M_AXI_QUANTIZED_MULTIPLIER_ID_WIDTH": "1",
         "C_M_AXI_QUANTIZED_MULTIPLIER_PROT_VALUE": "\"000\"",
         "C_M_AXI_QUANTIZED_MULTIPLIER_RUSER_WIDTH": "1",
         "C_M_AXI_QUANTIZED_MULTIPLIER_USER_VALUE": "0x00000000",
         "C_M_AXI_QUANTIZED_MULTIPLIER_WUSER_WIDTH": "1",
         "C_M_AXI_ROWPTR_ADJ1_ADDR_WIDTH": "64",
         "C_M_AXI_ROWPTR_ADJ1_ARUSER_WIDTH": "1",
         "C_M_AXI_ROWPTR_ADJ1_AWUSER_WIDTH": "1",
         "C_M_AXI_ROWPTR_ADJ1_BUSER_WIDTH": "1",
         "C_M_AXI_ROWPTR_ADJ1_CACHE_VALUE": "\"0011\"",
         "C_M_AXI_ROWPTR_ADJ1_DATA_WIDTH": "32",
         "C_M_AXI_ROWPTR_ADJ1_ENABLE_ID_PORTS": "false",
         "C_M_AXI_ROWPTR_ADJ1_ENABLE_USER_PORTS": "false",
         "C_M_AXI_ROWPTR_ADJ1_ID_WIDTH": "1",
         "C_M_AXI_ROWPTR_ADJ1_PROT_VALUE": "\"000\"",
         "C_M_AXI_ROWPTR_ADJ1_RUSER_WIDTH": "1",
         "C_M_AXI_ROWPTR_ADJ1_USER_VALUE": "0x00000000",
         "C_M_AXI_ROWPTR_ADJ1_WUSER_WIDTH": "1",
         "C_M_AXI_ROWPTR_ADJ2_ADDR_WIDTH": "64",
         "C_M_AXI_ROWPTR_ADJ2_ARUSER_WIDTH": "1",
         "C_M_AXI_ROWPTR_ADJ2_AWUSER_WIDTH": "1",
         "C_M_AXI_ROWPTR_ADJ2_BUSER_WIDTH": "1",
         "C_M_AXI_ROWPTR_ADJ2_CACHE_VALUE": "\"0011\"",
         "C_M_AXI_ROWPTR_ADJ2_DATA_WIDTH": "32",
         "C_M_AXI_ROWPTR_ADJ2_ENABLE_ID_PORTS": "false",
         "C_M_AXI_ROWPTR_ADJ2_ENABLE_USER_PORTS": "false",
         "C_M_AXI_ROWPTR_ADJ2_ID_WIDTH": "1",
         "C_M_AXI_ROWPTR_ADJ2_PROT_VALUE": "\"000\"",
         "C_M_AXI_ROWPTR_ADJ2_RUSER_WIDTH": "1",
         "C_M_AXI_ROWPTR_ADJ2_USER_VALUE": "0x00000000",
         "C_M_AXI_ROWPTR_ADJ2_WUSER_WIDTH": "1",
         "C_M_AXI_ROWPTR_ADJ3_ADDR_WIDTH": "64",
         "C_M_AXI_ROWPTR_ADJ3_ARUSER_WIDTH": "1",
         "C_M_AXI_ROWPTR_ADJ3_AWUSER_WIDTH": "1",
         "C_M_AXI_ROWPTR_ADJ3_BUSER_WIDTH": "1",
         "C_M_AXI_ROWPTR_ADJ3_CACHE_VALUE": "\"0011\"",
         "C_M_AXI_ROWPTR_ADJ3_DATA_WIDTH": "32",
         "C_M_AXI_ROWPTR_ADJ3_ENABLE_ID_PORTS": "false",
         "C_M_AXI_ROWPTR_ADJ3_ENABLE_USER_PORTS": "false",
         "C_M_AXI_ROWPTR_ADJ3_ID_WIDTH": "1",
         "C_M_AXI_ROWPTR_ADJ3_PROT_VALUE": "\"000\"",
         "C_M_AXI_ROWPTR_ADJ3_RUSER_WIDTH": "1",
         "C_M_AXI_ROWPTR_ADJ3_USER_VALUE": "0x00000000",
         "C_M_AXI_ROWPTR_ADJ3_WUSER_WIDTH": "1",
         "C_M_AXI_ROWPTR_ADJ4_ADDR_WIDTH": "64",
         "C_M_AXI_ROWPTR_ADJ4_ARUSER_WIDTH": "1",
         "C_M_AXI_ROWPTR_ADJ4_AWUSER_WIDTH": "1",
         "C_M_AXI_ROWPTR_ADJ4_BUSER_WIDTH": "1",
         "C_M_AXI_ROWPTR_ADJ4_CACHE_VALUE": "\"0011\"",
         "C_M_AXI_ROWPTR_ADJ4_DATA_WIDTH": "32",
         "C_M_AXI_ROWPTR_ADJ4_ENABLE_ID_PORTS": "false",
         "C_M_AXI_ROWPTR_ADJ4_ENABLE_USER_PORTS": "false",
         "C_M_AXI_ROWPTR_ADJ4_ID_WIDTH": "1",
         "C_M_AXI_ROWPTR_ADJ4_PROT_VALUE": "\"000\"",
         "C_M_AXI_ROWPTR_ADJ4_RUSER_WIDTH": "1",
         "C_M_AXI_ROWPTR_ADJ4_USER_VALUE": "0x00000000",
         "C_M_AXI_ROWPTR_ADJ4_WUSER_WIDTH": "1",
         "C_M_AXI_ROWPTR_FEA1_ADDR_WIDTH": "64",
         "C_M_AXI_ROWPTR_FEA1_ARUSER_WIDTH": "1",
         "C_M_AXI_ROWPTR_FEA1_AWUSER_WIDTH": "1",
         "C_M_AXI_ROWPTR_FEA1_BUSER_WIDTH": "1",
         "C_M_AXI_ROWPTR_FEA1_CACHE_VALUE": "\"0011\"",
         "C_M_AXI_ROWPTR_FEA1_DATA_WIDTH": "32",
         "C_M_AXI_ROWPTR_FEA1_ENABLE_ID_PORTS": "false",
         "C_M_AXI_ROWPTR_FEA1_ENABLE_USER_PORTS": "false",
         "C_M_AXI_ROWPTR_FEA1_ID_WIDTH": "1",
         "C_M_AXI_ROWPTR_FEA1_PROT_VALUE": "\"000\"",
         "C_M_AXI_ROWPTR_FEA1_RUSER_WIDTH": "1",
         "C_M_AXI_ROWPTR_FEA1_USER_VALUE": "0x00000000",
         "C_M_AXI_ROWPTR_FEA1_WUSER_WIDTH": "1",
         "C_M_AXI_ROWPTR_FEA2_ADDR_WIDTH": "64",
         "C_M_AXI_ROWPTR_FEA2_ARUSER_WIDTH": "1",
         "C_M_AXI_ROWPTR_FEA2_AWUSER_WIDTH": "1",
         "C_M_AXI_ROWPTR_FEA2_BUSER_WIDTH": "1",
         "C_M_AXI_ROWPTR_FEA2_CACHE_VALUE": "\"0011\"",
         "C_M_AXI_ROWPTR_FEA2_DATA_WIDTH": "32",
         "C_M_AXI_ROWPTR_FEA2_ENABLE_ID_PORTS": "false",
         "C_M_AXI_ROWPTR_FEA2_ENABLE_USER_PORTS": "false",
         "C_M_AXI_ROWPTR_FEA2_ID_WIDTH": "1",
         "C_M_AXI_ROWPTR_FEA2_PROT_VALUE": "\"000\"",
         "C_M_AXI_ROWPTR_FEA2_RUSER_WIDTH": "1",
         "C_M_AXI_ROWPTR_FEA2_USER_VALUE": "0x00000000",
         "C_M_AXI_ROWPTR_FEA2_WUSER_WIDTH": "1",
         "C_M_AXI_ROWPTR_FEA3_ADDR_WIDTH": "64",
         "C_M_AXI_ROWPTR_FEA3_ARUSER_WIDTH": "1",
         "C_M_AXI_ROWPTR_FEA3_AWUSER_WIDTH": "1",
         "C_M_AXI_ROWPTR_FEA3_BUSER_WIDTH": "1",
         "C_M_AXI_ROWPTR_FEA3_CACHE_VALUE": "\"0011\"",
         "C_M_AXI_ROWPTR_FEA3_DATA_WIDTH": "32",
         "C_M_AXI_ROWPTR_FEA3_ENABLE_ID_PORTS": "false",
         "C_M_AXI_ROWPTR_FEA3_ENABLE_USER_PORTS": "false",
         "C_M_AXI_ROWPTR_FEA3_ID_WIDTH": "1",
         "C_M_AXI_ROWPTR_FEA3_PROT_VALUE": "\"000\"",
         "C_M_AXI_ROWPTR_FEA3_RUSER_WIDTH": "1",
         "C_M_AXI_ROWPTR_FEA3_USER_VALUE": "0x00000000",
         "C_M_AXI_ROWPTR_FEA3_WUSER_WIDTH": "1",
         "C_M_AXI_ROWPTR_FEA4_ADDR_WIDTH": "64",
         "C_M_AXI_ROWPTR_FEA4_ARUSER_WIDTH": "1",
         "C_M_AXI_ROWPTR_FEA4_AWUSER_WIDTH": "1",
         "C_M_AXI_ROWPTR_FEA4_BUSER_WIDTH": "1",
         "C_M_AXI_ROWPTR_FEA4_CACHE_VALUE": "\"0011\"",
         "C_M_AXI_ROWPTR_FEA4_DATA_WIDTH": "32",
         "C_M_AXI_ROWPTR_FEA4_ENABLE_ID_PORTS": "false",
         "C_M_AXI_ROWPTR_FEA4_ENABLE_USER_PORTS": "false",
         "C_M_AXI_ROWPTR_FEA4_ID_WIDTH": "1",
         "C_M_AXI_ROWPTR_FEA4_PROT_VALUE": "\"000\"",
         "C_M_AXI_ROWPTR_FEA4_RUSER_WIDTH": "1",
         "C_M_AXI_ROWPTR_FEA4_USER_VALUE": "0x00000000",
         "C_M_AXI_ROWPTR_FEA4_WUSER_WIDTH": "1",
         "C_M_AXI_SHIFT_ADDR_WIDTH": "64",
         "C_M_AXI_SHIFT_ARUSER_WIDTH": "1",
         "C_M_AXI_SHIFT_AWUSER_WIDTH": "1",
         "C_M_AXI_SHIFT_BUSER_WIDTH": "1",
         "C_M_AXI_SHIFT_CACHE_VALUE": "\"0011\"",
         "C_M_AXI_SHIFT_DATA_WIDTH": "32",
         "C_M_AXI_SHIFT_ENABLE_ID_PORTS": "false",
         "C_M_AXI_SHIFT_ENABLE_USER_PORTS": "false",
         "C_M_AXI_SHIFT_ID_WIDTH": "1",
         "C_M_AXI_SHIFT_PROT_VALUE": "\"000\"",
         "C_M_AXI_SHIFT_RUSER_WIDTH": "1",
         "C_M_AXI_SHIFT_USER_VALUE": "0x00000000",
         "C_M_AXI_SHIFT_WUSER_WIDTH": "1",
         "C_M_AXI_VALUES_ADJ1_ADDR_WIDTH": "64",
         "C_M_AXI_VALUES_ADJ1_ARUSER_WIDTH": "1",
         "C_M_AXI_VALUES_ADJ1_AWUSER_WIDTH": "1",
         "C_M_AXI_VALUES_ADJ1_BUSER_WIDTH": "1",
         "C_M_AXI_VALUES_ADJ1_CACHE_VALUE": "\"0011\"",
         "C_M_AXI_VALUES_ADJ1_DATA_WIDTH": "32",
         "C_M_AXI_VALUES_ADJ1_ENABLE_ID_PORTS": "false",
         "C_M_AXI_VALUES_ADJ1_ENABLE_USER_PORTS": "false",
         "C_M_AXI_VALUES_ADJ1_ID_WIDTH": "1",
         "C_M_AXI_VALUES_ADJ1_PROT_VALUE": "\"000\"",
         "C_M_AXI_VALUES_ADJ1_RUSER_WIDTH": "1",
         "C_M_AXI_VALUES_ADJ1_USER_VALUE": "0x00000000",
         "C_M_AXI_VALUES_ADJ1_WUSER_WIDTH": "1",
         "C_M_AXI_VALUES_ADJ2_ADDR_WIDTH": "64",
         "C_M_AXI_VALUES_ADJ2_ARUSER_WIDTH": "1",
         "C_M_AXI_VALUES_ADJ2_AWUSER_WIDTH": "1",
         "C_M_AXI_VALUES_ADJ2_BUSER_WIDTH": "1",
         "C_M_AXI_VALUES_ADJ2_CACHE_VALUE": "\"0011\"",
         "C_M_AXI_VALUES_ADJ2_DATA_WIDTH": "32",
         "C_M_AXI_VALUES_ADJ2_ENABLE_ID_PORTS": "false",
         "C_M_AXI_VALUES_ADJ2_ENABLE_USER_PORTS": "false",
         "C_M_AXI_VALUES_ADJ2_ID_WIDTH": "1",
         "C_M_AXI_VALUES_ADJ2_PROT_VALUE": "\"000\"",
         "C_M_AXI_VALUES_ADJ2_RUSER_WIDTH": "1",
         "C_M_AXI_VALUES_ADJ2_USER_VALUE": "0x00000000",
         "C_M_AXI_VALUES_ADJ2_WUSER_WIDTH": "1",
         "C_M_AXI_VALUES_ADJ3_ADDR_WIDTH": "64",
         "C_M_AXI_VALUES_ADJ3_ARUSER_WIDTH": "1",
         "C_M_AXI_VALUES_ADJ3_AWUSER_WIDTH": "1",
         "C_M_AXI_VALUES_ADJ3_BUSER_WIDTH": "1",
         "C_M_AXI_VALUES_ADJ3_CACHE_VALUE": "\"0011\"",
         "C_M_AXI_VALUES_ADJ3_DATA_WIDTH": "32",
         "C_M_AXI_VALUES_ADJ3_ENABLE_ID_PORTS": "false",
         "C_M_AXI_VALUES_ADJ3_ENABLE_USER_PORTS": "false",
         "C_M_AXI_VALUES_ADJ3_ID_WIDTH": "1",
         "C_M_AXI_VALUES_ADJ3_PROT_VALUE": "\"000\"",
         "C_M_AXI_VALUES_ADJ3_RUSER_WIDTH": "1",
         "C_M_AXI_VALUES_ADJ3_USER_VALUE": "0x00000000",
         "C_M_AXI_VALUES_ADJ3_WUSER_WIDTH": "1",
         "C_M_AXI_VALUES_ADJ4_ADDR_WIDTH": "64",
         "C_M_AXI_VALUES_ADJ4_ARUSER_WIDTH": "1",
         "C_M_AXI_VALUES_ADJ4_AWUSER_WIDTH": "1",
         "C_M_AXI_VALUES_ADJ4_BUSER_WIDTH": "1",
         "C_M_AXI_VALUES_ADJ4_CACHE_VALUE": "\"0011\"",
         "C_M_AXI_VALUES_ADJ4_DATA_WIDTH": "32",
         "C_M_AXI_VALUES_ADJ4_ENABLE_ID_PORTS": "false",
         "C_M_AXI_VALUES_ADJ4_ENABLE_USER_PORTS": "false",
         "C_M_AXI_VALUES_ADJ4_ID_WIDTH": "1",
         "C_M_AXI_VALUES_ADJ4_PROT_VALUE": "\"000\"",
         "C_M_AXI_VALUES_ADJ4_RUSER_WIDTH": "1",
         "C_M_AXI_VALUES_ADJ4_USER_VALUE": "0x00000000",
         "C_M_AXI_VALUES_ADJ4_WUSER_WIDTH": "1",
         "C_M_AXI_VALUES_FEA1_ADDR_WIDTH": "64",
         "C_M_AXI_VALUES_FEA1_ARUSER_WIDTH": "1",
         "C_M_AXI_VALUES_FEA1_AWUSER_WIDTH": "1",
         "C_M_AXI_VALUES_FEA1_BUSER_WIDTH": "1",
         "C_M_AXI_VALUES_FEA1_CACHE_VALUE": "\"0011\"",
         "C_M_AXI_VALUES_FEA1_DATA_WIDTH": "32",
         "C_M_AXI_VALUES_FEA1_ENABLE_ID_PORTS": "false",
         "C_M_AXI_VALUES_FEA1_ENABLE_USER_PORTS": "false",
         "C_M_AXI_VALUES_FEA1_ID_WIDTH": "1",
         "C_M_AXI_VALUES_FEA1_PROT_VALUE": "\"000\"",
         "C_M_AXI_VALUES_FEA1_RUSER_WIDTH": "1",
         "C_M_AXI_VALUES_FEA1_USER_VALUE": "0x00000000",
         "C_M_AXI_VALUES_FEA1_WUSER_WIDTH": "1",
         "C_M_AXI_VALUES_FEA2_ADDR_WIDTH": "64",
         "C_M_AXI_VALUES_FEA2_ARUSER_WIDTH": "1",
         "C_M_AXI_VALUES_FEA2_AWUSER_WIDTH": "1",
         "C_M_AXI_VALUES_FEA2_BUSER_WIDTH": "1",
         "C_M_AXI_VALUES_FEA2_CACHE_VALUE": "\"0011\"",
         "C_M_AXI_VALUES_FEA2_DATA_WIDTH": "32",
         "C_M_AXI_VALUES_FEA2_ENABLE_ID_PORTS": "false",
         "C_M_AXI_VALUES_FEA2_ENABLE_USER_PORTS": "false",
         "C_M_AXI_VALUES_FEA2_ID_WIDTH": "1",
         "C_M_AXI_VALUES_FEA2_PROT_VALUE": "\"000\"",
         "C_M_AXI_VALUES_FEA2_RUSER_WIDTH": "1",
         "C_M_AXI_VALUES_FEA2_USER_VALUE": "0x00000000",
         "C_M_AXI_VALUES_FEA2_WUSER_WIDTH": "1",
         "C_M_AXI_VALUES_FEA3_ADDR_WIDTH": "64",
         "C_M_AXI_VALUES_FEA3_ARUSER_WIDTH": "1",
         "C_M_AXI_VALUES_FEA3_AWUSER_WIDTH": "1",
         "C_M_AXI_VALUES_FEA3_BUSER_WIDTH": "1",
         "C_M_AXI_VALUES_FEA3_CACHE_VALUE": "\"0011\"",
         "C_M_AXI_VALUES_FEA3_DATA_WIDTH": "32",
         "C_M_AXI_VALUES_FEA3_ENABLE_ID_PORTS": "false",
         "C_M_AXI_VALUES_FEA3_ENABLE_USER_PORTS": "false",
         "C_M_AXI_VALUES_FEA3_ID_WIDTH": "1",
         "C_M_AXI_VALUES_FEA3_PROT_VALUE": "\"000\"",
         "C_M_AXI_VALUES_FEA3_RUSER_WIDTH": "1",
         "C_M_AXI_VALUES_FEA3_USER_VALUE": "0x00000000",
         "C_M_AXI_VALUES_FEA3_WUSER_WIDTH": "1",
         "C_M_AXI_VALUES_FEA4_ADDR_WIDTH": "64",
         "C_M_AXI_VALUES_FEA4_ARUSER_WIDTH": "1",
         "C_M_AXI_VALUES_FEA4_AWUSER_WIDTH": "1",
         "C_M_AXI_VALUES_FEA4_BUSER_WIDTH": "1",
         "C_M_AXI_VALUES_FEA4_CACHE_VALUE": "\"0011\"",
         "C_M_AXI_VALUES_FEA4_DATA_WIDTH": "32",
         "C_M_AXI_VALUES_FEA4_ENABLE_ID_PORTS": "false",
         "C_M_AXI_VALUES_FEA4_ENABLE_USER_PORTS": "false",
         "C_M_AXI_VALUES_FEA4_ID_WIDTH": "1",
         "C_M_AXI_VALUES_FEA4_PROT_VALUE": "\"000\"",
         "C_M_AXI_VALUES_FEA4_RUSER_WIDTH": "1",
         "C_M_AXI_VALUES_FEA4_USER_VALUE": "0x00000000",
         "C_M_AXI_VALUES_FEA4_WUSER_WIDTH": "1",
         "C_S_AXI_CONTROL_ADDR_WIDTH": "9",
         "C_S_AXI_CONTROL_BASEADDR": "0xB0000000",
         "C_S_AXI_CONTROL_DATA_WIDTH": "32",
         "C_S_AXI_CONTROL_HIGHADDR": "0xB000FFFF",
         "Component_Name": "design_1_mmult_top_0_0",
         "EDK_IPTYPE": "PERIPHERAL",
         "II": "x",
         "clk_period": "5",
         "combinational": "0",
         "latency": "undef",
         "machine": "64"
        },
        "phys_addr": 2952790016,
        "registers": {
         "B_offset_1": {
          "access": "write-only",
          "address_offset": 152,
          "description": "Data signal of B_offset",
          "fields": {
           "B_offset": {
            "access": "write-only",
            "bit_offset": 0,
            "bit_width": 32,
            "description": "Data signal of B_offset"
           }
          },
          "size": 32
         },
         "B_offset_2": {
          "access": "write-only",
          "address_offset": 156,
          "description": "Data signal of B_offset",
          "fields": {
           "B_offset": {
            "access": "write-only",
            "bit_offset": 0,
            "bit_width": 32,
            "description": "Data signal of B_offset"
           }
          },
          "size": 32
         },
         "CTRL": {
          "access": "read-write",
          "address_offset": 0,
          "description": "Control signals",
          "fields": {
           "AP_DONE": {
            "access": "read-only",
            "bit_offset": 1,
            "bit_width": 1,
            "description": "Control signals"
           },
           "AP_IDLE": {
            "access": "read-only",
            "bit_offset": 2,
            "bit_width": 1,
            "description": "Control signals"
           },
           "AP_READY": {
            "access": "read-only",
            "bit_offset": 3,
            "bit_width": 1,
            "description": "Control signals"
           },
           "AP_START": {
            "access": "read-write",
            "bit_offset": 0,
            "bit_width": 1,
            "description": "Control signals"
           },
           "AUTO_RESTART": {
            "access": "read-write",
            "bit_offset": 7,
            "bit_width": 1,
            "description": "Control signals"
           },
           "INTERRUPT": {
            "access": "read-only",
            "bit_offset": 9,
            "bit_width": 1,
            "description": "Control signals"
           },
           "RESERVED_1": {
            "access": "read-only",
            "bit_offset": 4,
            "bit_width": 3,
            "description": "Control signals"
           },
           "RESERVED_2": {
            "access": "read-only",
            "bit_offset": 8,
            "bit_width": 1,
            "description": "Control signals"
           },
           "RESERVED_3": {
            "access": "read-only",
            "bit_offset": 10,
            "bit_width": 22,
            "description": "Control signals"
           }
          },
          "size": 32
         },
         "D1_offset_1": {
          "access": "write-only",
          "address_offset": 164,
          "description": "Data signal of D1_offset",
          "fields": {
           "D1_offset": {
            "access": "write-only",
            "bit_offset": 0,
            "bit_width": 32,
            "description": "Data signal of D1_offset"
           }
          },
          "size": 32
         },
         "D1_offset_2": {
          "access": "write-only",
          "address_offset": 168,
          "description": "Data signal of D1_offset",
          "fields": {
           "D1_offset": {
            "access": "write-only",
            "bit_offset": 0,
            "bit_width": 32,
            "description": "Data signal of D1_offset"
           }
          },
          "size": 32
         },
         "D2_offset_1": {
          "access": "write-only",
          "address_offset": 176,
          "description": "Data signal of D2_offset",
          "fields": {
           "D2_offset": {
            "access": "write-only",
            "bit_offset": 0,
            "bit_width": 32,
            "description": "Data signal of D2_offset"
           }
          },
          "size": 32
         },
         "D2_offset_2": {
          "access": "write-only",
          "address_offset": 180,
          "description": "Data signal of D2_offset",
          "fields": {
           "D2_offset": {
            "access": "write-only",
            "bit_offset": 0,
            "bit_width": 32,
            "description": "Data signal of D2_offset"
           }
          },
          "size": 32
         },
         "D3_offset_1": {
          "access": "write-only",
          "address_offset": 188,
          "description": "Data signal of D3_offset",
          "fields": {
           "D3_offset": {
            "access": "write-only",
            "bit_offset": 0,
            "bit_width": 32,
            "description": "Data signal of D3_offset"
           }
          },
          "size": 32
         },
         "D3_offset_2": {
          "access": "write-only",
          "address_offset": 192,
          "description": "Data signal of D3_offset",
          "fields": {
           "D3_offset": {
            "access": "write-only",
            "bit_offset": 0,
            "bit_width": 32,
            "description": "Data signal of D3_offset"
           }
          },
          "size": 32
         },
         "D4_offset_1": {
          "access": "write-only",
          "address_offset": 200,
          "description": "Data signal of D4_offset",
          "fields": {
           "D4_offset": {
            "access": "write-only",
            "bit_offset": 0,
            "bit_width": 32,
            "description": "Data signal of D4_offset"
           }
          },
          "size": 32
         },
         "D4_offset_2": {
          "access": "write-only",
          "address_offset": 204,
          "description": "Data signal of D4_offset",
          "fields": {
           "D4_offset": {
            "access": "write-only",
            "bit_offset": 0,
            "bit_width": 32,
            "description": "Data signal of D4_offset"
           }
          },
          "size": 32
         },
         "GIER": {
          "access": "read-write",
          "address_offset": 4,
          "description": "Global Interrupt Enable Register",
          "fields": {
           "Enable": {
            "access": "read-write",
            "bit_offset": 0,
            "bit_width": 1,
            "description": "Global Interrupt Enable Register"
           },
           "RESERVED": {
            "access": "read-only",
            "bit_offset": 1,
            "bit_width": 31,
            "description": "Global Interrupt Enable Register"
           }
          },
          "size": 32
         },
         "IP_IER": {
          "access": "read-write",
          "address_offset": 8,
          "description": "IP Interrupt Enable Register",
          "fields": {
           "CHAN0_INT_EN": {
            "access": "read-write",
            "bit_offset": 0,
            "bit_width": 1,
            "description": "IP Interrupt Enable Register"
           },
           "CHAN1_INT_EN": {
            "access": "read-write",
            "bit_offset": 1,
            "bit_width": 1,
            "description": "IP Interrupt Enable Register"
           },
           "RESERVED_0": {
            "access": "read-only",
            "bit_offset": 2,
            "bit_width": 30,
            "description": "IP Interrupt Enable Register"
           }
          },
          "size": 32
         },
         "IP_ISR": {
          "access": "read-write",
          "address_offset": 12,
          "description": "IP Interrupt Status Register",
          "fields": {
           "CHAN0_INT_ST": {
            "access": "read-only",
            "bit_offset": 0,
            "bit_width": 1,
            "description": "IP Interrupt Status Register"
           },
           "CHAN1_INT_ST": {
            "access": "read-only",
            "bit_offset": 1,
            "bit_width": 1,
            "description": "IP Interrupt Status Register"
           },
           "RESERVED_0": {
            "access": "read-only",
            "bit_offset": 2,
            "bit_width": 30,
            "description": "IP Interrupt Status Register"
           }
          },
          "size": 32
         },
         "M_adj": {
          "access": "write-only",
          "address_offset": 128,
          "description": "Data signal of M_adj",
          "fields": {
           "M_adj": {
            "access": "write-only",
            "bit_offset": 0,
            "bit_width": 32,
            "description": "Data signal of M_adj"
           }
          },
          "size": 32
         },
         "M_fea": {
          "access": "write-only",
          "address_offset": 136,
          "description": "Data signal of M_fea",
          "fields": {
           "M_fea": {
            "access": "write-only",
            "bit_offset": 0,
            "bit_width": 32,
            "description": "Data signal of M_fea"
           }
          },
          "size": 32
         },
         "N_adj": {
          "access": "write-only",
          "address_offset": 120,
          "description": "Data signal of N_adj",
          "fields": {
           "N_adj": {
            "access": "write-only",
            "bit_offset": 0,
            "bit_width": 32,
            "description": "Data signal of N_adj"
           }
          },
          "size": 32
         },
         "P_w": {
          "access": "write-only",
          "address_offset": 144,
          "description": "Data signal of P_w",
          "fields": {
           "P_w": {
            "access": "write-only",
            "bit_offset": 0,
            "bit_width": 32,
            "description": "Data signal of P_w"
           }
          },
          "size": 32
         },
         "array_c_adjust": {
          "access": "write-only",
          "address_offset": 212,
          "description": "Data signal of array_c_adjust",
          "fields": {
           "array_c_adjust": {
            "access": "write-only",
            "bit_offset": 0,
            "bit_width": 32,
            "description": "Data signal of array_c_adjust"
           }
          },
          "size": 32
         },
         "bias_count": {
          "access": "write-only",
          "address_offset": 60,
          "description": "Data signal of bias_count",
          "fields": {
           "bias_count": {
            "access": "write-only",
            "bit_offset": 0,
            "bit_width": 32,
            "description": "Data signal of bias_count"
           }
          },
          "size": 32
         },
         "bias_offset_1": {
          "access": "write-only",
          "address_offset": 48,
          "description": "Data signal of bias_offset",
          "fields": {
           "bias_offset": {
            "access": "write-only",
            "bit_offset": 0,
            "bit_width": 32,
            "description": "Data signal of bias_offset"
           }
          },
          "size": 32
         },
         "bias_offset_2": {
          "access": "write-only",
          "address_offset": 52,
          "description": "Data signal of bias_offset",
          "fields": {
           "bias_offset": {
            "access": "write-only",
            "bit_offset": 0,
            "bit_width": 32,
            "description": "Data signal of bias_offset"
           }
          },
          "size": 32
         },
         "clamp_max": {
          "access": "write-only",
          "address_offset": 104,
          "description": "Data signal of clamp_max",
          "fields": {
           "RESERVED": {
            "access": "read-only",
            "bit_offset": 8,
            "bit_width": 24,
            "description": "Data signal of clamp_max"
           },
           "clamp_max": {
            "access": "write-only",
            "bit_offset": 0,
            "bit_width": 8,
            "description": "Data signal of clamp_max"
           }
          },
          "size": 32
         },
         "clamp_min": {
          "access": "write-only",
          "address_offset": 112,
          "description": "Data signal of clamp_min",
          "fields": {
           "RESERVED": {
            "access": "read-only",
            "bit_offset": 8,
            "bit_width": 24,
            "description": "Data signal of clamp_min"
           },
           "clamp_min": {
            "access": "write-only",
            "bit_offset": 0,
            "bit_width": 8,
            "description": "Data signal of clamp_min"
           }
          },
          "size": 32
         },
         "columnIndex_adj1_offset_1": {
          "access": "write-only",
          "address_offset": 412,
          "description": "Data signal of columnIndex_adj1_offset",
          "fields": {
           "columnIndex_adj1_offset": {
            "access": "write-only",
            "bit_offset": 0,
            "bit_width": 32,
            "description": "Data signal of columnIndex_adj1_offset"
           }
          },
          "size": 32
         },
         "columnIndex_adj1_offset_2": {
          "access": "write-only",
          "address_offset": 416,
          "description": "Data signal of columnIndex_adj1_offset",
          "fields": {
           "columnIndex_adj1_offset": {
            "access": "write-only",
            "bit_offset": 0,
            "bit_width": 32,
            "description": "Data signal of columnIndex_adj1_offset"
           }
          },
          "size": 32
         },
         "columnIndex_adj2_offset_1": {
          "access": "write-only",
          "address_offset": 424,
          "description": "Data signal of columnIndex_adj2_offset",
          "fields": {
           "columnIndex_adj2_offset": {
            "access": "write-only",
            "bit_offset": 0,
            "bit_width": 32,
            "description": "Data signal of columnIndex_adj2_offset"
           }
          },
          "size": 32
         },
         "columnIndex_adj2_offset_2": {
          "access": "write-only",
          "address_offset": 428,
          "description": "Data signal of columnIndex_adj2_offset",
          "fields": {
           "columnIndex_adj2_offset": {
            "access": "write-only",
            "bit_offset": 0,
            "bit_width": 32,
            "description": "Data signal of columnIndex_adj2_offset"
           }
          },
          "size": 32
         },
         "columnIndex_adj3_offset_1": {
          "access": "write-only",
          "address_offset": 436,
          "description": "Data signal of columnIndex_adj3_offset",
          "fields": {
           "columnIndex_adj3_offset": {
            "access": "write-only",
            "bit_offset": 0,
            "bit_width": 32,
            "description": "Data signal of columnIndex_adj3_offset"
           }
          },
          "size": 32
         },
         "columnIndex_adj3_offset_2": {
          "access": "write-only",
          "address_offset": 440,
          "description": "Data signal of columnIndex_adj3_offset",
          "fields": {
           "columnIndex_adj3_offset": {
            "access": "write-only",
            "bit_offset": 0,
            "bit_width": 32,
            "description": "Data signal of columnIndex_adj3_offset"
           }
          },
          "size": 32
         },
         "columnIndex_adj4_offset_1": {
          "access": "write-only",
          "address_offset": 448,
          "description": "Data signal of columnIndex_adj4_offset",
          "fields": {
           "columnIndex_adj4_offset": {
            "access": "write-only",
            "bit_offset": 0,
            "bit_width": 32,
            "description": "Data signal of columnIndex_adj4_offset"
           }
          },
          "size": 32
         },
         "columnIndex_adj4_offset_2": {
          "access": "write-only",
          "address_offset": 452,
          "description": "Data signal of columnIndex_adj4_offset",
          "fields": {
           "columnIndex_adj4_offset": {
            "access": "write-only",
            "bit_offset": 0,
            "bit_width": 32,
            "description": "Data signal of columnIndex_adj4_offset"
           }
          },
          "size": 32
         },
         "columnIndex_fea1_offset_1": {
          "access": "write-only",
          "address_offset": 268,
          "description": "Data signal of columnIndex_fea1_offset",
          "fields": {
           "columnIndex_fea1_offset": {
            "access": "write-only",
            "bit_offset": 0,
            "bit_width": 32,
            "description": "Data signal of columnIndex_fea1_offset"
           }
          },
          "size": 32
         },
         "columnIndex_fea1_offset_2": {
          "access": "write-only",
          "address_offset": 272,
          "description": "Data signal of columnIndex_fea1_offset",
          "fields": {
           "columnIndex_fea1_offset": {
            "access": "write-only",
            "bit_offset": 0,
            "bit_width": 32,
            "description": "Data signal of columnIndex_fea1_offset"
           }
          },
          "size": 32
         },
         "columnIndex_fea2_offset_1": {
          "access": "write-only",
          "address_offset": 280,
          "description": "Data signal of columnIndex_fea2_offset",
          "fields": {
           "columnIndex_fea2_offset": {
            "access": "write-only",
            "bit_offset": 0,
            "bit_width": 32,
            "description": "Data signal of columnIndex_fea2_offset"
           }
          },
          "size": 32
         },
         "columnIndex_fea2_offset_2": {
          "access": "write-only",
          "address_offset": 284,
          "description": "Data signal of columnIndex_fea2_offset",
          "fields": {
           "columnIndex_fea2_offset": {
            "access": "write-only",
            "bit_offset": 0,
            "bit_width": 32,
            "description": "Data signal of columnIndex_fea2_offset"
           }
          },
          "size": 32
         },
         "columnIndex_fea3_offset_1": {
          "access": "write-only",
          "address_offset": 292,
          "description": "Data signal of columnIndex_fea3_offset",
          "fields": {
           "columnIndex_fea3_offset": {
            "access": "write-only",
            "bit_offset": 0,
            "bit_width": 32,
            "description": "Data signal of columnIndex_fea3_offset"
           }
          },
          "size": 32
         },
         "columnIndex_fea3_offset_2": {
          "access": "write-only",
          "address_offset": 296,
          "description": "Data signal of columnIndex_fea3_offset",
          "fields": {
           "columnIndex_fea3_offset": {
            "access": "write-only",
            "bit_offset": 0,
            "bit_width": 32,
            "description": "Data signal of columnIndex_fea3_offset"
           }
          },
          "size": 32
         },
         "columnIndex_fea4_offset_1": {
          "access": "write-only",
          "address_offset": 304,
          "description": "Data signal of columnIndex_fea4_offset",
          "fields": {
           "columnIndex_fea4_offset": {
            "access": "write-only",
            "bit_offset": 0,
            "bit_width": 32,
            "description": "Data signal of columnIndex_fea4_offset"
           }
          },
          "size": 32
         },
         "columnIndex_fea4_offset_2": {
          "access": "write-only",
          "address_offset": 308,
          "description": "Data signal of columnIndex_fea4_offset",
          "fields": {
           "columnIndex_fea4_offset": {
            "access": "write-only",
            "bit_offset": 0,
            "bit_width": 32,
            "description": "Data signal of columnIndex_fea4_offset"
           }
          },
          "size": 32
         },
         "gemm_mode": {
          "access": "write-only",
          "address_offset": 16,
          "description": "Data signal of gemm_mode",
          "fields": {
           "RESERVED": {
            "access": "read-only",
            "bit_offset": 1,
            "bit_width": 31,
            "description": "Data signal of gemm_mode"
           },
           "gemm_mode": {
            "access": "write-only",
            "bit_offset": 0,
            "bit_width": 1,
            "description": "Data signal of gemm_mode"
           }
          },
          "size": 32
         },
         "profiling_offset_1": {
          "access": "write-only",
          "address_offset": 68,
          "description": "Data signal of profiling_offset",
          "fields": {
           "profiling_offset": {
            "access": "write-only",
            "bit_offset": 0,
            "bit_width": 32,
            "description": "Data signal of profiling_offset"
           }
          },
          "size": 32
         },
         "profiling_offset_2": {
          "access": "write-only",
          "address_offset": 72,
          "description": "Data signal of profiling_offset",
          "fields": {
           "profiling_offset": {
            "access": "write-only",
            "bit_offset": 0,
            "bit_width": 32,
            "description": "Data signal of profiling_offset"
           }
          },
          "size": 32
         },
         "quantized_multiplier_offset_1": {
          "access": "write-only",
          "address_offset": 24,
          "description": "Data signal of quantized_multiplier_offset",
          "fields": {
           "quantized_multiplier_offset": {
            "access": "write-only",
            "bit_offset": 0,
            "bit_width": 32,
            "description": "Data signal of quantized_multiplier_offset"
           }
          },
          "size": 32
         },
         "quantized_multiplier_offset_2": {
          "access": "write-only",
          "address_offset": 28,
          "description": "Data signal of quantized_multiplier_offset",
          "fields": {
           "quantized_multiplier_offset": {
            "access": "write-only",
            "bit_offset": 0,
            "bit_width": 32,
            "description": "Data signal of quantized_multiplier_offset"
           }
          },
          "size": 32
         },
         "rowPtr_adj1_offset_1": {
          "access": "write-only",
          "address_offset": 364,
          "description": "Data signal of rowPtr_adj1_offset",
          "fields": {
           "rowPtr_adj1_offset": {
            "access": "write-only",
            "bit_offset": 0,
            "bit_width": 32,
            "description": "Data signal of rowPtr_adj1_offset"
           }
          },
          "size": 32
         },
         "rowPtr_adj1_offset_2": {
          "access": "write-only",
          "address_offset": 368,
          "description": "Data signal of rowPtr_adj1_offset",
          "fields": {
           "rowPtr_adj1_offset": {
            "access": "write-only",
            "bit_offset": 0,
            "bit_width": 32,
            "description": "Data signal of rowPtr_adj1_offset"
           }
          },
          "size": 32
         },
         "rowPtr_adj2_offset_1": {
          "access": "write-only",
          "address_offset": 376,
          "description": "Data signal of rowPtr_adj2_offset",
          "fields": {
           "rowPtr_adj2_offset": {
            "access": "write-only",
            "bit_offset": 0,
            "bit_width": 32,
            "description": "Data signal of rowPtr_adj2_offset"
           }
          },
          "size": 32
         },
         "rowPtr_adj2_offset_2": {
          "access": "write-only",
          "address_offset": 380,
          "description": "Data signal of rowPtr_adj2_offset",
          "fields": {
           "rowPtr_adj2_offset": {
            "access": "write-only",
            "bit_offset": 0,
            "bit_width": 32,
            "description": "Data signal of rowPtr_adj2_offset"
           }
          },
          "size": 32
         },
         "rowPtr_adj3_offset_1": {
          "access": "write-only",
          "address_offset": 388,
          "description": "Data signal of rowPtr_adj3_offset",
          "fields": {
           "rowPtr_adj3_offset": {
            "access": "write-only",
            "bit_offset": 0,
            "bit_width": 32,
            "description": "Data signal of rowPtr_adj3_offset"
           }
          },
          "size": 32
         },
         "rowPtr_adj3_offset_2": {
          "access": "write-only",
          "address_offset": 392,
          "description": "Data signal of rowPtr_adj3_offset",
          "fields": {
           "rowPtr_adj3_offset": {
            "access": "write-only",
            "bit_offset": 0,
            "bit_width": 32,
            "description": "Data signal of rowPtr_adj3_offset"
           }
          },
          "size": 32
         },
         "rowPtr_adj4_offset_1": {
          "access": "write-only",
          "address_offset": 400,
          "description": "Data signal of rowPtr_adj4_offset",
          "fields": {
           "rowPtr_adj4_offset": {
            "access": "write-only",
            "bit_offset": 0,
            "bit_width": 32,
            "description": "Data signal of rowPtr_adj4_offset"
           }
          },
          "size": 32
         },
         "rowPtr_adj4_offset_2": {
          "access": "write-only",
          "address_offset": 404,
          "description": "Data signal of rowPtr_adj4_offset",
          "fields": {
           "rowPtr_adj4_offset": {
            "access": "write-only",
            "bit_offset": 0,
            "bit_width": 32,
            "description": "Data signal of rowPtr_adj4_offset"
           }
          },
          "size": 32
         },
         "rowPtr_fea1_offset_1": {
          "access": "write-only",
          "address_offset": 220,
          "description": "Data signal of rowPtr_fea1_offset",
          "fields": {
           "rowPtr_fea1_offset": {
            "access": "write-only",
            "bit_offset": 0,
            "bit_width": 32,
            "description": "Data signal of rowPtr_fea1_offset"
           }
          },
          "size": 32
         },
         "rowPtr_fea1_offset_2": {
          "access": "write-only",
          "address_offset": 224,
          "description": "Data signal of rowPtr_fea1_offset",
          "fields": {
           "rowPtr_fea1_offset": {
            "access": "write-only",
            "bit_offset": 0,
            "bit_width": 32,
            "description": "Data signal of rowPtr_fea1_offset"
           }
          },
          "size": 32
         },
         "rowPtr_fea2_offset_1": {
          "access": "write-only",
          "address_offset": 232,
          "description": "Data signal of rowPtr_fea2_offset",
          "fields": {
           "rowPtr_fea2_offset": {
            "access": "write-only",
            "bit_offset": 0,
            "bit_width": 32,
            "description": "Data signal of rowPtr_fea2_offset"
           }
          },
          "size": 32
         },
         "rowPtr_fea2_offset_2": {
          "access": "write-only",
          "address_offset": 236,
          "description": "Data signal of rowPtr_fea2_offset",
          "fields": {
           "rowPtr_fea2_offset": {
            "access": "write-only",
            "bit_offset": 0,
            "bit_width": 32,
            "description": "Data signal of rowPtr_fea2_offset"
           }
          },
          "size": 32
         },
         "rowPtr_fea3_offset_1": {
          "access": "write-only",
          "address_offset": 244,
          "description": "Data signal of rowPtr_fea3_offset",
          "fields": {
           "rowPtr_fea3_offset": {
            "access": "write-only",
            "bit_offset": 0,
            "bit_width": 32,
            "description": "Data signal of rowPtr_fea3_offset"
           }
          },
          "size": 32
         },
         "rowPtr_fea3_offset_2": {
          "access": "write-only",
          "address_offset": 248,
          "description": "Data signal of rowPtr_fea3_offset",
          "fields": {
           "rowPtr_fea3_offset": {
            "access": "write-only",
            "bit_offset": 0,
            "bit_width": 32,
            "description": "Data signal of rowPtr_fea3_offset"
           }
          },
          "size": 32
         },
         "rowPtr_fea4_offset_1": {
          "access": "write-only",
          "address_offset": 256,
          "description": "Data signal of rowPtr_fea4_offset",
          "fields": {
           "rowPtr_fea4_offset": {
            "access": "write-only",
            "bit_offset": 0,
            "bit_width": 32,
            "description": "Data signal of rowPtr_fea4_offset"
           }
          },
          "size": 32
         },
         "rowPtr_fea4_offset_2": {
          "access": "write-only",
          "address_offset": 260,
          "description": "Data signal of rowPtr_fea4_offset",
          "fields": {
           "rowPtr_fea4_offset": {
            "access": "write-only",
            "bit_offset": 0,
            "bit_width": 32,
            "description": "Data signal of rowPtr_fea4_offset"
           }
          },
          "size": 32
         },
         "shift_offset_1": {
          "access": "write-only",
          "address_offset": 36,
          "description": "Data signal of shift_offset",
          "fields": {
           "shift_offset": {
            "access": "write-only",
            "bit_offset": 0,
            "bit_width": 32,
            "description": "Data signal of shift_offset"
           }
          },
          "size": 32
         },
         "shift_offset_2": {
          "access": "write-only",
          "address_offset": 40,
          "description": "Data signal of shift_offset",
          "fields": {
           "shift_offset": {
            "access": "write-only",
            "bit_offset": 0,
            "bit_width": 32,
            "description": "Data signal of shift_offset"
           }
          },
          "size": 32
         },
         "values_adj1_offset_1": {
          "access": "write-only",
          "address_offset": 460,
          "description": "Data signal of values_adj1_offset",
          "fields": {
           "values_adj1_offset": {
            "access": "write-only",
            "bit_offset": 0,
            "bit_width": 32,
            "description": "Data signal of values_adj1_offset"
           }
          },
          "size": 32
         },
         "values_adj1_offset_2": {
          "access": "write-only",
          "address_offset": 464,
          "description": "Data signal of values_adj1_offset",
          "fields": {
           "values_adj1_offset": {
            "access": "write-only",
            "bit_offset": 0,
            "bit_width": 32,
            "description": "Data signal of values_adj1_offset"
           }
          },
          "size": 32
         },
         "values_adj2_offset_1": {
          "access": "write-only",
          "address_offset": 472,
          "description": "Data signal of values_adj2_offset",
          "fields": {
           "values_adj2_offset": {
            "access": "write-only",
            "bit_offset": 0,
            "bit_width": 32,
            "description": "Data signal of values_adj2_offset"
           }
          },
          "size": 32
         },
         "values_adj2_offset_2": {
          "access": "write-only",
          "address_offset": 476,
          "description": "Data signal of values_adj2_offset",
          "fields": {
           "values_adj2_offset": {
            "access": "write-only",
            "bit_offset": 0,
            "bit_width": 32,
            "description": "Data signal of values_adj2_offset"
           }
          },
          "size": 32
         },
         "values_adj3_offset_1": {
          "access": "write-only",
          "address_offset": 484,
          "description": "Data signal of values_adj3_offset",
          "fields": {
           "values_adj3_offset": {
            "access": "write-only",
            "bit_offset": 0,
            "bit_width": 32,
            "description": "Data signal of values_adj3_offset"
           }
          },
          "size": 32
         },
         "values_adj3_offset_2": {
          "access": "write-only",
          "address_offset": 488,
          "description": "Data signal of values_adj3_offset",
          "fields": {
           "values_adj3_offset": {
            "access": "write-only",
            "bit_offset": 0,
            "bit_width": 32,
            "description": "Data signal of values_adj3_offset"
           }
          },
          "size": 32
         },
         "values_adj4_offset_1": {
          "access": "write-only",
          "address_offset": 496,
          "description": "Data signal of values_adj4_offset",
          "fields": {
           "values_adj4_offset": {
            "access": "write-only",
            "bit_offset": 0,
            "bit_width": 32,
            "description": "Data signal of values_adj4_offset"
           }
          },
          "size": 32
         },
         "values_adj4_offset_2": {
          "access": "write-only",
          "address_offset": 500,
          "description": "Data signal of values_adj4_offset",
          "fields": {
           "values_adj4_offset": {
            "access": "write-only",
            "bit_offset": 0,
            "bit_width": 32,
            "description": "Data signal of values_adj4_offset"
           }
          },
          "size": 32
         },
         "values_fea1_offset_1": {
          "access": "write-only",
          "address_offset": 316,
          "description": "Data signal of values_fea1_offset",
          "fields": {
           "values_fea1_offset": {
            "access": "write-only",
            "bit_offset": 0,
            "bit_width": 32,
            "description": "Data signal of values_fea1_offset"
           }
          },
          "size": 32
         },
         "values_fea1_offset_2": {
          "access": "write-only",
          "address_offset": 320,
          "description": "Data signal of values_fea1_offset",
          "fields": {
           "values_fea1_offset": {
            "access": "write-only",
            "bit_offset": 0,
            "bit_width": 32,
            "description": "Data signal of values_fea1_offset"
           }
          },
          "size": 32
         },
         "values_fea2_offset_1": {
          "access": "write-only",
          "address_offset": 328,
          "description": "Data signal of values_fea2_offset",
          "fields": {
           "values_fea2_offset": {
            "access": "write-only",
            "bit_offset": 0,
            "bit_width": 32,
            "description": "Data signal of values_fea2_offset"
           }
          },
          "size": 32
         },
         "values_fea2_offset_2": {
          "access": "write-only",
          "address_offset": 332,
          "description": "Data signal of values_fea2_offset",
          "fields": {
           "values_fea2_offset": {
            "access": "write-only",
            "bit_offset": 0,
            "bit_width": 32,
            "description": "Data signal of values_fea2_offset"
           }
          },
          "size": 32
         },
         "values_fea3_offset_1": {
          "access": "write-only",
          "address_offset": 340,
          "description": "Data signal of values_fea3_offset",
          "fields": {
           "values_fea3_offset": {
            "access": "write-only",
            "bit_offset": 0,
            "bit_width": 32,
            "description": "Data signal of values_fea3_offset"
           }
          },
          "size": 32
         },
         "values_fea3_offset_2": {
          "access": "write-only",
          "address_offset": 344,
          "description": "Data signal of values_fea3_offset",
          "fields": {
           "values_fea3_offset": {
            "access": "write-only",
            "bit_offset": 0,
            "bit_width": 32,
            "description": "Data signal of values_fea3_offset"
           }
          },
          "size": 32
         },
         "values_fea4_offset_1": {
          "access": "write-only",
          "address_offset": 352,
          "description": "Data signal of values_fea4_offset",
          "fields": {
           "values_fea4_offset": {
            "access": "write-only",
            "bit_offset": 0,
            "bit_width": 32,
            "description": "Data signal of values_fea4_offset"
           }
          },
          "size": 32
         },
         "values_fea4_offset_2": {
          "access": "write-only",
          "address_offset": 356,
          "description": "Data signal of values_fea4_offset",
          "fields": {
           "values_fea4_offset": {
            "access": "write-only",
            "bit_offset": 0,
            "bit_width": 32,
            "description": "Data signal of values_fea4_offset"
           }
          },
          "size": 32
         },
         "zero_point_dst": {
          "access": "write-only",
          "address_offset": 96,
          "description": "Data signal of zero_point_dst",
          "fields": {
           "RESERVED": {
            "access": "read-only",
            "bit_offset": 8,
            "bit_width": 24,
            "description": "Data signal of zero_point_dst"
           },
           "zero_point_dst": {
            "access": "write-only",
            "bit_offset": 0,
            "bit_width": 8,
            "description": "Data signal of zero_point_dst"
           }
          },
          "size": 32
         },
         "zero_point_lhs": {
          "access": "write-only",
          "address_offset": 80,
          "description": "Data signal of zero_point_lhs",
          "fields": {
           "RESERVED": {
            "access": "read-only",
            "bit_offset": 8,
            "bit_width": 24,
            "description": "Data signal of zero_point_lhs"
           },
           "zero_point_lhs": {
            "access": "write-only",
            "bit_offset": 0,
            "bit_width": 8,
            "description": "Data signal of zero_point_lhs"
           }
          },
          "size": 32
         },
         "zero_point_rhs": {
          "access": "write-only",
          "address_offset": 88,
          "description": "Data signal of zero_point_rhs",
          "fields": {
           "RESERVED": {
            "access": "read-only",
            "bit_offset": 8,
            "bit_width": 24,
            "description": "Data signal of zero_point_rhs"
           },
           "zero_point_rhs": {
            "access": "write-only",
            "bit_offset": 0,
            "bit_width": 8,
            "description": "Data signal of zero_point_rhs"
           }
          },
          "size": 32
         }
        },
        "state": null,
        "type": "xilinx.com:hls:mmult_top:1.0"
       },
       "zynq_ultra_ps_e_0": {
        "device": "<pynq.pl_server.embedded_device.EmbeddedDevice object at 0xffff932b2880>",
        "driver": "<class 'pynq.overlay.DefaultIP'>",
        "gpio": {},
        "interrupts": {},
        "parameters": {
         "CAN0_BOARD_INTERFACE": "custom",
         "CAN1_BOARD_INTERFACE": "custom",
         "CSU_BOARD_INTERFACE": "custom",
         "C_BASEADDR": "0x800000000",
         "C_DP_USE_AUDIO": "0",
         "C_DP_USE_VIDEO": "0",
         "C_EMIO_GPIO_WIDTH": "1",
         "C_EN_EMIO_TRACE": "0",
         "C_EN_FIFO_ENET0": "0",
         "C_EN_FIFO_ENET1": "0",
         "C_EN_FIFO_ENET2": "0",
         "C_EN_FIFO_ENET3": "0",
         "C_HIGHADDR": "0xFFFFFFFFF",
         "C_MAXIGP0_DATA_WIDTH": "128",
         "C_MAXIGP1_DATA_WIDTH": "128",
         "C_MAXIGP2_DATA_WIDTH": "32",
         "C_NUM_F2P_0_INTR_INPUTS": "1",
         "C_NUM_F2P_1_INTR_INPUTS": "1",
         "C_NUM_FABRIC_RESETS": "1",
         "C_PL_CLK0_BUF": "TRUE",
         "C_PL_CLK1_BUF": "FALSE",
         "C_PL_CLK2_BUF": "FALSE",
         "C_PL_CLK3_BUF": "FALSE",
         "C_SAXIGP0_DATA_WIDTH": "128",
         "C_SAXIGP1_DATA_WIDTH": "128",
         "C_SAXIGP2_DATA_WIDTH": "128",
         "C_SAXIGP3_DATA_WIDTH": "128",
         "C_SAXIGP4_DATA_WIDTH": "128",
         "C_SAXIGP5_DATA_WIDTH": "128",
         "C_SAXIGP6_DATA_WIDTH": "128",
         "C_SD0_INTERNAL_BUS_WIDTH": "5",
         "C_SD1_INTERNAL_BUS_WIDTH": "8",
         "C_TRACE_DATA_WIDTH": "32",
         "C_TRACE_PIPELINE_WIDTH": "8",
         "C_USE_DEBUG_TEST": "0",
         "C_USE_DIFF_RW_CLK_GP0": "0",
         "C_USE_DIFF_RW_CLK_GP1": "0",
         "C_USE_DIFF_RW_CLK_GP2": "0",
         "C_USE_DIFF_RW_CLK_GP3": "0",
         "C_USE_DIFF_RW_CLK_GP4": "0",
         "C_USE_DIFF_RW_CLK_GP5": "0",
         "C_USE_DIFF_RW_CLK_GP6": "0",
         "Component_Name": "design_1_zynq_ultra_ps_e_0_0",
         "DP_BOARD_INTERFACE": "custom",
         "EDK_IPTYPE": "PERIPHERAL",
         "GEM0_BOARD_INTERFACE": "custom",
         "GEM1_BOARD_INTERFACE": "custom",
         "GEM2_BOARD_INTERFACE": "custom",
         "GEM3_BOARD_INTERFACE": "custom",
         "GPIO_BOARD_INTERFACE": "custom",
         "IIC0_BOARD_INTERFACE": "custom",
         "IIC1_BOARD_INTERFACE": "custom",
         "NAND_BOARD_INTERFACE": "custom",
         "PCIE_BOARD_INTERFACE": "custom",
         "PJTAG_BOARD_INTERFACE": "custom",
         "PMU_BOARD_INTERFACE": "custom",
         "PSU_BANK_0_IO_STANDARD": "LVCMOS18",
         "PSU_BANK_1_IO_STANDARD": "LVCMOS18",
         "PSU_BANK_2_IO_STANDARD": "LVCMOS18",
         "PSU_BANK_3_IO_STANDARD": "LVCMOS18",
         "PSU_DDR_RAM_HIGHADDR": "0x1FFFFFFFF",
         "PSU_DDR_RAM_HIGHADDR_OFFSET": "0x800000000",
         "PSU_DDR_RAM_LOWADDR_OFFSET": "0x80000000",
         "PSU_DYNAMIC_DDR_CONFIG_EN": "0",
         "PSU_MIO_0_DIRECTION": "inout",
         "PSU_MIO_0_DRIVE_STRENGTH": "12",
         "PSU_MIO_0_INPUT_TYPE": "cmos",
         "PSU_MIO_0_POLARITY": "Default",
         "PSU_MIO_0_PULLUPDOWN": "pullup",
         "PSU_MIO_0_SLEW": "fast",
         "PSU_MIO_10_DIRECTION": "inout",
         "PSU_MIO_10_DRIVE_STRENGTH": "12",
         "PSU_MIO_10_INPUT_TYPE": "cmos",
         "PSU_MIO_10_POLARITY": "Default",
         "PSU_MIO_10_PULLUPDOWN": "pullup",
         "PSU_MIO_10_SLEW": "fast",
         "PSU_MIO_11_DIRECTION": "inout",
         "PSU_MIO_11_DRIVE_STRENGTH": "12",
         "PSU_MIO_11_INPUT_TYPE": "cmos",
         "PSU_MIO_11_POLARITY": "Default",
         "PSU_MIO_11_PULLUPDOWN": "pullup",
         "PSU_MIO_11_SLEW": "fast",
         "PSU_MIO_12_DIRECTION": "inout",
         "PSU_MIO_12_DRIVE_STRENGTH": "12",
         "PSU_MIO_12_INPUT_TYPE": "cmos",
         "PSU_MIO_12_POLARITY": "Default",
         "PSU_MIO_12_PULLUPDOWN": "pullup",
         "PSU_MIO_12_SLEW": "fast",
         "PSU_MIO_13_DIRECTION": "inout",
         "PSU_MIO_13_DRIVE_STRENGTH": "12",
         "PSU_MIO_13_INPUT_TYPE": "cmos",
         "PSU_MIO_13_POLARITY": "Default",
         "PSU_MIO_13_PULLUPDOWN": "pullup",
         "PSU_MIO_13_SLEW": "fast",
         "PSU_MIO_14_DIRECTION": "inout",
         "PSU_MIO_14_DRIVE_STRENGTH": "12",
         "PSU_MIO_14_INPUT_TYPE": "cmos",
         "PSU_MIO_14_POLARITY": "Default",
         "PSU_MIO_14_PULLUPDOWN": "pullup",
         "PSU_MIO_14_SLEW": "fast",
         "PSU_MIO_15_DIRECTION": "inout",
         "PSU_MIO_15_DRIVE_STRENGTH": "12",
         "PSU_MIO_15_INPUT_TYPE": "cmos",
         "PSU_MIO_15_POLARITY": "Default",
         "PSU_MIO_15_PULLUPDOWN": "pullup",
         "PSU_MIO_15_SLEW": "fast",
         "PSU_MIO_16_DIRECTION": "inout",
         "PSU_MIO_16_DRIVE_STRENGTH": "12",
         "PSU_MIO_16_INPUT_TYPE": "cmos",
         "PSU_MIO_16_POLARITY": "Default",
         "PSU_MIO_16_PULLUPDOWN": "pullup",
         "PSU_MIO_16_SLEW": "fast",
         "PSU_MIO_17_DIRECTION": "inout",
         "PSU_MIO_17_DRIVE_STRENGTH": "12",
         "PSU_MIO_17_INPUT_TYPE": "cmos",
         "PSU_MIO_17_POLARITY": "Default",
         "PSU_MIO_17_PULLUPDOWN": "pullup",
         "PSU_MIO_17_SLEW": "fast",
         "PSU_MIO_18_DIRECTION": "in",
         "PSU_MIO_18_DRIVE_STRENGTH": "12",
         "PSU_MIO_18_INPUT_TYPE": "cmos",
         "PSU_MIO_18_POLARITY": "Default",
         "PSU_MIO_18_PULLUPDOWN": "pullup",
         "PSU_MIO_18_SLEW": "fast",
         "PSU_MIO_19_DIRECTION": "out",
         "PSU_MIO_19_DRIVE_STRENGTH": "12",
         "PSU_MIO_19_INPUT_TYPE": "cmos",
         "PSU_MIO_19_POLARITY": "Default",
         "PSU_MIO_19_PULLUPDOWN": "pullup",
         "PSU_MIO_19_SLEW": "fast",
         "PSU_MIO_1_DIRECTION": "inout",
         "PSU_MIO_1_DRIVE_STRENGTH": "12",
         "PSU_MIO_1_INPUT_TYPE": "cmos",
         "PSU_MIO_1_POLARITY": "Default",
         "PSU_MIO_1_PULLUPDOWN": "pullup",
         "PSU_MIO_1_SLEW": "fast",
         "PSU_MIO_20_DIRECTION": "inout",
         "PSU_MIO_20_DRIVE_STRENGTH": "12",
         "PSU_MIO_20_INPUT_TYPE": "cmos",
         "PSU_MIO_20_POLARITY": "Default",
         "PSU_MIO_20_PULLUPDOWN": "pullup",
         "PSU_MIO_20_SLEW": "fast",
         "PSU_MIO_21_DIRECTION": "inout",
         "PSU_MIO_21_DRIVE_STRENGTH": "12",
         "PSU_MIO_21_INPUT_TYPE": "cmos",
         "PSU_MIO_21_POLARITY": "Default",
         "PSU_MIO_21_PULLUPDOWN": "pullup",
         "PSU_MIO_21_SLEW": "fast",
         "PSU_MIO_22_DIRECTION": "inout",
         "PSU_MIO_22_DRIVE_STRENGTH": "12",
         "PSU_MIO_22_INPUT_TYPE": "cmos",
         "PSU_MIO_22_POLARITY": "Default",
         "PSU_MIO_22_PULLUPDOWN": "pullup",
         "PSU_MIO_22_SLEW": "fast",
         "PSU_MIO_23_DIRECTION": "inout",
         "PSU_MIO_23_DRIVE_STRENGTH": "12",
         "PSU_MIO_23_INPUT_TYPE": "cmos",
         "PSU_MIO_23_POLARITY": "Default",
         "PSU_MIO_23_PULLUPDOWN": "pullup",
         "PSU_MIO_23_SLEW": "fast",
         "PSU_MIO_24_DIRECTION": "inout",
         "PSU_MIO_24_DRIVE_STRENGTH": "12",
         "PSU_MIO_24_INPUT_TYPE": "cmos",
         "PSU_MIO_24_POLARITY": "Default",
         "PSU_MIO_24_PULLUPDOWN": "pullup",
         "PSU_MIO_24_SLEW": "fast",
         "PSU_MIO_25_DIRECTION": "inout",
         "PSU_MIO_25_DRIVE_STRENGTH": "12",
         "PSU_MIO_25_INPUT_TYPE": "cmos",
         "PSU_MIO_25_POLARITY": "Default",
         "PSU_MIO_25_PULLUPDOWN": "pullup",
         "PSU_MIO_25_SLEW": "fast",
         "PSU_MIO_26_DIRECTION": "out",
         "PSU_MIO_26_DRIVE_STRENGTH": "12",
         "PSU_MIO_26_INPUT_TYPE": "cmos",
         "PSU_MIO_26_POLARITY": "Default",
         "PSU_MIO_26_PULLUPDOWN": "pullup",
         "PSU_MIO_26_SLEW": "fast",
         "PSU_MIO_27_DIRECTION": "out",
         "PSU_MIO_27_DRIVE_STRENGTH": "12",
         "PSU_MIO_27_INPUT_TYPE": "cmos",
         "PSU_MIO_27_POLARITY": "Default",
         "PSU_MIO_27_PULLUPDOWN": "pullup",
         "PSU_MIO_27_SLEW": "fast",
         "PSU_MIO_28_DIRECTION": "out",
         "PSU_MIO_28_DRIVE_STRENGTH": "12",
         "PSU_MIO_28_INPUT_TYPE": "cmos",
         "PSU_MIO_28_POLARITY": "Default",
         "PSU_MIO_28_PULLUPDOWN": "pullup",
         "PSU_MIO_28_SLEW": "fast",
         "PSU_MIO_29_DIRECTION": "out",
         "PSU_MIO_29_DRIVE_STRENGTH": "12",
         "PSU_MIO_29_INPUT_TYPE": "cmos",
         "PSU_MIO_29_POLARITY": "Default",
         "PSU_MIO_29_PULLUPDOWN": "pullup",
         "PSU_MIO_29_SLEW": "fast",
         "PSU_MIO_2_DIRECTION": "inout",
         "PSU_MIO_2_DRIVE_STRENGTH": "12",
         "PSU_MIO_2_INPUT_TYPE": "cmos",
         "PSU_MIO_2_POLARITY": "Default",
         "PSU_MIO_2_PULLUPDOWN": "pullup",
         "PSU_MIO_2_SLEW": "fast",
         "PSU_MIO_30_DIRECTION": "out",
         "PSU_MIO_30_DRIVE_STRENGTH": "12",
         "PSU_MIO_30_INPUT_TYPE": "cmos",
         "PSU_MIO_30_POLARITY": "Default",
         "PSU_MIO_30_PULLUPDOWN": "pullup",
         "PSU_MIO_30_SLEW": "fast",
         "PSU_MIO_31_DIRECTION": "out",
         "PSU_MIO_31_DRIVE_STRENGTH": "12",
         "PSU_MIO_31_INPUT_TYPE": "cmos",
         "PSU_MIO_31_POLARITY": "Default",
         "PSU_MIO_31_PULLUPDOWN": "pullup",
         "PSU_MIO_31_SLEW": "fast",
         "PSU_MIO_32_DIRECTION": "in",
         "PSU_MIO_32_DRIVE_STRENGTH": "12",
         "PSU_MIO_32_INPUT_TYPE": "cmos",
         "PSU_MIO_32_POLARITY": "Default",
         "PSU_MIO_32_PULLUPDOWN": "pullup",
         "PSU_MIO_32_SLEW": "fast",
         "PSU_MIO_33_DIRECTION": "in",
         "PSU_MIO_33_DRIVE_STRENGTH": "12",
         "PSU_MIO_33_INPUT_TYPE": "cmos",
         "PSU_MIO_33_POLARITY": "Default",
         "PSU_MIO_33_PULLUPDOWN": "pullup",
         "PSU_MIO_33_SLEW": "fast",
         "PSU_MIO_34_DIRECTION": "in",
         "PSU_MIO_34_DRIVE_STRENGTH": "12",
         "PSU_MIO_34_INPUT_TYPE": "cmos",
         "PSU_MIO_34_POLARITY": "Default",
         "PSU_MIO_34_PULLUPDOWN": "pullup",
         "PSU_MIO_34_SLEW": "fast",
         "PSU_MIO_35_DIRECTION": "in",
         "PSU_MIO_35_DRIVE_STRENGTH": "12",
         "PSU_MIO_35_INPUT_TYPE": "cmos",
         "PSU_MIO_35_POLARITY": "Default",
         "PSU_MIO_35_PULLUPDOWN": "pullup",
         "PSU_MIO_35_SLEW": "fast",
         "PSU_MIO_36_DIRECTION": "in",
         "PSU_MIO_36_DRIVE_STRENGTH": "12",
         "PSU_MIO_36_INPUT_TYPE": "cmos",
         "PSU_MIO_36_POLARITY": "Default",
         "PSU_MIO_36_PULLUPDOWN": "pullup",
         "PSU_MIO_36_SLEW": "fast",
         "PSU_MIO_37_DIRECTION": "in",
         "PSU_MIO_37_DRIVE_STRENGTH": "12",
         "PSU_MIO_37_INPUT_TYPE": "cmos",
         "PSU_MIO_37_POLARITY": "Default",
         "PSU_MIO_37_PULLUPDOWN": "pullup",
         "PSU_MIO_37_SLEW": "fast",
         "PSU_MIO_38_DIRECTION": "inout",
         "PSU_MIO_38_DRIVE_STRENGTH": "12",
         "PSU_MIO_38_INPUT_TYPE": "cmos",
         "PSU_MIO_38_POLARITY": "Default",
         "PSU_MIO_38_PULLUPDOWN": "pullup",
         "PSU_MIO_38_SLEW": "fast",
         "PSU_MIO_39_DIRECTION": "inout",
         "PSU_MIO_39_DRIVE_STRENGTH": "12",
         "PSU_MIO_39_INPUT_TYPE": "cmos",
         "PSU_MIO_39_POLARITY": "Default",
         "PSU_MIO_39_PULLUPDOWN": "pullup",
         "PSU_MIO_39_SLEW": "fast",
         "PSU_MIO_3_DIRECTION": "inout",
         "PSU_MIO_3_DRIVE_STRENGTH": "12",
         "PSU_MIO_3_INPUT_TYPE": "cmos",
         "PSU_MIO_3_POLARITY": "Default",
         "PSU_MIO_3_PULLUPDOWN": "pullup",
         "PSU_MIO_3_SLEW": "fast",
         "PSU_MIO_40_DIRECTION": "inout",
         "PSU_MIO_40_DRIVE_STRENGTH": "12",
         "PSU_MIO_40_INPUT_TYPE": "cmos",
         "PSU_MIO_40_POLARITY": "Default",
         "PSU_MIO_40_PULLUPDOWN": "pullup",
         "PSU_MIO_40_SLEW": "fast",
         "PSU_MIO_41_DIRECTION": "inout",
         "PSU_MIO_41_DRIVE_STRENGTH": "12",
         "PSU_MIO_41_INPUT_TYPE": "cmos",
         "PSU_MIO_41_POLARITY": "Default",
         "PSU_MIO_41_PULLUPDOWN": "pullup",
         "PSU_MIO_41_SLEW": "fast",
         "PSU_MIO_42_DIRECTION": "inout",
         "PSU_MIO_42_DRIVE_STRENGTH": "12",
         "PSU_MIO_42_INPUT_TYPE": "cmos",
         "PSU_MIO_42_POLARITY": "Default",
         "PSU_MIO_42_PULLUPDOWN": "pullup",
         "PSU_MIO_42_SLEW": "fast",
         "PSU_MIO_43_DIRECTION": "inout",
         "PSU_MIO_43_DRIVE_STRENGTH": "12",
         "PSU_MIO_43_INPUT_TYPE": "cmos",
         "PSU_MIO_43_POLARITY": "Default",
         "PSU_MIO_43_PULLUPDOWN": "pullup",
         "PSU_MIO_43_SLEW": "fast",
         "PSU_MIO_44_DIRECTION": "in",
         "PSU_MIO_44_DRIVE_STRENGTH": "12",
         "PSU_MIO_44_INPUT_TYPE": "cmos",
         "PSU_MIO_44_POLARITY": "Default",
         "PSU_MIO_44_PULLUPDOWN": "pullup",
         "PSU_MIO_44_SLEW": "fast",
         "PSU_MIO_45_DIRECTION": "in",
         "PSU_MIO_45_DRIVE_STRENGTH": "12",
         "PSU_MIO_45_INPUT_TYPE": "cmos",
         "PSU_MIO_45_POLARITY": "Default",
         "PSU_MIO_45_PULLUPDOWN": "pullup",
         "PSU_MIO_45_SLEW": "fast",
         "PSU_MIO_46_DIRECTION": "inout",
         "PSU_MIO_46_DRIVE_STRENGTH": "12",
         "PSU_MIO_46_INPUT_TYPE": "cmos",
         "PSU_MIO_46_POLARITY": "Default",
         "PSU_MIO_46_PULLUPDOWN": "pullup",
         "PSU_MIO_46_SLEW": "fast",
         "PSU_MIO_47_DIRECTION": "inout",
         "PSU_MIO_47_DRIVE_STRENGTH": "12",
         "PSU_MIO_47_INPUT_TYPE": "cmos",
         "PSU_MIO_47_POLARITY": "Default",
         "PSU_MIO_47_PULLUPDOWN": "pullup",
         "PSU_MIO_47_SLEW": "fast",
         "PSU_MIO_48_DIRECTION": "inout",
         "PSU_MIO_48_DRIVE_STRENGTH": "12",
         "PSU_MIO_48_INPUT_TYPE": "cmos",
         "PSU_MIO_48_POLARITY": "Default",
         "PSU_MIO_48_PULLUPDOWN": "pullup",
         "PSU_MIO_48_SLEW": "fast",
         "PSU_MIO_49_DIRECTION": "inout",
         "PSU_MIO_49_DRIVE_STRENGTH": "12",
         "PSU_MIO_49_INPUT_TYPE": "cmos",
         "PSU_MIO_49_POLARITY": "Default",
         "PSU_MIO_49_PULLUPDOWN": "pullup",
         "PSU_MIO_49_SLEW": "fast",
         "PSU_MIO_4_DIRECTION": "inout",
         "PSU_MIO_4_DRIVE_STRENGTH": "12",
         "PSU_MIO_4_INPUT_TYPE": "cmos",
         "PSU_MIO_4_POLARITY": "Default",
         "PSU_MIO_4_PULLUPDOWN": "pullup",
         "PSU_MIO_4_SLEW": "fast",
         "PSU_MIO_50_DIRECTION": "inout",
         "PSU_MIO_50_DRIVE_STRENGTH": "12",
         "PSU_MIO_50_INPUT_TYPE": "cmos",
         "PSU_MIO_50_POLARITY": "Default",
         "PSU_MIO_50_PULLUPDOWN": "pullup",
         "PSU_MIO_50_SLEW": "fast",
         "PSU_MIO_51_DIRECTION": "out",
         "PSU_MIO_51_DRIVE_STRENGTH": "12",
         "PSU_MIO_51_INPUT_TYPE": "cmos",
         "PSU_MIO_51_POLARITY": "Default",
         "PSU_MIO_51_PULLUPDOWN": "pullup",
         "PSU_MIO_51_SLEW": "fast",
         "PSU_MIO_52_DIRECTION": "in",
         "PSU_MIO_52_DRIVE_STRENGTH": "12",
         "PSU_MIO_52_INPUT_TYPE": "cmos",
         "PSU_MIO_52_POLARITY": "Default",
         "PSU_MIO_52_PULLUPDOWN": "pullup",
         "PSU_MIO_52_SLEW": "fast",
         "PSU_MIO_53_DIRECTION": "in",
         "PSU_MIO_53_DRIVE_STRENGTH": "12",
         "PSU_MIO_53_INPUT_TYPE": "cmos",
         "PSU_MIO_53_POLARITY": "Default",
         "PSU_MIO_53_PULLUPDOWN": "pullup",
         "PSU_MIO_53_SLEW": "fast",
         "PSU_MIO_54_DIRECTION": "inout",
         "PSU_MIO_54_DRIVE_STRENGTH": "12",
         "PSU_MIO_54_INPUT_TYPE": "cmos",
         "PSU_MIO_54_POLARITY": "Default",
         "PSU_MIO_54_PULLUPDOWN": "pullup",
         "PSU_MIO_54_SLEW": "fast",
         "PSU_MIO_55_DIRECTION": "in",
         "PSU_MIO_55_DRIVE_STRENGTH": "12",
         "PSU_MIO_55_INPUT_TYPE": "cmos",
         "PSU_MIO_55_POLARITY": "Default",
         "PSU_MIO_55_PULLUPDOWN": "pullup",
         "PSU_MIO_55_SLEW": "fast",
         "PSU_MIO_56_DIRECTION": "inout",
         "PSU_MIO_56_DRIVE_STRENGTH": "12",
         "PSU_MIO_56_INPUT_TYPE": "cmos",
         "PSU_MIO_56_POLARITY": "Default",
         "PSU_MIO_56_PULLUPDOWN": "pullup",
         "PSU_MIO_56_SLEW": "fast",
         "PSU_MIO_57_DIRECTION": "inout",
         "PSU_MIO_57_DRIVE_STRENGTH": "12",
         "PSU_MIO_57_INPUT_TYPE": "cmos",
         "PSU_MIO_57_POLARITY": "Default",
         "PSU_MIO_57_PULLUPDOWN": "pullup",
         "PSU_MIO_57_SLEW": "fast",
         "PSU_MIO_58_DIRECTION": "out",
         "PSU_MIO_58_DRIVE_STRENGTH": "12",
         "PSU_MIO_58_INPUT_TYPE": "cmos",
         "PSU_MIO_58_POLARITY": "Default",
         "PSU_MIO_58_PULLUPDOWN": "pullup",
         "PSU_MIO_58_SLEW": "fast",
         "PSU_MIO_59_DIRECTION": "inout",
         "PSU_MIO_59_DRIVE_STRENGTH": "12",
         "PSU_MIO_59_INPUT_TYPE": "cmos",
         "PSU_MIO_59_POLARITY": "Default",
         "PSU_MIO_59_PULLUPDOWN": "pullup",
         "PSU_MIO_59_SLEW": "fast",
         "PSU_MIO_5_DIRECTION": "inout",
         "PSU_MIO_5_DRIVE_STRENGTH": "12",
         "PSU_MIO_5_INPUT_TYPE": "cmos",
         "PSU_MIO_5_POLARITY": "Default",
         "PSU_MIO_5_PULLUPDOWN": "pullup",
         "PSU_MIO_5_SLEW": "fast",
         "PSU_MIO_60_DIRECTION": "inout",
         "PSU_MIO_60_DRIVE_STRENGTH": "12",
         "PSU_MIO_60_INPUT_TYPE": "cmos",
         "PSU_MIO_60_POLARITY": "Default",
         "PSU_MIO_60_PULLUPDOWN": "pullup",
         "PSU_MIO_60_SLEW": "fast",
         "PSU_MIO_61_DIRECTION": "inout",
         "PSU_MIO_61_DRIVE_STRENGTH": "12",
         "PSU_MIO_61_INPUT_TYPE": "cmos",
         "PSU_MIO_61_POLARITY": "Default",
         "PSU_MIO_61_PULLUPDOWN": "pullup",
         "PSU_MIO_61_SLEW": "fast",
         "PSU_MIO_62_DIRECTION": "inout",
         "PSU_MIO_62_DRIVE_STRENGTH": "12",
         "PSU_MIO_62_INPUT_TYPE": "cmos",
         "PSU_MIO_62_POLARITY": "Default",
         "PSU_MIO_62_PULLUPDOWN": "pullup",
         "PSU_MIO_62_SLEW": "fast",
         "PSU_MIO_63_DIRECTION": "inout",
         "PSU_MIO_63_DRIVE_STRENGTH": "12",
         "PSU_MIO_63_INPUT_TYPE": "cmos",
         "PSU_MIO_63_POLARITY": "Default",
         "PSU_MIO_63_PULLUPDOWN": "pullup",
         "PSU_MIO_63_SLEW": "fast",
         "PSU_MIO_64_DIRECTION": "in",
         "PSU_MIO_64_DRIVE_STRENGTH": "12",
         "PSU_MIO_64_INPUT_TYPE": "cmos",
         "PSU_MIO_64_POLARITY": "Default",
         "PSU_MIO_64_PULLUPDOWN": "pullup",
         "PSU_MIO_64_SLEW": "fast",
         "PSU_MIO_65_DIRECTION": "in",
         "PSU_MIO_65_DRIVE_STRENGTH": "12",
         "PSU_MIO_65_INPUT_TYPE": "cmos",
         "PSU_MIO_65_POLARITY": "Default",
         "PSU_MIO_65_PULLUPDOWN": "pullup",
         "PSU_MIO_65_SLEW": "fast",
         "PSU_MIO_66_DIRECTION": "inout",
         "PSU_MIO_66_DRIVE_STRENGTH": "12",
         "PSU_MIO_66_INPUT_TYPE": "cmos",
         "PSU_MIO_66_POLARITY": "Default",
         "PSU_MIO_66_PULLUPDOWN": "pullup",
         "PSU_MIO_66_SLEW": "fast",
         "PSU_MIO_67_DIRECTION": "in",
         "PSU_MIO_67_DRIVE_STRENGTH": "12",
         "PSU_MIO_67_INPUT_TYPE": "cmos",
         "PSU_MIO_67_POLARITY": "Default",
         "PSU_MIO_67_PULLUPDOWN": "pullup",
         "PSU_MIO_67_SLEW": "fast",
         "PSU_MIO_68_DIRECTION": "inout",
         "PSU_MIO_68_DRIVE_STRENGTH": "12",
         "PSU_MIO_68_INPUT_TYPE": "cmos",
         "PSU_MIO_68_POLARITY": "Default",
         "PSU_MIO_68_PULLUPDOWN": "pullup",
         "PSU_MIO_68_SLEW": "fast",
         "PSU_MIO_69_DIRECTION": "inout",
         "PSU_MIO_69_DRIVE_STRENGTH": "12",
         "PSU_MIO_69_INPUT_TYPE": "cmos",
         "PSU_MIO_69_POLARITY": "Default",
         "PSU_MIO_69_PULLUPDOWN": "pullup",
         "PSU_MIO_69_SLEW": "fast",
         "PSU_MIO_6_DIRECTION": "inout",
         "PSU_MIO_6_DRIVE_STRENGTH": "12",
         "PSU_MIO_6_INPUT_TYPE": "cmos",
         "PSU_MIO_6_POLARITY": "Default",
         "PSU_MIO_6_PULLUPDOWN": "pullup",
         "PSU_MIO_6_SLEW": "fast",
         "PSU_MIO_70_DIRECTION": "out",
         "PSU_MIO_70_DRIVE_STRENGTH": "12",
         "PSU_MIO_70_INPUT_TYPE": "cmos",
         "PSU_MIO_70_POLARITY": "Default",
         "PSU_MIO_70_PULLUPDOWN": "pullup",
         "PSU_MIO_70_SLEW": "fast",
         "PSU_MIO_71_DIRECTION": "inout",
         "PSU_MIO_71_DRIVE_STRENGTH": "12",
         "PSU_MIO_71_INPUT_TYPE": "cmos",
         "PSU_MIO_71_POLARITY": "Default",
         "PSU_MIO_71_PULLUPDOWN": "pullup",
         "PSU_MIO_71_SLEW": "fast",
         "PSU_MIO_72_DIRECTION": "inout",
         "PSU_MIO_72_DRIVE_STRENGTH": "12",
         "PSU_MIO_72_INPUT_TYPE": "cmos",
         "PSU_MIO_72_POLARITY": "Default",
         "PSU_MIO_72_PULLUPDOWN": "pullup",
         "PSU_MIO_72_SLEW": "fast",
         "PSU_MIO_73_DIRECTION": "inout",
         "PSU_MIO_73_DRIVE_STRENGTH": "12",
         "PSU_MIO_73_INPUT_TYPE": "cmos",
         "PSU_MIO_73_POLARITY": "Default",
         "PSU_MIO_73_PULLUPDOWN": "pullup",
         "PSU_MIO_73_SLEW": "fast",
         "PSU_MIO_74_DIRECTION": "inout",
         "PSU_MIO_74_DRIVE_STRENGTH": "12",
         "PSU_MIO_74_INPUT_TYPE": "cmos",
         "PSU_MIO_74_POLARITY": "Default",
         "PSU_MIO_74_PULLUPDOWN": "pullup",
         "PSU_MIO_74_SLEW": "fast",
         "PSU_MIO_75_DIRECTION": "inout",
         "PSU_MIO_75_DRIVE_STRENGTH": "12",
         "PSU_MIO_75_INPUT_TYPE": "cmos",
         "PSU_MIO_75_POLARITY": "Default",
         "PSU_MIO_75_PULLUPDOWN": "pullup",
         "PSU_MIO_75_SLEW": "fast",
         "PSU_MIO_76_DIRECTION": "out",
         "PSU_MIO_76_DRIVE_STRENGTH": "12",
         "PSU_MIO_76_INPUT_TYPE": "cmos",
         "PSU_MIO_76_POLARITY": "Default",
         "PSU_MIO_76_PULLUPDOWN": "pullup",
         "PSU_MIO_76_SLEW": "fast",
         "PSU_MIO_77_DIRECTION": "inout",
         "PSU_MIO_77_DRIVE_STRENGTH": "12",
         "PSU_MIO_77_INPUT_TYPE": "cmos",
         "PSU_MIO_77_POLARITY": "Default",
         "PSU_MIO_77_PULLUPDOWN": "pullup",
         "PSU_MIO_77_SLEW": "fast",
         "PSU_MIO_7_DIRECTION": "inout",
         "PSU_MIO_7_DRIVE_STRENGTH": "12",
         "PSU_MIO_7_INPUT_TYPE": "cmos",
         "PSU_MIO_7_POLARITY": "Default",
         "PSU_MIO_7_PULLUPDOWN": "pullup",
         "PSU_MIO_7_SLEW": "fast",
         "PSU_MIO_8_DIRECTION": "inout",
         "PSU_MIO_8_DRIVE_STRENGTH": "12",
         "PSU_MIO_8_INPUT_TYPE": "cmos",
         "PSU_MIO_8_POLARITY": "Default",
         "PSU_MIO_8_PULLUPDOWN": "pullup",
         "PSU_MIO_8_SLEW": "fast",
         "PSU_MIO_9_DIRECTION": "inout",
         "PSU_MIO_9_DRIVE_STRENGTH": "12",
         "PSU_MIO_9_INPUT_TYPE": "cmos",
         "PSU_MIO_9_POLARITY": "Default",
         "PSU_MIO_9_PULLUPDOWN": "pullup",
         "PSU_MIO_9_SLEW": "fast",
         "PSU_MIO_TREE_PERIPHERALS": "GPIO0 MIO#GPIO0 MIO#GPIO0 MIO#GPIO0 MIO#GPIO0 MIO#GPIO0 MIO#GPIO0 MIO#GPIO0 MIO#GPIO0 MIO#GPIO0 MIO#GPIO0 MIO#GPIO0 MIO#GPIO0 MIO#GPIO0 MIO#GPIO0 MIO#GPIO0 MIO#I2C 1#I2C 1#UART 0#UART 0#GPIO0 MIO#GPIO0 MIO#GPIO0 MIO#GPIO0 MIO#GPIO0 MIO#GPIO0 MIO#Gem 0#Gem 0#Gem 0#Gem 0#Gem 0#Gem 0#Gem 0#Gem 0#Gem 0#Gem 0#Gem 0#Gem 0#GPIO1 MIO#SD 1#SD 1#SD 1#SD 1#GPIO1 MIO#SD 1#SD 1#SD 1#SD 1#SD 1#SD 1#SD 1#SD 1#USB 0#USB 0#USB 0#USB 0#USB 0#USB 0#USB 0#USB 0#USB 0#USB 0#USB 0#USB 0#USB 1#USB 1#USB 1#USB 1#USB 1#USB 1#USB 1#USB 1#USB 1#USB 1#USB 1#USB 1#MDIO 0#MDIO 0",
         "PSU_MIO_TREE_SIGNALS": "gpio0[0]#gpio0[1]#gpio0[2]#gpio0[3]#gpio0[4]#gpio0[5]#gpio0[6]#gpio0[7]#gpio0[8]#gpio0[9]#gpio0[10]#gpio0[11]#gpio0[12]#gpio0[13]#gpio0[14]#gpio0[15]#scl_out#sda_out#rxd#txd#gpio0[20]#gpio0[21]#gpio0[22]#gpio0[23]#gpio0[24]#gpio0[25]#rgmii_tx_clk#rgmii_txd[0]#rgmii_txd[1]#rgmii_txd[2]#rgmii_txd[3]#rgmii_tx_ctl#rgmii_rx_clk#rgmii_rxd[0]#rgmii_rxd[1]#rgmii_rxd[2]#rgmii_rxd[3]#rgmii_rx_ctl#gpio1[38]#sdio1_data_out[4]#sdio1_data_out[5]#sdio1_data_out[6]#sdio1_data_out[7]#gpio1[43]#sdio1_wp#sdio1_cd_n#sdio1_data_out[0]#sdio1_data_out[1]#sdio1_data_out[2]#sdio1_data_out[3]#sdio1_cmd_out#sdio1_clk_out#ulpi_clk_in#ulpi_dir#ulpi_tx_data[2]#ulpi_nxt#ulpi_tx_data[0]#ulpi_tx_data[1]#ulpi_stp#ulpi_tx_data[3]#ulpi_tx_data[4]#ulpi_tx_data[5]#ulpi_tx_data[6]#ulpi_tx_data[7]#ulpi_clk_in#ulpi_dir#ulpi_tx_data[2]#ulpi_nxt#ulpi_tx_data[0]#ulpi_tx_data[1]#ulpi_stp#ulpi_tx_data[3]#ulpi_tx_data[4]#ulpi_tx_data[5]#ulpi_tx_data[6]#ulpi_tx_data[7]#gem0_mdc#gem0_mdio_out",
         "PSU_SD0_INTERNAL_BUS_WIDTH": "8",
         "PSU_SD1_INTERNAL_BUS_WIDTH": "8",
         "PSU_SMC_CYCLE_T0": "NA",
         "PSU_SMC_CYCLE_T1": "NA",
         "PSU_SMC_CYCLE_T2": "NA",
         "PSU_SMC_CYCLE_T3": "NA",
         "PSU_SMC_CYCLE_T4": "NA",
         "PSU_SMC_CYCLE_T5": "NA",
         "PSU_SMC_CYCLE_T6": "NA",
         "PSU_UIPARAM_GENERATE_SUMMARY": "<Select>",
         "PSU_USB3__DUAL_CLOCK_ENABLE": "1",
         "PSU_VALUE_SILVERSION": "3",
         "PSU__ACPU0__POWER__ON": "1",
         "PSU__ACPU1__POWER__ON": "1",
         "PSU__ACPU2__POWER__ON": "1",
         "PSU__ACPU3__POWER__ON": "1",
         "PSU__ACTUAL__IP": "1",
         "PSU__ACT_DDR_FREQ_MHZ": "1199.988037",
         "PSU__AFI0_COHERENCY": "0",
         "PSU__AFI1_COHERENCY": "0",
         "PSU__AUX_REF_CLK__FREQMHZ": "33.333",
         "PSU__CAN0_LOOP_CAN1__ENABLE": "0",
         "PSU__CAN0__GRP_CLK__ENABLE": "0",
         "PSU__CAN0__GRP_CLK__IO": "<Select>",
         "PSU__CAN0__PERIPHERAL__ENABLE": "0",
         "PSU__CAN0__PERIPHERAL__IO": "<Select>",
         "PSU__CAN1__GRP_CLK__ENABLE": "0",
         "PSU__CAN1__GRP_CLK__IO": "<Select>",
         "PSU__CAN1__PERIPHERAL__ENABLE": "0",
         "PSU__CAN1__PERIPHERAL__IO": "<Select>",
         "PSU__CRF_APB__ACPU_CTRL__ACT_FREQMHZ": "1199.988037",
         "PSU__CRF_APB__ACPU_CTRL__DIVISOR0": "1",
         "PSU__CRF_APB__ACPU_CTRL__FREQMHZ": "1200",
         "PSU__CRF_APB__ACPU_CTRL__SRCSEL": "APLL",
         "PSU__CRF_APB__ACPU__FRAC_ENABLED": "0",
         "PSU__CRF_APB__AFI0_REF_CTRL__ACT_FREQMHZ": "667",
         "PSU__CRF_APB__AFI0_REF_CTRL__DIVISOR0": "2",
         "PSU__CRF_APB__AFI0_REF_CTRL__FREQMHZ": "667",
         "PSU__CRF_APB__AFI0_REF_CTRL__SRCSEL": "DPLL",
         "PSU__CRF_APB__AFI0_REF__ENABLE": "0",
         "PSU__CRF_APB__AFI1_REF_CTRL__ACT_FREQMHZ": "667",
         "PSU__CRF_APB__AFI1_REF_CTRL__DIVISOR0": "2",
         "PSU__CRF_APB__AFI1_REF_CTRL__FREQMHZ": "667",
         "PSU__CRF_APB__AFI1_REF_CTRL__SRCSEL": "DPLL",
         "PSU__CRF_APB__AFI1_REF__ENABLE": "0",
         "PSU__CRF_APB__AFI2_REF_CTRL__ACT_FREQMHZ": "667",
         "PSU__CRF_APB__AFI2_REF_CTRL__DIVISOR0": "2",
         "PSU__CRF_APB__AFI2_REF_CTRL__FREQMHZ": "667",
         "PSU__CRF_APB__AFI2_REF_CTRL__SRCSEL": "DPLL",
         "PSU__CRF_APB__AFI2_REF__ENABLE": "0",
         "PSU__CRF_APB__AFI3_REF_CTRL__ACT_FREQMHZ": "667",
         "PSU__CRF_APB__AFI3_REF_CTRL__DIVISOR0": "2",
         "PSU__CRF_APB__AFI3_REF_CTRL__FREQMHZ": "667",
         "PSU__CRF_APB__AFI3_REF_CTRL__SRCSEL": "DPLL",
         "PSU__CRF_APB__AFI3_REF__ENABLE": "0",
         "PSU__CRF_APB__AFI4_REF_CTRL__ACT_FREQMHZ": "667",
         "PSU__CRF_APB__AFI4_REF_CTRL__DIVISOR0": "2",
         "PSU__CRF_APB__AFI4_REF_CTRL__FREQMHZ": "667",
         "PSU__CRF_APB__AFI4_REF_CTRL__SRCSEL": "DPLL",
         "PSU__CRF_APB__AFI4_REF__ENABLE": "0",
         "PSU__CRF_APB__AFI5_REF_CTRL__ACT_FREQMHZ": "667",
         "PSU__CRF_APB__AFI5_REF_CTRL__DIVISOR0": "2",
         "PSU__CRF_APB__AFI5_REF_CTRL__FREQMHZ": "667",
         "PSU__CRF_APB__AFI5_REF_CTRL__SRCSEL": "DPLL",
         "PSU__CRF_APB__AFI5_REF__ENABLE": "0",
         "PSU__CRF_APB__APLL_CTRL__DIV2": "1",
         "PSU__CRF_APB__APLL_CTRL__FBDIV": "72",
         "PSU__CRF_APB__APLL_CTRL__FRACDATA": "0.000000",
         "PSU__CRF_APB__APLL_CTRL__FRACFREQ": "27.138",
         "PSU__CRF_APB__APLL_CTRL__SRCSEL": "PSS_REF_CLK",
         "PSU__CRF_APB__APLL_FRAC_CFG__ENABLED": "0",
         "PSU__CRF_APB__APLL_TO_LPD_CTRL__DIVISOR0": "3",
         "PSU__CRF_APB__APM_CTRL__ACT_FREQMHZ": "1",
         "PSU__CRF_APB__APM_CTRL__DIVISOR0": "1",
         "PSU__CRF_APB__APM_CTRL__FREQMHZ": "1",
         "PSU__CRF_APB__APM_CTRL__SRCSEL": "<Select>",
         "PSU__CRF_APB__DBG_FPD_CTRL__ACT_FREQMHZ": "249.997498",
         "PSU__CRF_APB__DBG_FPD_CTRL__DIVISOR0": "2",
         "PSU__CRF_APB__DBG_FPD_CTRL__FREQMHZ": "250",
         "PSU__CRF_APB__DBG_FPD_CTRL__SRCSEL": "IOPLL",
         "PSU__CRF_APB__DBG_TRACE_CTRL__ACT_FREQMHZ": "250",
         "PSU__CRF_APB__DBG_TRACE_CTRL__DIVISOR0": "5",
         "PSU__CRF_APB__DBG_TRACE_CTRL__FREQMHZ": "250",
         "PSU__CRF_APB__DBG_TRACE_CTRL__SRCSEL": "IOPLL",
         "PSU__CRF_APB__DBG_TSTMP_CTRL__ACT_FREQMHZ": "249.997498",
         "PSU__CRF_APB__DBG_TSTMP_CTRL__DIVISOR0": "2",
         "PSU__CRF_APB__DBG_TSTMP_CTRL__FREQMHZ": "250",
         "PSU__CRF_APB__DBG_TSTMP_CTRL__SRCSEL": "IOPLL",
         "PSU__CRF_APB__DDR_CTRL__ACT_FREQMHZ": "599.994019",
         "PSU__CRF_APB__DDR_CTRL__DIVISOR0": "2",
         "PSU__CRF_APB__DDR_CTRL__FREQMHZ": "1200",
         "PSU__CRF_APB__DDR_CTRL__SRCSEL": "DPLL",
         "PSU__CRF_APB__DPDMA_REF_CTRL__ACT_FREQMHZ": "599.994019",
         "PSU__CRF_APB__DPDMA_REF_CTRL__DIVISOR0": "2",
         "PSU__CRF_APB__DPDMA_REF_CTRL__FREQMHZ": "600",
         "PSU__CRF_APB__DPDMA_REF_CTRL__SRCSEL": "DPLL",
         "PSU__CRF_APB__DPLL_CTRL__DIV2": "1",
         "PSU__CRF_APB__DPLL_CTRL__FBDIV": "72",
         "PSU__CRF_APB__DPLL_CTRL__FRACDATA": "0.000000",
         "PSU__CRF_APB__DPLL_CTRL__FRACFREQ": "27.138",
         "PSU__CRF_APB__DPLL_CTRL__SRCSEL": "PSS_REF_CLK",
         "PSU__CRF_APB__DPLL_FRAC_CFG__ENABLED": "0",
         "PSU__CRF_APB__DPLL_TO_LPD_CTRL__DIVISOR0": "3",
         "PSU__CRF_APB__DP_AUDIO_REF_CTRL__ACT_FREQMHZ": "24.242182",
         "PSU__CRF_APB__DP_AUDIO_REF_CTRL__DIVISOR0": "22",
         "PSU__CRF_APB__DP_AUDIO_REF_CTRL__DIVISOR1": "1",
         "PSU__CRF_APB__DP_AUDIO_REF_CTRL__FREQMHZ": "25",
         "PSU__CRF_APB__DP_AUDIO_REF_CTRL__SRCSEL": "RPLL",
         "PSU__CRF_APB__DP_AUDIO__FRAC_ENABLED": "0",
         "PSU__CRF_APB__DP_STC_REF_CTRL__ACT_FREQMHZ": "26.666401",
         "PSU__CRF_APB__DP_STC_REF_CTRL__DIVISOR0": "20",
         "PSU__CRF_APB__DP_STC_REF_CTRL__DIVISOR1": "1",
         "PSU__CRF_APB__DP_STC_REF_CTRL__FREQMHZ": "27",
         "PSU__CRF_APB__DP_STC_REF_CTRL__SRCSEL": "RPLL",
         "PSU__CRF_APB__DP_VIDEO_REF_CTRL__ACT_FREQMHZ": "299.997009",
         "PSU__CRF_APB__DP_VIDEO_REF_CTRL__DIVISOR0": "4",
         "PSU__CRF_APB__DP_VIDEO_REF_CTRL__DIVISOR1": "1",
         "PSU__CRF_APB__DP_VIDEO_REF_CTRL__FREQMHZ": "300",
         "PSU__CRF_APB__DP_VIDEO_REF_CTRL__SRCSEL": "DPLL",
         "PSU__CRF_APB__DP_VIDEO__FRAC_ENABLED": "0",
         "PSU__CRF_APB__GDMA_REF_CTRL__ACT_FREQMHZ": "599.994019",
         "PSU__CRF_APB__GDMA_REF_CTRL__DIVISOR0": "2",
         "PSU__CRF_APB__GDMA_REF_CTRL__FREQMHZ": "600",
         "PSU__CRF_APB__GDMA_REF_CTRL__SRCSEL": "DPLL",
         "PSU__CRF_APB__GPU_REF_CTRL__ACT_FREQMHZ": "0",
         "PSU__CRF_APB__GPU_REF_CTRL__DIVISOR0": "3",
         "PSU__CRF_APB__GPU_REF_CTRL__FREQMHZ": "600",
         "PSU__CRF_APB__GPU_REF_CTRL__SRCSEL": "DPLL",
         "PSU__CRF_APB__GTGREF0_REF_CTRL__ACT_FREQMHZ": "-1",
         "PSU__CRF_APB__GTGREF0_REF_CTRL__DIVISOR0": "-1",
         "PSU__CRF_APB__GTGREF0_REF_CTRL__FREQMHZ": "-1",
         "PSU__CRF_APB__GTGREF0_REF_CTRL__SRCSEL": "NA",
         "PSU__CRF_APB__GTGREF0__ENABLE": "NA",
         "PSU__CRF_APB__PCIE_REF_CTRL__ACT_FREQMHZ": "250",
         "PSU__CRF_APB__PCIE_REF_CTRL__DIVISOR0": "6",
         "PSU__CRF_APB__PCIE_REF_CTRL__FREQMHZ": "250",
         "PSU__CRF_APB__PCIE_REF_CTRL__SRCSEL": "IOPLL",
         "PSU__CRF_APB__SATA_REF_CTRL__ACT_FREQMHZ": "250",
         "PSU__CRF_APB__SATA_REF_CTRL__DIVISOR0": "5",
         "PSU__CRF_APB__SATA_REF_CTRL__FREQMHZ": "250",
         "PSU__CRF_APB__SATA_REF_CTRL__SRCSEL": "IOPLL",
         "PSU__CRF_APB__TOPSW_LSBUS_CTRL__ACT_FREQMHZ": "99.999001",
         "PSU__CRF_APB__TOPSW_LSBUS_CTRL__DIVISOR0": "5",
         "PSU__CRF_APB__TOPSW_LSBUS_CTRL__FREQMHZ": "100",
         "PSU__CRF_APB__TOPSW_LSBUS_CTRL__SRCSEL": "IOPLL",
         "PSU__CRF_APB__TOPSW_MAIN_CTRL__ACT_FREQMHZ": "399.996002",
         "PSU__CRF_APB__TOPSW_MAIN_CTRL__DIVISOR0": "3",
         "PSU__CRF_APB__TOPSW_MAIN_CTRL__FREQMHZ": "533.33",
         "PSU__CRF_APB__TOPSW_MAIN_CTRL__SRCSEL": "DPLL",
         "PSU__CRF_APB__VPLL_CTRL__DIV2": "1",
         "PSU__CRF_APB__VPLL_CTRL__FBDIV": "90",
         "PSU__CRF_APB__VPLL_CTRL__FRACDATA": "0.000000",
         "PSU__CRF_APB__VPLL_CTRL__FRACFREQ": "27.138",
         "PSU__CRF_APB__VPLL_CTRL__SRCSEL": "PSS_REF_CLK",
         "PSU__CRF_APB__VPLL_FRAC_CFG__ENABLED": "0",
         "PSU__CRF_APB__VPLL_TO_LPD_CTRL__DIVISOR0": "4",
         "PSU__CRL_APB__ADMA_REF_CTRL__ACT_FREQMHZ": "533.328003",
         "PSU__CRL_APB__ADMA_REF_CTRL__DIVISOR0": "2",
         "PSU__CRL_APB__ADMA_REF_CTRL__FREQMHZ": "533.333",
         "PSU__CRL_APB__ADMA_REF_CTRL__SRCSEL": "RPLL",
         "PSU__CRL_APB__AFI6_REF_CTRL__ACT_FREQMHZ": "500",
         "PSU__CRL_APB__AFI6_REF_CTRL__DIVISOR0": "3",
         "PSU__CRL_APB__AFI6_REF_CTRL__FREQMHZ": "500",
         "PSU__CRL_APB__AFI6_REF_CTRL__SRCSEL": "IOPLL",
         "PSU__CRL_APB__AFI6__ENABLE": "0",
         "PSU__CRL_APB__AMS_REF_CTRL__ACT_FREQMHZ": "49.999500",
         "PSU__CRL_APB__AMS_REF_CTRL__DIVISOR0": "30",
         "PSU__CRL_APB__AMS_REF_CTRL__DIVISOR1": "1",
         "PSU__CRL_APB__AMS_REF_CTRL__FREQMHZ": "50",
         "PSU__CRL_APB__AMS_REF_CTRL__SRCSEL": "IOPLL",
         "PSU__CRL_APB__CAN0_REF_CTRL__ACT_FREQMHZ": "100",
         "PSU__CRL_APB__CAN0_REF_CTRL__DIVISOR0": "15",
         "PSU__CRL_APB__CAN0_REF_CTRL__DIVISOR1": "1",
         "PSU__CRL_APB__CAN0_REF_CTRL__FREQMHZ": "100",
         "PSU__CRL_APB__CAN0_REF_CTRL__SRCSEL": "IOPLL",
         "PSU__CRL_APB__CAN1_REF_CTRL__ACT_FREQMHZ": "100",
         "PSU__CRL_APB__CAN1_REF_CTRL__DIVISOR0": "15",
         "PSU__CRL_APB__CAN1_REF_CTRL__DIVISOR1": "1",
         "PSU__CRL_APB__CAN1_REF_CTRL__FREQMHZ": "100",
         "PSU__CRL_APB__CAN1_REF_CTRL__SRCSEL": "IOPLL",
         "PSU__CRL_APB__CPU_R5_CTRL__ACT_FREQMHZ": "499.994995",
         "PSU__CRL_APB__CPU_R5_CTRL__DIVISOR0": "3",
         "PSU__CRL_APB__CPU_R5_CTRL__FREQMHZ": "500",
         "PSU__CRL_APB__CPU_R5_CTRL__SRCSEL": "IOPLL",
         "PSU__CRL_APB__CSU_PLL_CTRL__ACT_FREQMHZ": "180",
         "PSU__CRL_APB__CSU_PLL_CTRL__DIVISOR0": "3",
         "PSU__CRL_APB__CSU_PLL_CTRL__FREQMHZ": "180",
         "PSU__CRL_APB__CSU_PLL_CTRL__SRCSEL": "SysOsc",
         "PSU__CRL_APB__DBG_LPD_CTRL__ACT_FREQMHZ": "249.997498",
         "PSU__CRL_APB__DBG_LPD_CTRL__DIVISOR0": "6",
         "PSU__CRL_APB__DBG_LPD_CTRL__FREQMHZ": "250",
         "PSU__CRL_APB__DBG_LPD_CTRL__SRCSEL": "IOPLL",
         "PSU__CRL_APB__DEBUG_R5_ATCLK_CTRL__ACT_FREQMHZ": "1000",
         "PSU__CRL_APB__DEBUG_R5_ATCLK_CTRL__DIVISOR0": "6",
         "PSU__CRL_APB__DEBUG_R5_ATCLK_CTRL__FREQMHZ": "1000",
         "PSU__CRL_APB__DEBUG_R5_ATCLK_CTRL__SRCSEL": "RPLL",
         "PSU__CRL_APB__DLL_REF_CTRL__ACT_FREQMHZ": "1499.984985",
         "PSU__CRL_APB__DLL_REF_CTRL__FREQMHZ": "1500",
         "PSU__CRL_APB__DLL_REF_CTRL__SRCSEL": "IOPLL",
         "PSU__CRL_APB__GEM0_REF_CTRL__ACT_FREQMHZ": "124.998749",
         "PSU__CRL_APB__GEM0_REF_CTRL__DIVISOR0": "12",
         "PSU__CRL_APB__GEM0_REF_CTRL__DIVISOR1": "1",
         "PSU__CRL_APB__GEM0_REF_CTRL__FREQMHZ": "125",
         "PSU__CRL_APB__GEM0_REF_CTRL__SRCSEL": "IOPLL",
         "PSU__CRL_APB__GEM1_REF_CTRL__ACT_FREQMHZ": "125",
         "PSU__CRL_APB__GEM1_REF_CTRL__DIVISOR0": "12",
         "PSU__CRL_APB__GEM1_REF_CTRL__DIVISOR1": "1",
         "PSU__CRL_APB__GEM1_REF_CTRL__FREQMHZ": "125",
         "PSU__CRL_APB__GEM1_REF_CTRL__SRCSEL": "IOPLL",
         "PSU__CRL_APB__GEM2_REF_CTRL__ACT_FREQMHZ": "125",
         "PSU__CRL_APB__GEM2_REF_CTRL__DIVISOR0": "12",
         "PSU__CRL_APB__GEM2_REF_CTRL__DIVISOR1": "1",
         "PSU__CRL_APB__GEM2_REF_CTRL__FREQMHZ": "125",
         "PSU__CRL_APB__GEM2_REF_CTRL__SRCSEL": "IOPLL",
         "PSU__CRL_APB__GEM3_REF_CTRL__ACT_FREQMHZ": "125",
         "PSU__CRL_APB__GEM3_REF_CTRL__DIVISOR0": "12",
         "PSU__CRL_APB__GEM3_REF_CTRL__DIVISOR1": "1",
         "PSU__CRL_APB__GEM3_REF_CTRL__FREQMHZ": "125",
         "PSU__CRL_APB__GEM3_REF_CTRL__SRCSEL": "IOPLL",
         "PSU__CRL_APB__GEM_TSU_REF_CTRL__ACT_FREQMHZ": "249.997498",
         "PSU__CRL_APB__GEM_TSU_REF_CTRL__DIVISOR0": "6",
         "PSU__CRL_APB__GEM_TSU_REF_CTRL__DIVISOR1": "1",
         "PSU__CRL_APB__GEM_TSU_REF_CTRL__FREQMHZ": "250",
         "PSU__CRL_APB__GEM_TSU_REF_CTRL__SRCSEL": "IOPLL",
         "PSU__CRL_APB__I2C0_REF_CTRL__ACT_FREQMHZ": "100",
         "PSU__CRL_APB__I2C0_REF_CTRL__DIVISOR0": "15",
         "PSU__CRL_APB__I2C0_REF_CTRL__DIVISOR1": "1",
         "PSU__CRL_APB__I2C0_REF_CTRL__FREQMHZ": "100",
         "PSU__CRL_APB__I2C0_REF_CTRL__SRCSEL": "IOPLL",
         "PSU__CRL_APB__I2C1_REF_CTRL__ACT_FREQMHZ": "99.999001",
         "PSU__CRL_APB__I2C1_REF_CTRL__DIVISOR0": "15",
         "PSU__CRL_APB__I2C1_REF_CTRL__DIVISOR1": "1",
         "PSU__CRL_APB__I2C1_REF_CTRL__FREQMHZ": "100",
         "PSU__CRL_APB__I2C1_REF_CTRL__SRCSEL": "IOPLL",
         "PSU__CRL_APB__IOPLL_CTRL__DIV2": "1",
         "PSU__CRL_APB__IOPLL_CTRL__FBDIV": "90",
         "PSU__CRL_APB__IOPLL_CTRL__FRACDATA": "0.000000",
         "PSU__CRL_APB__IOPLL_CTRL__FRACFREQ": "27.138",
         "PSU__CRL_APB__IOPLL_CTRL__SRCSEL": "PSS_REF_CLK",
         "PSU__CRL_APB__IOPLL_FRAC_CFG__ENABLED": "0",
         "PSU__CRL_APB__IOPLL_TO_FPD_CTRL__DIVISOR0": "3",
         "PSU__CRL_APB__IOU_SWITCH_CTRL__ACT_FREQMHZ": "266.664001",
         "PSU__CRL_APB__IOU_SWITCH_CTRL__DIVISOR0": "4",
         "PSU__CRL_APB__IOU_SWITCH_CTRL__FREQMHZ": "267",
         "PSU__CRL_APB__IOU_SWITCH_CTRL__SRCSEL": "RPLL",
         "PSU__CRL_APB__LPD_LSBUS_CTRL__ACT_FREQMHZ": "99.999001",
         "PSU__CRL_APB__LPD_LSBUS_CTRL__DIVISOR0": "15",
         "PSU__CRL_APB__LPD_LSBUS_CTRL__FREQMHZ": "100",
         "PSU__CRL_APB__LPD_LSBUS_CTRL__SRCSEL": "IOPLL",
         "PSU__CRL_APB__LPD_SWITCH_CTRL__ACT_FREQMHZ": "533.328003",
         "PSU__CRL_APB__LPD_SWITCH_CTRL__DIVISOR0": "2",
         "PSU__CRL_APB__LPD_SWITCH_CTRL__FREQMHZ": "533.333",
         "PSU__CRL_APB__LPD_SWITCH_CTRL__SRCSEL": "RPLL",
         "PSU__CRL_APB__NAND_REF_CTRL__ACT_FREQMHZ": "100",
         "PSU__CRL_APB__NAND_REF_CTRL__DIVISOR0": "15",
         "PSU__CRL_APB__NAND_REF_CTRL__DIVISOR1": "1",
         "PSU__CRL_APB__NAND_REF_CTRL__FREQMHZ": "100",
         "PSU__CRL_APB__NAND_REF_CTRL__SRCSEL": "IOPLL",
         "PSU__CRL_APB__OCM_MAIN_CTRL__ACT_FREQMHZ": "500",
         "PSU__CRL_APB__OCM_MAIN_CTRL__DIVISOR0": "3",
         "PSU__CRL_APB__OCM_MAIN_CTRL__FREQMHZ": "500",
         "PSU__CRL_APB__OCM_MAIN_CTRL__SRCSEL": "IOPLL",
         "PSU__CRL_APB__PCAP_CTRL__ACT_FREQMHZ": "187.498123",
         "PSU__CRL_APB__PCAP_CTRL__DIVISOR0": "8",
         "PSU__CRL_APB__PCAP_CTRL__FREQMHZ": "200",
         "PSU__CRL_APB__PCAP_CTRL__SRCSEL": "IOPLL",
         "PSU__CRL_APB__PL0_REF_CTRL__ACT_FREQMHZ": "249.997498",
         "PSU__CRL_APB__PL0_REF_CTRL__DIVISOR0": "6",
         "PSU__CRL_APB__PL0_REF_CTRL__DIVISOR1": "1",
         "PSU__CRL_APB__PL0_REF_CTRL__FREQMHZ": "250",
         "PSU__CRL_APB__PL0_REF_CTRL__SRCSEL": "IOPLL",
         "PSU__CRL_APB__PL1_REF_CTRL__ACT_FREQMHZ": "100",
         "PSU__CRL_APB__PL1_REF_CTRL__DIVISOR0": "4",
         "PSU__CRL_APB__PL1_REF_CTRL__DIVISOR1": "1",
         "PSU__CRL_APB__PL1_REF_CTRL__FREQMHZ": "100",
         "PSU__CRL_APB__PL1_REF_CTRL__SRCSEL": "RPLL",
         "PSU__CRL_APB__PL2_REF_CTRL__ACT_FREQMHZ": "100",
         "PSU__CRL_APB__PL2_REF_CTRL__DIVISOR0": "4",
         "PSU__CRL_APB__PL2_REF_CTRL__DIVISOR1": "1",
         "PSU__CRL_APB__PL2_REF_CTRL__FREQMHZ": "100",
         "PSU__CRL_APB__PL2_REF_CTRL__SRCSEL": "RPLL",
         "PSU__CRL_APB__PL3_REF_CTRL__ACT_FREQMHZ": "100",
         "PSU__CRL_APB__PL3_REF_CTRL__DIVISOR0": "4",
         "PSU__CRL_APB__PL3_REF_CTRL__DIVISOR1": "1",
         "PSU__CRL_APB__PL3_REF_CTRL__FREQMHZ": "100",
         "PSU__CRL_APB__PL3_REF_CTRL__SRCSEL": "RPLL",
         "PSU__CRL_APB__QSPI_REF_CTRL__ACT_FREQMHZ": "300",
         "PSU__CRL_APB__QSPI_REF_CTRL__DIVISOR0": "5",
         "PSU__CRL_APB__QSPI_REF_CTRL__DIVISOR1": "1",
         "PSU__CRL_APB__QSPI_REF_CTRL__FREQMHZ": "125",
         "PSU__CRL_APB__QSPI_REF_CTRL__SRCSEL": "IOPLL",
         "PSU__CRL_APB__RPLL_CTRL__DIV2": "1",
         "PSU__CRL_APB__RPLL_CTRL__FBDIV": "64",
         "PSU__CRL_APB__RPLL_CTRL__FRACDATA": "0.000000",
         "PSU__CRL_APB__RPLL_CTRL__FRACFREQ": "27.138",
         "PSU__CRL_APB__RPLL_CTRL__SRCSEL": "PSS_REF_CLK",
         "PSU__CRL_APB__RPLL_FRAC_CFG__ENABLED": "0",
         "PSU__CRL_APB__RPLL_TO_FPD_CTRL__DIVISOR0": "2",
         "PSU__CRL_APB__SDIO0_REF_CTRL__ACT_FREQMHZ": "200",
         "PSU__CRL_APB__SDIO0_REF_CTRL__DIVISOR0": "7",
         "PSU__CRL_APB__SDIO0_REF_CTRL__DIVISOR1": "1",
         "PSU__CRL_APB__SDIO0_REF_CTRL__FREQMHZ": "200",
         "PSU__CRL_APB__SDIO0_REF_CTRL__SRCSEL": "RPLL",
         "PSU__CRL_APB__SDIO1_REF_CTRL__ACT_FREQMHZ": "187.498123",
         "PSU__CRL_APB__SDIO1_REF_CTRL__DIVISOR0": "8",
         "PSU__CRL_APB__SDIO1_REF_CTRL__DIVISOR1": "1",
         "PSU__CRL_APB__SDIO1_REF_CTRL__FREQMHZ": "200",
         "PSU__CRL_APB__SDIO1_REF_CTRL__SRCSEL": "IOPLL",
         "PSU__CRL_APB__SPI0_REF_CTRL__ACT_FREQMHZ": "214",
         "PSU__CRL_APB__SPI0_REF_CTRL__DIVISOR0": "7",
         "PSU__CRL_APB__SPI0_REF_CTRL__DIVISOR1": "1",
         "PSU__CRL_APB__SPI0_REF_CTRL__FREQMHZ": "200",
         "PSU__CRL_APB__SPI0_REF_CTRL__SRCSEL": "RPLL",
         "PSU__CRL_APB__SPI1_REF_CTRL__ACT_FREQMHZ": "214",
         "PSU__CRL_APB__SPI1_REF_CTRL__DIVISOR0": "7",
         "PSU__CRL_APB__SPI1_REF_CTRL__DIVISOR1": "1",
         "PSU__CRL_APB__SPI1_REF_CTRL__FREQMHZ": "200",
         "PSU__CRL_APB__SPI1_REF_CTRL__SRCSEL": "RPLL",
         "PSU__CRL_APB__TIMESTAMP_REF_CTRL__ACT_FREQMHZ": "33.333000",
         "PSU__CRL_APB__TIMESTAMP_REF_CTRL__DIVISOR0": "1",
         "PSU__CRL_APB__TIMESTAMP_REF_CTRL__FREQMHZ": "100",
         "PSU__CRL_APB__TIMESTAMP_REF_CTRL__SRCSEL": "PSS_REF_CLK",
         "PSU__CRL_APB__UART0_REF_CTRL__ACT_FREQMHZ": "99.999001",
         "PSU__CRL_APB__UART0_REF_CTRL__DIVISOR0": "15",
         "PSU__CRL_APB__UART0_REF_CTRL__DIVISOR1": "1",
         "PSU__CRL_APB__UART0_REF_CTRL__FREQMHZ": "100",
         "PSU__CRL_APB__UART0_REF_CTRL__SRCSEL": "IOPLL",
         "PSU__CRL_APB__UART1_REF_CTRL__ACT_FREQMHZ": "100",
         "PSU__CRL_APB__UART1_REF_CTRL__DIVISOR0": "15",
         "PSU__CRL_APB__UART1_REF_CTRL__DIVISOR1": "1",
         "PSU__CRL_APB__UART1_REF_CTRL__FREQMHZ": "100",
         "PSU__CRL_APB__UART1_REF_CTRL__SRCSEL": "IOPLL",
         "PSU__CRL_APB__USB0_BUS_REF_CTRL__ACT_FREQMHZ": "249.997498",
         "PSU__CRL_APB__USB0_BUS_REF_CTRL__DIVISOR0": "6",
         "PSU__CRL_APB__USB0_BUS_REF_CTRL__DIVISOR1": "1",
         "PSU__CRL_APB__USB0_BUS_REF_CTRL__FREQMHZ": "250",
         "PSU__CRL_APB__USB0_BUS_REF_CTRL__SRCSEL": "IOPLL",
         "PSU__CRL_APB__USB1_BUS_REF_CTRL__ACT_FREQMHZ": "249.997498",
         "PSU__CRL_APB__USB1_BUS_REF_CTRL__DIVISOR0": "6",
         "PSU__CRL_APB__USB1_BUS_REF_CTRL__DIVISOR1": "1",
         "PSU__CRL_APB__USB1_BUS_REF_CTRL__FREQMHZ": "250",
         "PSU__CRL_APB__USB1_BUS_REF_CTRL__SRCSEL": "IOPLL",
         "PSU__CRL_APB__USB3_DUAL_REF_CTRL__ACT_FREQMHZ": "19.999800",
         "PSU__CRL_APB__USB3_DUAL_REF_CTRL__DIVISOR0": "25",
         "PSU__CRL_APB__USB3_DUAL_REF_CTRL__DIVISOR1": "3",
         "PSU__CRL_APB__USB3_DUAL_REF_CTRL__FREQMHZ": "20",
         "PSU__CRL_APB__USB3_DUAL_REF_CTRL__SRCSEL": "IOPLL",
         "PSU__CRL_APB__USB3__ENABLE": "1",
         "PSU__CSUPMU__PERIPHERAL__VALID": "0",
         "PSU__CSU_COHERENCY": "0",
         "PSU__CSU__CSU_TAMPER_0__ENABLE": "0",
         "PSU__CSU__CSU_TAMPER_0__ERASE_BBRAM": "0",
         "PSU__CSU__CSU_TAMPER_0__RESPONSE": "<Select>",
         "PSU__CSU__CSU_TAMPER_10__ENABLE": "0",
         "PSU__CSU__CSU_TAMPER_10__ERASE_BBRAM": "0",
         "PSU__CSU__CSU_TAMPER_10__RESPONSE": "<Select>",
         "PSU__CSU__CSU_TAMPER_11__ENABLE": "0",
         "PSU__CSU__CSU_TAMPER_11__ERASE_BBRAM": "0",
         "PSU__CSU__CSU_TAMPER_11__RESPONSE": "<Select>",
         "PSU__CSU__CSU_TAMPER_12__ENABLE": "0",
         "PSU__CSU__CSU_TAMPER_12__ERASE_BBRAM": "0",
         "PSU__CSU__CSU_TAMPER_12__RESPONSE": "<Select>",
         "PSU__CSU__CSU_TAMPER_1__ENABLE": "0",
         "PSU__CSU__CSU_TAMPER_1__ERASE_BBRAM": "0",
         "PSU__CSU__CSU_TAMPER_1__RESPONSE": "<Select>",
         "PSU__CSU__CSU_TAMPER_2__ENABLE": "0",
         "PSU__CSU__CSU_TAMPER_2__ERASE_BBRAM": "0",
         "PSU__CSU__CSU_TAMPER_2__RESPONSE": "<Select>",
         "PSU__CSU__CSU_TAMPER_3__ENABLE": "0",
         "PSU__CSU__CSU_TAMPER_3__ERASE_BBRAM": "0",
         "PSU__CSU__CSU_TAMPER_3__RESPONSE": "<Select>",
         "PSU__CSU__CSU_TAMPER_4__ENABLE": "0",
         "PSU__CSU__CSU_TAMPER_4__ERASE_BBRAM": "0",
         "PSU__CSU__CSU_TAMPER_4__RESPONSE": "<Select>",
         "PSU__CSU__CSU_TAMPER_5__ENABLE": "0",
         "PSU__CSU__CSU_TAMPER_5__ERASE_BBRAM": "0",
         "PSU__CSU__CSU_TAMPER_5__RESPONSE": "<Select>",
         "PSU__CSU__CSU_TAMPER_6__ENABLE": "0",
         "PSU__CSU__CSU_TAMPER_6__ERASE_BBRAM": "0",
         "PSU__CSU__CSU_TAMPER_6__RESPONSE": "<Select>",
         "PSU__CSU__CSU_TAMPER_7__ENABLE": "0",
         "PSU__CSU__CSU_TAMPER_7__ERASE_BBRAM": "0",
         "PSU__CSU__CSU_TAMPER_7__RESPONSE": "<Select>",
         "PSU__CSU__CSU_TAMPER_8__ENABLE": "0",
         "PSU__CSU__CSU_TAMPER_8__ERASE_BBRAM": "0",
         "PSU__CSU__CSU_TAMPER_8__RESPONSE": "<Select>",
         "PSU__CSU__CSU_TAMPER_9__ENABLE": "0",
         "PSU__CSU__CSU_TAMPER_9__ERASE_BBRAM": "0",
         "PSU__CSU__CSU_TAMPER_9__RESPONSE": "<Select>",
         "PSU__CSU__PERIPHERAL__ENABLE": "0",
         "PSU__CSU__PERIPHERAL__IO": "<Select>",
         "PSU__DDRC__ADDR_MIRROR": "0",
         "PSU__DDRC__AL": "0",
         "PSU__DDRC__BANK_ADDR_COUNT": "2",
         "PSU__DDRC__BG_ADDR_COUNT": "1",
         "PSU__DDRC__BRC_MAPPING": "ROW_BANK_COL",
         "PSU__DDRC__BUS_WIDTH": "64 Bit",
         "PSU__DDRC__CL": "16",
         "PSU__DDRC__CLOCK_STOP_EN": "0",
         "PSU__DDRC__COL_ADDR_COUNT": "10",
         "PSU__DDRC__COMPONENTS": "Components",
         "PSU__DDRC__CWL": "12",
         "PSU__DDRC__DDR3L_T_REF_RANGE": "NA",
         "PSU__DDRC__DDR3_T_REF_RANGE": "NA",
         "PSU__DDRC__DDR4_ADDR_MAPPING": "0",
         "PSU__DDRC__DDR4_CAL_MODE_ENABLE": "0",
         "PSU__DDRC__DDR4_CRC_CONTROL": "0",
         "PSU__DDRC__DDR4_MAXPWR_SAVING_EN": "0",
         "PSU__DDRC__DDR4_T_REF_MODE": "0",
         "PSU__DDRC__DDR4_T_REF_RANGE": "Normal (0-85)",
         "PSU__DDRC__DEEP_PWR_DOWN_EN": "0",
         "PSU__DDRC__DERATE_INT_D": "<Select>",
         "PSU__DDRC__DEVICE_CAPACITY": "16384 MBits",
         "PSU__DDRC__DIMM_ADDR_MIRROR": "0",
         "PSU__DDRC__DM_DBI": "DM_NO_DBI",
         "PSU__DDRC__DQMAP_0_3": "0",
         "PSU__DDRC__DQMAP_12_15": "0",
         "PSU__DDRC__DQMAP_16_19": "0",
         "PSU__DDRC__DQMAP_20_23": "0",
         "PSU__DDRC__DQMAP_24_27": "0",
         "PSU__DDRC__DQMAP_28_31": "0",
         "PSU__DDRC__DQMAP_32_35": "0",
         "PSU__DDRC__DQMAP_36_39": "0",
         "PSU__DDRC__DQMAP_40_43": "0",
         "PSU__DDRC__DQMAP_44_47": "0",
         "PSU__DDRC__DQMAP_48_51": "0",
         "PSU__DDRC__DQMAP_4_7": "0",
         "PSU__DDRC__DQMAP_52_55": "0",
         "PSU__DDRC__DQMAP_56_59": "0",
         "PSU__DDRC__DQMAP_60_63": "0",
         "PSU__DDRC__DQMAP_64_67": "0",
         "PSU__DDRC__DQMAP_68_71": "0",
         "PSU__DDRC__DQMAP_8_11": "0",
         "PSU__DDRC__DRAM_WIDTH": "16 Bits",
         "PSU__DDRC__ECC": "Disabled",
         "PSU__DDRC__ECC_SCRUB": "0",
         "PSU__DDRC__ENABLE": "1",
         "PSU__DDRC__ENABLE_2T_TIMING": "0",
         "PSU__DDRC__ENABLE_DP_SWITCH": "0",
         "PSU__DDRC__ENABLE_LP4_HAS_ECC_COMP": "0",
         "PSU__DDRC__ENABLE_LP4_SLOWBOOT": "0",
         "PSU__DDRC__EN_2ND_CLK": "0",
         "PSU__DDRC__FGRM": "1X",
         "PSU__DDRC__FREQ_MHZ": "1",
         "PSU__DDRC__HIGH_TEMP": "<Select>",
         "PSU__DDRC__LPDDR3_DUALRANK_SDP": "0",
         "PSU__DDRC__LPDDR3_T_REF_RANGE": "NA",
         "PSU__DDRC__LPDDR4_T_REF_RANGE": "NA",
         "PSU__DDRC__LP_ASR": "manual normal",
         "PSU__DDRC__MEMORY_TYPE": "DDR 4",
         "PSU__DDRC__PARITY_ENABLE": "0",
         "PSU__DDRC__PARTNO": "<Select>",
         "PSU__DDRC__PER_BANK_REFRESH": "0",
         "PSU__DDRC__PHY_DBI_MODE": "0",
         "PSU__DDRC__PLL_BYPASS": "0",
         "PSU__DDRC__PWR_DOWN_EN": "0",
         "PSU__DDRC__RANK_ADDR_COUNT": "0",
         "PSU__DDRC__RD_DQS_CENTER": "0",
         "PSU__DDRC__ROW_ADDR_COUNT": "17",
         "PSU__DDRC__SB_TARGET": "16-16-16",
         "PSU__DDRC__SELF_REF_ABORT": "0",
         "PSU__DDRC__SPEED_BIN": "DDR4_2400R",
         "PSU__DDRC__STATIC_RD_MODE": "0",
         "PSU__DDRC__TRAIN_DATA_EYE": "1",
         "PSU__DDRC__TRAIN_READ_GATE": "1",
         "PSU__DDRC__TRAIN_WRITE_LEVEL": "1",
         "PSU__DDRC__T_FAW": "30.0",
         "PSU__DDRC__T_RAS_MIN": "32.0",
         "PSU__DDRC__T_RC": "45.32",
         "PSU__DDRC__T_RCD": "16",
         "PSU__DDRC__T_RP": "16",
         "PSU__DDRC__VENDOR_PART": "OTHERS",
         "PSU__DDRC__VIDEO_BUFFER_SIZE": "0",
         "PSU__DDRC__VREF": "1",
         "PSU__DDR_HIGH_ADDRESS_GUI_ENABLE": "1",
         "PSU__DDR_QOS_ENABLE": "0",
         "PSU__DDR_QOS_PORT0_TYPE": "<Select>",
         "PSU__DDR_QOS_PORT1_VN1_TYPE": "<Select>",
         "PSU__DDR_QOS_PORT1_VN2_TYPE": "<Select>",
         "PSU__DDR_QOS_PORT2_VN1_TYPE": "<Select>",
         "PSU__DDR_QOS_PORT2_VN2_TYPE": "<Select>",
         "PSU__DDR_QOS_PORT3_TYPE": "<Select>",
         "PSU__DDR_QOS_PORT4_TYPE": "<Select>",
         "PSU__DDR_QOS_PORT5_TYPE": "<Select>",
         "PSU__DDR_SW_REFRESH_ENABLED": "1",
         "PSU__DDR__INTERFACE__FREQMHZ": "600.000",
         "PSU__DEVICE_TYPE": "RFSOC",
         "PSU__DISPLAYPORT__LANE0__ENABLE": "1",
         "PSU__DISPLAYPORT__LANE0__IO": "GT Lane1",
         "PSU__DISPLAYPORT__LANE1__ENABLE": "1",
         "PSU__DISPLAYPORT__LANE1__IO": "GT Lane0",
         "PSU__DISPLAYPORT__PERIPHERAL__ENABLE": "1",
         "PSU__DLL__ISUSED": "1",
         "PSU__DPAUX__PERIPHERAL__ENABLE": "1",
         "PSU__DPAUX__PERIPHERAL__IO": "EMIO",
         "PSU__DP__LANE_SEL": "Dual Lower",
         "PSU__DP__REF_CLK_FREQ": "27",
         "PSU__DP__REF_CLK_SEL": "Ref Clk0",
         "PSU__ENABLE__DDR__REFRESH__SIGNALS": "0",
         "PSU__ENET0__FIFO__ENABLE": "0",
         "PSU__ENET0__GRP_MDIO__ENABLE": "1",
         "PSU__ENET0__GRP_MDIO__IO": "MIO 76 .. 77",
         "PSU__ENET0__PERIPHERAL__ENABLE": "1",
         "PSU__ENET0__PERIPHERAL__IO": "MIO 26 .. 37",
         "PSU__ENET0__PTP__ENABLE": "0",
         "PSU__ENET0__TSU__ENABLE": "0",
         "PSU__ENET1__FIFO__ENABLE": "0",
         "PSU__ENET1__GRP_MDIO__ENABLE": "0",
         "PSU__ENET1__GRP_MDIO__IO": "<Select>",
         "PSU__ENET1__PERIPHERAL__ENABLE": "0",
         "PSU__ENET1__PERIPHERAL__IO": "<Select>",
         "PSU__ENET1__PTP__ENABLE": "0",
         "PSU__ENET1__TSU__ENABLE": "0",
         "PSU__ENET2__FIFO__ENABLE": "0",
         "PSU__ENET2__GRP_MDIO__ENABLE": "0",
         "PSU__ENET2__GRP_MDIO__IO": "<Select>",
         "PSU__ENET2__PERIPHERAL__ENABLE": "0",
         "PSU__ENET2__PERIPHERAL__IO": "<Select>",
         "PSU__ENET2__PTP__ENABLE": "0",
         "PSU__ENET2__TSU__ENABLE": "0",
         "PSU__ENET3__FIFO__ENABLE": "0",
         "PSU__ENET3__GRP_MDIO__ENABLE": "0",
         "PSU__ENET3__GRP_MDIO__IO": "<Select>",
         "PSU__ENET3__PERIPHERAL__ENABLE": "0",
         "PSU__ENET3__PERIPHERAL__IO": "<Select>",
         "PSU__ENET3__PTP__ENABLE": "0",
         "PSU__ENET3__TSU__ENABLE": "0",
         "PSU__EN_AXI_STATUS_PORTS": "0",
         "PSU__EN_EMIO_TRACE": "0",
         "PSU__EP__IP": "0",
         "PSU__EXPAND__CORESIGHT": "0",
         "PSU__EXPAND__FPD_SLAVES": "0",
         "PSU__EXPAND__GIC": "0",
         "PSU__EXPAND__LOWER_LPS_SLAVES": "0",
         "PSU__EXPAND__UPPER_LPS_SLAVES": "0",
         "PSU__FPDMASTERS_COHERENCY": "0",
         "PSU__FPD_SLCR__WDT1__ACT_FREQMHZ": "100",
         "PSU__FPD_SLCR__WDT1__FREQMHZ": "100",
         "PSU__FPD_SLCR__WDT_CLK_SEL__SELECT": "APB",
         "PSU__FPGA_PL0_ENABLE": "1",
         "PSU__FPGA_PL1_ENABLE": "0",
         "PSU__FPGA_PL2_ENABLE": "0",
         "PSU__FPGA_PL3_ENABLE": "0",
         "PSU__FP__POWER__ON": "1",
         "PSU__FTM__CTI_IN_0": "0",
         "PSU__FTM__CTI_IN_1": "0",
         "PSU__FTM__CTI_IN_2": "0",
         "PSU__FTM__CTI_IN_3": "0",
         "PSU__FTM__CTI_OUT_0": "0",
         "PSU__FTM__CTI_OUT_1": "0",
         "PSU__FTM__CTI_OUT_2": "0",
         "PSU__FTM__CTI_OUT_3": "0",
         "PSU__FTM__GPI": "0",
         "PSU__FTM__GPO": "0",
         "PSU__GEM0_COHERENCY": "0",
         "PSU__GEM0_ROUTE_THROUGH_FPD": "0",
         "PSU__GEM0__REF_CLK_FREQ": "<Select>",
         "PSU__GEM0__REF_CLK_SEL": "<Select>",
         "PSU__GEM1_COHERENCY": "0",
         "PSU__GEM1_ROUTE_THROUGH_FPD": "0",
         "PSU__GEM1__REF_CLK_FREQ": "<Select>",
         "PSU__GEM1__REF_CLK_SEL": "<Select>",
         "PSU__GEM2_COHERENCY": "0",
         "PSU__GEM2_ROUTE_THROUGH_FPD": "0",
         "PSU__GEM2__REF_CLK_FREQ": "<Select>",
         "PSU__GEM2__REF_CLK_SEL": "<Select>",
         "PSU__GEM3_COHERENCY": "0",
         "PSU__GEM3_ROUTE_THROUGH_FPD": "0",
         "PSU__GEM3__REF_CLK_FREQ": "<Select>",
         "PSU__GEM3__REF_CLK_SEL": "<Select>",
         "PSU__GEM__TSU__ENABLE": "0",
         "PSU__GEM__TSU__IO": "<Select>",
         "PSU__GEN_IPI_0__MASTER": "APU",
         "PSU__GEN_IPI_10__MASTER": "NONE",
         "PSU__GEN_IPI_1__MASTER": "RPU0",
         "PSU__GEN_IPI_2__MASTER": "RPU1",
         "PSU__GEN_IPI_3__MASTER": "PMU",
         "PSU__GEN_IPI_4__MASTER": "PMU",
         "PSU__GEN_IPI_5__MASTER": "PMU",
         "PSU__GEN_IPI_6__MASTER": "PMU",
         "PSU__GEN_IPI_7__MASTER": "NONE",
         "PSU__GEN_IPI_8__MASTER": "NONE",
         "PSU__GEN_IPI_9__MASTER": "NONE",
         "PSU__GEN_IPI__TRUSTZONE": "<Select>",
         "PSU__GPIO0_MIO__IO": "MIO 0 .. 25",
         "PSU__GPIO0_MIO__PERIPHERAL__ENABLE": "1",
         "PSU__GPIO1_MIO__IO": "MIO 26 .. 51",
         "PSU__GPIO1_MIO__PERIPHERAL__ENABLE": "1",
         "PSU__GPIO2_MIO__IO": "<Select>",
         "PSU__GPIO2_MIO__PERIPHERAL__ENABLE": "0",
         "PSU__GPIO_EMIO_WIDTH": "1",
         "PSU__GPIO_EMIO__PERIPHERAL__ENABLE": "0",
         "PSU__GPIO_EMIO__PERIPHERAL__IO": "<Select>",
         "PSU__GPIO_EMIO__WIDTH": "[94:0]",
         "PSU__GPU_PP0__POWER__ON": "0",
         "PSU__GPU_PP1__POWER__ON": "0",
         "PSU__GT_REF_CLK__FREQMHZ": "33.333",
         "PSU__GT__LINK_SPEED": "HBR",
         "PSU__GT__PRE_EMPH_LVL_4": "0",
         "PSU__GT__VLT_SWNG_LVL_4": "0",
         "PSU__HIGH_ADDRESS__ENABLE": "1",
         "PSU__HPM0_FPD__NUM_READ_THREADS": "4",
         "PSU__HPM0_FPD__NUM_WRITE_THREADS": "4",
         "PSU__HPM0_LPD__NUM_READ_THREADS": "4",
         "PSU__HPM0_LPD__NUM_WRITE_THREADS": "4",
         "PSU__HPM1_FPD__NUM_READ_THREADS": "4",
         "PSU__HPM1_FPD__NUM_WRITE_THREADS": "4",
         "PSU__I2C0_LOOP_I2C1__ENABLE": "0",
         "PSU__I2C0__GRP_INT__ENABLE": "0",
         "PSU__I2C0__GRP_INT__IO": "<Select>",
         "PSU__I2C0__PERIPHERAL__ENABLE": "0",
         "PSU__I2C0__PERIPHERAL__IO": "<Select>",
         "PSU__I2C1__GRP_INT__ENABLE": "0",
         "PSU__I2C1__GRP_INT__IO": "<Select>",
         "PSU__I2C1__PERIPHERAL__ENABLE": "1",
         "PSU__I2C1__PERIPHERAL__IO": "MIO 16 .. 17",
         "PSU__IOU_SLCR__IOU_TTC_APB_CLK__TTC0_SEL": "APB",
         "PSU__IOU_SLCR__IOU_TTC_APB_CLK__TTC1_SEL": "APB",
         "PSU__IOU_SLCR__IOU_TTC_APB_CLK__TTC2_SEL": "APB",
         "PSU__IOU_SLCR__IOU_TTC_APB_CLK__TTC3_SEL": "APB",
         "PSU__IOU_SLCR__TTC0__ACT_FREQMHZ": "100",
         "PSU__IOU_SLCR__TTC0__FREQMHZ": "100",
         "PSU__IOU_SLCR__TTC1__ACT_FREQMHZ": "100",
         "PSU__IOU_SLCR__TTC1__FREQMHZ": "100",
         "PSU__IOU_SLCR__TTC2__ACT_FREQMHZ": "100",
         "PSU__IOU_SLCR__TTC2__FREQMHZ": "100",
         "PSU__IOU_SLCR__TTC3__ACT_FREQMHZ": "100",
         "PSU__IOU_SLCR__TTC3__FREQMHZ": "100",
         "PSU__IOU_SLCR__WDT0__ACT_FREQMHZ": "100",
         "PSU__IOU_SLCR__WDT0__FREQMHZ": "100",
         "PSU__IOU_SLCR__WDT_CLK_SEL__SELECT": "APB",
         "PSU__IRQ_P2F_ADMA_CHAN__INT": "0",
         "PSU__IRQ_P2F_AIB_AXI__INT": "0",
         "PSU__IRQ_P2F_AMS__INT": "0",
         "PSU__IRQ_P2F_APM_FPD__INT": "0",
         "PSU__IRQ_P2F_APU_COMM__INT": "0",
         "PSU__IRQ_P2F_APU_CPUMNT__INT": "0",
         "PSU__IRQ_P2F_APU_CTI__INT": "0",
         "PSU__IRQ_P2F_APU_EXTERR__INT": "0",
         "PSU__IRQ_P2F_APU_IPI__INT": "0",
         "PSU__IRQ_P2F_APU_L2ERR__INT": "0",
         "PSU__IRQ_P2F_APU_PMU__INT": "0",
         "PSU__IRQ_P2F_APU_REGS__INT": "0",
         "PSU__IRQ_P2F_ATB_LPD__INT": "0",
         "PSU__IRQ_P2F_CAN0__INT": "0",
         "PSU__IRQ_P2F_CAN1__INT": "0",
         "PSU__IRQ_P2F_CLKMON__INT": "0",
         "PSU__IRQ_P2F_CSUPMU_WDT__INT": "0",
         "PSU__IRQ_P2F_CSU_DMA__INT": "0",
         "PSU__IRQ_P2F_CSU__INT": "0",
         "PSU__IRQ_P2F_DDR_SS__INT": "0",
         "PSU__IRQ_P2F_DPDMA__INT": "0",
         "PSU__IRQ_P2F_DPORT__INT": "0",
         "PSU__IRQ_P2F_EFUSE__INT": "0",
         "PSU__IRQ_P2F_ENT0_WAKEUP__INT": "0",
         "PSU__IRQ_P2F_ENT0__INT": "0",
         "PSU__IRQ_P2F_ENT1_WAKEUP__INT": "0",
         "PSU__IRQ_P2F_ENT1__INT": "0",
         "PSU__IRQ_P2F_ENT2_WAKEUP__INT": "0",
         "PSU__IRQ_P2F_ENT2__INT": "0",
         "PSU__IRQ_P2F_ENT3_WAKEUP__INT": "0",
         "PSU__IRQ_P2F_ENT3__INT": "0",
         "PSU__IRQ_P2F_FPD_APB__INT": "0",
         "PSU__IRQ_P2F_FPD_ATB_ERR__INT": "0",
         "PSU__IRQ_P2F_FP_WDT__INT": "0",
         "PSU__IRQ_P2F_GDMA_CHAN__INT": "0",
         "PSU__IRQ_P2F_GPIO__INT": "0",
         "PSU__IRQ_P2F_GPU__INT": "0",
         "PSU__IRQ_P2F_I2C0__INT": "0",
         "PSU__IRQ_P2F_I2C1__INT": "0",
         "PSU__IRQ_P2F_LPD_APB__INT": "0",
         "PSU__IRQ_P2F_LPD_APM__INT": "0",
         "PSU__IRQ_P2F_LP_WDT__INT": "0",
         "PSU__IRQ_P2F_NAND__INT": "0",
         "PSU__IRQ_P2F_OCM_ERR__INT": "0",
         "PSU__IRQ_P2F_PCIE_DMA__INT": "0",
         "PSU__IRQ_P2F_PCIE_LEGACY__INT": "0",
         "PSU__IRQ_P2F_PCIE_MSC__INT": "0",
         "PSU__IRQ_P2F_PCIE_MSI__INT": "0",
         "PSU__IRQ_P2F_PL_IPI__INT": "0",
         "PSU__IRQ_P2F_QSPI__INT": "0",
         "PSU__IRQ_P2F_R5_CORE0_ECC_ERR__INT": "0",
         "PSU__IRQ_P2F_R5_CORE1_ECC_ERR__INT": "0",
         "PSU__IRQ_P2F_RPU_IPI__INT": "0",
         "PSU__IRQ_P2F_RPU_PERMON__INT": "0",
         "PSU__IRQ_P2F_RTC_ALARM__INT": "0",
         "PSU__IRQ_P2F_RTC_SECONDS__INT": "0",
         "PSU__IRQ_P2F_SATA__INT": "0",
         "PSU__IRQ_P2F_SDIO0_WAKE__INT": "0",
         "PSU__IRQ_P2F_SDIO0__INT": "0",
         "PSU__IRQ_P2F_SDIO1_WAKE__INT": "0",
         "PSU__IRQ_P2F_SDIO1__INT": "0",
         "PSU__IRQ_P2F_SPI0__INT": "0",
         "PSU__IRQ_P2F_SPI1__INT": "0",
         "PSU__IRQ_P2F_TTC0__INT0": "0",
         "PSU__IRQ_P2F_TTC0__INT1": "0",
         "PSU__IRQ_P2F_TTC0__INT2": "0",
         "PSU__IRQ_P2F_TTC1__INT0": "0",
         "PSU__IRQ_P2F_TTC1__INT1": "0",
         "PSU__IRQ_P2F_TTC1__INT2": "0",
         "PSU__IRQ_P2F_TTC2__INT0": "0",
         "PSU__IRQ_P2F_TTC2__INT1": "0",
         "PSU__IRQ_P2F_TTC2__INT2": "0",
         "PSU__IRQ_P2F_TTC3__INT0": "0",
         "PSU__IRQ_P2F_TTC3__INT1": "0",
         "PSU__IRQ_P2F_TTC3__INT2": "0",
         "PSU__IRQ_P2F_UART0__INT": "0",
         "PSU__IRQ_P2F_UART1__INT": "0",
         "PSU__IRQ_P2F_USB3_ENDPOINT__INT0": "0",
         "PSU__IRQ_P2F_USB3_ENDPOINT__INT1": "0",
         "PSU__IRQ_P2F_USB3_OTG__INT0": "0",
         "PSU__IRQ_P2F_USB3_OTG__INT1": "0",
         "PSU__IRQ_P2F_USB3_PMU_WAKEUP__INT": "0",
         "PSU__IRQ_P2F_XMPU_FPD__INT": "0",
         "PSU__IRQ_P2F_XMPU_LPD__INT": "0",
         "PSU__IRQ_P2F__INTF_FPD_SMMU__INT": "0",
         "PSU__IRQ_P2F__INTF_PPD_CCI__INT": "0",
         "PSU__L2_BANK0__POWER__ON": "1",
         "PSU__LPDMA0_COHERENCY": "0",
         "PSU__LPDMA1_COHERENCY": "0",
         "PSU__LPDMA2_COHERENCY": "0",
         "PSU__LPDMA3_COHERENCY": "0",
         "PSU__LPDMA4_COHERENCY": "0",
         "PSU__LPDMA5_COHERENCY": "0",
         "PSU__LPDMA6_COHERENCY": "0",
         "PSU__LPDMA7_COHERENCY": "0",
         "PSU__LPD_SLCR__CSUPMU_WDT_CLK_SEL__SELECT": "APB",
         "PSU__LPD_SLCR__CSUPMU__ACT_FREQMHZ": "100",
         "PSU__LPD_SLCR__CSUPMU__FREQMHZ": "100",
         "PSU__MAXIGP0__DATA_WIDTH": "128",
         "PSU__MAXIGP1__DATA_WIDTH": "128",
         "PSU__MAXIGP2__DATA_WIDTH": "32",
         "PSU__M_AXI_GP0_SUPPORTS_NARROW_BURST": "1",
         "PSU__M_AXI_GP0__FREQMHZ": "249.997498",
         "PSU__M_AXI_GP1_SUPPORTS_NARROW_BURST": "1",
         "PSU__M_AXI_GP1__FREQMHZ": "249.997498",
         "PSU__M_AXI_GP2_SUPPORTS_NARROW_BURST": "1",
         "PSU__M_AXI_GP2__FREQMHZ": "10",
         "PSU__NAND_COHERENCY": "0",
         "PSU__NAND_ROUTE_THROUGH_FPD": "0",
         "PSU__NAND__CHIP_ENABLE__ENABLE": "0",
         "PSU__NAND__CHIP_ENABLE__IO": "<Select>",
         "PSU__NAND__DATA_STROBE__ENABLE": "0",
         "PSU__NAND__DATA_STROBE__IO": "<Select>",
         "PSU__NAND__PERIPHERAL__ENABLE": "0",
         "PSU__NAND__PERIPHERAL__IO": "<Select>",
         "PSU__NAND__READY0_BUSY__ENABLE": "0",
         "PSU__NAND__READY0_BUSY__IO": "<Select>",
         "PSU__NAND__READY1_BUSY__ENABLE": "0",
         "PSU__NAND__READY1_BUSY__IO": "<Select>",
         "PSU__NAND__READY_BUSY__ENABLE": "0",
         "PSU__NAND__READY_BUSY__IO": "<Select>",
         "PSU__NUM_F2P0__INTR__INPUTS": "1",
         "PSU__NUM_F2P1__INTR__INPUTS": "1",
         "PSU__NUM_FABRIC_RESETS": "1",
         "PSU__OCM_BANK0__POWER__ON": "1",
         "PSU__OCM_BANK1__POWER__ON": "1",
         "PSU__OCM_BANK2__POWER__ON": "1",
         "PSU__OCM_BANK3__POWER__ON": "1",
         "PSU__OVERRIDE_HPX_QOS": "0",
         "PSU__OVERRIDE__BASIC_CLOCK": "0",
         "PSU__PCIE__ACS_VIOLAION": "0",
         "PSU__PCIE__ACS_VIOLATION": "0",
         "PSU__PCIE__AER_CAPABILITY": "0",
         "PSU__PCIE__ATOMICOP_EGRESS_BLOCKED": "0",
         "PSU__PCIE__BAR0_64BIT": "0",
         "PSU__PCIE__BAR0_ENABLE": "0",
         "PSU__PCIE__BAR0_PREFETCHABLE": "0",
         "PSU__PCIE__BAR0_SCALE": "<Select>",
         "PSU__PCIE__BAR0_SIZE": "<Select>",
         "PSU__PCIE__BAR0_TYPE": "<Select>",
         "PSU__PCIE__BAR1_64BIT": "0",
         "PSU__PCIE__BAR1_ENABLE": "0",
         "PSU__PCIE__BAR1_PREFETCHABLE": "0",
         "PSU__PCIE__BAR1_SCALE": "<Select>",
         "PSU__PCIE__BAR1_SIZE": "<Select>",
         "PSU__PCIE__BAR1_TYPE": "<Select>",
         "PSU__PCIE__BAR2_64BIT": "0",
         "PSU__PCIE__BAR2_ENABLE": "0",
         "PSU__PCIE__BAR2_PREFETCHABLE": "0",
         "PSU__PCIE__BAR2_SCALE": "<Select>",
         "PSU__PCIE__BAR2_SIZE": "<Select>",
         "PSU__PCIE__BAR2_TYPE": "<Select>",
         "PSU__PCIE__BAR3_64BIT": "0",
         "PSU__PCIE__BAR3_ENABLE": "0",
         "PSU__PCIE__BAR3_PREFETCHABLE": "0",
         "PSU__PCIE__BAR3_SCALE": "<Select>",
         "PSU__PCIE__BAR3_SIZE": "<Select>",
         "PSU__PCIE__BAR3_TYPE": "<Select>",
         "PSU__PCIE__BAR4_64BIT": "0",
         "PSU__PCIE__BAR4_ENABLE": "0",
         "PSU__PCIE__BAR4_PREFETCHABLE": "0",
         "PSU__PCIE__BAR4_SCALE": "<Select>",
         "PSU__PCIE__BAR4_SIZE": "<Select>",
         "PSU__PCIE__BAR4_TYPE": "<Select>",
         "PSU__PCIE__BAR5_64BIT": "0",
         "PSU__PCIE__BAR5_ENABLE": "0",
         "PSU__PCIE__BAR5_PREFETCHABLE": "0",
         "PSU__PCIE__BAR5_SCALE": "<Select>",
         "PSU__PCIE__BAR5_SIZE": "<Select>",
         "PSU__PCIE__BAR5_TYPE": "<Select>",
         "PSU__PCIE__BASE_CLASS_MENU": "<Select>",
         "PSU__PCIE__BRIDGE_BAR_INDICATOR": "<Select>",
         "PSU__PCIE__CAP_SLOT_IMPLEMENTED": "<Select>",
         "PSU__PCIE__COMPLETER_ABORT": "0",
         "PSU__PCIE__COMPLTION_TIMEOUT": "0",
         "PSU__PCIE__CORRECTABLE_INT_ERR": "0",
         "PSU__PCIE__CRS_SW_VISIBILITY": "0",
         "PSU__PCIE__DEVICE_PORT_TYPE": "<Select>",
         "PSU__PCIE__ECRC_CHECK": "0",
         "PSU__PCIE__ECRC_ERR": "0",
         "PSU__PCIE__ECRC_GEN": "0",
         "PSU__PCIE__EROM_ENABLE": "0",
         "PSU__PCIE__EROM_SCALE": "<Select>",
         "PSU__PCIE__EROM_SIZE": "<Select>",
         "PSU__PCIE__FLOW_CONTROL_ERR": "0",
         "PSU__PCIE__FLOW_CONTROL_PROTOCOL_ERR": "0",
         "PSU__PCIE__HEADER_LOG_OVERFLOW": "0",
         "PSU__PCIE__INTERFACE_WIDTH": "<Select>",
         "PSU__PCIE__INTX_GENERATION": "0",
         "PSU__PCIE__INTX_PIN": "<Select>",
         "PSU__PCIE__LANE0__ENABLE": "0",
         "PSU__PCIE__LANE0__IO": "<Select>",
         "PSU__PCIE__LANE1__ENABLE": "0",
         "PSU__PCIE__LANE1__IO": "<Select>",
         "PSU__PCIE__LANE2__ENABLE": "0",
         "PSU__PCIE__LANE2__IO": "<Select>",
         "PSU__PCIE__LANE3__ENABLE": "0",
         "PSU__PCIE__LANE3__IO": "<Select>",
         "PSU__PCIE__LEGACY_INTERRUPT": "<Select>",
         "PSU__PCIE__LINK_SPEED": "<Select>",
         "PSU__PCIE__MAXIMUM_LINK_WIDTH": "<Select>",
         "PSU__PCIE__MAX_PAYLOAD_SIZE": "<Select>",
         "PSU__PCIE__MC_BLOCKED_TLP": "0",
         "PSU__PCIE__MSIX_CAPABILITY": "0",
         "PSU__PCIE__MSIX_PBA_OFFSET": "0",
         "PSU__PCIE__MSIX_TABLE_OFFSET": "0",
         "PSU__PCIE__MSIX_TABLE_SIZE": "0",
         "PSU__PCIE__MSI_64BIT_ADDR_CAPABLE": "0",
         "PSU__PCIE__MSI_CAPABILITY": "0",
         "PSU__PCIE__MSI_MULTIPLE_MSG_CAPABLE": "<Select>",
         "PSU__PCIE__MULTIHEADER": "0",
         "PSU__PCIE__PERIPHERAL__ENABLE": "0",
         "PSU__PCIE__PERIPHERAL__ENDPOINT_ENABLE": "1",
         "PSU__PCIE__PERIPHERAL__ENDPOINT_IO": "<Select>",
         "PSU__PCIE__PERIPHERAL__ROOTPORT_ENABLE": "0",
         "PSU__PCIE__PERIPHERAL__ROOTPORT_IO": "<Select>",
         "PSU__PCIE__PERM_ROOT_ERR_UPDATE": "0",
         "PSU__PCIE__RECEIVER_ERR": "0",
         "PSU__PCIE__RECEIVER_OVERFLOW": "0",
         "PSU__PCIE__REF_CLK_FREQ": "<Select>",
         "PSU__PCIE__REF_CLK_SEL": "<Select>",
         "PSU__PCIE__RESET__POLARITY": "Active Low",
         "PSU__PCIE__SUB_CLASS_INTERFACE_MENU": "<Select>",
         "PSU__PCIE__SURPRISE_DOWN": "0",
         "PSU__PCIE__TLP_PREFIX_BLOCKED": "0",
         "PSU__PCIE__UNCORRECTABL_INT_ERR": "0",
         "PSU__PCIE__USE_CLASS_CODE_LOOKUP_ASSISTANT": "<Select>",
         "PSU__PJTAG__PERIPHERAL__ENABLE": "0",
         "PSU__PJTAG__PERIPHERAL__IO": "<Select>",
         "PSU__PL_CLK0_BUF": "TRUE",
         "PSU__PL_CLK1_BUF": "FALSE",
         "PSU__PL_CLK2_BUF": "FALSE",
         "PSU__PL_CLK3_BUF": "FALSE",
         "PSU__PL__POWER__ON": "1",
         "PSU__PMU_COHERENCY": "0",
         "PSU__PMU__AIBACK__ENABLE": "0",
         "PSU__PMU__EMIO_GPI__ENABLE": "0",
         "PSU__PMU__EMIO_GPO__ENABLE": "0",
         "PSU__PMU__GPI0__ENABLE": "0",
         "PSU__PMU__GPI0__IO": "<Select>",
         "PSU__PMU__GPI1__ENABLE": "0",
         "PSU__PMU__GPI1__IO": "<Select>",
         "PSU__PMU__GPI2__ENABLE": "0",
         "PSU__PMU__GPI2__IO": "<Select>",
         "PSU__PMU__GPI3__ENABLE": "0",
         "PSU__PMU__GPI3__IO": "<Select>",
         "PSU__PMU__GPI4__ENABLE": "0",
         "PSU__PMU__GPI4__IO": "<Select>",
         "PSU__PMU__GPI5__ENABLE": "0",
         "PSU__PMU__GPI5__IO": "<Select>",
         "PSU__PMU__GPO0__ENABLE": "0",
         "PSU__PMU__GPO0__IO": "<Select>",
         "PSU__PMU__GPO1__ENABLE": "0",
         "PSU__PMU__GPO1__IO": "<Select>",
         "PSU__PMU__GPO2__ENABLE": "0",
         "PSU__PMU__GPO2__IO": "<Select>",
         "PSU__PMU__GPO2__POLARITY": "<Select>",
         "PSU__PMU__GPO3__ENABLE": "0",
         "PSU__PMU__GPO3__IO": "<Select>",
         "PSU__PMU__GPO3__POLARITY": "<Select>",
         "PSU__PMU__GPO4__ENABLE": "0",
         "PSU__PMU__GPO4__IO": "<Select>",
         "PSU__PMU__GPO4__POLARITY": "<Select>",
         "PSU__PMU__GPO5__ENABLE": "0",
         "PSU__PMU__GPO5__IO": "<Select>",
         "PSU__PMU__GPO5__POLARITY": "<Select>",
         "PSU__PMU__PERIPHERAL__ENABLE": "0",
         "PSU__PMU__PERIPHERAL__IO": "<Select>",
         "PSU__PMU__PLERROR__ENABLE": "0",
         "PSU__PRESET_APPLIED": "1",
         "PSU__PROTECTION__DDR_SEGMENTS": "NONE",
         "PSU__PROTECTION__DEBUG": "0",
         "PSU__PROTECTION__ENABLE": "0",
         "PSU__PROTECTION__FPD_SEGMENTS": "SA:0xFD1A0000; SIZE:1280; UNIT:KB; RegionTZ:Secure; WrAllowed:Read/Write; subsystemId:PMU Firmware |  SA:0xFD000000; SIZE:64; UNIT:KB; RegionTZ:Secure; WrAllowed:Read/Write; subsystemId:PMU Firmware |  SA:0xFD010000; SIZE:64; UNIT:KB; RegionTZ:Secure; WrAllowed:Read/Write; subsystemId:PMU Firmware |  SA:0xFD020000; SIZE:64; UNIT:KB; RegionTZ:Secure; WrAllowed:Read/Write; subsystemId:PMU Firmware |  SA:0xFD030000; SIZE:64; UNIT:KB; RegionTZ:Secure; WrAllowed:Read/Write; subsystemId:PMU Firmware |  SA:0xFD040000; SIZE:64; UNIT:KB; RegionTZ:Secure; WrAllowed:Read/Write; subsystemId:PMU Firmware |  SA:0xFD050000; SIZE:64; UNIT:KB; RegionTZ:Secure; WrAllowed:Read/Write; subsystemId:PMU Firmware |  SA:0xFD610000; SIZE:512; UNIT:KB; RegionTZ:Secure; WrAllowed:Read/Write; subsystemId:PMU Firmware |  SA:0xFD5D0000; SIZE:64; UNIT:KB; RegionTZ:Secure; WrAllowed:Read/Write; subsystemId:PMU Firmware | SA:0xFD1A0000 ; SIZE:1280; UNIT:KB; RegionTZ:Secure ; WrAllowed:Read/Write; subsystemId:Secure Subsystem",
         "PSU__PROTECTION__LOCK_UNUSED_SEGMENTS": "0",
         "PSU__PROTECTION__LPD_SEGMENTS": "SA:0xFF980000; SIZE:64; UNIT:KB; RegionTZ:Secure; WrAllowed:Read/Write; subsystemId:PMU Firmware| SA:0xFF5E0000; SIZE:2560; UNIT:KB; RegionTZ:Secure; WrAllowed:Read/Write; subsystemId:PMU Firmware| SA:0xFFCC0000; SIZE:64; UNIT:KB; RegionTZ:Secure; WrAllowed:Read/Write; subsystemId:PMU Firmware| SA:0xFF180000; SIZE:768; UNIT:KB; RegionTZ:Secure; WrAllowed:Read/Write; subsystemId:PMU Firmware| SA:0xFF410000; SIZE:640; UNIT:KB; RegionTZ:Secure; WrAllowed:Read/Write; subsystemId:PMU Firmware| SA:0xFFA70000; SIZE:64; UNIT:KB; RegionTZ:Secure; WrAllowed:Read/Write; subsystemId:PMU Firmware| SA:0xFF9A0000; SIZE:64; UNIT:KB; RegionTZ:Secure; WrAllowed:Read/Write; subsystemId:PMU Firmware|SA:0xFF5E0000 ; SIZE:2560; UNIT:KB; RegionTZ:Secure ; WrAllowed:Read/Write; subsystemId:Secure Subsystem|SA:0xFFCC0000 ; SIZE:64; UNIT:KB; RegionTZ:Secure ; WrAllowed:Read/Write; subsystemId:Secure Subsystem|SA:0xFF180000 ; SIZE:768; UNIT:KB; RegionTZ:Secure ; WrAllowed:Read/Write; subsystemId:Secure Subsystem|SA:0xFF9A0000 ; SIZE:64; UNIT:KB; RegionTZ:Secure ; WrAllowed:Read/Write; subsystemId:Secure Subsystem",
         "PSU__PROTECTION__MASTERS": "USB1:NonSecure;1|USB0:NonSecure;1|S_AXI_LPD:NA;0|S_AXI_HPC1_FPD:NA;1|S_AXI_HPC0_FPD:NA;1|S_AXI_HP3_FPD:NA;1|S_AXI_HP2_FPD:NA;1|S_AXI_HP1_FPD:NA;1|S_AXI_HP0_FPD:NA;1|S_AXI_ACP:NA;1|S_AXI_ACE:NA;0|SD1:NonSecure;1|SD0:NonSecure;0|SATA1:NonSecure;0|SATA0:NonSecure;0|RPU1:Secure;1|RPU0:Secure;1|QSPI:NonSecure;0|PMU:NA;1|PCIe:NonSecure;0|NAND:NonSecure;0|LDMA:NonSecure;1|GPU:NonSecure;1|GEM3:NonSecure;0|GEM2:NonSecure;0|GEM1:NonSecure;0|GEM0:NonSecure;1|FDMA:NonSecure;1|DP:NonSecure;1|DAP:NA;1|Coresight:NA;1|CSU:NA;1|APU:NA;1",
         "PSU__PROTECTION__MASTERS_TZ": "GEM0:NonSecure|SD1:NonSecure|GEM2:NonSecure|GEM1:NonSecure|GEM3:NonSecure|PCIe:NonSecure|DP:NonSecure|NAND:NonSecure|GPU:NonSecure|USB1:NonSecure|USB0:NonSecure|LDMA:NonSecure|FDMA:NonSecure|QSPI:NonSecure|SD0:NonSecure",
         "PSU__PROTECTION__OCM_SEGMENTS": "NONE",
         "PSU__PROTECTION__PRESUBSYSTEMS": "NONE",
         "PSU__PROTECTION__SLAVES": "LPD;USB3_1_XHCI;FE300000;FE3FFFFF;1|LPD;USB3_1;FF9E0000;FF9EFFFF;1|LPD;USB3_0_XHCI;FE200000;FE2FFFFF;1|LPD;USB3_0;FF9D0000;FF9DFFFF;1|LPD;UART1;FF010000;FF01FFFF;0|LPD;UART0;FF000000;FF00FFFF;1|LPD;TTC3;FF140000;FF14FFFF;0|LPD;TTC2;FF130000;FF13FFFF;0|LPD;TTC1;FF120000;FF12FFFF;0|LPD;TTC0;FF110000;FF11FFFF;0|FPD;SWDT1;FD4D0000;FD4DFFFF;0|LPD;SWDT0;FF150000;FF15FFFF;0|LPD;SPI1;FF050000;FF05FFFF;0|LPD;SPI0;FF040000;FF04FFFF;0|FPD;SMMU_REG;FD5F0000;FD5FFFFF;1|FPD;SMMU;FD800000;FDFFFFFF;1|FPD;SIOU;FD3D0000;FD3DFFFF;1|FPD;SERDES;FD400000;FD47FFFF;1|LPD;SD1;FF170000;FF17FFFF;1|LPD;SD0;FF160000;FF16FFFF;0|FPD;SATA;FD0C0000;FD0CFFFF;0|LPD;RTC;FFA60000;FFA6FFFF;1|LPD;RSA_CORE;FFCE0000;FFCEFFFF;1|LPD;RPU;FF9A0000;FF9AFFFF;1|LPD;R5_TCM_RAM_GLOBAL;FFE00000;FFE3FFFF;1|LPD;R5_1_Instruction_Cache;FFEC0000;FFECFFFF;1|LPD;R5_1_Data_Cache;FFED0000;FFEDFFFF;1|LPD;R5_1_BTCM_GLOBAL;FFEB0000;FFEBFFFF;1|LPD;R5_1_ATCM_GLOBAL;FFE90000;FFE9FFFF;1|LPD;R5_0_Instruction_Cache;FFE40000;FFE4FFFF;1|LPD;R5_0_Data_Cache;FFE50000;FFE5FFFF;1|LPD;R5_0_BTCM_GLOBAL;FFE20000;FFE2FFFF;1|LPD;R5_0_ATCM_GLOBAL;FFE00000;FFE0FFFF;1|LPD;QSPI_Linear_Address;C0000000;DFFFFFFF;1|LPD;QSPI;FF0F0000;FF0FFFFF;0|LPD;PMU_RAM;FFDC0000;FFDDFFFF;1|LPD;PMU_GLOBAL;FFD80000;FFDBFFFF;1|FPD;PCIE_MAIN;FD0E0000;FD0EFFFF;0|FPD;PCIE_LOW;E0000000;EFFFFFFF;0|FPD;PCIE_HIGH2;8000000000;BFFFFFFFFF;0|FPD;PCIE_HIGH1;600000000;7FFFFFFFF;0|FPD;PCIE_DMA;FD0F0000;FD0FFFFF;0|FPD;PCIE_ATTRIB;FD480000;FD48FFFF;0|LPD;OCM_XMPU_CFG;FFA70000;FFA7FFFF;1|LPD;OCM_SLCR;FF960000;FF96FFFF;1|OCM;OCM;FFFC0000;FFFFFFFF;1|LPD;NAND;FF100000;FF10FFFF;0|LPD;MBISTJTAG;FFCF0000;FFCFFFFF;1|LPD;LPD_XPPU_SINK;FF9C0000;FF9CFFFF;1|LPD;LPD_XPPU;FF980000;FF98FFFF;1|LPD;LPD_SLCR_SECURE;FF4B0000;FF4DFFFF;1|LPD;LPD_SLCR;FF410000;FF4AFFFF;1|LPD;LPD_GPV;FE100000;FE1FFFFF;1|LPD;LPD_DMA_7;FFAF0000;FFAFFFFF;1|LPD;LPD_DMA_6;FFAE0000;FFAEFFFF;1|LPD;LPD_DMA_5;FFAD0000;FFADFFFF;1|LPD;LPD_DMA_4;FFAC0000;FFACFFFF;1|LPD;LPD_DMA_3;FFAB0000;FFABFFFF;1|LPD;LPD_DMA_2;FFAA0000;FFAAFFFF;1|LPD;LPD_DMA_1;FFA90000;FFA9FFFF;1|LPD;LPD_DMA_0;FFA80000;FFA8FFFF;1|LPD;IPI_CTRL;FF380000;FF3FFFFF;1|LPD;IOU_SLCR;FF180000;FF23FFFF;1|LPD;IOU_SECURE_SLCR;FF240000;FF24FFFF;1|LPD;IOU_SCNTRS;FF260000;FF26FFFF;1|LPD;IOU_SCNTR;FF250000;FF25FFFF;1|LPD;IOU_GPV;FE000000;FE0FFFFF;1|LPD;I2C1;FF030000;FF03FFFF;1|LPD;I2C0;FF020000;FF02FFFF;0|FPD;GPU;FD4B0000;FD4BFFFF;0|LPD;GPIO;FF0A0000;FF0AFFFF;1|LPD;GEM3;FF0E0000;FF0EFFFF;0|LPD;GEM2;FF0D0000;FF0DFFFF;0|LPD;GEM1;FF0C0000;FF0CFFFF;0|LPD;GEM0;FF0B0000;FF0BFFFF;1|FPD;FPD_XMPU_SINK;FD4F0000;FD4FFFFF;1|FPD;FPD_XMPU_CFG;FD5D0000;FD5DFFFF;1|FPD;FPD_SLCR_SECURE;FD690000;FD6CFFFF;1|FPD;FPD_SLCR;FD610000;FD68FFFF;1|FPD;FPD_DMA_CH7;FD570000;FD57FFFF;1|FPD;FPD_DMA_CH6;FD560000;FD56FFFF;1|FPD;FPD_DMA_CH5;FD550000;FD55FFFF;1|FPD;FPD_DMA_CH4;FD540000;FD54FFFF;1|FPD;FPD_DMA_CH3;FD530000;FD53FFFF;1|FPD;FPD_DMA_CH2;FD520000;FD52FFFF;1|FPD;FPD_DMA_CH1;FD510000;FD51FFFF;1|FPD;FPD_DMA_CH0;FD500000;FD50FFFF;1|LPD;EFUSE;FFCC0000;FFCCFFFF;1|FPD;Display Port;FD4A0000;FD4AFFFF;1|FPD;DPDMA;FD4C0000;FD4CFFFF;1|FPD;DDR_XMPU5_CFG;FD050000;FD05FFFF;1|FPD;DDR_XMPU4_CFG;FD040000;FD04FFFF;1|FPD;DDR_XMPU3_CFG;FD030000;FD03FFFF;1|FPD;DDR_XMPU2_CFG;FD020000;FD02FFFF;1|FPD;DDR_XMPU1_CFG;FD010000;FD01FFFF;1|FPD;DDR_XMPU0_CFG;FD000000;FD00FFFF;1|FPD;DDR_QOS_CTRL;FD090000;FD09FFFF;1|FPD;DDR_PHY;FD080000;FD08FFFF;1|DDR;DDR_LOW;0;7FFFFFFF;1|DDR;DDR_HIGH;800000000;97FFFFFFF;1|FPD;DDDR_CTRL;FD070000;FD070FFF;1|LPD;Coresight;FE800000;FEFFFFFF;1|LPD;CSU_DMA;FFC80000;FFC9FFFF;1|LPD;CSU;FFCA0000;FFCAFFFF;1|LPD;CRL_APB;FF5E0000;FF85FFFF;1|FPD;CRF_APB;FD1A0000;FD2DFFFF;1|FPD;CCI_REG;FD5E0000;FD5EFFFF;1|LPD;CAN1;FF070000;FF07FFFF;0|LPD;CAN0;FF060000;FF06FFFF;0|FPD;APU;FD5C0000;FD5CFFFF;1|LPD;APM_INTC_IOU;FFA20000;FFA2FFFF;1|LPD;APM_FPD_LPD;FFA30000;FFA3FFFF;1|FPD;APM_5;FD490000;FD49FFFF;1|FPD;APM_0;FD0B0000;FD0BFFFF;1|LPD;APM2;FFA10000;FFA1FFFF;1|LPD;APM1;FFA00000;FFA0FFFF;1|LPD;AMS;FFA50000;FFA5FFFF;1|FPD;AFI_5;FD3B0000;FD3BFFFF;1|FPD;AFI_4;FD3A0000;FD3AFFFF;1|FPD;AFI_3;FD390000;FD39FFFF;1|FPD;AFI_2;FD380000;FD38FFFF;1|FPD;AFI_1;FD370000;FD37FFFF;1|FPD;AFI_0;FD360000;FD36FFFF;1|LPD;AFIFM6;FF9B0000;FF9BFFFF;1|FPD;ACPU_GIC;F9010000;F907FFFF;1",
         "PSU__PROTECTION__SUBSYSTEMS": "PMU Firmware:PMU|Secure Subsystem:",
         "PSU__PSS_ALT_REF_CLK__ENABLE": "0",
         "PSU__PSS_ALT_REF_CLK__FREQMHZ": "33.333",
         "PSU__PSS_ALT_REF_CLK__IO": "<Select>",
         "PSU__PSS_REF_CLK__FREQMHZ": "33.333",
         "PSU__QSPI_COHERENCY": "0",
         "PSU__QSPI_ROUTE_THROUGH_FPD": "0",
         "PSU__QSPI__GRP_FBCLK__ENABLE": "0",
         "PSU__QSPI__GRP_FBCLK__IO": "<Select>",
         "PSU__QSPI__PERIPHERAL__DATA_MODE": "<Select>",
         "PSU__QSPI__PERIPHERAL__ENABLE": "0",
         "PSU__QSPI__PERIPHERAL__IO": "<Select>",
         "PSU__QSPI__PERIPHERAL__MODE": "<Select>",
         "PSU__REPORT__DBGLOG": "0",
         "PSU__RPU_COHERENCY": "0",
         "PSU__RPU__POWER__ON": "1",
         "PSU__SATA__LANE0__ENABLE": "0",
         "PSU__SATA__LANE0__IO": "<Select>",
         "PSU__SATA__LANE1__ENABLE": "0",
         "PSU__SATA__LANE1__IO": "<Select>",
         "PSU__SATA__PERIPHERAL__ENABLE": "0",
         "PSU__SATA__REF_CLK_FREQ": "<Select>",
         "PSU__SATA__REF_CLK_SEL": "<Select>",
         "PSU__SAXIGP0__DATA_WIDTH": "128",
         "PSU__SAXIGP1__DATA_WIDTH": "128",
         "PSU__SAXIGP2__DATA_WIDTH": "128",
         "PSU__SAXIGP3__DATA_WIDTH": "128",
         "PSU__SAXIGP4__DATA_WIDTH": "128",
         "PSU__SAXIGP5__DATA_WIDTH": "128",
         "PSU__SAXIGP6__DATA_WIDTH": "128",
         "PSU__SD0_COHERENCY": "0",
         "PSU__SD0_ROUTE_THROUGH_FPD": "0",
         "PSU__SD0__CLK_100_SDR_OTAP_DLY": "0x3",
         "PSU__SD0__CLK_200_SDR_OTAP_DLY": "0x3",
         "PSU__SD0__CLK_50_DDR_ITAP_DLY": "0x3D",
         "PSU__SD0__CLK_50_DDR_OTAP_DLY": "0x4",
         "PSU__SD0__CLK_50_SDR_ITAP_DLY": "0x15",
         "PSU__SD0__CLK_50_SDR_OTAP_DLY": "0x5",
         "PSU__SD0__DATA_TRANSFER_MODE": "<Select>",
         "PSU__SD0__GRP_CD__ENABLE": "0",
         "PSU__SD0__GRP_CD__IO": "<Select>",
         "PSU__SD0__GRP_POW__ENABLE": "0",
         "PSU__SD0__GRP_POW__IO": "<Select>",
         "PSU__SD0__GRP_WP__ENABLE": "0",
         "PSU__SD0__GRP_WP__IO": "<Select>",
         "PSU__SD0__PERIPHERAL__ENABLE": "0",
         "PSU__SD0__PERIPHERAL__IO": "<Select>",
         "PSU__SD0__RESET__ENABLE": "0",
         "PSU__SD0__SLOT_TYPE": "<Select>",
         "PSU__SD1_COHERENCY": "0",
         "PSU__SD1_ROUTE_THROUGH_FPD": "0",
         "PSU__SD1__CLK_100_SDR_OTAP_DLY": "0x3",
         "PSU__SD1__CLK_200_SDR_OTAP_DLY": "0x3",
         "PSU__SD1__CLK_50_DDR_ITAP_DLY": "0x3D",
         "PSU__SD1__CLK_50_DDR_OTAP_DLY": "0x4",
         "PSU__SD1__CLK_50_SDR_ITAP_DLY": "0x15",
         "PSU__SD1__CLK_50_SDR_OTAP_DLY": "0x5",
         "PSU__SD1__DATA_TRANSFER_MODE": "8Bit",
         "PSU__SD1__GRP_CD__ENABLE": "1",
         "PSU__SD1__GRP_CD__IO": "MIO 45",
         "PSU__SD1__GRP_POW__ENABLE": "0",
         "PSU__SD1__GRP_POW__IO": "<Select>",
         "PSU__SD1__GRP_WP__ENABLE": "1",
         "PSU__SD1__GRP_WP__IO": "MIO 44",
         "PSU__SD1__PERIPHERAL__ENABLE": "1",
         "PSU__SD1__PERIPHERAL__IO": "MIO 39 .. 51",
         "PSU__SD1__RESET__ENABLE": "0",
         "PSU__SD1__SLOT_TYPE": "SD 3.0",
         "PSU__SPI0_LOOP_SPI1__ENABLE": "0",
         "PSU__SPI0__GRP_SS0__ENABLE": "0",
         "PSU__SPI0__GRP_SS0__IO": "<Select>",
         "PSU__SPI0__GRP_SS1__ENABLE": "0",
         "PSU__SPI0__GRP_SS1__IO": "<Select>",
         "PSU__SPI0__GRP_SS2__ENABLE": "0",
         "PSU__SPI0__GRP_SS2__IO": "<Select>",
         "PSU__SPI0__PERIPHERAL__ENABLE": "0",
         "PSU__SPI0__PERIPHERAL__IO": "<Select>",
         "PSU__SPI1__GRP_SS0__ENABLE": "0",
         "PSU__SPI1__GRP_SS0__IO": "<Select>",
         "PSU__SPI1__GRP_SS1__ENABLE": "0",
         "PSU__SPI1__GRP_SS1__IO": "<Select>",
         "PSU__SPI1__GRP_SS2__ENABLE": "0",
         "PSU__SPI1__GRP_SS2__IO": "<Select>",
         "PSU__SPI1__PERIPHERAL__ENABLE": "0",
         "PSU__SPI1__PERIPHERAL__IO": "<Select>",
         "PSU__SWDT0__CLOCK__ENABLE": "0",
         "PSU__SWDT0__CLOCK__IO": "<Select>",
         "PSU__SWDT0__PERIPHERAL__ENABLE": "0",
         "PSU__SWDT0__PERIPHERAL__IO": "NA",
         "PSU__SWDT0__RESET__ENABLE": "0",
         "PSU__SWDT0__RESET__IO": "<Select>",
         "PSU__SWDT1__CLOCK__ENABLE": "0",
         "PSU__SWDT1__CLOCK__IO": "<Select>",
         "PSU__SWDT1__PERIPHERAL__ENABLE": "0",
         "PSU__SWDT1__PERIPHERAL__IO": "NA",
         "PSU__SWDT1__RESET__ENABLE": "0",
         "PSU__SWDT1__RESET__IO": "<Select>",
         "PSU__S_AXI_GP0__FREQMHZ": "249.997498",
         "PSU__S_AXI_GP1__FREQMHZ": "249.997498",
         "PSU__S_AXI_GP2__FREQMHZ": "249.997498",
         "PSU__S_AXI_GP3__FREQMHZ": "249.997498",
         "PSU__S_AXI_GP4__FREQMHZ": "249.997498",
         "PSU__S_AXI_GP5__FREQMHZ": "249.997498",
         "PSU__S_AXI_GP6__FREQMHZ": "10",
         "PSU__TCM0A__POWER__ON": "1",
         "PSU__TCM0B__POWER__ON": "1",
         "PSU__TCM1A__POWER__ON": "1",
         "PSU__TCM1B__POWER__ON": "1",
         "PSU__TESTSCAN__PERIPHERAL__ENABLE": "0",
         "PSU__TRACE_PIPELINE_WIDTH": "8",
         "PSU__TRACE__INTERNAL_WIDTH": "32",
         "PSU__TRACE__PERIPHERAL__ENABLE": "0",
         "PSU__TRACE__PERIPHERAL__IO": "<Select>",
         "PSU__TRACE__WIDTH": "<Select>",
         "PSU__TRISTATE__INVERTED": "1",
         "PSU__TSU__BUFG_PORT_LOOPBACK": "0",
         "PSU__TSU__BUFG_PORT_PAIR": "0",
         "PSU__TTC0__CLOCK__ENABLE": "0",
         "PSU__TTC0__CLOCK__IO": "<Select>",
         "PSU__TTC0__PERIPHERAL__ENABLE": "0",
         "PSU__TTC0__PERIPHERAL__IO": "NA",
         "PSU__TTC0__WAVEOUT__ENABLE": "0",
         "PSU__TTC0__WAVEOUT__IO": "<Select>",
         "PSU__TTC1__CLOCK__ENABLE": "0",
         "PSU__TTC1__CLOCK__IO": "<Select>",
         "PSU__TTC1__PERIPHERAL__ENABLE": "0",
         "PSU__TTC1__PERIPHERAL__IO": "NA",
         "PSU__TTC1__WAVEOUT__ENABLE": "0",
         "PSU__TTC1__WAVEOUT__IO": "<Select>",
         "PSU__TTC2__CLOCK__ENABLE": "0",
         "PSU__TTC2__CLOCK__IO": "<Select>",
         "PSU__TTC2__PERIPHERAL__ENABLE": "0",
         "PSU__TTC2__PERIPHERAL__IO": "NA",
         "PSU__TTC2__WAVEOUT__ENABLE": "0",
         "PSU__TTC2__WAVEOUT__IO": "<Select>",
         "PSU__TTC3__CLOCK__ENABLE": "0",
         "PSU__TTC3__CLOCK__IO": "<Select>",
         "PSU__TTC3__PERIPHERAL__ENABLE": "0",
         "PSU__TTC3__PERIPHERAL__IO": "NA",
         "PSU__TTC3__WAVEOUT__ENABLE": "0",
         "PSU__TTC3__WAVEOUT__IO": "<Select>",
         "PSU__UART0_LOOP_UART1__ENABLE": "0",
         "PSU__UART0__BAUD_RATE": "115200",
         "PSU__UART0__MODEM__ENABLE": "0",
         "PSU__UART0__PERIPHERAL__ENABLE": "1",
         "PSU__UART0__PERIPHERAL__IO": "MIO 18 .. 19",
         "PSU__UART1__BAUD_RATE": "<Select>",
         "PSU__UART1__MODEM__ENABLE": "0",
         "PSU__UART1__PERIPHERAL__ENABLE": "0",
         "PSU__UART1__PERIPHERAL__IO": "<Select>",
         "PSU__USB0_COHERENCY": "0",
         "PSU__USB0__PERIPHERAL__ENABLE": "1",
         "PSU__USB0__PERIPHERAL__IO": "MIO 52 .. 63",
         "PSU__USB0__REF_CLK_FREQ": "100",
         "PSU__USB0__REF_CLK_SEL": "Ref Clk1",
         "PSU__USB0__RESET__ENABLE": "0",
         "PSU__USB0__RESET__IO": "<Select>",
         "PSU__USB1_COHERENCY": "0",
         "PSU__USB1__PERIPHERAL__ENABLE": "1",
         "PSU__USB1__PERIPHERAL__IO": "MIO 64 .. 75",
         "PSU__USB1__REF_CLK_FREQ": "100",
         "PSU__USB1__REF_CLK_SEL": "Ref Clk1",
         "PSU__USB1__RESET__ENABLE": "0",
         "PSU__USB1__RESET__IO": "<Select>",
         "PSU__USB2_0__EMIO__ENABLE": "0",
         "PSU__USB2_1__EMIO__ENABLE": "0",
         "PSU__USB3_0__EMIO__ENABLE": "0",
         "PSU__USB3_0__PERIPHERAL__ENABLE": "1",
         "PSU__USB3_0__PERIPHERAL__IO": "GT Lane2",
         "PSU__USB3_1__EMIO__ENABLE": "0",
         "PSU__USB3_1__PERIPHERAL__ENABLE": "1",
         "PSU__USB3_1__PERIPHERAL__IO": "GT Lane3",
         "PSU__USB__RESET__MODE": "Boot Pin",
         "PSU__USB__RESET__POLARITY": "Active Low",
         "PSU__USE_DIFF_RW_CLK_GP0": "0",
         "PSU__USE_DIFF_RW_CLK_GP1": "0",
         "PSU__USE_DIFF_RW_CLK_GP2": "0",
         "PSU__USE_DIFF_RW_CLK_GP3": "0",
         "PSU__USE_DIFF_RW_CLK_GP4": "0",
         "PSU__USE_DIFF_RW_CLK_GP5": "0",
         "PSU__USE_DIFF_RW_CLK_GP6": "0",
         "PSU__USE__ADMA": "0",
         "PSU__USE__APU_LEGACY_INTERRUPT": "0",
         "PSU__USE__AUDIO": "0",
         "PSU__USE__CLK": "0",
         "PSU__USE__CLK0": "0",
         "PSU__USE__CLK1": "0",
         "PSU__USE__CLK2": "0",
         "PSU__USE__CLK3": "0",
         "PSU__USE__CROSS_TRIGGER": "0",
         "PSU__USE__DDR_INTF_REQUESTED": "0",
         "PSU__USE__DEBUG__TEST": "0",
         "PSU__USE__EVENT_RPU": "0",
         "PSU__USE__FABRIC__RST": "1",
         "PSU__USE__FTM": "0",
         "PSU__USE__GDMA": "0",
         "PSU__USE__IRQ": "0",
         "PSU__USE__IRQ0": "1",
         "PSU__USE__IRQ1": "0",
         "PSU__USE__M_AXI_GP0": "1",
         "PSU__USE__M_AXI_GP1": "1",
         "PSU__USE__M_AXI_GP2": "0",
         "PSU__USE__PROC_EVENT_BUS": "0",
         "PSU__USE__RPU_LEGACY_INTERRUPT": "0",
         "PSU__USE__RST0": "0",
         "PSU__USE__RST1": "0",
         "PSU__USE__RST2": "0",
         "PSU__USE__RST3": "0",
         "PSU__USE__RTC": "0",
         "PSU__USE__STM": "0",
         "PSU__USE__S_AXI_ACE": "0",
         "PSU__USE__S_AXI_ACP": "1",
         "PSU__USE__S_AXI_GP0": "1",
         "PSU__USE__S_AXI_GP1": "1",
         "PSU__USE__S_AXI_GP2": "1",
         "PSU__USE__S_AXI_GP3": "1",
         "PSU__USE__S_AXI_GP4": "1",
         "PSU__USE__S_AXI_GP5": "1",
         "PSU__USE__S_AXI_GP6": "0",
         "PSU__USE__USB3_0_HUB": "0",
         "PSU__USE__USB3_1_HUB": "0",
         "PSU__USE__VIDEO": "0",
         "PSU__VIDEO_REF_CLK__ENABLE": "0",
         "PSU__VIDEO_REF_CLK__FREQMHZ": "33.333",
         "PSU__VIDEO_REF_CLK__IO": "<Select>",
         "QSPI_BOARD_INTERFACE": "custom",
         "SATA_BOARD_INTERFACE": "custom",
         "SD0_BOARD_INTERFACE": "custom",
         "SD1_BOARD_INTERFACE": "custom",
         "SPI0_BOARD_INTERFACE": "custom",
         "SPI1_BOARD_INTERFACE": "custom",
         "SUBPRESET1": "Custom",
         "SUBPRESET2": "Custom",
         "SWDT0_BOARD_INTERFACE": "custom",
         "SWDT1_BOARD_INTERFACE": "custom",
         "TRACE_BOARD_INTERFACE": "custom",
         "TTC0_BOARD_INTERFACE": "custom",
         "TTC1_BOARD_INTERFACE": "custom",
         "TTC2_BOARD_INTERFACE": "custom",
         "TTC3_BOARD_INTERFACE": "custom",
         "UART0_BOARD_INTERFACE": "custom",
         "UART1_BOARD_INTERFACE": "custom",
         "USB0_BOARD_INTERFACE": "custom",
         "USB1_BOARD_INTERFACE": "custom",
         "preset": "None"
        },
        "type": "xilinx.com:ip:zynq_ultra_ps_e:3.4"
       }
      },
      "text/plain": [
       "{'axi_intc_0': {'fullpath': 'axi_intc_0',\n",
       "  'type': 'xilinx.com:ip:axi_intc:4.1',\n",
       "  'bdtype': None,\n",
       "  'state': None,\n",
       "  'addr_range': 65536,\n",
       "  'phys_addr': 2684354560,\n",
       "  'mem_id': 's_axi',\n",
       "  'memtype': 'REGISTER',\n",
       "  'gpio': {},\n",
       "  'interrupts': {'intr': {'controller': 'axi_intc_0',\n",
       "    'index': 0,\n",
       "    'fullpath': 'axi_intc_0/intr'}},\n",
       "  'parameters': {'C_FAMILY': 'zynquplus',\n",
       "   'C_INSTANCE': 'design_1_axi_intc_0_0',\n",
       "   'C_S_AXI_ADDR_WIDTH': '9',\n",
       "   'C_S_AXI_DATA_WIDTH': '32',\n",
       "   'C_NUM_INTR_INPUTS': '1',\n",
       "   'C_NUM_SW_INTR': '0',\n",
       "   'C_KIND_OF_INTR': '0xfffffffe',\n",
       "   'C_KIND_OF_EDGE': '0xFFFFFFFF',\n",
       "   'C_KIND_OF_LVL': '0xFFFFFFFF',\n",
       "   'C_ASYNC_INTR': '0xFFFFFFFE',\n",
       "   'C_NUM_SYNC_FF': '2',\n",
       "   'C_ADDR_WIDTH': '32',\n",
       "   'C_IVAR_RESET_VALUE': '0x0000000000000010',\n",
       "   'C_ENABLE_ASYNC': '0',\n",
       "   'C_HAS_IPR': '1',\n",
       "   'C_HAS_SIE': '1',\n",
       "   'C_HAS_CIE': '1',\n",
       "   'C_HAS_IVR': '1',\n",
       "   'C_HAS_ILR': '0',\n",
       "   'C_IRQ_IS_LEVEL': '1',\n",
       "   'C_IRQ_ACTIVE': '0x1',\n",
       "   'C_DISABLE_SYNCHRONIZERS': '0',\n",
       "   'C_MB_CLK_NOT_CONNECTED': '1',\n",
       "   'C_HAS_FAST': '0',\n",
       "   'C_EN_CASCADE_MODE': '0',\n",
       "   'C_CASCADE_MASTER': '0',\n",
       "   'Component_Name': 'design_1_axi_intc_0_0',\n",
       "   'Sense_of_IRQ_Level_Type': 'Active_High',\n",
       "   'Sense_of_IRQ_Edge_Type': 'Rising',\n",
       "   'C_S_AXI_ACLK_FREQ_MHZ': '249.997498',\n",
       "   'C_PROCESSOR_CLK_FREQ_MHZ': '100.0',\n",
       "   'C_IRQ_CONNECTION': '1',\n",
       "   'EDK_IPTYPE': 'PERIPHERAL',\n",
       "   'EDK_SPECIAL': 'INTR_CTRL',\n",
       "   'C_BASEADDR': '0xA0000000',\n",
       "   'C_HIGHADDR': '0xA000FFFF'},\n",
       "  'registers': {'ISR': {'address_offset': 0,\n",
       "    'size': 1,\n",
       "    'access': 'read-write',\n",
       "    'description': 'Interrupt Status Register',\n",
       "    'fields': {'INT': {'bit_offset': 0,\n",
       "      'bit_width': 1,\n",
       "      'description': 'Interrupt Status Register',\n",
       "      'access': 'read-write'}}},\n",
       "   'IPR': {'address_offset': 4,\n",
       "    'size': 1,\n",
       "    'access': 'read-only',\n",
       "    'description': 'Interrupt Pending Register',\n",
       "    'fields': {'INT': {'bit_offset': 0,\n",
       "      'bit_width': 1,\n",
       "      'description': 'Interrupt Pending Register',\n",
       "      'access': 'read-only'}}},\n",
       "   'IER': {'address_offset': 8,\n",
       "    'size': 1,\n",
       "    'access': 'read-write',\n",
       "    'description': 'Interrupt Enable Register',\n",
       "    'fields': {'INT': {'bit_offset': 0,\n",
       "      'bit_width': 1,\n",
       "      'description': 'Interrupt Enable Register',\n",
       "      'access': 'read-write'}}},\n",
       "   'IAR': {'address_offset': 12,\n",
       "    'size': 1,\n",
       "    'access': 'write-only',\n",
       "    'description': 'Interrupt Acknowledge Register',\n",
       "    'fields': {'INT': {'bit_offset': 0,\n",
       "      'bit_width': 1,\n",
       "      'description': 'Interrupt Acknowledge Register',\n",
       "      'access': 'write-only'}}},\n",
       "   'SIE': {'address_offset': 16,\n",
       "    'size': 1,\n",
       "    'access': 'read-write',\n",
       "    'description': 'Set Interrupt Enables',\n",
       "    'fields': {'INT': {'bit_offset': 0,\n",
       "      'bit_width': 1,\n",
       "      'description': 'Set Interrupt Enables',\n",
       "      'access': 'read-write'}}},\n",
       "   'CIE': {'address_offset': 20,\n",
       "    'size': 1,\n",
       "    'access': 'read-write',\n",
       "    'description': 'Clear Interrupt Enables',\n",
       "    'fields': {'INT': {'bit_offset': 0,\n",
       "      'bit_width': 1,\n",
       "      'description': 'Clear Interrupt Enables',\n",
       "      'access': 'read-write'}}},\n",
       "   'IVR': {'address_offset': 24,\n",
       "    'size': 5,\n",
       "    'access': 'read-only',\n",
       "    'description': 'Interrupt Vector Register',\n",
       "    'fields': {'IVN': {'bit_offset': 0,\n",
       "      'bit_width': 5,\n",
       "      'description': 'Interrupt Vector Register',\n",
       "      'access': 'read-only'}}},\n",
       "   'MER': {'address_offset': 28,\n",
       "    'size': 2,\n",
       "    'access': 'read-write',\n",
       "    'description': 'Master Enable Register',\n",
       "    'fields': {'ME': {'bit_offset': 0,\n",
       "      'bit_width': 1,\n",
       "      'description': 'Master Enable Register',\n",
       "      'access': 'read-write'},\n",
       "     'HIE': {'bit_offset': 1,\n",
       "      'bit_width': 1,\n",
       "      'description': 'Master Enable Register',\n",
       "      'access': 'read-write'}}},\n",
       "   'IMR': {'address_offset': 32,\n",
       "    'size': 1,\n",
       "    'access': 'read-write',\n",
       "    'description': 'Interrupt Mode Register',\n",
       "    'fields': {'INT': {'bit_offset': 0,\n",
       "      'bit_width': 1,\n",
       "      'description': 'Interrupt Mode Register',\n",
       "      'access': 'read-write'}}},\n",
       "   'ILR': {'address_offset': 36,\n",
       "    'size': 5,\n",
       "    'access': 'read-write',\n",
       "    'description': 'Interrupt Level Register',\n",
       "    'fields': {'ILN': {'bit_offset': 0,\n",
       "      'bit_width': 5,\n",
       "      'description': 'Interrupt Level Register',\n",
       "      'access': 'read-write'}}},\n",
       "   'IVAR[0]': {'address_offset': 256,\n",
       "    'size': 32,\n",
       "    'access': 'read-write',\n",
       "    'description': 'Interrupt Vector Address Register 0',\n",
       "    'fields': {'IVA': {'bit_offset': 0,\n",
       "      'bit_width': 32,\n",
       "      'description': 'Interrupt Vector Address Register 0',\n",
       "      'access': 'read-write'}}},\n",
       "   'IVAR[1]': {'address_offset': 260,\n",
       "    'size': 32,\n",
       "    'access': 'read-write',\n",
       "    'description': 'Interrupt Vector Address Register 1',\n",
       "    'fields': {'IVA': {'bit_offset': 0,\n",
       "      'bit_width': 32,\n",
       "      'description': 'Interrupt Vector Address Register 1',\n",
       "      'access': 'read-write'}}},\n",
       "   'IVAR[2]': {'address_offset': 264,\n",
       "    'size': 32,\n",
       "    'access': 'read-write',\n",
       "    'description': 'Interrupt Vector Address Register 2',\n",
       "    'fields': {'IVA': {'bit_offset': 0,\n",
       "      'bit_width': 32,\n",
       "      'description': 'Interrupt Vector Address Register 2',\n",
       "      'access': 'read-write'}}},\n",
       "   'IVAR[3]': {'address_offset': 268,\n",
       "    'size': 32,\n",
       "    'access': 'read-write',\n",
       "    'description': 'Interrupt Vector Address Register 3',\n",
       "    'fields': {'IVA': {'bit_offset': 0,\n",
       "      'bit_width': 32,\n",
       "      'description': 'Interrupt Vector Address Register 3',\n",
       "      'access': 'read-write'}}},\n",
       "   'IVAR[4]': {'address_offset': 272,\n",
       "    'size': 32,\n",
       "    'access': 'read-write',\n",
       "    'description': 'Interrupt Vector Address Register 4',\n",
       "    'fields': {'IVA': {'bit_offset': 0,\n",
       "      'bit_width': 32,\n",
       "      'description': 'Interrupt Vector Address Register 4',\n",
       "      'access': 'read-write'}}},\n",
       "   'IVAR[5]': {'address_offset': 276,\n",
       "    'size': 32,\n",
       "    'access': 'read-write',\n",
       "    'description': 'Interrupt Vector Address Register 5',\n",
       "    'fields': {'IVA': {'bit_offset': 0,\n",
       "      'bit_width': 32,\n",
       "      'description': 'Interrupt Vector Address Register 5',\n",
       "      'access': 'read-write'}}},\n",
       "   'IVAR[6]': {'address_offset': 280,\n",
       "    'size': 32,\n",
       "    'access': 'read-write',\n",
       "    'description': 'Interrupt Vector Address Register 6',\n",
       "    'fields': {'IVA': {'bit_offset': 0,\n",
       "      'bit_width': 32,\n",
       "      'description': 'Interrupt Vector Address Register 6',\n",
       "      'access': 'read-write'}}},\n",
       "   'IVAR[7]': {'address_offset': 284,\n",
       "    'size': 32,\n",
       "    'access': 'read-write',\n",
       "    'description': 'Interrupt Vector Address Register 7',\n",
       "    'fields': {'IVA': {'bit_offset': 0,\n",
       "      'bit_width': 32,\n",
       "      'description': 'Interrupt Vector Address Register 7',\n",
       "      'access': 'read-write'}}},\n",
       "   'IVAR[8]': {'address_offset': 288,\n",
       "    'size': 32,\n",
       "    'access': 'read-write',\n",
       "    'description': 'Interrupt Vector Address Register 8',\n",
       "    'fields': {'IVA': {'bit_offset': 0,\n",
       "      'bit_width': 32,\n",
       "      'description': 'Interrupt Vector Address Register 8',\n",
       "      'access': 'read-write'}}},\n",
       "   'IVAR[9]': {'address_offset': 292,\n",
       "    'size': 32,\n",
       "    'access': 'read-write',\n",
       "    'description': 'Interrupt Vector Address Register 9',\n",
       "    'fields': {'IVA': {'bit_offset': 0,\n",
       "      'bit_width': 32,\n",
       "      'description': 'Interrupt Vector Address Register 9',\n",
       "      'access': 'read-write'}}},\n",
       "   'IVAR[10]': {'address_offset': 296,\n",
       "    'size': 32,\n",
       "    'access': 'read-write',\n",
       "    'description': 'Interrupt Vector Address Register 10',\n",
       "    'fields': {'IVA': {'bit_offset': 0,\n",
       "      'bit_width': 32,\n",
       "      'description': 'Interrupt Vector Address Register 10',\n",
       "      'access': 'read-write'}}},\n",
       "   'IVAR[11]': {'address_offset': 300,\n",
       "    'size': 32,\n",
       "    'access': 'read-write',\n",
       "    'description': 'Interrupt Vector Address Register 11',\n",
       "    'fields': {'IVA': {'bit_offset': 0,\n",
       "      'bit_width': 32,\n",
       "      'description': 'Interrupt Vector Address Register 11',\n",
       "      'access': 'read-write'}}},\n",
       "   'IVAR[12]': {'address_offset': 304,\n",
       "    'size': 32,\n",
       "    'access': 'read-write',\n",
       "    'description': 'Interrupt Vector Address Register 12',\n",
       "    'fields': {'IVA': {'bit_offset': 0,\n",
       "      'bit_width': 32,\n",
       "      'description': 'Interrupt Vector Address Register 12',\n",
       "      'access': 'read-write'}}},\n",
       "   'IVAR[13]': {'address_offset': 308,\n",
       "    'size': 32,\n",
       "    'access': 'read-write',\n",
       "    'description': 'Interrupt Vector Address Register 13',\n",
       "    'fields': {'IVA': {'bit_offset': 0,\n",
       "      'bit_width': 32,\n",
       "      'description': 'Interrupt Vector Address Register 13',\n",
       "      'access': 'read-write'}}},\n",
       "   'IVAR[14]': {'address_offset': 312,\n",
       "    'size': 32,\n",
       "    'access': 'read-write',\n",
       "    'description': 'Interrupt Vector Address Register 14',\n",
       "    'fields': {'IVA': {'bit_offset': 0,\n",
       "      'bit_width': 32,\n",
       "      'description': 'Interrupt Vector Address Register 14',\n",
       "      'access': 'read-write'}}},\n",
       "   'IVAR[15]': {'address_offset': 316,\n",
       "    'size': 32,\n",
       "    'access': 'read-write',\n",
       "    'description': 'Interrupt Vector Address Register 15',\n",
       "    'fields': {'IVA': {'bit_offset': 0,\n",
       "      'bit_width': 32,\n",
       "      'description': 'Interrupt Vector Address Register 15',\n",
       "      'access': 'read-write'}}},\n",
       "   'IVAR[16]': {'address_offset': 320,\n",
       "    'size': 32,\n",
       "    'access': 'read-write',\n",
       "    'description': 'Interrupt Vector Address Register 16',\n",
       "    'fields': {'IVA': {'bit_offset': 0,\n",
       "      'bit_width': 32,\n",
       "      'description': 'Interrupt Vector Address Register 16',\n",
       "      'access': 'read-write'}}},\n",
       "   'IVAR[17]': {'address_offset': 324,\n",
       "    'size': 32,\n",
       "    'access': 'read-write',\n",
       "    'description': 'Interrupt Vector Address Register 17',\n",
       "    'fields': {'IVA': {'bit_offset': 0,\n",
       "      'bit_width': 32,\n",
       "      'description': 'Interrupt Vector Address Register 17',\n",
       "      'access': 'read-write'}}},\n",
       "   'IVAR[18]': {'address_offset': 328,\n",
       "    'size': 32,\n",
       "    'access': 'read-write',\n",
       "    'description': 'Interrupt Vector Address Register 18',\n",
       "    'fields': {'IVA': {'bit_offset': 0,\n",
       "      'bit_width': 32,\n",
       "      'description': 'Interrupt Vector Address Register 18',\n",
       "      'access': 'read-write'}}},\n",
       "   'IVAR[19]': {'address_offset': 332,\n",
       "    'size': 32,\n",
       "    'access': 'read-write',\n",
       "    'description': 'Interrupt Vector Address Register 19',\n",
       "    'fields': {'IVA': {'bit_offset': 0,\n",
       "      'bit_width': 32,\n",
       "      'description': 'Interrupt Vector Address Register 19',\n",
       "      'access': 'read-write'}}},\n",
       "   'IVAR[20]': {'address_offset': 336,\n",
       "    'size': 32,\n",
       "    'access': 'read-write',\n",
       "    'description': 'Interrupt Vector Address Register 20',\n",
       "    'fields': {'IVA': {'bit_offset': 0,\n",
       "      'bit_width': 32,\n",
       "      'description': 'Interrupt Vector Address Register 20',\n",
       "      'access': 'read-write'}}},\n",
       "   'IVAR[21]': {'address_offset': 340,\n",
       "    'size': 32,\n",
       "    'access': 'read-write',\n",
       "    'description': 'Interrupt Vector Address Register 21',\n",
       "    'fields': {'IVA': {'bit_offset': 0,\n",
       "      'bit_width': 32,\n",
       "      'description': 'Interrupt Vector Address Register 21',\n",
       "      'access': 'read-write'}}},\n",
       "   'IVAR[22]': {'address_offset': 344,\n",
       "    'size': 32,\n",
       "    'access': 'read-write',\n",
       "    'description': 'Interrupt Vector Address Register 22',\n",
       "    'fields': {'IVA': {'bit_offset': 0,\n",
       "      'bit_width': 32,\n",
       "      'description': 'Interrupt Vector Address Register 22',\n",
       "      'access': 'read-write'}}},\n",
       "   'IVAR[23]': {'address_offset': 348,\n",
       "    'size': 32,\n",
       "    'access': 'read-write',\n",
       "    'description': 'Interrupt Vector Address Register 23',\n",
       "    'fields': {'IVA': {'bit_offset': 0,\n",
       "      'bit_width': 32,\n",
       "      'description': 'Interrupt Vector Address Register 23',\n",
       "      'access': 'read-write'}}},\n",
       "   'IVAR[24]': {'address_offset': 352,\n",
       "    'size': 32,\n",
       "    'access': 'read-write',\n",
       "    'description': 'Interrupt Vector Address Register 24',\n",
       "    'fields': {'IVA': {'bit_offset': 0,\n",
       "      'bit_width': 32,\n",
       "      'description': 'Interrupt Vector Address Register 24',\n",
       "      'access': 'read-write'}}},\n",
       "   'IVAR[25]': {'address_offset': 356,\n",
       "    'size': 32,\n",
       "    'access': 'read-write',\n",
       "    'description': 'Interrupt Vector Address Register 25',\n",
       "    'fields': {'IVA': {'bit_offset': 0,\n",
       "      'bit_width': 32,\n",
       "      'description': 'Interrupt Vector Address Register 25',\n",
       "      'access': 'read-write'}}},\n",
       "   'IVAR[26]': {'address_offset': 360,\n",
       "    'size': 32,\n",
       "    'access': 'read-write',\n",
       "    'description': 'Interrupt Vector Address Register 26',\n",
       "    'fields': {'IVA': {'bit_offset': 0,\n",
       "      'bit_width': 32,\n",
       "      'description': 'Interrupt Vector Address Register 26',\n",
       "      'access': 'read-write'}}},\n",
       "   'IVAR[27]': {'address_offset': 364,\n",
       "    'size': 32,\n",
       "    'access': 'read-write',\n",
       "    'description': 'Interrupt Vector Address Register 27',\n",
       "    'fields': {'IVA': {'bit_offset': 0,\n",
       "      'bit_width': 32,\n",
       "      'description': 'Interrupt Vector Address Register 27',\n",
       "      'access': 'read-write'}}},\n",
       "   'IVAR[28]': {'address_offset': 368,\n",
       "    'size': 32,\n",
       "    'access': 'read-write',\n",
       "    'description': 'Interrupt Vector Address Register 28',\n",
       "    'fields': {'IVA': {'bit_offset': 0,\n",
       "      'bit_width': 32,\n",
       "      'description': 'Interrupt Vector Address Register 28',\n",
       "      'access': 'read-write'}}},\n",
       "   'IVAR[29]': {'address_offset': 372,\n",
       "    'size': 32,\n",
       "    'access': 'read-write',\n",
       "    'description': 'Interrupt Vector Address Register 29',\n",
       "    'fields': {'IVA': {'bit_offset': 0,\n",
       "      'bit_width': 32,\n",
       "      'description': 'Interrupt Vector Address Register 29',\n",
       "      'access': 'read-write'}}},\n",
       "   'IVAR[30]': {'address_offset': 376,\n",
       "    'size': 32,\n",
       "    'access': 'read-write',\n",
       "    'description': 'Interrupt Vector Address Register 30',\n",
       "    'fields': {'IVA': {'bit_offset': 0,\n",
       "      'bit_width': 32,\n",
       "      'description': 'Interrupt Vector Address Register 30',\n",
       "      'access': 'read-write'}}},\n",
       "   'IVAR[31]': {'address_offset': 380,\n",
       "    'size': 32,\n",
       "    'access': 'read-write',\n",
       "    'description': 'Interrupt Vector Address Register 31',\n",
       "    'fields': {'IVA': {'bit_offset': 0,\n",
       "      'bit_width': 32,\n",
       "      'description': 'Interrupt Vector Address Register 31',\n",
       "      'access': 'read-write'}}},\n",
       "   'IVEAR[0]': {'address_offset': 512,\n",
       "    'size': 32,\n",
       "    'access': 'read-write',\n",
       "    'description': 'Interrupt Vector Address Register 0',\n",
       "    'fields': {'IVA': {'bit_offset': 0,\n",
       "      'bit_width': 32,\n",
       "      'description': 'Interrupt Vector Address Register 0',\n",
       "      'access': 'read-write'}}},\n",
       "   'IVEAR[1]': {'address_offset': 520,\n",
       "    'size': 32,\n",
       "    'access': 'read-write',\n",
       "    'description': 'Interrupt Vector Address Register 1',\n",
       "    'fields': {'IVA': {'bit_offset': 0,\n",
       "      'bit_width': 32,\n",
       "      'description': 'Interrupt Vector Address Register 1',\n",
       "      'access': 'read-write'}}},\n",
       "   'IVEAR[2]': {'address_offset': 528,\n",
       "    'size': 32,\n",
       "    'access': 'read-write',\n",
       "    'description': 'Interrupt Vector Address Register 2',\n",
       "    'fields': {'IVA': {'bit_offset': 0,\n",
       "      'bit_width': 32,\n",
       "      'description': 'Interrupt Vector Address Register 2',\n",
       "      'access': 'read-write'}}},\n",
       "   'IVEAR[3]': {'address_offset': 536,\n",
       "    'size': 32,\n",
       "    'access': 'read-write',\n",
       "    'description': 'Interrupt Vector Address Register 3',\n",
       "    'fields': {'IVA': {'bit_offset': 0,\n",
       "      'bit_width': 32,\n",
       "      'description': 'Interrupt Vector Address Register 3',\n",
       "      'access': 'read-write'}}},\n",
       "   'IVEAR[4]': {'address_offset': 544,\n",
       "    'size': 32,\n",
       "    'access': 'read-write',\n",
       "    'description': 'Interrupt Vector Address Register 4',\n",
       "    'fields': {'IVA': {'bit_offset': 0,\n",
       "      'bit_width': 32,\n",
       "      'description': 'Interrupt Vector Address Register 4',\n",
       "      'access': 'read-write'}}},\n",
       "   'IVEAR[5]': {'address_offset': 552,\n",
       "    'size': 32,\n",
       "    'access': 'read-write',\n",
       "    'description': 'Interrupt Vector Address Register 5',\n",
       "    'fields': {'IVA': {'bit_offset': 0,\n",
       "      'bit_width': 32,\n",
       "      'description': 'Interrupt Vector Address Register 5',\n",
       "      'access': 'read-write'}}},\n",
       "   'IVEAR[6]': {'address_offset': 560,\n",
       "    'size': 32,\n",
       "    'access': 'read-write',\n",
       "    'description': 'Interrupt Vector Address Register 6',\n",
       "    'fields': {'IVA': {'bit_offset': 0,\n",
       "      'bit_width': 32,\n",
       "      'description': 'Interrupt Vector Address Register 6',\n",
       "      'access': 'read-write'}}},\n",
       "   'IVEAR[7]': {'address_offset': 568,\n",
       "    'size': 32,\n",
       "    'access': 'read-write',\n",
       "    'description': 'Interrupt Vector Address Register 7',\n",
       "    'fields': {'IVA': {'bit_offset': 0,\n",
       "      'bit_width': 32,\n",
       "      'description': 'Interrupt Vector Address Register 7',\n",
       "      'access': 'read-write'}}},\n",
       "   'IVEAR[8]': {'address_offset': 576,\n",
       "    'size': 32,\n",
       "    'access': 'read-write',\n",
       "    'description': 'Interrupt Vector Address Register 8',\n",
       "    'fields': {'IVA': {'bit_offset': 0,\n",
       "      'bit_width': 32,\n",
       "      'description': 'Interrupt Vector Address Register 8',\n",
       "      'access': 'read-write'}}},\n",
       "   'IVEAR[9]': {'address_offset': 584,\n",
       "    'size': 32,\n",
       "    'access': 'read-write',\n",
       "    'description': 'Interrupt Vector Address Register 9',\n",
       "    'fields': {'IVA': {'bit_offset': 0,\n",
       "      'bit_width': 32,\n",
       "      'description': 'Interrupt Vector Address Register 9',\n",
       "      'access': 'read-write'}}},\n",
       "   'IVEAR[10]': {'address_offset': 592,\n",
       "    'size': 32,\n",
       "    'access': 'read-write',\n",
       "    'description': 'Interrupt Vector Address Register 10',\n",
       "    'fields': {'IVA': {'bit_offset': 0,\n",
       "      'bit_width': 32,\n",
       "      'description': 'Interrupt Vector Address Register 10',\n",
       "      'access': 'read-write'}}},\n",
       "   'IVEAR[11]': {'address_offset': 600,\n",
       "    'size': 32,\n",
       "    'access': 'read-write',\n",
       "    'description': 'Interrupt Vector Address Register 11',\n",
       "    'fields': {'IVA': {'bit_offset': 0,\n",
       "      'bit_width': 32,\n",
       "      'description': 'Interrupt Vector Address Register 11',\n",
       "      'access': 'read-write'}}},\n",
       "   'IVEAR[12]': {'address_offset': 608,\n",
       "    'size': 32,\n",
       "    'access': 'read-write',\n",
       "    'description': 'Interrupt Vector Address Register 12',\n",
       "    'fields': {'IVA': {'bit_offset': 0,\n",
       "      'bit_width': 32,\n",
       "      'description': 'Interrupt Vector Address Register 12',\n",
       "      'access': 'read-write'}}},\n",
       "   'IVEAR[13]': {'address_offset': 616,\n",
       "    'size': 32,\n",
       "    'access': 'read-write',\n",
       "    'description': 'Interrupt Vector Address Register 13',\n",
       "    'fields': {'IVA': {'bit_offset': 0,\n",
       "      'bit_width': 32,\n",
       "      'description': 'Interrupt Vector Address Register 13',\n",
       "      'access': 'read-write'}}},\n",
       "   'IVEAR[14]': {'address_offset': 624,\n",
       "    'size': 32,\n",
       "    'access': 'read-write',\n",
       "    'description': 'Interrupt Vector Address Register 14',\n",
       "    'fields': {'IVA': {'bit_offset': 0,\n",
       "      'bit_width': 32,\n",
       "      'description': 'Interrupt Vector Address Register 14',\n",
       "      'access': 'read-write'}}},\n",
       "   'IVEAR[15]': {'address_offset': 632,\n",
       "    'size': 32,\n",
       "    'access': 'read-write',\n",
       "    'description': 'Interrupt Vector Address Register 15',\n",
       "    'fields': {'IVA': {'bit_offset': 0,\n",
       "      'bit_width': 32,\n",
       "      'description': 'Interrupt Vector Address Register 15',\n",
       "      'access': 'read-write'}}},\n",
       "   'IVEAR[16]': {'address_offset': 640,\n",
       "    'size': 32,\n",
       "    'access': 'read-write',\n",
       "    'description': 'Interrupt Vector Address Register 16',\n",
       "    'fields': {'IVA': {'bit_offset': 0,\n",
       "      'bit_width': 32,\n",
       "      'description': 'Interrupt Vector Address Register 16',\n",
       "      'access': 'read-write'}}},\n",
       "   'IVEAR[17]': {'address_offset': 648,\n",
       "    'size': 32,\n",
       "    'access': 'read-write',\n",
       "    'description': 'Interrupt Vector Address Register 17',\n",
       "    'fields': {'IVA': {'bit_offset': 0,\n",
       "      'bit_width': 32,\n",
       "      'description': 'Interrupt Vector Address Register 17',\n",
       "      'access': 'read-write'}}},\n",
       "   'IVEAR[18]': {'address_offset': 656,\n",
       "    'size': 32,\n",
       "    'access': 'read-write',\n",
       "    'description': 'Interrupt Vector Address Register 18',\n",
       "    'fields': {'IVA': {'bit_offset': 0,\n",
       "      'bit_width': 32,\n",
       "      'description': 'Interrupt Vector Address Register 18',\n",
       "      'access': 'read-write'}}},\n",
       "   'IVEAR[19]': {'address_offset': 664,\n",
       "    'size': 32,\n",
       "    'access': 'read-write',\n",
       "    'description': 'Interrupt Vector Address Register 19',\n",
       "    'fields': {'IVA': {'bit_offset': 0,\n",
       "      'bit_width': 32,\n",
       "      'description': 'Interrupt Vector Address Register 19',\n",
       "      'access': 'read-write'}}},\n",
       "   'IVEAR[20]': {'address_offset': 672,\n",
       "    'size': 32,\n",
       "    'access': 'read-write',\n",
       "    'description': 'Interrupt Vector Address Register 20',\n",
       "    'fields': {'IVA': {'bit_offset': 0,\n",
       "      'bit_width': 32,\n",
       "      'description': 'Interrupt Vector Address Register 20',\n",
       "      'access': 'read-write'}}},\n",
       "   'IVEAR[21]': {'address_offset': 680,\n",
       "    'size': 32,\n",
       "    'access': 'read-write',\n",
       "    'description': 'Interrupt Vector Address Register 21',\n",
       "    'fields': {'IVA': {'bit_offset': 0,\n",
       "      'bit_width': 32,\n",
       "      'description': 'Interrupt Vector Address Register 21',\n",
       "      'access': 'read-write'}}},\n",
       "   'IVEAR[22]': {'address_offset': 688,\n",
       "    'size': 32,\n",
       "    'access': 'read-write',\n",
       "    'description': 'Interrupt Vector Address Register 22',\n",
       "    'fields': {'IVA': {'bit_offset': 0,\n",
       "      'bit_width': 32,\n",
       "      'description': 'Interrupt Vector Address Register 22',\n",
       "      'access': 'read-write'}}},\n",
       "   'IVEAR[23]': {'address_offset': 696,\n",
       "    'size': 32,\n",
       "    'access': 'read-write',\n",
       "    'description': 'Interrupt Vector Address Register 23',\n",
       "    'fields': {'IVA': {'bit_offset': 0,\n",
       "      'bit_width': 32,\n",
       "      'description': 'Interrupt Vector Address Register 23',\n",
       "      'access': 'read-write'}}},\n",
       "   'IVEAR[24]': {'address_offset': 704,\n",
       "    'size': 32,\n",
       "    'access': 'read-write',\n",
       "    'description': 'Interrupt Vector Address Register 24',\n",
       "    'fields': {'IVA': {'bit_offset': 0,\n",
       "      'bit_width': 32,\n",
       "      'description': 'Interrupt Vector Address Register 24',\n",
       "      'access': 'read-write'}}},\n",
       "   'IVEAR[25]': {'address_offset': 712,\n",
       "    'size': 32,\n",
       "    'access': 'read-write',\n",
       "    'description': 'Interrupt Vector Address Register 25',\n",
       "    'fields': {'IVA': {'bit_offset': 0,\n",
       "      'bit_width': 32,\n",
       "      'description': 'Interrupt Vector Address Register 25',\n",
       "      'access': 'read-write'}}},\n",
       "   'IVEAR[26]': {'address_offset': 720,\n",
       "    'size': 32,\n",
       "    'access': 'read-write',\n",
       "    'description': 'Interrupt Vector Address Register 26',\n",
       "    'fields': {'IVA': {'bit_offset': 0,\n",
       "      'bit_width': 32,\n",
       "      'description': 'Interrupt Vector Address Register 26',\n",
       "      'access': 'read-write'}}},\n",
       "   'IVEAR[27]': {'address_offset': 728,\n",
       "    'size': 32,\n",
       "    'access': 'read-write',\n",
       "    'description': 'Interrupt Vector Address Register 27',\n",
       "    'fields': {'IVA': {'bit_offset': 0,\n",
       "      'bit_width': 32,\n",
       "      'description': 'Interrupt Vector Address Register 27',\n",
       "      'access': 'read-write'}}},\n",
       "   'IVEAR[28]': {'address_offset': 736,\n",
       "    'size': 32,\n",
       "    'access': 'read-write',\n",
       "    'description': 'Interrupt Vector Address Register 28',\n",
       "    'fields': {'IVA': {'bit_offset': 0,\n",
       "      'bit_width': 32,\n",
       "      'description': 'Interrupt Vector Address Register 28',\n",
       "      'access': 'read-write'}}},\n",
       "   'IVEAR[29]': {'address_offset': 744,\n",
       "    'size': 32,\n",
       "    'access': 'read-write',\n",
       "    'description': 'Interrupt Vector Address Register 29',\n",
       "    'fields': {'IVA': {'bit_offset': 0,\n",
       "      'bit_width': 32,\n",
       "      'description': 'Interrupt Vector Address Register 29',\n",
       "      'access': 'read-write'}}},\n",
       "   'IVEAR[30]': {'address_offset': 752,\n",
       "    'size': 32,\n",
       "    'access': 'read-write',\n",
       "    'description': 'Interrupt Vector Address Register 30',\n",
       "    'fields': {'IVA': {'bit_offset': 0,\n",
       "      'bit_width': 32,\n",
       "      'description': 'Interrupt Vector Address Register 30',\n",
       "      'access': 'read-write'}}},\n",
       "   'IVEAR[31]': {'address_offset': 760,\n",
       "    'size': 32,\n",
       "    'access': 'read-write',\n",
       "    'description': 'Interrupt Vector Address Register 31',\n",
       "    'fields': {'IVA': {'bit_offset': 0,\n",
       "      'bit_width': 32,\n",
       "      'description': 'Interrupt Vector Address Register 31',\n",
       "      'access': 'read-write'}}}},\n",
       "  'device': <pynq.pl_server.embedded_device.EmbeddedDevice at 0xffff932b2880>,\n",
       "  'driver': pynq.overlay.DefaultIP},\n",
       " 'axi_perf_mon_0': {'fullpath': 'axi_perf_mon_0',\n",
       "  'type': 'xilinx.com:ip:axi_perf_mon:5.0',\n",
       "  'bdtype': None,\n",
       "  'state': None,\n",
       "  'addr_range': 65536,\n",
       "  'phys_addr': 2684420096,\n",
       "  'mem_id': 'S_AXI',\n",
       "  'memtype': 'REGISTER',\n",
       "  'gpio': {},\n",
       "  'interrupts': {},\n",
       "  'parameters': {'C_FAMILY': 'zynquplus',\n",
       "   'C_INSTANCE': 'design_1_axi_perf_mon_0_0',\n",
       "   'C_LITE_ADDRESS_WIDTH': '16',\n",
       "   'C_S_AXI_ADDR_WIDTH': '16',\n",
       "   'C_S_AXI_DATA_WIDTH': '32',\n",
       "   'C_S_AXI_PROTOCOL': 'AXI4LITE',\n",
       "   'C_S_AXI_ID_WIDTH': '1',\n",
       "   'C_SUPPORT_ID_REFLECTION': '0',\n",
       "   'C_ENABLE_ADVANCED': '1',\n",
       "   'C_ENABLE_PROFILE': '0',\n",
       "   'C_ENABLE_TRACE': '0',\n",
       "   'C_EN_AXI_DEBUG': '0',\n",
       "   'C_EN_TRIGGER': '0',\n",
       "   'C_EN_WR_ADD_FLAG': '1',\n",
       "   'C_EN_FIRST_WRITE_FLAG': '1',\n",
       "   'C_EN_LAST_WRITE_FLAG': '1',\n",
       "   'C_EN_RESPONSE_FLAG': '1',\n",
       "   'C_EN_RD_ADD_FLAG': '1',\n",
       "   'C_EN_FIRST_READ_FLAG': '1',\n",
       "   'C_EN_LAST_READ_FLAG': '1',\n",
       "   'C_EN_SW_REG_WR_FLAG': '0',\n",
       "   'C_EN_EXT_EVENTS_FLAG': '0',\n",
       "   'C_NUM_MONITOR_SLOTS': '1',\n",
       "   'C_ENABLE_EVENT_COUNT': '1',\n",
       "   'C_NUM_OF_COUNTERS': '1',\n",
       "   'C_METRIC_COUNT_WIDTH': '32',\n",
       "   'C_METRIC_COUNT_SCALE': '1',\n",
       "   'C_GLOBAL_COUNT_WIDTH': '32',\n",
       "   'C_HAVE_SAMPLED_METRIC_CNT': '1',\n",
       "   'C_METRICS_SAMPLE_COUNT_WIDTH': '32',\n",
       "   'C_AXI4LITE_CORE_CLK_ASYNC': '0',\n",
       "   'C_SLOT_0_AXI_ADDR_WIDTH': '49',\n",
       "   'C_SLOT_0_AXI_DATA_WIDTH': '128',\n",
       "   'C_SLOT_0_AXI_ID_WIDTH': '3',\n",
       "   'C_SLOT_0_AXI_PROTOCOL': 'AXI4',\n",
       "   'C_SLOT_0_AXIS_TDATA_WIDTH': '32',\n",
       "   'C_SLOT_0_AXIS_TID_WIDTH': '1',\n",
       "   'C_SLOT_0_AXIS_TDEST_WIDTH': '1',\n",
       "   'C_SLOT_0_AXIS_TUSER_WIDTH': '1',\n",
       "   'C_SLOT_0_FIFO_ENABLE': '0',\n",
       "   'C_SLOT_1_AXI_ADDR_WIDTH': '32',\n",
       "   'C_SLOT_1_AXI_DATA_WIDTH': '32',\n",
       "   'C_SLOT_1_AXI_ID_WIDTH': '1',\n",
       "   'C_SLOT_1_AXI_PROTOCOL': 'AXI4',\n",
       "   'C_SLOT_1_AXIS_TDATA_WIDTH': '32',\n",
       "   'C_SLOT_1_AXIS_TID_WIDTH': '1',\n",
       "   'C_SLOT_1_AXIS_TDEST_WIDTH': '1',\n",
       "   'C_SLOT_1_AXIS_TUSER_WIDTH': '1',\n",
       "   'C_SLOT_1_FIFO_ENABLE': '1',\n",
       "   'C_SLOT_2_AXI_ADDR_WIDTH': '32',\n",
       "   'C_SLOT_2_AXI_DATA_WIDTH': '32',\n",
       "   'C_SLOT_2_AXI_ID_WIDTH': '1',\n",
       "   'C_SLOT_2_AXI_PROTOCOL': 'AXI4',\n",
       "   'C_SLOT_2_AXIS_TDATA_WIDTH': '32',\n",
       "   'C_SLOT_2_AXIS_TID_WIDTH': '1',\n",
       "   'C_SLOT_2_AXIS_TDEST_WIDTH': '1',\n",
       "   'C_SLOT_2_AXIS_TUSER_WIDTH': '1',\n",
       "   'C_SLOT_2_FIFO_ENABLE': '1',\n",
       "   'C_SLOT_3_AXI_ADDR_WIDTH': '32',\n",
       "   'C_SLOT_3_AXI_DATA_WIDTH': '32',\n",
       "   'C_SLOT_3_AXI_ID_WIDTH': '1',\n",
       "   'C_SLOT_3_AXI_PROTOCOL': 'AXI4',\n",
       "   'C_SLOT_3_AXIS_TDATA_WIDTH': '32',\n",
       "   'C_SLOT_3_AXIS_TID_WIDTH': '1',\n",
       "   'C_SLOT_3_AXIS_TDEST_WIDTH': '1',\n",
       "   'C_SLOT_3_AXIS_TUSER_WIDTH': '1',\n",
       "   'C_SLOT_3_FIFO_ENABLE': '1',\n",
       "   'C_SLOT_4_AXI_ADDR_WIDTH': '32',\n",
       "   'C_SLOT_4_AXI_DATA_WIDTH': '32',\n",
       "   'C_SLOT_4_AXI_ID_WIDTH': '1',\n",
       "   'C_SLOT_4_AXI_PROTOCOL': 'AXI4',\n",
       "   'C_SLOT_4_AXIS_TDATA_WIDTH': '32',\n",
       "   'C_SLOT_4_AXIS_TID_WIDTH': '1',\n",
       "   'C_SLOT_4_AXIS_TDEST_WIDTH': '1',\n",
       "   'C_SLOT_4_AXIS_TUSER_WIDTH': '1',\n",
       "   'C_SLOT_4_FIFO_ENABLE': '1',\n",
       "   'C_SLOT_5_AXI_ADDR_WIDTH': '32',\n",
       "   'C_SLOT_5_AXI_DATA_WIDTH': '32',\n",
       "   'C_SLOT_5_AXI_ID_WIDTH': '1',\n",
       "   'C_SLOT_5_AXI_PROTOCOL': 'AXI4',\n",
       "   'C_SLOT_5_AXIS_TDATA_WIDTH': '32',\n",
       "   'C_SLOT_5_AXIS_TID_WIDTH': '1',\n",
       "   'C_SLOT_5_AXIS_TDEST_WIDTH': '1',\n",
       "   'C_SLOT_5_AXIS_TUSER_WIDTH': '1',\n",
       "   'C_SLOT_5_FIFO_ENABLE': '1',\n",
       "   'C_SLOT_6_AXI_ADDR_WIDTH': '32',\n",
       "   'C_SLOT_6_AXI_DATA_WIDTH': '32',\n",
       "   'C_SLOT_6_AXI_ID_WIDTH': '1',\n",
       "   'C_SLOT_6_AXI_PROTOCOL': 'AXI4',\n",
       "   'C_SLOT_6_AXIS_TDATA_WIDTH': '32',\n",
       "   'C_SLOT_6_AXIS_TID_WIDTH': '1',\n",
       "   'C_SLOT_6_AXIS_TDEST_WIDTH': '1',\n",
       "   'C_SLOT_6_AXIS_TUSER_WIDTH': '1',\n",
       "   'C_SLOT_6_FIFO_ENABLE': '1',\n",
       "   'C_SLOT_7_AXI_ADDR_WIDTH': '32',\n",
       "   'C_SLOT_7_AXI_DATA_WIDTH': '32',\n",
       "   'C_SLOT_7_AXI_ID_WIDTH': '1',\n",
       "   'C_SLOT_7_AXI_PROTOCOL': 'AXI4',\n",
       "   'C_SLOT_7_AXIS_TDATA_WIDTH': '32',\n",
       "   'C_SLOT_7_AXIS_TID_WIDTH': '1',\n",
       "   'C_SLOT_7_AXIS_TDEST_WIDTH': '1',\n",
       "   'C_SLOT_7_AXIS_TUSER_WIDTH': '1',\n",
       "   'C_SLOT_7_FIFO_ENABLE': '1',\n",
       "   'C_SLOT_0_AXI_AWLEN': '7',\n",
       "   'C_SLOT_1_AXI_AWLEN': '7',\n",
       "   'C_SLOT_2_AXI_AWLEN': '7',\n",
       "   'C_SLOT_3_AXI_AWLEN': '7',\n",
       "   'C_SLOT_4_AXI_AWLEN': '7',\n",
       "   'C_SLOT_5_AXI_AWLEN': '7',\n",
       "   'C_SLOT_6_AXI_AWLEN': '7',\n",
       "   'C_SLOT_7_AXI_AWLEN': '7',\n",
       "   'C_SLOT_0_AXI_LOCK': '0',\n",
       "   'C_SLOT_1_AXI_LOCK': '0',\n",
       "   'C_SLOT_2_AXI_LOCK': '0',\n",
       "   'C_SLOT_3_AXI_LOCK': '0',\n",
       "   'C_SLOT_4_AXI_LOCK': '0',\n",
       "   'C_SLOT_5_AXI_LOCK': '0',\n",
       "   'C_SLOT_6_AXI_LOCK': '0',\n",
       "   'C_SLOT_7_AXI_LOCK': '0',\n",
       "   'C_REG_ALL_MONITOR_SIGNALS': '0',\n",
       "   'C_EXT_EVENT0_FIFO_ENABLE': '1',\n",
       "   'C_EXT_EVENT1_FIFO_ENABLE': '1',\n",
       "   'C_EXT_EVENT2_FIFO_ENABLE': '1',\n",
       "   'C_EXT_EVENT3_FIFO_ENABLE': '1',\n",
       "   'C_EXT_EVENT4_FIFO_ENABLE': '1',\n",
       "   'C_EXT_EVENT5_FIFO_ENABLE': '1',\n",
       "   'C_EXT_EVENT6_FIFO_ENABLE': '1',\n",
       "   'C_EXT_EVENT7_FIFO_ENABLE': '1',\n",
       "   'C_ENABLE_EVENT_LOG': '0',\n",
       "   'C_FIFO_AXIS_DEPTH': '32',\n",
       "   'C_FIFO_AXIS_TDATA_WIDTH': '56',\n",
       "   'C_AXIS_DWIDTH_ROUND_TO_32': '64',\n",
       "   'C_FIFO_AXIS_TID_WIDTH': '1',\n",
       "   'C_FIFO_AXIS_SYNC': '0',\n",
       "   'C_SHOW_AXI_IDS': '0',\n",
       "   'C_SHOW_AXI_LEN': '0',\n",
       "   'C_SHOW_AXIS_TID': '0',\n",
       "   'C_SHOW_AXIS_TDEST': '0',\n",
       "   'C_SHOW_AXIS_TUSER': '0',\n",
       "   'ENABLE_EXT_EVENTS': '0',\n",
       "   'COUNTER_LOAD_VALUE': '0x00000000',\n",
       "   'C_LOG_DATA_OFFLD': '0',\n",
       "   'S_AXI_OFFLD_ID_WIDTH': '1',\n",
       "   'C_S_AXI4_BASEADDR': '0xFFFFFFFF',\n",
       "   'C_S_AXI4_HIGHADDR': '0x00000000',\n",
       "   'C_EN_ALL_TRACE': '1',\n",
       "   'Component_Name': 'design_1_axi_perf_mon_0_0',\n",
       "   'ENABLE_EXT_TRIGGERS': '0',\n",
       "   'EDK_IPTYPE': 'MONITOR',\n",
       "   'EDK_SPECIAL': 'MONITOR',\n",
       "   'C_BASEADDR': '0xA0010000',\n",
       "   'C_HIGHADDR': '0xA001FFFF'},\n",
       "  'registers': {'Global_Clock_Counter_MSB': {'address_offset': 0,\n",
       "    'size': 32,\n",
       "    'access': 'read-only',\n",
       "    'description': 'Higher 32-bit data of the Global Clock Counter Register',\n",
       "    'fields': {'Global_Clock_Count': {'bit_offset': 0,\n",
       "      'bit_width': 32,\n",
       "      'description': 'Higher 32-bit data of the Global Clock Counter Register',\n",
       "      'access': 'read-only'}}},\n",
       "   'Global_Clock_Counter_LSB': {'address_offset': 4,\n",
       "    'size': 32,\n",
       "    'access': 'read-only',\n",
       "    'description': 'Lower 32-bit data of the Global Clock Counter Register',\n",
       "    'fields': {'Global_Clock_Count': {'bit_offset': 0,\n",
       "      'bit_width': 32,\n",
       "      'description': 'Lower 32-bit data of the Global Clock Counter Register',\n",
       "      'access': 'read-only'}}},\n",
       "   'Sample_Interval': {'address_offset': 36,\n",
       "    'size': 32,\n",
       "    'access': 'read-write',\n",
       "    'description': 'Sample Interval Time Configuration Register',\n",
       "    'fields': {'Sample_Interval': {'bit_offset': 0,\n",
       "      'bit_width': 32,\n",
       "      'description': 'Sample Interval Time Configuration Register',\n",
       "      'access': 'read-write'}}},\n",
       "   'Sample_Interval_Control_Register': {'address_offset': 40,\n",
       "    'size': 32,\n",
       "    'access': 'read-write',\n",
       "    'description': 'Sample Interval Control Register',\n",
       "    'fields': {'Enable': {'bit_offset': 0,\n",
       "      'bit_width': 1,\n",
       "      'description': 'Sample Interval Control Register',\n",
       "      'access': 'read-write'},\n",
       "     'Load': {'bit_offset': 1,\n",
       "      'bit_width': 1,\n",
       "      'description': 'Sample Interval Control Register',\n",
       "      'access': 'read-write'},\n",
       "     'Metric_Counters_Reset': {'bit_offset': 8,\n",
       "      'bit_width': 1,\n",
       "      'description': 'Sample Interval Control Register',\n",
       "      'access': 'read-write'}}},\n",
       "   'Sample_Register': {'address_offset': 44,\n",
       "    'size': 32,\n",
       "    'access': 'read-only',\n",
       "    'description': 'Sample Register',\n",
       "    'fields': {'Sample_Register_Read': {'bit_offset': 0,\n",
       "      'bit_width': 32,\n",
       "      'description': 'Sample Register',\n",
       "      'access': 'read-only'}}},\n",
       "   'Global_Interrupt_Enable_Register': {'address_offset': 48,\n",
       "    'size': 32,\n",
       "    'access': 'read-write',\n",
       "    'description': 'Global Interrupt Enable Register',\n",
       "    'fields': {'GIE': {'bit_offset': 0,\n",
       "      'bit_width': 1,\n",
       "      'description': 'Global Interrupt Enable Register',\n",
       "      'access': 'read-write'}}},\n",
       "   'Interrupt_Enable_Register': {'address_offset': 52,\n",
       "    'size': 32,\n",
       "    'access': 'read-write',\n",
       "    'description': 'Interrupt Enable Register',\n",
       "    'fields': {'GCC_Overflow_Interrupt_Enable': {'bit_offset': 0,\n",
       "      'bit_width': 1,\n",
       "      'description': 'Interrupt Enable Register',\n",
       "      'access': 'read-write'},\n",
       "     'SIC_Overflow_Interrupt_Enable': {'bit_offset': 1,\n",
       "      'bit_width': 1,\n",
       "      'description': 'Interrupt Enable Register',\n",
       "      'access': 'read-write'},\n",
       "     'ELF_Overflow_Interrupt_Enable': {'bit_offset': 2,\n",
       "      'bit_width': 1,\n",
       "      'description': 'Interrupt Enable Register',\n",
       "      'access': 'read-write'},\n",
       "     'Metric_Counter_0_Overflow_Interrupt_Enable': {'bit_offset': 3,\n",
       "      'bit_width': 1,\n",
       "      'description': 'Interrupt Enable Register',\n",
       "      'access': 'read-write'},\n",
       "     'Metric_Counter_1_Overflow_Interrupt_Enable': {'bit_offset': 4,\n",
       "      'bit_width': 1,\n",
       "      'description': 'Interrupt Enable Register',\n",
       "      'access': 'read-write'},\n",
       "     'Metric_Counter_2_Overflow_Interrupt_Enable': {'bit_offset': 5,\n",
       "      'bit_width': 1,\n",
       "      'description': 'Interrupt Enable Register',\n",
       "      'access': 'read-write'},\n",
       "     'Metric_Counter_3_Overflow_Interrupt_Enable': {'bit_offset': 6,\n",
       "      'bit_width': 1,\n",
       "      'description': 'Interrupt Enable Register',\n",
       "      'access': 'read-write'},\n",
       "     'Metric_Counter_4_Overflow_Interrupt_Enable': {'bit_offset': 7,\n",
       "      'bit_width': 1,\n",
       "      'description': 'Interrupt Enable Register',\n",
       "      'access': 'read-write'},\n",
       "     'Metric_Counter_5_Overflow_Interrupt_Enable': {'bit_offset': 8,\n",
       "      'bit_width': 1,\n",
       "      'description': 'Interrupt Enable Register',\n",
       "      'access': 'read-write'},\n",
       "     'Metric_Counter_6_Overflow_Interrupt_Enable': {'bit_offset': 9,\n",
       "      'bit_width': 1,\n",
       "      'description': 'Interrupt Enable Register',\n",
       "      'access': 'read-write'},\n",
       "     'Metric_Counter_7_Overflow_Interrupt_Enable': {'bit_offset': 10,\n",
       "      'bit_width': 1,\n",
       "      'description': 'Interrupt Enable Register',\n",
       "      'access': 'read-write'},\n",
       "     'Metric_Counter_8_Overflow_Interrupt_Enable': {'bit_offset': 11,\n",
       "      'bit_width': 1,\n",
       "      'description': 'Interrupt Enable Register',\n",
       "      'access': 'read-write'},\n",
       "     'Metric_Counter_9_Overflow_Interrupt_Enable': {'bit_offset': 12,\n",
       "      'bit_width': 1,\n",
       "      'description': 'Interrupt Enable Register',\n",
       "      'access': 'read-write'}}},\n",
       "   'Interrupt_Status_Register': {'address_offset': 56,\n",
       "    'size': 32,\n",
       "    'access': 'read-write',\n",
       "    'description': 'Interrupt_Status_Register',\n",
       "    'fields': {'GCC_Overflow_Interrupt': {'bit_offset': 0,\n",
       "      'bit_width': 1,\n",
       "      'description': 'Interrupt_Status_Register',\n",
       "      'access': 'read-write'},\n",
       "     'SIC_Overflow_Interrupt': {'bit_offset': 1,\n",
       "      'bit_width': 1,\n",
       "      'description': 'Interrupt_Status_Register',\n",
       "      'access': 'read-write'},\n",
       "     'ELF_Overflow_Interrupt': {'bit_offset': 2,\n",
       "      'bit_width': 1,\n",
       "      'description': 'Interrupt_Status_Register',\n",
       "      'access': 'read-write'},\n",
       "     'Metric_Counter_0_Overflow_Interrupt': {'bit_offset': 3,\n",
       "      'bit_width': 1,\n",
       "      'description': 'Interrupt_Status_Register',\n",
       "      'access': 'read-write'},\n",
       "     'Metric_Counter_1_Overflow_Interrupt': {'bit_offset': 4,\n",
       "      'bit_width': 1,\n",
       "      'description': 'Interrupt_Status_Register',\n",
       "      'access': 'read-write'},\n",
       "     'Metric_Counter_2_Overflow_Interrupt': {'bit_offset': 5,\n",
       "      'bit_width': 1,\n",
       "      'description': 'Interrupt_Status_Register',\n",
       "      'access': 'read-write'},\n",
       "     'Metric_Counter_3_Overflow_Interrupt': {'bit_offset': 6,\n",
       "      'bit_width': 1,\n",
       "      'description': 'Interrupt_Status_Register',\n",
       "      'access': 'read-write'},\n",
       "     'Metric_Counter_4_Overflow_Interrupt': {'bit_offset': 7,\n",
       "      'bit_width': 1,\n",
       "      'description': 'Interrupt_Status_Register',\n",
       "      'access': 'read-write'},\n",
       "     'Metric_Counter_5_Overflow_Interrupt': {'bit_offset': 8,\n",
       "      'bit_width': 1,\n",
       "      'description': 'Interrupt_Status_Register',\n",
       "      'access': 'read-write'},\n",
       "     'Metric_Counter_6_Overflow_Interrupt': {'bit_offset': 9,\n",
       "      'bit_width': 1,\n",
       "      'description': 'Interrupt_Status_Register',\n",
       "      'access': 'read-write'},\n",
       "     'Metric_Counter_7_Overflow_Interrupt': {'bit_offset': 10,\n",
       "      'bit_width': 1,\n",
       "      'description': 'Interrupt_Status_Register',\n",
       "      'access': 'read-write'},\n",
       "     'Metric_Counter_8_Overflow_Interrupt': {'bit_offset': 11,\n",
       "      'bit_width': 1,\n",
       "      'description': 'Interrupt_Status_Register',\n",
       "      'access': 'read-write'},\n",
       "     'Metric_Counter_9_Overflow_Interrupt': {'bit_offset': 12,\n",
       "      'bit_width': 1,\n",
       "      'description': 'Interrupt_Status_Register',\n",
       "      'access': 'read-write'}}},\n",
       "   'Metric_Selector_Register_0': {'address_offset': 68,\n",
       "    'size': 32,\n",
       "    'access': 'read-write',\n",
       "    'description': 'Metric Selector for Metric Counters 0, 1, 2 and 3',\n",
       "    'fields': {'Metric_Selector_for_Counter_0': {'bit_offset': 0,\n",
       "      'bit_width': 5,\n",
       "      'description': 'Metric Selector for Metric Counters 0, 1, 2 and 3',\n",
       "      'access': 'read-write'},\n",
       "     'Metric_Counter_0_Slot_ID': {'bit_offset': 5,\n",
       "      'bit_width': 3,\n",
       "      'description': 'Metric Selector for Metric Counters 0, 1, 2 and 3',\n",
       "      'access': 'read-write'},\n",
       "     'Metric_Selector_for_Counter_1': {'bit_offset': 8,\n",
       "      'bit_width': 5,\n",
       "      'description': 'Metric Selector for Metric Counters 0, 1, 2 and 3',\n",
       "      'access': 'read-write'},\n",
       "     'Metric_Counter_1_Slot_ID': {'bit_offset': 13,\n",
       "      'bit_width': 3,\n",
       "      'description': 'Metric Selector for Metric Counters 0, 1, 2 and 3',\n",
       "      'access': 'read-write'},\n",
       "     'Metric_Selector_for_Counter_2': {'bit_offset': 16,\n",
       "      'bit_width': 5,\n",
       "      'description': 'Metric Selector for Metric Counters 0, 1, 2 and 3',\n",
       "      'access': 'read-write'},\n",
       "     'Metric_Counter_2_Slot_ID': {'bit_offset': 21,\n",
       "      'bit_width': 3,\n",
       "      'description': 'Metric Selector for Metric Counters 0, 1, 2 and 3',\n",
       "      'access': 'read-write'},\n",
       "     'Metric_Selector_for_Counter_3': {'bit_offset': 24,\n",
       "      'bit_width': 5,\n",
       "      'description': 'Metric Selector for Metric Counters 0, 1, 2 and 3',\n",
       "      'access': 'read-write'},\n",
       "     'Metric_Counter_3_Slot_ID': {'bit_offset': 29,\n",
       "      'bit_width': 3,\n",
       "      'description': 'Metric Selector for Metric Counters 0, 1, 2 and 3',\n",
       "      'access': 'read-write'}}},\n",
       "   'Metric_Selector_Register_1': {'address_offset': 72,\n",
       "    'size': 32,\n",
       "    'access': 'read-write',\n",
       "    'description': 'Metric Selector for Metric Counters 4, 5, 6 and 7',\n",
       "    'fields': {'Metric_Selector_for_Counter_4': {'bit_offset': 0,\n",
       "      'bit_width': 5,\n",
       "      'description': 'Metric Selector for Metric Counters 4, 5, 6 and 7',\n",
       "      'access': 'read-write'},\n",
       "     'Metric_Counter_4_Slot_ID': {'bit_offset': 5,\n",
       "      'bit_width': 3,\n",
       "      'description': 'Metric Selector for Metric Counters 4, 5, 6 and 7',\n",
       "      'access': 'read-write'},\n",
       "     'Metric_Selector_for_Counter_5': {'bit_offset': 8,\n",
       "      'bit_width': 5,\n",
       "      'description': 'Metric Selector for Metric Counters 4, 5, 6 and 7',\n",
       "      'access': 'read-write'},\n",
       "     'Metric_Counter_5_Slot_ID': {'bit_offset': 13,\n",
       "      'bit_width': 3,\n",
       "      'description': 'Metric Selector for Metric Counters 4, 5, 6 and 7',\n",
       "      'access': 'read-write'},\n",
       "     'Metric_Selector_for_Counter_6': {'bit_offset': 16,\n",
       "      'bit_width': 5,\n",
       "      'description': 'Metric Selector for Metric Counters 4, 5, 6 and 7',\n",
       "      'access': 'read-write'},\n",
       "     'Metric_Counter_6_Slot_ID': {'bit_offset': 21,\n",
       "      'bit_width': 3,\n",
       "      'description': 'Metric Selector for Metric Counters 4, 5, 6 and 7',\n",
       "      'access': 'read-write'},\n",
       "     'Metric_Selector_for_Counter_7': {'bit_offset': 24,\n",
       "      'bit_width': 5,\n",
       "      'description': 'Metric Selector for Metric Counters 4, 5, 6 and 7',\n",
       "      'access': 'read-write'},\n",
       "     'Metric_Counter_7_Slot_ID': {'bit_offset': 29,\n",
       "      'bit_width': 3,\n",
       "      'description': 'Metric Selector for Metric Counters 4, 5, 6 and 7',\n",
       "      'access': 'read-write'}}},\n",
       "   'Metric_Selector_Register_2': {'address_offset': 76,\n",
       "    'size': 32,\n",
       "    'access': 'read-write',\n",
       "    'description': 'Metric Selector for Metric Counters 8 and 9',\n",
       "    'fields': {'Metric_Selector_for_Counter_8': {'bit_offset': 0,\n",
       "      'bit_width': 5,\n",
       "      'description': 'Metric Selector for Metric Counters 8 and 9',\n",
       "      'access': 'read-write'},\n",
       "     'Metric_Counter_8_Slot_ID': {'bit_offset': 5,\n",
       "      'bit_width': 3,\n",
       "      'description': 'Metric Selector for Metric Counters 8 and 9',\n",
       "      'access': 'read-write'},\n",
       "     'Metric_Selector_for_Counter_9': {'bit_offset': 8,\n",
       "      'bit_width': 5,\n",
       "      'description': 'Metric Selector for Metric Counters 8 and 9',\n",
       "      'access': 'read-write'},\n",
       "     'Metric_Counter_9_Slot_ID': {'bit_offset': 13,\n",
       "      'bit_width': 3,\n",
       "      'description': 'Metric Selector for Metric Counters 8 and 9',\n",
       "      'access': 'read-write'}}},\n",
       "   'Metric_Counter_0': {'address_offset': 256,\n",
       "    'size': 32,\n",
       "    'access': 'read-only',\n",
       "    'description': 'Metric Counter 0 Register',\n",
       "    'fields': {'Metric_Counter': {'bit_offset': 0,\n",
       "      'bit_width': 32,\n",
       "      'description': 'Metric Counter 0 Register',\n",
       "      'access': 'read-only'}}},\n",
       "   'Incrementer_0': {'address_offset': 260,\n",
       "    'size': 32,\n",
       "    'access': 'read-only',\n",
       "    'description': 'Incrementer 0 Register',\n",
       "    'fields': {'Incrementer': {'bit_offset': 0,\n",
       "      'bit_width': 32,\n",
       "      'description': 'Incrementer 0 Register',\n",
       "      'access': 'read-only'}}},\n",
       "   'Range_Register_0': {'address_offset': 264,\n",
       "    'size': 32,\n",
       "    'access': 'read-write',\n",
       "    'description': 'Low & High Ranges for Incrementer 0',\n",
       "    'fields': {'Range_LOW': {'bit_offset': 0,\n",
       "      'bit_width': 16,\n",
       "      'description': 'Low & High Ranges for Incrementer 0',\n",
       "      'access': 'read-write'},\n",
       "     'Range_HIGH': {'bit_offset': 16,\n",
       "      'bit_width': 16,\n",
       "      'description': 'Low & High Ranges for Incrementer 0',\n",
       "      'access': 'read-write'}}},\n",
       "   'Metric_Count_Log_Enable_Register_0': {'address_offset': 268,\n",
       "    'size': 32,\n",
       "    'access': 'read-write',\n",
       "    'description': 'Metric Count Log Enable Register 0',\n",
       "    'fields': {'Counter_Cut_Off_Value': {'bit_offset': 0,\n",
       "      'bit_width': 32,\n",
       "      'description': 'Metric Count Log Enable Register 0',\n",
       "      'access': 'read-write'}}},\n",
       "   'Metric_Counter_1': {'address_offset': 272,\n",
       "    'size': 32,\n",
       "    'access': 'read-only',\n",
       "    'description': 'Metric Counter 1 Register',\n",
       "    'fields': {'Metric_Counter': {'bit_offset': 0,\n",
       "      'bit_width': 32,\n",
       "      'description': 'Metric Counter 1 Register',\n",
       "      'access': 'read-only'}}},\n",
       "   'Incrementer_1': {'address_offset': 276,\n",
       "    'size': 32,\n",
       "    'access': 'read-only',\n",
       "    'description': 'Incrementer 1 Register',\n",
       "    'fields': {'Incrementer': {'bit_offset': 0,\n",
       "      'bit_width': 32,\n",
       "      'description': 'Incrementer 1 Register',\n",
       "      'access': 'read-only'}}},\n",
       "   'Range_Register_1': {'address_offset': 280,\n",
       "    'size': 32,\n",
       "    'access': 'read-write',\n",
       "    'description': 'Low & High Ranges for Incrementer 1',\n",
       "    'fields': {'Range_LOW': {'bit_offset': 0,\n",
       "      'bit_width': 16,\n",
       "      'description': 'Low & High Ranges for Incrementer 1',\n",
       "      'access': 'read-write'},\n",
       "     'Range_HIGH': {'bit_offset': 16,\n",
       "      'bit_width': 16,\n",
       "      'description': 'Low & High Ranges for Incrementer 1',\n",
       "      'access': 'read-write'}}},\n",
       "   'Metric_Count_Log_Enable_Register_1': {'address_offset': 284,\n",
       "    'size': 32,\n",
       "    'access': 'read-write',\n",
       "    'description': 'Metric Count Log Enable Register 1',\n",
       "    'fields': {'Counter_Cut_Off_Value': {'bit_offset': 0,\n",
       "      'bit_width': 32,\n",
       "      'description': 'Metric Count Log Enable Register 1',\n",
       "      'access': 'read-write'}}},\n",
       "   'Metric_Counter_2': {'address_offset': 288,\n",
       "    'size': 32,\n",
       "    'access': 'read-only',\n",
       "    'description': 'Metric Counter 2 Register',\n",
       "    'fields': {'Metric_Counter': {'bit_offset': 0,\n",
       "      'bit_width': 32,\n",
       "      'description': 'Metric Counter 2 Register',\n",
       "      'access': 'read-only'}}},\n",
       "   'Incrementer_2': {'address_offset': 292,\n",
       "    'size': 32,\n",
       "    'access': 'read-only',\n",
       "    'description': 'Incrementer 2 Register',\n",
       "    'fields': {'Incrementer': {'bit_offset': 0,\n",
       "      'bit_width': 32,\n",
       "      'description': 'Incrementer 2 Register',\n",
       "      'access': 'read-only'}}},\n",
       "   'Range_Register_2': {'address_offset': 296,\n",
       "    'size': 32,\n",
       "    'access': 'read-write',\n",
       "    'description': 'Low & High Ranges for Incrementer 2',\n",
       "    'fields': {'Range_LOW': {'bit_offset': 0,\n",
       "      'bit_width': 16,\n",
       "      'description': 'Low & High Ranges for Incrementer 2',\n",
       "      'access': 'read-write'},\n",
       "     'Range_HIGH': {'bit_offset': 16,\n",
       "      'bit_width': 16,\n",
       "      'description': 'Low & High Ranges for Incrementer 2',\n",
       "      'access': 'read-write'}}},\n",
       "   'Metric_Count_Log_Enable_Register_2': {'address_offset': 300,\n",
       "    'size': 32,\n",
       "    'access': 'read-write',\n",
       "    'description': 'Metric Count Log Enable Register 2',\n",
       "    'fields': {'Counter_Cut_Off_Value': {'bit_offset': 0,\n",
       "      'bit_width': 32,\n",
       "      'description': 'Metric Count Log Enable Register 2',\n",
       "      'access': 'read-write'}}},\n",
       "   'Metric_Counter_3': {'address_offset': 304,\n",
       "    'size': 32,\n",
       "    'access': 'read-only',\n",
       "    'description': 'Metric Counter 3 Register',\n",
       "    'fields': {'Metric_Counter': {'bit_offset': 0,\n",
       "      'bit_width': 32,\n",
       "      'description': 'Metric Counter 3 Register',\n",
       "      'access': 'read-only'}}},\n",
       "   'Incrementer_3': {'address_offset': 308,\n",
       "    'size': 32,\n",
       "    'access': 'read-only',\n",
       "    'description': 'Incrementer 3 Register',\n",
       "    'fields': {'Incrementer': {'bit_offset': 0,\n",
       "      'bit_width': 32,\n",
       "      'description': 'Incrementer 3 Register',\n",
       "      'access': 'read-only'}}},\n",
       "   'Range_Register_3': {'address_offset': 312,\n",
       "    'size': 32,\n",
       "    'access': 'read-write',\n",
       "    'description': 'Low & High Ranges for Incrementer 3',\n",
       "    'fields': {'Range_LOW': {'bit_offset': 0,\n",
       "      'bit_width': 16,\n",
       "      'description': 'Low & High Ranges for Incrementer 3',\n",
       "      'access': 'read-write'},\n",
       "     'Range_HIGH': {'bit_offset': 16,\n",
       "      'bit_width': 16,\n",
       "      'description': 'Low & High Ranges for Incrementer 3',\n",
       "      'access': 'read-write'}}},\n",
       "   'Metric_Count_Log_Enable_Register_3': {'address_offset': 316,\n",
       "    'size': 32,\n",
       "    'access': 'read-write',\n",
       "    'description': 'Metric Count Log Enable Register 3',\n",
       "    'fields': {'Counter_Cut_Off_Value': {'bit_offset': 0,\n",
       "      'bit_width': 32,\n",
       "      'description': 'Metric Count Log Enable Register 3',\n",
       "      'access': 'read-write'}}},\n",
       "   'Metric_Counter_4': {'address_offset': 320,\n",
       "    'size': 32,\n",
       "    'access': 'read-only',\n",
       "    'description': 'Metric Counter 4 Register',\n",
       "    'fields': {'Metric_Counter': {'bit_offset': 0,\n",
       "      'bit_width': 32,\n",
       "      'description': 'Metric Counter 4 Register',\n",
       "      'access': 'read-only'}}},\n",
       "   'Incrementer_4': {'address_offset': 324,\n",
       "    'size': 32,\n",
       "    'access': 'read-only',\n",
       "    'description': 'Incrementer 4 Register',\n",
       "    'fields': {'Incrementer': {'bit_offset': 0,\n",
       "      'bit_width': 32,\n",
       "      'description': 'Incrementer 4 Register',\n",
       "      'access': 'read-only'}}},\n",
       "   'Range_Register_4': {'address_offset': 328,\n",
       "    'size': 32,\n",
       "    'access': 'read-write',\n",
       "    'description': 'Low & High Ranges for Incrementer 4',\n",
       "    'fields': {'Range_LOW': {'bit_offset': 0,\n",
       "      'bit_width': 16,\n",
       "      'description': 'Low & High Ranges for Incrementer 4',\n",
       "      'access': 'read-write'},\n",
       "     'Range_HIGH': {'bit_offset': 16,\n",
       "      'bit_width': 16,\n",
       "      'description': 'Low & High Ranges for Incrementer 4',\n",
       "      'access': 'read-write'}}},\n",
       "   'Metric_Count_Log_Enable_Register_4': {'address_offset': 332,\n",
       "    'size': 32,\n",
       "    'access': 'read-write',\n",
       "    'description': 'Metric Count Log Enable Register 4',\n",
       "    'fields': {'Counter_Cut_Off_Value': {'bit_offset': 0,\n",
       "      'bit_width': 32,\n",
       "      'description': 'Metric Count Log Enable Register 4',\n",
       "      'access': 'read-write'}}},\n",
       "   'Metric_Counter_5': {'address_offset': 336,\n",
       "    'size': 32,\n",
       "    'access': 'read-only',\n",
       "    'description': 'Metric Counter 5 Register',\n",
       "    'fields': {'Metric_Counter': {'bit_offset': 0,\n",
       "      'bit_width': 32,\n",
       "      'description': 'Metric Counter 5 Register',\n",
       "      'access': 'read-only'}}},\n",
       "   'Incrementer_5': {'address_offset': 340,\n",
       "    'size': 32,\n",
       "    'access': 'read-only',\n",
       "    'description': 'Incrementer 5 Register',\n",
       "    'fields': {'Incrementer': {'bit_offset': 0,\n",
       "      'bit_width': 32,\n",
       "      'description': 'Incrementer 5 Register',\n",
       "      'access': 'read-only'}}},\n",
       "   'Range_Register_5': {'address_offset': 344,\n",
       "    'size': 32,\n",
       "    'access': 'read-write',\n",
       "    'description': 'Low & High Ranges for Incrementer 5',\n",
       "    'fields': {'Range_LOW': {'bit_offset': 0,\n",
       "      'bit_width': 16,\n",
       "      'description': 'Low & High Ranges for Incrementer 5',\n",
       "      'access': 'read-write'},\n",
       "     'Range_HIGH': {'bit_offset': 16,\n",
       "      'bit_width': 16,\n",
       "      'description': 'Low & High Ranges for Incrementer 5',\n",
       "      'access': 'read-write'}}},\n",
       "   'Metric_Count_Log_Enable_Register_5': {'address_offset': 348,\n",
       "    'size': 32,\n",
       "    'access': 'read-write',\n",
       "    'description': 'Metric Count Log Enable Register 5',\n",
       "    'fields': {'Counter_Cut_Off_Value': {'bit_offset': 0,\n",
       "      'bit_width': 32,\n",
       "      'description': 'Metric Count Log Enable Register 5',\n",
       "      'access': 'read-write'}}},\n",
       "   'Metric_Counter_6': {'address_offset': 352,\n",
       "    'size': 32,\n",
       "    'access': 'read-only',\n",
       "    'description': 'Metric Counter 6 Register',\n",
       "    'fields': {'Metric_Counter': {'bit_offset': 0,\n",
       "      'bit_width': 32,\n",
       "      'description': 'Metric Counter 6 Register',\n",
       "      'access': 'read-only'}}},\n",
       "   'Incrementer_6': {'address_offset': 356,\n",
       "    'size': 32,\n",
       "    'access': 'read-only',\n",
       "    'description': 'Incrementer 6 Register',\n",
       "    'fields': {'Incrementer': {'bit_offset': 0,\n",
       "      'bit_width': 32,\n",
       "      'description': 'Incrementer 6 Register',\n",
       "      'access': 'read-only'}}},\n",
       "   'Range_Register_6': {'address_offset': 360,\n",
       "    'size': 32,\n",
       "    'access': 'read-write',\n",
       "    'description': 'Low & High Ranges for Incrementer 6',\n",
       "    'fields': {'Range_LOW': {'bit_offset': 0,\n",
       "      'bit_width': 16,\n",
       "      'description': 'Low & High Ranges for Incrementer 6',\n",
       "      'access': 'read-write'},\n",
       "     'Range_HIGH': {'bit_offset': 16,\n",
       "      'bit_width': 16,\n",
       "      'description': 'Low & High Ranges for Incrementer 6',\n",
       "      'access': 'read-write'}}},\n",
       "   'Metric_Count_Log_Enable_Register_6': {'address_offset': 364,\n",
       "    'size': 32,\n",
       "    'access': 'read-write',\n",
       "    'description': 'Metric Count Log Enable Register 6',\n",
       "    'fields': {'Counter_Cut_Off_Value': {'bit_offset': 0,\n",
       "      'bit_width': 32,\n",
       "      'description': 'Metric Count Log Enable Register 6',\n",
       "      'access': 'read-write'}}},\n",
       "   'Metric_Counter_7': {'address_offset': 368,\n",
       "    'size': 32,\n",
       "    'access': 'read-only',\n",
       "    'description': 'Metric Counter 7 Register',\n",
       "    'fields': {'Metric_Counter': {'bit_offset': 0,\n",
       "      'bit_width': 32,\n",
       "      'description': 'Metric Counter 7 Register',\n",
       "      'access': 'read-only'}}},\n",
       "   'Incrementer_7': {'address_offset': 372,\n",
       "    'size': 32,\n",
       "    'access': 'read-only',\n",
       "    'description': 'Incrementer 7 Register',\n",
       "    'fields': {'Incrementer': {'bit_offset': 0,\n",
       "      'bit_width': 32,\n",
       "      'description': 'Incrementer 7 Register',\n",
       "      'access': 'read-only'}}},\n",
       "   'Range_Register_7': {'address_offset': 376,\n",
       "    'size': 32,\n",
       "    'access': 'read-write',\n",
       "    'description': 'Low & High Ranges for Incrementer 7',\n",
       "    'fields': {'Range_LOW': {'bit_offset': 0,\n",
       "      'bit_width': 16,\n",
       "      'description': 'Low & High Ranges for Incrementer 7',\n",
       "      'access': 'read-write'},\n",
       "     'Range_HIGH': {'bit_offset': 16,\n",
       "      'bit_width': 16,\n",
       "      'description': 'Low & High Ranges for Incrementer 7',\n",
       "      'access': 'read-write'}}},\n",
       "   'Metric_Count_Log_Enable_Register_7': {'address_offset': 380,\n",
       "    'size': 32,\n",
       "    'access': 'read-write',\n",
       "    'description': 'Metric Count Log Enable Register 7',\n",
       "    'fields': {'Counter_Cut_Off_Value': {'bit_offset': 0,\n",
       "      'bit_width': 32,\n",
       "      'description': 'Metric Count Log Enable Register 7',\n",
       "      'access': 'read-write'}}},\n",
       "   'Metric_Counter_8': {'address_offset': 384,\n",
       "    'size': 32,\n",
       "    'access': 'read-only',\n",
       "    'description': 'Metric Counter 8 Register',\n",
       "    'fields': {'Metric_Counter': {'bit_offset': 0,\n",
       "      'bit_width': 32,\n",
       "      'description': 'Metric Counter 8 Register',\n",
       "      'access': 'read-only'}}},\n",
       "   'Incrementer_8': {'address_offset': 388,\n",
       "    'size': 32,\n",
       "    'access': 'read-only',\n",
       "    'description': 'Incrementer 8 Register',\n",
       "    'fields': {'Incrementer': {'bit_offset': 0,\n",
       "      'bit_width': 32,\n",
       "      'description': 'Incrementer 8 Register',\n",
       "      'access': 'read-only'}}},\n",
       "   'Range_Register_8': {'address_offset': 392,\n",
       "    'size': 32,\n",
       "    'access': 'read-write',\n",
       "    'description': 'Low & High Ranges for Incrementer 8',\n",
       "    'fields': {'Range_LOW': {'bit_offset': 0,\n",
       "      'bit_width': 16,\n",
       "      'description': 'Low & High Ranges for Incrementer 8',\n",
       "      'access': 'read-write'},\n",
       "     'Range_HIGH': {'bit_offset': 16,\n",
       "      'bit_width': 16,\n",
       "      'description': 'Low & High Ranges for Incrementer 8',\n",
       "      'access': 'read-write'}}},\n",
       "   'Metric_Count_Log_Enable_Register_8': {'address_offset': 396,\n",
       "    'size': 32,\n",
       "    'access': 'read-write',\n",
       "    'description': 'Metric Count Log Enable Register 8',\n",
       "    'fields': {'Counter_Cut_Off_Value': {'bit_offset': 0,\n",
       "      'bit_width': 32,\n",
       "      'description': 'Metric Count Log Enable Register 8',\n",
       "      'access': 'read-write'}}},\n",
       "   'Metric_Counter_9': {'address_offset': 400,\n",
       "    'size': 32,\n",
       "    'access': 'read-only',\n",
       "    'description': 'Metric Counter 9 Register',\n",
       "    'fields': {'Metric_Counter': {'bit_offset': 0,\n",
       "      'bit_width': 32,\n",
       "      'description': 'Metric Counter 9 Register',\n",
       "      'access': 'read-only'}}},\n",
       "   'Incrementer_9': {'address_offset': 404,\n",
       "    'size': 32,\n",
       "    'access': 'read-only',\n",
       "    'description': 'Incrementer 9 Register',\n",
       "    'fields': {'Incrementer': {'bit_offset': 0,\n",
       "      'bit_width': 32,\n",
       "      'description': 'Incrementer 9 Register',\n",
       "      'access': 'read-only'}}},\n",
       "   'Range_Register_9': {'address_offset': 408,\n",
       "    'size': 32,\n",
       "    'access': 'read-write',\n",
       "    'description': 'Low & High Ranges for Incrementer 9',\n",
       "    'fields': {'Range_LOW': {'bit_offset': 0,\n",
       "      'bit_width': 16,\n",
       "      'description': 'Low & High Ranges for Incrementer 9',\n",
       "      'access': 'read-write'},\n",
       "     'Range_HIGH': {'bit_offset': 16,\n",
       "      'bit_width': 16,\n",
       "      'description': 'Low & High Ranges for Incrementer 9',\n",
       "      'access': 'read-write'}}},\n",
       "   'Metric_Count_Log_Enable_Register_9': {'address_offset': 412,\n",
       "    'size': 32,\n",
       "    'access': 'read-write',\n",
       "    'description': 'Metric Count Log Enable Register 9',\n",
       "    'fields': {'Counter_Cut_Off_Value': {'bit_offset': 0,\n",
       "      'bit_width': 32,\n",
       "      'description': 'Metric Count Log Enable Register 9',\n",
       "      'access': 'read-write'}}},\n",
       "   'Sampled_Metric_Counter_0': {'address_offset': 512,\n",
       "    'size': 32,\n",
       "    'access': 'read-only',\n",
       "    'description': 'Sampled Metric Counter 0 Register',\n",
       "    'fields': {'Sampled_Metric_Counter': {'bit_offset': 0,\n",
       "      'bit_width': 32,\n",
       "      'description': 'Sampled Metric Counter 0 Register',\n",
       "      'access': 'read-only'}}},\n",
       "   'Sampled_Incrementer_0': {'address_offset': 516,\n",
       "    'size': 32,\n",
       "    'access': 'read-only',\n",
       "    'description': 'Sampled Incrementer 0 Register',\n",
       "    'fields': {'Sampled_Incrementer': {'bit_offset': 0,\n",
       "      'bit_width': 32,\n",
       "      'description': 'Sampled Incrementer 0 Register',\n",
       "      'access': 'read-only'}}},\n",
       "   'Sampled_Metric_Counter_1': {'address_offset': 528,\n",
       "    'size': 32,\n",
       "    'access': 'read-only',\n",
       "    'description': 'Sampled Metric Counter 1 Register',\n",
       "    'fields': {'Sampled_Metric_Counter': {'bit_offset': 0,\n",
       "      'bit_width': 32,\n",
       "      'description': 'Sampled Metric Counter 1 Register',\n",
       "      'access': 'read-only'}}},\n",
       "   'Sampled_Incrementer_1': {'address_offset': 532,\n",
       "    'size': 32,\n",
       "    'access': 'read-only',\n",
       "    'description': 'Sampled Incrementer 1 Register',\n",
       "    'fields': {'Sampled_Incrementer': {'bit_offset': 0,\n",
       "      'bit_width': 32,\n",
       "      'description': 'Sampled Incrementer 1 Register',\n",
       "      'access': 'read-only'}}},\n",
       "   'Sampled_Metric_Counter_2': {'address_offset': 544,\n",
       "    'size': 32,\n",
       "    'access': 'read-only',\n",
       "    'description': 'Sampled Metric Counter 2 Register',\n",
       "    'fields': {'Sampled_Metric_Counter': {'bit_offset': 0,\n",
       "      'bit_width': 32,\n",
       "      'description': 'Sampled Metric Counter 2 Register',\n",
       "      'access': 'read-only'}}},\n",
       "   'Sampled_Incrementer_2': {'address_offset': 548,\n",
       "    'size': 32,\n",
       "    'access': 'read-only',\n",
       "    'description': 'Sampled Incrementer 2 Register',\n",
       "    'fields': {'Sampled_Incrementer': {'bit_offset': 0,\n",
       "      'bit_width': 32,\n",
       "      'description': 'Sampled Incrementer 2 Register',\n",
       "      'access': 'read-only'}}},\n",
       "   'Sampled_Metric_Counter_3': {'address_offset': 560,\n",
       "    'size': 32,\n",
       "    'access': 'read-only',\n",
       "    'description': 'Sampled Metric Counter 3 Register',\n",
       "    'fields': {'Sampled_Metric_Counter': {'bit_offset': 0,\n",
       "      'bit_width': 32,\n",
       "      'description': 'Sampled Metric Counter 3 Register',\n",
       "      'access': 'read-only'}}},\n",
       "   'Sampled_Incrementer_3': {'address_offset': 564,\n",
       "    'size': 32,\n",
       "    'access': 'read-only',\n",
       "    'description': 'Sampled Incrementer 3 Register',\n",
       "    'fields': {'Sampled_Incrementer': {'bit_offset': 0,\n",
       "      'bit_width': 32,\n",
       "      'description': 'Sampled Incrementer 3 Register',\n",
       "      'access': 'read-only'}}},\n",
       "   'Sampled_Metric_Counter_4': {'address_offset': 576,\n",
       "    'size': 32,\n",
       "    'access': 'read-only',\n",
       "    'description': 'Sampled Metric Counter 4 Register',\n",
       "    'fields': {'Sampled_Metric_Counter': {'bit_offset': 0,\n",
       "      'bit_width': 32,\n",
       "      'description': 'Sampled Metric Counter 4 Register',\n",
       "      'access': 'read-only'}}},\n",
       "   'Sampled_Incrementer_4': {'address_offset': 580,\n",
       "    'size': 32,\n",
       "    'access': 'read-only',\n",
       "    'description': 'Sampled Incrementer 4 Register',\n",
       "    'fields': {'Sampled_Incrementer': {'bit_offset': 0,\n",
       "      'bit_width': 32,\n",
       "      'description': 'Sampled Incrementer 4 Register',\n",
       "      'access': 'read-only'}}},\n",
       "   'Sampled_Metric_Counter_5': {'address_offset': 592,\n",
       "    'size': 32,\n",
       "    'access': 'read-only',\n",
       "    'description': 'Sampled Metric Counter 5 Register',\n",
       "    'fields': {'Sampled_Metric_Counter': {'bit_offset': 0,\n",
       "      'bit_width': 32,\n",
       "      'description': 'Sampled Metric Counter 5 Register',\n",
       "      'access': 'read-only'}}},\n",
       "   'Sampled_Incrementer_5': {'address_offset': 596,\n",
       "    'size': 32,\n",
       "    'access': 'read-only',\n",
       "    'description': 'Sampled Incrementer 5 Register',\n",
       "    'fields': {'Sampled_Incrementer': {'bit_offset': 0,\n",
       "      'bit_width': 32,\n",
       "      'description': 'Sampled Incrementer 5 Register',\n",
       "      'access': 'read-only'}}},\n",
       "   'Sampled_Metric_Counter_6': {'address_offset': 608,\n",
       "    'size': 32,\n",
       "    'access': 'read-only',\n",
       "    'description': 'Sampled Metric Counter 6 Register',\n",
       "    'fields': {'Sampled_Metric_Counter': {'bit_offset': 0,\n",
       "      'bit_width': 32,\n",
       "      'description': 'Sampled Metric Counter 6 Register',\n",
       "      'access': 'read-only'}}},\n",
       "   'Sampled_Incrementer_6': {'address_offset': 612,\n",
       "    'size': 32,\n",
       "    'access': 'read-only',\n",
       "    'description': 'Sampled Incrementer 6 Register',\n",
       "    'fields': {'Sampled_Incrementer': {'bit_offset': 0,\n",
       "      'bit_width': 32,\n",
       "      'description': 'Sampled Incrementer 6 Register',\n",
       "      'access': 'read-only'}}},\n",
       "   'Sampled_Metric_Counter_7': {'address_offset': 624,\n",
       "    'size': 32,\n",
       "    'access': 'read-only',\n",
       "    'description': 'Sampled Metric Counter 7 Register',\n",
       "    'fields': {'Sampled_Metric_Counter': {'bit_offset': 0,\n",
       "      'bit_width': 32,\n",
       "      'description': 'Sampled Metric Counter 7 Register',\n",
       "      'access': 'read-only'}}},\n",
       "   'Sampled_Incrementer_7': {'address_offset': 628,\n",
       "    'size': 32,\n",
       "    'access': 'read-only',\n",
       "    'description': 'Sampled Incrementer 7 Register',\n",
       "    'fields': {'Sampled_Incrementer': {'bit_offset': 0,\n",
       "      'bit_width': 32,\n",
       "      'description': 'Sampled Incrementer 7 Register',\n",
       "      'access': 'read-only'}}},\n",
       "   'Sampled_Metric_Counter_8': {'address_offset': 640,\n",
       "    'size': 32,\n",
       "    'access': 'read-only',\n",
       "    'description': 'Sampled Metric Counter 8 Register',\n",
       "    'fields': {'Sampled_Metric_Counter': {'bit_offset': 0,\n",
       "      'bit_width': 32,\n",
       "      'description': 'Sampled Metric Counter 8 Register',\n",
       "      'access': 'read-only'}}},\n",
       "   'Sampled_Incrementer_8': {'address_offset': 644,\n",
       "    'size': 32,\n",
       "    'access': 'read-only',\n",
       "    'description': 'Sampled Incrementer 8 Register',\n",
       "    'fields': {'Sampled_Incrementer': {'bit_offset': 0,\n",
       "      'bit_width': 32,\n",
       "      'description': 'Sampled Incrementer 8 Register',\n",
       "      'access': 'read-only'}}},\n",
       "   'Sampled_Metric_Counter_9': {'address_offset': 656,\n",
       "    'size': 32,\n",
       "    'access': 'read-only',\n",
       "    'description': 'Sampled Metric Counter 9 Register',\n",
       "    'fields': {'Sampled_Metric_Counter': {'bit_offset': 0,\n",
       "      'bit_width': 32,\n",
       "      'description': 'Sampled Metric Counter 9 Register',\n",
       "      'access': 'read-only'}}},\n",
       "   'Sampled_Incrementer_9': {'address_offset': 660,\n",
       "    'size': 32,\n",
       "    'access': 'read-only',\n",
       "    'description': 'Sampled Incrementer 9 Register',\n",
       "    'fields': {'Sampled_Incrementer': {'bit_offset': 0,\n",
       "      'bit_width': 32,\n",
       "      'description': 'Sampled Incrementer 9 Register',\n",
       "      'access': 'read-only'}}},\n",
       "   'Control_Register': {'address_offset': 768,\n",
       "    'size': 32,\n",
       "    'access': 'read-write',\n",
       "    'description': 'Control Register',\n",
       "    'fields': {'Metrics_Cnt_EN': {'bit_offset': 0,\n",
       "      'bit_width': 1,\n",
       "      'description': 'Control Register',\n",
       "      'access': 'read-write'},\n",
       "     'Metrics_Cnt_Reset': {'bit_offset': 1,\n",
       "      'bit_width': 1,\n",
       "      'description': 'Control Register',\n",
       "      'access': 'read-write'},\n",
       "     'Use_Ext_Trig': {'bit_offset': 2,\n",
       "      'bit_width': 1,\n",
       "      'description': 'Control Register',\n",
       "      'access': 'read-write'},\n",
       "     'Enable_ID_Based_Filtering_Masking': {'bit_offset': 3,\n",
       "      'bit_width': 1,\n",
       "      'description': 'Control Register',\n",
       "      'access': 'read-write'},\n",
       "     'Write_Latency_Start_Point': {'bit_offset': 4,\n",
       "      'bit_width': 1,\n",
       "      'description': 'Control Register',\n",
       "      'access': 'read-write'},\n",
       "     'Write_Latency_End_Point': {'bit_offset': 5,\n",
       "      'bit_width': 1,\n",
       "      'description': 'Control Register',\n",
       "      'access': 'read-write'},\n",
       "     'Read_Latency_Start_Point': {'bit_offset': 6,\n",
       "      'bit_width': 1,\n",
       "      'description': 'Control Register',\n",
       "      'access': 'read-write'},\n",
       "     'Read_Latency_End_Point': {'bit_offset': 7,\n",
       "      'bit_width': 1,\n",
       "      'description': 'Control Register',\n",
       "      'access': 'read-write'},\n",
       "     'Enable_Event_Log': {'bit_offset': 8,\n",
       "      'bit_width': 1,\n",
       "      'description': 'Control Register',\n",
       "      'access': 'read-write'},\n",
       "     'Use_Ext_Trig_Log': {'bit_offset': 9,\n",
       "      'bit_width': 1,\n",
       "      'description': 'Control Register',\n",
       "      'access': 'read-write'},\n",
       "     'Global_Clk_Cnt_En': {'bit_offset': 16,\n",
       "      'bit_width': 1,\n",
       "      'description': 'Control Register',\n",
       "      'access': 'read-write'},\n",
       "     'Global_Clk_Cnt_Reset': {'bit_offset': 17,\n",
       "      'bit_width': 1,\n",
       "      'description': 'Control Register',\n",
       "      'access': 'read-write'},\n",
       "     'Streaming_FIFO_Reset': {'bit_offset': 25,\n",
       "      'bit_width': 1,\n",
       "      'description': 'Control Register',\n",
       "      'access': 'read-write'}}},\n",
       "   'ID_Register': {'address_offset': 772,\n",
       "    'size': 32,\n",
       "    'access': 'read-write',\n",
       "    'description': 'ID Register',\n",
       "    'fields': {'WID': {'bit_offset': 0,\n",
       "      'bit_width': 16,\n",
       "      'description': 'ID Register',\n",
       "      'access': 'read-write'},\n",
       "     'RID': {'bit_offset': 16,\n",
       "      'bit_width': 16,\n",
       "      'description': 'ID Register',\n",
       "      'access': 'read-write'}}},\n",
       "   'ID_Mask_Register': {'address_offset': 776,\n",
       "    'size': 32,\n",
       "    'access': 'read-write',\n",
       "    'description': 'ID Mask Register',\n",
       "    'fields': {'WID': {'bit_offset': 0,\n",
       "      'bit_width': 16,\n",
       "      'description': 'ID Mask Register',\n",
       "      'access': 'read-write'},\n",
       "     'RID': {'bit_offset': 16,\n",
       "      'bit_width': 16,\n",
       "      'description': 'ID Mask Register',\n",
       "      'access': 'read-write'}}},\n",
       "   'ID_Register_2': {'address_offset': 780,\n",
       "    'size': 32,\n",
       "    'access': 'read-write',\n",
       "    'description': 'ID Register 2',\n",
       "    'fields': {'WID': {'bit_offset': 0,\n",
       "      'bit_width': 16,\n",
       "      'description': 'ID Register 2',\n",
       "      'access': 'read-write'},\n",
       "     'RID': {'bit_offset': 16,\n",
       "      'bit_width': 16,\n",
       "      'description': 'ID Register 2',\n",
       "      'access': 'read-write'}}},\n",
       "   'ID_Mask_Register_2': {'address_offset': 784,\n",
       "    'size': 32,\n",
       "    'access': 'read-write',\n",
       "    'description': 'ID Mask Register 2',\n",
       "    'fields': {'WID': {'bit_offset': 0,\n",
       "      'bit_width': 16,\n",
       "      'description': 'ID Mask Register 2',\n",
       "      'access': 'read-write'},\n",
       "     'RID': {'bit_offset': 16,\n",
       "      'bit_width': 16,\n",
       "      'description': 'ID Mask Register 2',\n",
       "      'access': 'read-write'}}},\n",
       "   'Flag_Enable_Register': {'address_offset': 1024,\n",
       "    'size': 32,\n",
       "    'access': 'read-write',\n",
       "    'description': 'Flag Enable Register',\n",
       "    'fields': {'Enable_Write_Addr_Flag': {'bit_offset': 0,\n",
       "      'bit_width': 1,\n",
       "      'description': 'Flag Enable Register',\n",
       "      'access': 'read-write'},\n",
       "     'Enable_First_Write_Flag': {'bit_offset': 1,\n",
       "      'bit_width': 1,\n",
       "      'description': 'Flag Enable Register',\n",
       "      'access': 'read-write'},\n",
       "     'Enable_Last_Write_Flag': {'bit_offset': 2,\n",
       "      'bit_width': 1,\n",
       "      'description': 'Flag Enable Register',\n",
       "      'access': 'read-write'},\n",
       "     'Enable_Response_Flag': {'bit_offset': 3,\n",
       "      'bit_width': 1,\n",
       "      'description': 'Flag Enable Register',\n",
       "      'access': 'read-write'},\n",
       "     'Enable_Read_Addr_Flag': {'bit_offset': 4,\n",
       "      'bit_width': 1,\n",
       "      'description': 'Flag Enable Register',\n",
       "      'access': 'read-write'},\n",
       "     'Enable_First_Read_Flag': {'bit_offset': 5,\n",
       "      'bit_width': 1,\n",
       "      'description': 'Flag Enable Register',\n",
       "      'access': 'read-write'},\n",
       "     'Enable_Last_Read_Flag': {'bit_offset': 6,\n",
       "      'bit_width': 1,\n",
       "      'description': 'Flag Enable Register',\n",
       "      'access': 'read-write'},\n",
       "     'Enable_Software_Written_Data_Flag': {'bit_offset': 16,\n",
       "      'bit_width': 1,\n",
       "      'description': 'Flag Enable Register',\n",
       "      'access': 'read-write'},\n",
       "     'Enable_External_Event_Flag': {'bit_offset': 17,\n",
       "      'bit_width': 1,\n",
       "      'description': 'Flag Enable Register',\n",
       "      'access': 'read-write'},\n",
       "     'Enable_External_Event_Stop_Flag': {'bit_offset': 18,\n",
       "      'bit_width': 1,\n",
       "      'description': 'Flag Enable Register',\n",
       "      'access': 'read-write'},\n",
       "     'Enable_External_Event_Start_Flag': {'bit_offset': 19,\n",
       "      'bit_width': 1,\n",
       "      'description': 'Flag Enable Register',\n",
       "      'access': 'read-write'},\n",
       "     'Enable_Global_Clock_Count_Overflow_Flag': {'bit_offset': 20,\n",
       "      'bit_width': 1,\n",
       "      'description': 'Flag Enable Register',\n",
       "      'access': 'read-write'},\n",
       "     'Enable_Sample_Counter_Lapse_Flag': {'bit_offset': 21,\n",
       "      'bit_width': 1,\n",
       "      'description': 'Flag Enable Register',\n",
       "      'access': 'read-write'},\n",
       "     'Enable_Metric_Counter_0_Flag': {'bit_offset': 22,\n",
       "      'bit_width': 1,\n",
       "      'description': 'Flag Enable Register',\n",
       "      'access': 'read-write'},\n",
       "     'Enable_Metric_Counter_1_Flag': {'bit_offset': 23,\n",
       "      'bit_width': 1,\n",
       "      'description': 'Flag Enable Register',\n",
       "      'access': 'read-write'},\n",
       "     'Enable_Metric_Counter_2_Flag': {'bit_offset': 24,\n",
       "      'bit_width': 1,\n",
       "      'description': 'Flag Enable Register',\n",
       "      'access': 'read-write'},\n",
       "     'Enable_Metric_Counter_3_Flag': {'bit_offset': 25,\n",
       "      'bit_width': 1,\n",
       "      'description': 'Flag Enable Register',\n",
       "      'access': 'read-write'},\n",
       "     'Enable_Metric_Counter_4_Flag': {'bit_offset': 26,\n",
       "      'bit_width': 1,\n",
       "      'description': 'Flag Enable Register',\n",
       "      'access': 'read-write'},\n",
       "     'Enable_Metric_Counter_5_Flag': {'bit_offset': 27,\n",
       "      'bit_width': 1,\n",
       "      'description': 'Flag Enable Register',\n",
       "      'access': 'read-write'},\n",
       "     'Enable_Metric_Counter_6_Flag': {'bit_offset': 28,\n",
       "      'bit_width': 1,\n",
       "      'description': 'Flag Enable Register',\n",
       "      'access': 'read-write'},\n",
       "     'Enable_Metric_Counter_7_Flag': {'bit_offset': 29,\n",
       "      'bit_width': 1,\n",
       "      'description': 'Flag Enable Register',\n",
       "      'access': 'read-write'},\n",
       "     'Enable_Metric_Counter_8_Flag': {'bit_offset': 30,\n",
       "      'bit_width': 1,\n",
       "      'description': 'Flag Enable Register',\n",
       "      'access': 'read-write'},\n",
       "     'Enable_Metric_Counter_9_Flag': {'bit_offset': 31,\n",
       "      'bit_width': 1,\n",
       "      'description': 'Flag Enable Register',\n",
       "      'access': 'read-write'}}},\n",
       "   'Software_Written_Data_Register': {'address_offset': 1028,\n",
       "    'size': 32,\n",
       "    'access': 'read-write',\n",
       "    'description': 'Software_Written_Data_Register',\n",
       "    'fields': {'Software_Written_Data': {'bit_offset': 0,\n",
       "      'bit_width': 32,\n",
       "      'description': 'Software_Written_Data_Register',\n",
       "      'access': 'read-write'}}},\n",
       "   'Metric_Counter_10': {'address_offset': 416,\n",
       "    'size': 32,\n",
       "    'access': 'read-only',\n",
       "    'description': 'Metric Counter for slot 1 read transaction count',\n",
       "    'fields': {'Metric_Counter': {'bit_offset': 0,\n",
       "      'bit_width': 32,\n",
       "      'description': 'Metric Counter for slot 1 read transaction count',\n",
       "      'access': 'read-only'}}},\n",
       "   'Metric_Counter_11': {'address_offset': 432,\n",
       "    'size': 32,\n",
       "    'access': 'read-only',\n",
       "    'description': 'Metric Counter for slot 1 read latency count',\n",
       "    'fields': {'Metric_Counter': {'bit_offset': 0,\n",
       "      'bit_width': 32,\n",
       "      'description': 'Metric Counter for slot 1 read latency count',\n",
       "      'access': 'read-only'}}},\n",
       "   'Metric_Counter_12': {'address_offset': 1280,\n",
       "    'size': 32,\n",
       "    'access': 'read-only',\n",
       "    'description': 'Metric Counter for slot 2 write byte count',\n",
       "    'fields': {'Metric_Counter': {'bit_offset': 0,\n",
       "      'bit_width': 32,\n",
       "      'description': 'Metric Counter for slot 2 write byte count',\n",
       "      'access': 'read-only'}}},\n",
       "   'Metric_Counter_13': {'address_offset': 1296,\n",
       "    'size': 32,\n",
       "    'access': 'read-only',\n",
       "    'description': 'Metric Counter for slot 2 write transaction count',\n",
       "    'fields': {'Metric_Counter': {'bit_offset': 0,\n",
       "      'bit_width': 32,\n",
       "      'description': 'Metric Counter for slot 2 write transaction count',\n",
       "      'access': 'read-only'}}},\n",
       "   'Metric_Counter_14': {'address_offset': 1312,\n",
       "    'size': 32,\n",
       "    'access': 'read-only',\n",
       "    'description': 'Metric Counter for slot 2 write latency count',\n",
       "    'fields': {'Metric_Counter': {'bit_offset': 0,\n",
       "      'bit_width': 32,\n",
       "      'description': 'Metric Counter for slot 2 write latency count',\n",
       "      'access': 'read-only'}}},\n",
       "   'Metric_Counter_15': {'address_offset': 1328,\n",
       "    'size': 32,\n",
       "    'access': 'read-only',\n",
       "    'description': 'Metric Counter for slot 2 read byte count',\n",
       "    'fields': {'Metric_Counter': {'bit_offset': 0,\n",
       "      'bit_width': 32,\n",
       "      'description': 'Metric Counter for slot 2 read byte count',\n",
       "      'access': 'read-only'}}},\n",
       "   'Metric_Counter_16': {'address_offset': 1344,\n",
       "    'size': 32,\n",
       "    'access': 'read-only',\n",
       "    'description': 'Metric Counter for slot 2 read transaction count',\n",
       "    'fields': {'Metric_Counter': {'bit_offset': 0,\n",
       "      'bit_width': 32,\n",
       "      'description': 'Metric Counter for slot 2 read transaction count',\n",
       "      'access': 'read-only'}}},\n",
       "   'Metric_Counter_17': {'address_offset': 1360,\n",
       "    'size': 32,\n",
       "    'access': 'read-only',\n",
       "    'description': 'Metric Counter for slot 2 read latency count',\n",
       "    'fields': {'Metric_Counter': {'bit_offset': 0,\n",
       "      'bit_width': 32,\n",
       "      'description': 'Metric Counter for slot 2 read latency count',\n",
       "      'access': 'read-only'}}},\n",
       "   'Metric_Counter_18': {'address_offset': 1376,\n",
       "    'size': 32,\n",
       "    'access': 'read-only',\n",
       "    'description': 'Metric Counter for slot 3 write byte count',\n",
       "    'fields': {'Metric_Counter': {'bit_offset': 0,\n",
       "      'bit_width': 32,\n",
       "      'description': 'Metric Counter for slot 3 write byte count',\n",
       "      'access': 'read-only'}}},\n",
       "   'Metric_Counter_19': {'address_offset': 1392,\n",
       "    'size': 32,\n",
       "    'access': 'read-only',\n",
       "    'description': 'Metric Counter for slot 3 write transaction count',\n",
       "    'fields': {'Metric_Counter': {'bit_offset': 0,\n",
       "      'bit_width': 32,\n",
       "      'description': 'Metric Counter for slot 3 write transaction count',\n",
       "      'access': 'read-only'}}},\n",
       "   'Metric_Counter_20': {'address_offset': 1408,\n",
       "    'size': 32,\n",
       "    'access': 'read-only',\n",
       "    'description': 'Metric Counter for slot 3 write latency count',\n",
       "    'fields': {'Metric_Counter': {'bit_offset': 0,\n",
       "      'bit_width': 32,\n",
       "      'description': 'Metric Counter for slot 3 write latency count',\n",
       "      'access': 'read-only'}}},\n",
       "   'Metric_Counter_21': {'address_offset': 1424,\n",
       "    'size': 32,\n",
       "    'access': 'read-only',\n",
       "    'description': 'Metric Counter for slot 3 read byte count',\n",
       "    'fields': {'Metric_Counter': {'bit_offset': 0,\n",
       "      'bit_width': 32,\n",
       "      'description': 'Metric Counter for slot 3 read byte count',\n",
       "      'access': 'read-only'}}},\n",
       "   'Metric_Counter_22': {'address_offset': 1440,\n",
       "    'size': 32,\n",
       "    'access': 'read-only',\n",
       "    'description': 'Metric Counter for slot 3 read transaction count',\n",
       "    'fields': {'Metric_Counter': {'bit_offset': 0,\n",
       "      'bit_width': 32,\n",
       "      'description': 'Metric Counter for slot 3 read transaction count',\n",
       "      'access': 'read-only'}}},\n",
       "   'Metric_Counter_23': {'address_offset': 1456,\n",
       "    'size': 32,\n",
       "    'access': 'read-only',\n",
       "    'description': 'Metric Counter for slot 3 read latency count',\n",
       "    'fields': {'Metric_Counter': {'bit_offset': 0,\n",
       "      'bit_width': 32,\n",
       "      'description': 'Metric Counter for slot 3 read latency count',\n",
       "      'access': 'read-only'}}},\n",
       "   'Metric_Counter_24': {'address_offset': 1792,\n",
       "    'size': 32,\n",
       "    'access': 'read-only',\n",
       "    'description': 'Metric Counter for slot 4 write byte count',\n",
       "    'fields': {'Metric_Counter': {'bit_offset': 0,\n",
       "      'bit_width': 32,\n",
       "      'description': 'Metric Counter for slot 4 write byte count',\n",
       "      'access': 'read-only'}}},\n",
       "   'Metric_Counter_25': {'address_offset': 1808,\n",
       "    'size': 32,\n",
       "    'access': 'read-only',\n",
       "    'description': 'Metric Counter for slot 4 write transaction count',\n",
       "    'fields': {'Metric_Counter': {'bit_offset': 0,\n",
       "      'bit_width': 32,\n",
       "      'description': 'Metric Counter for slot 4 write transaction count',\n",
       "      'access': 'read-only'}}},\n",
       "   'Metric_Counter_26': {'address_offset': 1824,\n",
       "    'size': 32,\n",
       "    'access': 'read-only',\n",
       "    'description': 'Metric Counter for slot 4 write latency count',\n",
       "    'fields': {'Metric_Counter': {'bit_offset': 0,\n",
       "      'bit_width': 32,\n",
       "      'description': 'Metric Counter for slot 4 write latency count',\n",
       "      'access': 'read-only'}}},\n",
       "   'Metric_Counter_27': {'address_offset': 1840,\n",
       "    'size': 32,\n",
       "    'access': 'read-only',\n",
       "    'description': 'Metric Counter for slot 4 read byte count',\n",
       "    'fields': {'Metric_Counter': {'bit_offset': 0,\n",
       "      'bit_width': 32,\n",
       "      'description': 'Metric Counter for slot 4 read byte count',\n",
       "      'access': 'read-only'}}},\n",
       "   'Metric_Counter_28': {'address_offset': 1856,\n",
       "    'size': 32,\n",
       "    'access': 'read-only',\n",
       "    'description': 'Metric Counter for slot 4 read transaction count',\n",
       "    'fields': {'Metric_Counter': {'bit_offset': 0,\n",
       "      'bit_width': 32,\n",
       "      'description': 'Metric Counter for slot 4 read transaction count',\n",
       "      'access': 'read-only'}}},\n",
       "   'Metric_Counter_29': {'address_offset': 1872,\n",
       "    'size': 32,\n",
       "    'access': 'read-only',\n",
       "    'description': 'Metric Counter for slot 4 read latency count',\n",
       "    'fields': {'Metric_Counter': {'bit_offset': 0,\n",
       "      'bit_width': 32,\n",
       "      'description': 'Metric Counter for slot 4 read latency count',\n",
       "      'access': 'read-only'}}},\n",
       "   'Metric_Counter_30': {'address_offset': 1888,\n",
       "    'size': 32,\n",
       "    'access': 'read-only',\n",
       "    'description': 'Metric Counter for slot 5 write byte count',\n",
       "    'fields': {'Metric_Counter': {'bit_offset': 0,\n",
       "      'bit_width': 32,\n",
       "      'description': 'Metric Counter for slot 5 write byte count',\n",
       "      'access': 'read-only'}}},\n",
       "   'Metric_Counter_31': {'address_offset': 1904,\n",
       "    'size': 32,\n",
       "    'access': 'read-only',\n",
       "    'description': 'Metric Counter for slot 5 write transaction count',\n",
       "    'fields': {'Metric_Counter': {'bit_offset': 0,\n",
       "      'bit_width': 32,\n",
       "      'description': 'Metric Counter for slot 5 write transaction count',\n",
       "      'access': 'read-only'}}},\n",
       "   'Metric_Counter_32': {'address_offset': 1920,\n",
       "    'size': 32,\n",
       "    'access': 'read-only',\n",
       "    'description': 'Metric Counter for slot 5 write latency count',\n",
       "    'fields': {'Metric_Counter': {'bit_offset': 0,\n",
       "      'bit_width': 32,\n",
       "      'description': 'Metric Counter for slot 5 write latency count',\n",
       "      'access': 'read-only'}}},\n",
       "   'Metric_Counter_33': {'address_offset': 1936,\n",
       "    'size': 32,\n",
       "    'access': 'read-only',\n",
       "    'description': 'Metric Counter for slot 5 read byte count',\n",
       "    'fields': {'Metric_Counter': {'bit_offset': 0,\n",
       "      'bit_width': 32,\n",
       "      'description': 'Metric Counter for slot 5 read byte count',\n",
       "      'access': 'read-only'}}},\n",
       "   'Metric_Counter_34': {'address_offset': 1952,\n",
       "    'size': 32,\n",
       "    'access': 'read-only',\n",
       "    'description': 'Metric Counter for slot 5 read transaction count',\n",
       "    'fields': {'Metric_Counter': {'bit_offset': 0,\n",
       "      'bit_width': 32,\n",
       "      'description': 'Metric Counter for slot 5 read transaction count',\n",
       "      'access': 'read-only'}}},\n",
       "   'Metric_Counter_35': {'address_offset': 1968,\n",
       "    'size': 32,\n",
       "    'access': 'read-only',\n",
       "    'description': 'Metric Counter for slot 5 read latency count',\n",
       "    'fields': {'Metric_Counter': {'bit_offset': 0,\n",
       "      'bit_width': 32,\n",
       "      'description': 'Metric Counter for slot 5 read latency count',\n",
       "      'access': 'read-only'}}},\n",
       "   'Metric_Counter_36': {'address_offset': 2304,\n",
       "    'size': 32,\n",
       "    'access': 'read-only',\n",
       "    'description': 'Metric Counter for slot 6 write byte count',\n",
       "    'fields': {'Metric_Counter': {'bit_offset': 0,\n",
       "      'bit_width': 32,\n",
       "      'description': 'Metric Counter for slot 6 write byte count',\n",
       "      'access': 'read-only'}}},\n",
       "   'Metric_Counter_37': {'address_offset': 2320,\n",
       "    'size': 32,\n",
       "    'access': 'read-only',\n",
       "    'description': 'Metric Counter for slot 6 write transaction count',\n",
       "    'fields': {'Metric_Counter': {'bit_offset': 0,\n",
       "      'bit_width': 32,\n",
       "      'description': 'Metric Counter for slot 6 write transaction count',\n",
       "      'access': 'read-only'}}},\n",
       "   'Metric_Counter_38': {'address_offset': 2336,\n",
       "    'size': 32,\n",
       "    'access': 'read-only',\n",
       "    'description': 'Metric Counter for slot 6 write latency count',\n",
       "    'fields': {'Metric_Counter': {'bit_offset': 0,\n",
       "      'bit_width': 32,\n",
       "      'description': 'Metric Counter for slot 6 write latency count',\n",
       "      'access': 'read-only'}}},\n",
       "   'Metric_Counter_39': {'address_offset': 2352,\n",
       "    'size': 32,\n",
       "    'access': 'read-only',\n",
       "    'description': 'Metric Counter for slot 6 read byte count',\n",
       "    'fields': {'Metric_Counter': {'bit_offset': 0,\n",
       "      'bit_width': 32,\n",
       "      'description': 'Metric Counter for slot 6 read byte count',\n",
       "      'access': 'read-only'}}},\n",
       "   'Metric_Counter_40': {'address_offset': 2368,\n",
       "    'size': 32,\n",
       "    'access': 'read-only',\n",
       "    'description': 'Metric Counter for slot 6 read transaction count',\n",
       "    'fields': {'Metric_Counter': {'bit_offset': 0,\n",
       "      'bit_width': 32,\n",
       "      'description': 'Metric Counter for slot 6 read transaction count',\n",
       "      'access': 'read-only'}}},\n",
       "   'Metric_Counter_41': {'address_offset': 2384,\n",
       "    'size': 32,\n",
       "    'access': 'read-only',\n",
       "    'description': 'Metric Counter for slot 6 read latency count',\n",
       "    'fields': {'Metric_Counter': {'bit_offset': 0,\n",
       "      'bit_width': 32,\n",
       "      'description': 'Metric Counter for slot 6 read latency count',\n",
       "      'access': 'read-only'}}},\n",
       "   'Metric_Counter_42': {'address_offset': 2400,\n",
       "    'size': 32,\n",
       "    'access': 'read-only',\n",
       "    'description': 'Metric Counter for slot 7 write byte count',\n",
       "    'fields': {'Metric_Counter': {'bit_offset': 0,\n",
       "      'bit_width': 32,\n",
       "      'description': 'Metric Counter for slot 7 write byte count',\n",
       "      'access': 'read-only'}}},\n",
       "   'Metric_Counter_43': {'address_offset': 2416,\n",
       "    'size': 32,\n",
       "    'access': 'read-only',\n",
       "    'description': 'Metric Counter for slot 7 write transaction count',\n",
       "    'fields': {'Metric_Counter': {'bit_offset': 0,\n",
       "      'bit_width': 32,\n",
       "      'description': 'Metric Counter for slot 7 write transaction count',\n",
       "      'access': 'read-only'}}},\n",
       "   'Metric_Counter_44': {'address_offset': 2432,\n",
       "    'size': 32,\n",
       "    'access': 'read-only',\n",
       "    'description': 'Metric Counter for slot 7 write latency count',\n",
       "    'fields': {'Metric_Counter': {'bit_offset': 0,\n",
       "      'bit_width': 32,\n",
       "      'description': 'Metric Counter for slot 7 write latency count',\n",
       "      'access': 'read-only'}}},\n",
       "   'Metric_Counter_45': {'address_offset': 2448,\n",
       "    'size': 32,\n",
       "    'access': 'read-only',\n",
       "    'description': 'Metric Counter for slot 7 read byte count',\n",
       "    'fields': {'Metric_Counter': {'bit_offset': 0,\n",
       "      'bit_width': 32,\n",
       "      'description': 'Metric Counter for slot 7 read byte count',\n",
       "      'access': 'read-only'}}},\n",
       "   'Metric_Counter_46': {'address_offset': 2464,\n",
       "    'size': 32,\n",
       "    'access': 'read-only',\n",
       "    'description': 'Metric Counter for slot 7 read transaction count',\n",
       "    'fields': {'Metric_Counter': {'bit_offset': 0,\n",
       "      'bit_width': 32,\n",
       "      'description': 'Metric Counter for slot 7 read transaction count',\n",
       "      'access': 'read-only'}}},\n",
       "   'Metric_Counter_47': {'address_offset': 2480,\n",
       "    'size': 32,\n",
       "    'access': 'read-only',\n",
       "    'description': 'Metric Counter for slot 7 read latency count',\n",
       "    'fields': {'Metric_Counter': {'bit_offset': 0,\n",
       "      'bit_width': 32,\n",
       "      'description': 'Metric Counter for slot 7 read latency count',\n",
       "      'access': 'read-only'}}},\n",
       "   'Metric_Counter_48': {'address_offset': 340,\n",
       "    'size': 32,\n",
       "    'access': 'read-only',\n",
       "    'description': 'Metric Counter for slot 0 maximum write and minimum write latency',\n",
       "    'fields': {'Maximum_Latency_Metric_Counter': {'bit_offset': 0,\n",
       "      'bit_width': 16,\n",
       "      'description': 'Metric Counter for slot 0 maximum write and minimum write latency',\n",
       "      'access': 'read-only'},\n",
       "     'Minimum_Latency_Metric_Counter': {'bit_offset': 16,\n",
       "      'bit_width': 16,\n",
       "      'description': 'Metric Counter for slot 0 maximum write and minimum write latency',\n",
       "      'access': 'read-only'}}},\n",
       "   'Metric_Counter_49': {'address_offset': 344,\n",
       "    'size': 32,\n",
       "    'access': 'read-only',\n",
       "    'description': 'Metric Counter for slot 0 maximum read and minimun read latency',\n",
       "    'fields': {'Maximum_Latency_Metric_Counter': {'bit_offset': 0,\n",
       "      'bit_width': 16,\n",
       "      'description': 'Metric Counter for slot 0 maximum read and minimun read latency',\n",
       "      'access': 'read-only'},\n",
       "     'Minimum_Latency_Metric_Counter': {'bit_offset': 16,\n",
       "      'bit_width': 16,\n",
       "      'description': 'Metric Counter for slot 0 maximum read and minimun read latency',\n",
       "      'access': 'read-only'}}},\n",
       "   'Metric_Counter_50': {'address_offset': 436,\n",
       "    'size': 32,\n",
       "    'access': 'read-only',\n",
       "    'description': 'Metric Counter for slot 1 maximum write and minimum write latency',\n",
       "    'fields': {'Maximum_Latency_Metric_Counter': {'bit_offset': 0,\n",
       "      'bit_width': 16,\n",
       "      'description': 'Metric Counter for slot 1 maximum write and minimum write latency',\n",
       "      'access': 'read-only'},\n",
       "     'Minimum_Latency_Metric_Counter': {'bit_offset': 16,\n",
       "      'bit_width': 16,\n",
       "      'description': 'Metric Counter for slot 1 maximum write and minimum write latency',\n",
       "      'access': 'read-only'}}},\n",
       "   'Metric_Counter_51': {'address_offset': 440,\n",
       "    'size': 32,\n",
       "    'access': 'read-only',\n",
       "    'description': 'Metric Counter for slot 1 maximum read and minimun read latency',\n",
       "    'fields': {'Maximum_Latency_Metric_Counter': {'bit_offset': 0,\n",
       "      'bit_width': 16,\n",
       "      'description': 'Metric Counter for slot 1 maximum read and minimun read latency',\n",
       "      'access': 'read-only'},\n",
       "     'Minimum_Latency_Metric_Counter': {'bit_offset': 16,\n",
       "      'bit_width': 16,\n",
       "      'description': 'Metric Counter for slot 1 maximum read and minimun read latency',\n",
       "      'access': 'read-only'}}},\n",
       "   'Metric_Counter_52': {'address_offset': 1364,\n",
       "    'size': 32,\n",
       "    'access': 'read-only',\n",
       "    'description': 'Metric Counter for slot 2 maximum write and minimum write latency',\n",
       "    'fields': {'Maximum_Latency_Metric_Counter': {'bit_offset': 0,\n",
       "      'bit_width': 16,\n",
       "      'description': 'Metric Counter for slot 2 maximum write and minimum write latency',\n",
       "      'access': 'read-only'},\n",
       "     'Minimum_Latency_Metric_Counter': {'bit_offset': 16,\n",
       "      'bit_width': 16,\n",
       "      'description': 'Metric Counter for slot 2 maximum write and minimum write latency',\n",
       "      'access': 'read-only'}}},\n",
       "   'Metric_Counter_53': {'address_offset': 1368,\n",
       "    'size': 32,\n",
       "    'access': 'read-only',\n",
       "    'description': 'Metric Counter for slot 2 maximum read and minimun read latency',\n",
       "    'fields': {'Maximum_Latency_Metric_Counter': {'bit_offset': 0,\n",
       "      'bit_width': 16,\n",
       "      'description': 'Metric Counter for slot 2 maximum read and minimun read latency',\n",
       "      'access': 'read-only'},\n",
       "     'Minimum_Latency_Metric_Counter': {'bit_offset': 16,\n",
       "      'bit_width': 16,\n",
       "      'description': 'Metric Counter for slot 2 maximum read and minimun read latency',\n",
       "      'access': 'read-only'}}},\n",
       "   'Metric_Counter_54': {'address_offset': 1460,\n",
       "    'size': 32,\n",
       "    'access': 'read-only',\n",
       "    'description': 'Metric Counter for slot 3 maximum write and minimum write latency',\n",
       "    'fields': {'Maximum_Latency_Metric_Counter': {'bit_offset': 0,\n",
       "      'bit_width': 16,\n",
       "      'description': 'Metric Counter for slot 3 maximum write and minimum write latency',\n",
       "      'access': 'read-only'},\n",
       "     'Minimum_Latency_Metric_Counter': {'bit_offset': 16,\n",
       "      'bit_width': 16,\n",
       "      'description': 'Metric Counter for slot 3 maximum write and minimum write latency',\n",
       "      'access': 'read-only'}}},\n",
       "   'Metric_Counter_55': {'address_offset': 1464,\n",
       "    'size': 32,\n",
       "    'access': 'read-only',\n",
       "    'description': 'Metric Counter for slot 3 maximum read and minimun read latency',\n",
       "    'fields': {'Maximum_Latency_Metric_Counter': {'bit_offset': 0,\n",
       "      'bit_width': 16,\n",
       "      'description': 'Metric Counter for slot 3 maximum read and minimun read latency',\n",
       "      'access': 'read-only'},\n",
       "     'Minimum_Latency_Metric_Counter': {'bit_offset': 16,\n",
       "      'bit_width': 16,\n",
       "      'description': 'Metric Counter for slot 3 maximum read and minimun read latency',\n",
       "      'access': 'read-only'}}},\n",
       "   'Metric_Counter_56': {'address_offset': 1876,\n",
       "    'size': 32,\n",
       "    'access': 'read-only',\n",
       "    'description': 'Metric Counter for slot 4 maximum write and minimum write latency',\n",
       "    'fields': {'Maximum_Latency_Metric_Counter': {'bit_offset': 0,\n",
       "      'bit_width': 16,\n",
       "      'description': 'Metric Counter for slot 4 maximum write and minimum write latency',\n",
       "      'access': 'read-only'},\n",
       "     'Minimum_Latency_Metric_Counter': {'bit_offset': 16,\n",
       "      'bit_width': 16,\n",
       "      'description': 'Metric Counter for slot 4 maximum write and minimum write latency',\n",
       "      'access': 'read-only'}}},\n",
       "   'Metric_Counter_57': {'address_offset': 1880,\n",
       "    'size': 32,\n",
       "    'access': 'read-only',\n",
       "    'description': 'Metric Counter for slot 4 maximum read and minimun read latency',\n",
       "    'fields': {'Maximum_Latency_Metric_Counter': {'bit_offset': 0,\n",
       "      'bit_width': 16,\n",
       "      'description': 'Metric Counter for slot 4 maximum read and minimun read latency',\n",
       "      'access': 'read-only'},\n",
       "     'Minimum_Latency_Metric_Counter': {'bit_offset': 16,\n",
       "      'bit_width': 16,\n",
       "      'description': 'Metric Counter for slot 4 maximum read and minimun read latency',\n",
       "      'access': 'read-only'}}},\n",
       "   'Metric_Counter_58': {'address_offset': 1972,\n",
       "    'size': 32,\n",
       "    'access': 'read-only',\n",
       "    'description': 'Metric Counter for slot 5 maximum write and minimum write latency',\n",
       "    'fields': {'Maximum_Latency_Metric_Counter': {'bit_offset': 0,\n",
       "      'bit_width': 16,\n",
       "      'description': 'Metric Counter for slot 5 maximum write and minimum write latency',\n",
       "      'access': 'read-only'},\n",
       "     'Minimum_Latency_Metric_Counter': {'bit_offset': 16,\n",
       "      'bit_width': 16,\n",
       "      'description': 'Metric Counter for slot 5 maximum write and minimum write latency',\n",
       "      'access': 'read-only'}}},\n",
       "   'Metric_Counter_59': {'address_offset': 1976,\n",
       "    'size': 32,\n",
       "    'access': 'read-only',\n",
       "    'description': 'Metric Counter for slot 5 maximum read and minimun read latency',\n",
       "    'fields': {'Maximum_Latency_Metric_Counter': {'bit_offset': 0,\n",
       "      'bit_width': 16,\n",
       "      'description': 'Metric Counter for slot 5 maximum read and minimun read latency',\n",
       "      'access': 'read-only'},\n",
       "     'Minimum_Latency_Metric_Counter': {'bit_offset': 16,\n",
       "      'bit_width': 16,\n",
       "      'description': 'Metric Counter for slot 5 maximum read and minimun read latency',\n",
       "      'access': 'read-only'}}},\n",
       "   'Metric_Counter_60': {'address_offset': 2388,\n",
       "    'size': 32,\n",
       "    'access': 'read-only',\n",
       "    'description': 'Metric Counter for slot 6 maximum write and minimum write latency',\n",
       "    'fields': {'Maximum_Latency_Metric_Counter': {'bit_offset': 0,\n",
       "      'bit_width': 16,\n",
       "      'description': 'Metric Counter for slot 6 maximum write and minimum write latency',\n",
       "      'access': 'read-only'},\n",
       "     'Minimum_Latency_Metric_Counter': {'bit_offset': 16,\n",
       "      'bit_width': 16,\n",
       "      'description': 'Metric Counter for slot 6 maximum write and minimum write latency',\n",
       "      'access': 'read-only'}}},\n",
       "   'Metric_Counter_61': {'address_offset': 2392,\n",
       "    'size': 32,\n",
       "    'access': 'read-only',\n",
       "    'description': 'Metric Counter for slot 6 maximum read and minimun read latency',\n",
       "    'fields': {'Maximum_Latency_Metric_Counter': {'bit_offset': 0,\n",
       "      'bit_width': 16,\n",
       "      'description': 'Metric Counter for slot 6 maximum read and minimun read latency',\n",
       "      'access': 'read-only'},\n",
       "     'Minimum_Latency_Metric_Counter': {'bit_offset': 16,\n",
       "      'bit_width': 16,\n",
       "      'description': 'Metric Counter for slot 6 maximum read and minimun read latency',\n",
       "      'access': 'read-only'}}},\n",
       "   'Metric_Counter_62': {'address_offset': 2484,\n",
       "    'size': 32,\n",
       "    'access': 'read-only',\n",
       "    'description': 'Metric Counter for slot 7 maximum write and minimum write latency',\n",
       "    'fields': {'Maximum_Latency_Metric_Counter': {'bit_offset': 0,\n",
       "      'bit_width': 16,\n",
       "      'description': 'Metric Counter for slot 7 maximum write and minimum write latency',\n",
       "      'access': 'read-only'},\n",
       "     'Minimum_Latency_Metric_Counter': {'bit_offset': 16,\n",
       "      'bit_width': 16,\n",
       "      'description': 'Metric Counter for slot 7 maximum write and minimum write latency',\n",
       "      'access': 'read-only'}}},\n",
       "   'Metric_Counter_63': {'address_offset': 2488,\n",
       "    'size': 32,\n",
       "    'access': 'read-only',\n",
       "    'description': 'Metric Counter for slot 7 maximum read and minimun read latency',\n",
       "    'fields': {'Maximum_Latency_Metric_Counter': {'bit_offset': 0,\n",
       "      'bit_width': 16,\n",
       "      'description': 'Metric Counter for slot 7 maximum read and minimun read latency',\n",
       "      'access': 'read-only'},\n",
       "     'Minimum_Latency_Metric_Counter': {'bit_offset': 16,\n",
       "      'bit_width': 16,\n",
       "      'description': 'Metric Counter for slot 7 maximum read and minimun read latency',\n",
       "      'access': 'read-only'}}},\n",
       "   'Sampled_Metric_Counter_10': {'address_offset': 672,\n",
       "    'size': 32,\n",
       "    'access': 'read-only',\n",
       "    'description': 'Sampled Metric Counter for Slot 1 read transaction count',\n",
       "    'fields': {'Sampled_Metric_Counter': {'bit_offset': 0,\n",
       "      'bit_width': 32,\n",
       "      'description': 'Sampled Metric Counter for Slot 1 read transaction count',\n",
       "      'access': 'read-only'}}},\n",
       "   'Sampled_Metric_Counter_11': {'address_offset': 688,\n",
       "    'size': 32,\n",
       "    'access': 'read-only',\n",
       "    'description': 'Sampled Metric Counter for Slot 1 read latency count',\n",
       "    'fields': {'Sampled_Metric_Counter': {'bit_offset': 0,\n",
       "      'bit_width': 32,\n",
       "      'description': 'Sampled Metric Counter for Slot 1 read latency count',\n",
       "      'access': 'read-only'}}},\n",
       "   'Sampled_Metric_Counter_12': {'address_offset': 1536,\n",
       "    'size': 32,\n",
       "    'access': 'read-only',\n",
       "    'description': 'Sampled Metric Counter for Slot 2 write byte count',\n",
       "    'fields': {'Sampled_Metric_Counter': {'bit_offset': 0,\n",
       "      'bit_width': 32,\n",
       "      'description': 'Sampled Metric Counter for Slot 2 write byte count',\n",
       "      'access': 'read-only'}}},\n",
       "   'Sampled_Metric_Counter_13': {'address_offset': 1552,\n",
       "    'size': 32,\n",
       "    'access': 'read-only',\n",
       "    'description': 'Sampled Metric Counter for Slot 2 write transaction count',\n",
       "    'fields': {'Sampled_Metric_Counter': {'bit_offset': 0,\n",
       "      'bit_width': 32,\n",
       "      'description': 'Sampled Metric Counter for Slot 2 write transaction count',\n",
       "      'access': 'read-only'}}},\n",
       "   'Sampled_Metric_Counter_14': {'address_offset': 1568,\n",
       "    'size': 32,\n",
       "    'access': 'read-only',\n",
       "    'description': 'Sampled Metric Counter for Slot 2 write latency count',\n",
       "    'fields': {'Sampled_Metric_Counter': {'bit_offset': 0,\n",
       "      'bit_width': 32,\n",
       "      'description': 'Sampled Metric Counter for Slot 2 write latency count',\n",
       "      'access': 'read-only'}}},\n",
       "   'Sampled_Metric_Counter_15': {'address_offset': 1584,\n",
       "    'size': 32,\n",
       "    'access': 'read-only',\n",
       "    'description': 'Sampled Metric Counter for Slot 2 read byte count',\n",
       "    'fields': {'Sampled_Metric_Counter': {'bit_offset': 0,\n",
       "      'bit_width': 32,\n",
       "      'description': 'Sampled Metric Counter for Slot 2 read byte count',\n",
       "      'access': 'read-only'}}},\n",
       "   'Sampled_Metric_Counter_16': {'address_offset': 1600,\n",
       "    'size': 32,\n",
       "    'access': 'read-only',\n",
       "    'description': 'Sampled Metric Counter for Slot 2 read transaction count',\n",
       "    'fields': {'Sampled_Metric_Counter': {'bit_offset': 0,\n",
       "      'bit_width': 32,\n",
       "      'description': 'Sampled Metric Counter for Slot 2 read transaction count',\n",
       "      'access': 'read-only'}}},\n",
       "   'Sampled_Metric_Counter_17': {'address_offset': 1616,\n",
       "    'size': 32,\n",
       "    'access': 'read-only',\n",
       "    'description': 'Sampled Metric Counter for Slot 2 read latency count',\n",
       "    'fields': {'Sampled_Metric_Counter': {'bit_offset': 0,\n",
       "      'bit_width': 32,\n",
       "      'description': 'Sampled Metric Counter for Slot 2 read latency count',\n",
       "      'access': 'read-only'}}},\n",
       "   'Sampled_Metric_Counter_18': {'address_offset': 1632,\n",
       "    'size': 32,\n",
       "    'access': 'read-only',\n",
       "    'description': 'Sampled Metric Counter for Slot 3 write byte count',\n",
       "    'fields': {'Sampled_Metric_Counter': {'bit_offset': 0,\n",
       "      'bit_width': 32,\n",
       "      'description': 'Sampled Metric Counter for Slot 3 write byte count',\n",
       "      'access': 'read-only'}}},\n",
       "   'Sampled_Metric_Counter_19': {'address_offset': 1648,\n",
       "    'size': 32,\n",
       "    'access': 'read-only',\n",
       "    'description': 'Sampled Metric Counter for Slot 3 write transaction count',\n",
       "    'fields': {'Sampled_Metric_Counter': {'bit_offset': 0,\n",
       "      'bit_width': 32,\n",
       "      'description': 'Sampled Metric Counter for Slot 3 write transaction count',\n",
       "      'access': 'read-only'}}},\n",
       "   'Sampled_Metric_Counter_20': {'address_offset': 1664,\n",
       "    'size': 32,\n",
       "    'access': 'read-only',\n",
       "    'description': 'Sampled Metric Counter for Slot 3 write latency count',\n",
       "    'fields': {'Sampled_Metric_Counter': {'bit_offset': 0,\n",
       "      'bit_width': 32,\n",
       "      'description': 'Sampled Metric Counter for Slot 3 write latency count',\n",
       "      'access': 'read-only'}}},\n",
       "   'Sampled_Metric_Counter_21': {'address_offset': 1680,\n",
       "    'size': 32,\n",
       "    'access': 'read-only',\n",
       "    'description': 'Sampled Metric Counter for Slot 3 read byte count',\n",
       "    'fields': {'Sampled_Metric_Counter': {'bit_offset': 0,\n",
       "      'bit_width': 32,\n",
       "      'description': 'Sampled Metric Counter for Slot 3 read byte count',\n",
       "      'access': 'read-only'}}},\n",
       "   'Sampled_Metric_Counter_22': {'address_offset': 1696,\n",
       "    'size': 32,\n",
       "    'access': 'read-only',\n",
       "    'description': 'Sampled Metric Counter for Slot 3 read transaction count',\n",
       "    'fields': {'Sampled_Metric_Counter': {'bit_offset': 0,\n",
       "      'bit_width': 32,\n",
       "      'description': 'Sampled Metric Counter for Slot 3 read transaction count',\n",
       "      'access': 'read-only'}}},\n",
       "   'Sampled_Metric_Counter_23': {'address_offset': 1712,\n",
       "    'size': 32,\n",
       "    'access': 'read-only',\n",
       "    'description': 'Sampled Metric Counter for Slot 3 read latency count',\n",
       "    'fields': {'Sampled_Metric_Counter': {'bit_offset': 0,\n",
       "      'bit_width': 32,\n",
       "      'description': 'Sampled Metric Counter for Slot 3 read latency count',\n",
       "      'access': 'read-only'}}},\n",
       "   'Sampled_Metric_Counter_24': {'address_offset': 2048,\n",
       "    'size': 32,\n",
       "    'access': 'read-only',\n",
       "    'description': 'Sampled Metric Counter for Slot 4 write byte count',\n",
       "    'fields': {'Sampled_Metric_Counter': {'bit_offset': 0,\n",
       "      'bit_width': 32,\n",
       "      'description': 'Sampled Metric Counter for Slot 4 write byte count',\n",
       "      'access': 'read-only'}}},\n",
       "   'Sampled_Metric_Counter_25': {'address_offset': 2064,\n",
       "    'size': 32,\n",
       "    'access': 'read-only',\n",
       "    'description': 'Sampled Metric Counter for Slot 4 write transaction count',\n",
       "    'fields': {'Sampled_Metric_Counter': {'bit_offset': 0,\n",
       "      'bit_width': 32,\n",
       "      'description': 'Sampled Metric Counter for Slot 4 write transaction count',\n",
       "      'access': 'read-only'}}},\n",
       "   'Sampled_Metric_Counter_26': {'address_offset': 2080,\n",
       "    'size': 32,\n",
       "    'access': 'read-only',\n",
       "    'description': 'Sampled Metric Counter for Slot 4 write latency count',\n",
       "    'fields': {'Sampled_Metric_Counter': {'bit_offset': 0,\n",
       "      'bit_width': 32,\n",
       "      'description': 'Sampled Metric Counter for Slot 4 write latency count',\n",
       "      'access': 'read-only'}}},\n",
       "   'Sampled_Metric_Counter_27': {'address_offset': 2096,\n",
       "    'size': 32,\n",
       "    'access': 'read-only',\n",
       "    'description': 'Sampled Metric Counter for Slot 4 read byte count',\n",
       "    'fields': {'Sampled_Metric_Counter': {'bit_offset': 0,\n",
       "      'bit_width': 32,\n",
       "      'description': 'Sampled Metric Counter for Slot 4 read byte count',\n",
       "      'access': 'read-only'}}},\n",
       "   'Sampled_Metric_Counter_28': {'address_offset': 2112,\n",
       "    'size': 32,\n",
       "    'access': 'read-only',\n",
       "    'description': 'Sampled Metric Counter for Slot 4 read transaction count',\n",
       "    'fields': {'Sampled_Metric_Counter': {'bit_offset': 0,\n",
       "      'bit_width': 32,\n",
       "      'description': 'Sampled Metric Counter for Slot 4 read transaction count',\n",
       "      'access': 'read-only'}}},\n",
       "   'Sampled_Metric_Counter_29': {'address_offset': 2128,\n",
       "    'size': 32,\n",
       "    'access': 'read-only',\n",
       "    'description': 'Sampled Metric Counter for Slot 4 read latency count',\n",
       "    'fields': {'Sampled_Metric_Counter': {'bit_offset': 0,\n",
       "      'bit_width': 32,\n",
       "      'description': 'Sampled Metric Counter for Slot 4 read latency count',\n",
       "      'access': 'read-only'}}},\n",
       "   'Sampled_Metric_Counter_30': {'address_offset': 2144,\n",
       "    'size': 32,\n",
       "    'access': 'read-only',\n",
       "    'description': 'Sampled Metric Counter for Slot 5 write byte count',\n",
       "    'fields': {'Sampled_Metric_Counter': {'bit_offset': 0,\n",
       "      'bit_width': 32,\n",
       "      'description': 'Sampled Metric Counter for Slot 5 write byte count',\n",
       "      'access': 'read-only'}}},\n",
       "   'Sampled_Metric_Counter_31': {'address_offset': 2160,\n",
       "    'size': 32,\n",
       "    'access': 'read-only',\n",
       "    'description': 'Sampled Metric Counter for Slot 5 write transaction count',\n",
       "    'fields': {'Sampled_Metric_Counter': {'bit_offset': 0,\n",
       "      'bit_width': 32,\n",
       "      'description': 'Sampled Metric Counter for Slot 5 write transaction count',\n",
       "      'access': 'read-only'}}},\n",
       "   'Sampled_Metric_Counter_32': {'address_offset': 2176,\n",
       "    'size': 32,\n",
       "    'access': 'read-only',\n",
       "    'description': 'Sampled Metric Counter for Slot 5 write latency count',\n",
       "    'fields': {'Sampled_Metric_Counter': {'bit_offset': 0,\n",
       "      'bit_width': 32,\n",
       "      'description': 'Sampled Metric Counter for Slot 5 write latency count',\n",
       "      'access': 'read-only'}}},\n",
       "   'Sampled_Metric_Counter_33': {'address_offset': 2192,\n",
       "    'size': 32,\n",
       "    'access': 'read-only',\n",
       "    'description': 'Sampled Metric Counter for Slot 5 read byte count',\n",
       "    'fields': {'Sampled_Metric_Counter': {'bit_offset': 0,\n",
       "      'bit_width': 32,\n",
       "      'description': 'Sampled Metric Counter for Slot 5 read byte count',\n",
       "      'access': 'read-only'}}},\n",
       "   'Sampled_Metric_Counter_34': {'address_offset': 2208,\n",
       "    'size': 32,\n",
       "    'access': 'read-only',\n",
       "    'description': 'Sampled Metric Counter for Slot 5 read transaction count',\n",
       "    'fields': {'Sampled_Metric_Counter': {'bit_offset': 0,\n",
       "      'bit_width': 32,\n",
       "      'description': 'Sampled Metric Counter for Slot 5 read transaction count',\n",
       "      'access': 'read-only'}}},\n",
       "   'Sampled_Metric_Counter_35': {'address_offset': 2224,\n",
       "    'size': 32,\n",
       "    'access': 'read-only',\n",
       "    'description': 'Sampled Metric Counter for Slot 5 read latency count',\n",
       "    'fields': {'Sampled_Metric_Counter': {'bit_offset': 0,\n",
       "      'bit_width': 32,\n",
       "      'description': 'Sampled Metric Counter for Slot 5 read latency count',\n",
       "      'access': 'read-only'}}},\n",
       "   'Sampled_Metric_Counter_36': {'address_offset': 2560,\n",
       "    'size': 32,\n",
       "    'access': 'read-only',\n",
       "    'description': 'Sampled Metric Counter for Slot 6 write byte count',\n",
       "    'fields': {'Sampled_Metric_Counter': {'bit_offset': 0,\n",
       "      'bit_width': 32,\n",
       "      'description': 'Sampled Metric Counter for Slot 6 write byte count',\n",
       "      'access': 'read-only'}}},\n",
       "   'Sampled_Metric_Counter_37': {'address_offset': 2576,\n",
       "    'size': 32,\n",
       "    'access': 'read-only',\n",
       "    'description': 'Sampled Metric Counter for Slot 6 write transaction count',\n",
       "    'fields': {'Sampled_Metric_Counter': {'bit_offset': 0,\n",
       "      'bit_width': 32,\n",
       "      'description': 'Sampled Metric Counter for Slot 6 write transaction count',\n",
       "      'access': 'read-only'}}},\n",
       "   'Sampled_Metric_Counter_38': {'address_offset': 2592,\n",
       "    'size': 32,\n",
       "    'access': 'read-only',\n",
       "    'description': 'Sampled Metric Counter for Slot 6 write latency count',\n",
       "    'fields': {'Sampled_Metric_Counter': {'bit_offset': 0,\n",
       "      'bit_width': 32,\n",
       "      'description': 'Sampled Metric Counter for Slot 6 write latency count',\n",
       "      'access': 'read-only'}}},\n",
       "   'Sampled_Metric_Counter_39': {'address_offset': 2608,\n",
       "    'size': 32,\n",
       "    'access': 'read-only',\n",
       "    'description': 'Sampled Metric Counter for Slot 6 read byte count',\n",
       "    'fields': {'Sampled_Metric_Counter': {'bit_offset': 0,\n",
       "      'bit_width': 32,\n",
       "      'description': 'Sampled Metric Counter for Slot 6 read byte count',\n",
       "      'access': 'read-only'}}},\n",
       "   'Sampled_Metric_Counter_40': {'address_offset': 2624,\n",
       "    'size': 32,\n",
       "    'access': 'read-only',\n",
       "    'description': 'Sampled Metric Counter for Slot 6 read transaction count',\n",
       "    'fields': {'Sampled_Metric_Counter': {'bit_offset': 0,\n",
       "      'bit_width': 32,\n",
       "      'description': 'Sampled Metric Counter for Slot 6 read transaction count',\n",
       "      'access': 'read-only'}}},\n",
       "   'Sampled_Metric_Counter_41': {'address_offset': 2640,\n",
       "    'size': 32,\n",
       "    'access': 'read-only',\n",
       "    'description': 'Sampled Metric Counter for Slot 6 read latency count',\n",
       "    'fields': {'Sampled_Metric_Counter': {'bit_offset': 0,\n",
       "      'bit_width': 32,\n",
       "      'description': 'Sampled Metric Counter for Slot 6 read latency count',\n",
       "      'access': 'read-only'}}},\n",
       "   'Sampled_Metric_Counter_42': {'address_offset': 2656,\n",
       "    'size': 32,\n",
       "    'access': 'read-only',\n",
       "    'description': 'Sampled Metric Counter for Slot 7 write byte count',\n",
       "    'fields': {'Sampled_Metric_Counter': {'bit_offset': 0,\n",
       "      'bit_width': 32,\n",
       "      'description': 'Sampled Metric Counter for Slot 7 write byte count',\n",
       "      'access': 'read-only'}}},\n",
       "   'Sampled_Metric_Counter_43': {'address_offset': 2672,\n",
       "    'size': 32,\n",
       "    'access': 'read-only',\n",
       "    'description': 'Sampled Metric Counter for Slot 7 write transaction count',\n",
       "    'fields': {'Sampled_Metric_Counter': {'bit_offset': 0,\n",
       "      'bit_width': 32,\n",
       "      'description': 'Sampled Metric Counter for Slot 7 write transaction count',\n",
       "      'access': 'read-only'}}},\n",
       "   'Sampled_Metric_Counter_44': {'address_offset': 2688,\n",
       "    'size': 32,\n",
       "    'access': 'read-only',\n",
       "    'description': 'Sampled Metric Counter for Slot 7 write latency count',\n",
       "    'fields': {'Sampled_Metric_Counter': {'bit_offset': 0,\n",
       "      'bit_width': 32,\n",
       "      'description': 'Sampled Metric Counter for Slot 7 write latency count',\n",
       "      'access': 'read-only'}}},\n",
       "   'Sampled_Metric_Counter_45': {'address_offset': 2704,\n",
       "    'size': 32,\n",
       "    'access': 'read-only',\n",
       "    'description': 'Sampled Metric Counter for Slot 7 read byte count',\n",
       "    'fields': {'Sampled_Metric_Counter': {'bit_offset': 0,\n",
       "      'bit_width': 32,\n",
       "      'description': 'Sampled Metric Counter for Slot 7 read byte count',\n",
       "      'access': 'read-only'}}},\n",
       "   'Sampled_Metric_Counter_46': {'address_offset': 2720,\n",
       "    'size': 32,\n",
       "    'access': 'read-only',\n",
       "    'description': 'Sampled Metric Counter for Slot 7 read transaction count',\n",
       "    'fields': {'Sampled_Metric_Counter': {'bit_offset': 0,\n",
       "      'bit_width': 32,\n",
       "      'description': 'Sampled Metric Counter for Slot 7 read transaction count',\n",
       "      'access': 'read-only'}}},\n",
       "   'Sampled_Metric_Counter_47': {'address_offset': 2736,\n",
       "    'size': 32,\n",
       "    'access': 'read-only',\n",
       "    'description': 'Sampled Metric Counter for Slot 7 read latency count',\n",
       "    'fields': {'Sampled_Metric_Counter': {'bit_offset': 0,\n",
       "      'bit_width': 32,\n",
       "      'description': 'Sampled Metric Counter for Slot 7 read latency count',\n",
       "      'access': 'read-only'}}},\n",
       "   'Sampled_Metric_Counter_48': {'address_offset': 596,\n",
       "    'size': 32,\n",
       "    'access': 'read-only',\n",
       "    'description': 'Sampled Metric Counter for Slot 0 maximum write and minimum write latency',\n",
       "    'fields': {'Sampled_Metric_Counter': {'bit_offset': 0,\n",
       "      'bit_width': 32,\n",
       "      'description': 'Sampled Metric Counter for Slot 0 maximum write and minimum write latency',\n",
       "      'access': 'read-only'}}},\n",
       "   'Sampled_Metric_Counter_49': {'address_offset': 600,\n",
       "    'size': 32,\n",
       "    'access': 'read-only',\n",
       "    'description': 'Sampled Metric Counter for Slot 0 maximum read and minimum read latency',\n",
       "    'fields': {'Sampled_Metric_Counter': {'bit_offset': 0,\n",
       "      'bit_width': 32,\n",
       "      'description': 'Sampled Metric Counter for Slot 0 maximum read and minimum read latency',\n",
       "      'access': 'read-only'}}},\n",
       "   'Sampled_Metric_Counter_50': {'address_offset': 692,\n",
       "    'size': 32,\n",
       "    'access': 'read-only',\n",
       "    'description': 'Sampled Metric Counter for Slot 1 maximum write and minimum write latency',\n",
       "    'fields': {'Sampled_Metric_Counter': {'bit_offset': 0,\n",
       "      'bit_width': 32,\n",
       "      'description': 'Sampled Metric Counter for Slot 1 maximum write and minimum write latency',\n",
       "      'access': 'read-only'}}},\n",
       "   'Sampled_Metric_Counter_51': {'address_offset': 696,\n",
       "    'size': 32,\n",
       "    'access': 'read-only',\n",
       "    'description': 'Sampled Metric Counter for Slot 1 maximum read and minimum read latency',\n",
       "    'fields': {'Sampled_Metric_Counter': {'bit_offset': 0,\n",
       "      'bit_width': 32,\n",
       "      'description': 'Sampled Metric Counter for Slot 1 maximum read and minimum read latency',\n",
       "      'access': 'read-only'}}},\n",
       "   'Sampled_Metric_Counter_52': {'address_offset': 1620,\n",
       "    'size': 32,\n",
       "    'access': 'read-only',\n",
       "    'description': 'Sampled Metric Counter for Slot 2 maximum write and minimum write latency',\n",
       "    'fields': {'Sampled_Metric_Counter': {'bit_offset': 0,\n",
       "      'bit_width': 32,\n",
       "      'description': 'Sampled Metric Counter for Slot 2 maximum write and minimum write latency',\n",
       "      'access': 'read-only'}}},\n",
       "   'Sampled_Metric_Counter_53': {'address_offset': 1624,\n",
       "    'size': 32,\n",
       "    'access': 'read-only',\n",
       "    'description': 'Sampled Metric Counter for Slot 2 maximum read and minimum read latency',\n",
       "    'fields': {'Sampled_Metric_Counter': {'bit_offset': 0,\n",
       "      'bit_width': 32,\n",
       "      'description': 'Sampled Metric Counter for Slot 2 maximum read and minimum read latency',\n",
       "      'access': 'read-only'}}},\n",
       "   'Sampled_Metric_Counter_54': {'address_offset': 1716,\n",
       "    'size': 32,\n",
       "    'access': 'read-only',\n",
       "    'description': 'Sampled Metric Counter for Slot 3 maximum write and minimum write latency',\n",
       "    'fields': {'Sampled_Metric_Counter': {'bit_offset': 0,\n",
       "      'bit_width': 32,\n",
       "      'description': 'Sampled Metric Counter for Slot 3 maximum write and minimum write latency',\n",
       "      'access': 'read-only'}}},\n",
       "   'Sampled_Metric_Counter_55': {'address_offset': 1720,\n",
       "    'size': 32,\n",
       "    'access': 'read-only',\n",
       "    'description': 'Sampled Metric Counter for Slot 3 maximum read and minimum read latency',\n",
       "    'fields': {'Sampled_Metric_Counter': {'bit_offset': 0,\n",
       "      'bit_width': 32,\n",
       "      'description': 'Sampled Metric Counter for Slot 3 maximum read and minimum read latency',\n",
       "      'access': 'read-only'}}},\n",
       "   'Sampled_Metric_Counter_56': {'address_offset': 2132,\n",
       "    'size': 32,\n",
       "    'access': 'read-only',\n",
       "    'description': 'Sampled Metric Counter for Slot 4 maximum write and minimum write latency',\n",
       "    'fields': {'Sampled_Metric_Counter': {'bit_offset': 0,\n",
       "      'bit_width': 32,\n",
       "      'description': 'Sampled Metric Counter for Slot 4 maximum write and minimum write latency',\n",
       "      'access': 'read-only'}}},\n",
       "   'Sampled_Metric_Counter_57': {'address_offset': 2136,\n",
       "    'size': 32,\n",
       "    'access': 'read-only',\n",
       "    'description': 'Sampled Metric Counter for Slot 4 maximum read and minimum read latency',\n",
       "    'fields': {'Sampled_Metric_Counter': {'bit_offset': 0,\n",
       "      'bit_width': 32,\n",
       "      'description': 'Sampled Metric Counter for Slot 4 maximum read and minimum read latency',\n",
       "      'access': 'read-only'}}},\n",
       "   'Sampled_Metric_Counter_58': {'address_offset': 2228,\n",
       "    'size': 32,\n",
       "    'access': 'read-only',\n",
       "    'description': 'Sampled Metric Counter for Slot 5 maximum write and minimum write latency',\n",
       "    'fields': {'Sampled_Metric_Counter': {'bit_offset': 0,\n",
       "      'bit_width': 32,\n",
       "      'description': 'Sampled Metric Counter for Slot 5 maximum write and minimum write latency',\n",
       "      'access': 'read-only'}}},\n",
       "   'Sampled_Metric_Counter_59': {'address_offset': 2232,\n",
       "    'size': 32,\n",
       "    'access': 'read-only',\n",
       "    'description': 'Sampled Metric Counter for Slot 5 maximum read and minimum read latency',\n",
       "    'fields': {'Sampled_Metric_Counter': {'bit_offset': 0,\n",
       "      'bit_width': 32,\n",
       "      'description': 'Sampled Metric Counter for Slot 5 maximum read and minimum read latency',\n",
       "      'access': 'read-only'}}},\n",
       "   'Sampled_Metric_Counter_60': {'address_offset': 2644,\n",
       "    'size': 32,\n",
       "    'access': 'read-only',\n",
       "    'description': 'Sampled Metric Counter for Slot 6 maximum write and minimum write latency',\n",
       "    'fields': {'Sampled_Metric_Counter': {'bit_offset': 0,\n",
       "      'bit_width': 32,\n",
       "      'description': 'Sampled Metric Counter for Slot 6 maximum write and minimum write latency',\n",
       "      'access': 'read-only'}}},\n",
       "   'Sampled_Metric_Counter_61': {'address_offset': 2648,\n",
       "    'size': 32,\n",
       "    'access': 'read-only',\n",
       "    'description': 'Sampled Metric Counter for Slot 6 maximum read and minimum read latency',\n",
       "    'fields': {'Sampled_Metric_Counter': {'bit_offset': 0,\n",
       "      'bit_width': 32,\n",
       "      'description': 'Sampled Metric Counter for Slot 6 maximum read and minimum read latency',\n",
       "      'access': 'read-only'}}},\n",
       "   'Sampled_Metric_Counter_62': {'address_offset': 2740,\n",
       "    'size': 32,\n",
       "    'access': 'read-only',\n",
       "    'description': 'Sampled Metric Counter for Slot 7 maximum write and minimum write latency',\n",
       "    'fields': {'Sampled_Metric_Counter': {'bit_offset': 0,\n",
       "      'bit_width': 32,\n",
       "      'description': 'Sampled Metric Counter for Slot 7 maximum write and minimum write latency',\n",
       "      'access': 'read-only'}}},\n",
       "   'Sampled_Metric_Counter_63': {'address_offset': 2744,\n",
       "    'size': 32,\n",
       "    'access': 'read-only',\n",
       "    'description': 'Sampled Metric Counter for Slot 7 maximum read and minimum read latency',\n",
       "    'fields': {'Sampled_Metric_Counter': {'bit_offset': 0,\n",
       "      'bit_width': 32,\n",
       "      'description': 'Sampled Metric Counter for Slot 7 maximum read and minimum read latency',\n",
       "      'access': 'read-only'}}}},\n",
       "  'device': <pynq.pl_server.embedded_device.EmbeddedDevice at 0xffff932b2880>,\n",
       "  'driver': pynq.overlay.DefaultIP},\n",
       " 'mmult_top_0': {'fullpath': 'mmult_top_0',\n",
       "  'type': 'xilinx.com:hls:mmult_top:1.0',\n",
       "  'bdtype': None,\n",
       "  'state': None,\n",
       "  'addr_range': 65536,\n",
       "  'phys_addr': 2952790016,\n",
       "  'mem_id': 's_axi_control',\n",
       "  'memtype': 'REGISTER',\n",
       "  'gpio': {},\n",
       "  'interrupts': {'interrupt': {'controller': 'axi_intc_0',\n",
       "    'index': 0,\n",
       "    'fullpath': 'mmult_top_0/interrupt'}},\n",
       "  'parameters': {'C_S_AXI_CONTROL_ADDR_WIDTH': '9',\n",
       "   'C_S_AXI_CONTROL_DATA_WIDTH': '32',\n",
       "   'C_M_AXI_QUANTIZED_MULTIPLIER_ID_WIDTH': '1',\n",
       "   'C_M_AXI_QUANTIZED_MULTIPLIER_ADDR_WIDTH': '64',\n",
       "   'C_M_AXI_QUANTIZED_MULTIPLIER_DATA_WIDTH': '32',\n",
       "   'C_M_AXI_QUANTIZED_MULTIPLIER_AWUSER_WIDTH': '1',\n",
       "   'C_M_AXI_QUANTIZED_MULTIPLIER_ARUSER_WIDTH': '1',\n",
       "   'C_M_AXI_QUANTIZED_MULTIPLIER_WUSER_WIDTH': '1',\n",
       "   'C_M_AXI_QUANTIZED_MULTIPLIER_RUSER_WIDTH': '1',\n",
       "   'C_M_AXI_QUANTIZED_MULTIPLIER_BUSER_WIDTH': '1',\n",
       "   'C_M_AXI_QUANTIZED_MULTIPLIER_USER_VALUE': '0x00000000',\n",
       "   'C_M_AXI_QUANTIZED_MULTIPLIER_PROT_VALUE': '\"000\"',\n",
       "   'C_M_AXI_QUANTIZED_MULTIPLIER_CACHE_VALUE': '\"0011\"',\n",
       "   'C_M_AXI_SHIFT_ID_WIDTH': '1',\n",
       "   'C_M_AXI_SHIFT_ADDR_WIDTH': '64',\n",
       "   'C_M_AXI_SHIFT_DATA_WIDTH': '32',\n",
       "   'C_M_AXI_SHIFT_AWUSER_WIDTH': '1',\n",
       "   'C_M_AXI_SHIFT_ARUSER_WIDTH': '1',\n",
       "   'C_M_AXI_SHIFT_WUSER_WIDTH': '1',\n",
       "   'C_M_AXI_SHIFT_RUSER_WIDTH': '1',\n",
       "   'C_M_AXI_SHIFT_BUSER_WIDTH': '1',\n",
       "   'C_M_AXI_SHIFT_USER_VALUE': '0x00000000',\n",
       "   'C_M_AXI_SHIFT_PROT_VALUE': '\"000\"',\n",
       "   'C_M_AXI_SHIFT_CACHE_VALUE': '\"0011\"',\n",
       "   'C_M_AXI_BIAS_ID_WIDTH': '1',\n",
       "   'C_M_AXI_BIAS_ADDR_WIDTH': '64',\n",
       "   'C_M_AXI_BIAS_DATA_WIDTH': '32',\n",
       "   'C_M_AXI_BIAS_AWUSER_WIDTH': '1',\n",
       "   'C_M_AXI_BIAS_ARUSER_WIDTH': '1',\n",
       "   'C_M_AXI_BIAS_WUSER_WIDTH': '1',\n",
       "   'C_M_AXI_BIAS_RUSER_WIDTH': '1',\n",
       "   'C_M_AXI_BIAS_BUSER_WIDTH': '1',\n",
       "   'C_M_AXI_BIAS_USER_VALUE': '0x00000000',\n",
       "   'C_M_AXI_BIAS_PROT_VALUE': '\"000\"',\n",
       "   'C_M_AXI_BIAS_CACHE_VALUE': '\"0011\"',\n",
       "   'C_M_AXI_PROFILING_ID_WIDTH': '1',\n",
       "   'C_M_AXI_PROFILING_ADDR_WIDTH': '64',\n",
       "   'C_M_AXI_PROFILING_DATA_WIDTH': '64',\n",
       "   'C_M_AXI_PROFILING_AWUSER_WIDTH': '1',\n",
       "   'C_M_AXI_PROFILING_ARUSER_WIDTH': '1',\n",
       "   'C_M_AXI_PROFILING_WUSER_WIDTH': '1',\n",
       "   'C_M_AXI_PROFILING_RUSER_WIDTH': '1',\n",
       "   'C_M_AXI_PROFILING_BUSER_WIDTH': '1',\n",
       "   'C_M_AXI_PROFILING_USER_VALUE': '0x00000000',\n",
       "   'C_M_AXI_PROFILING_PROT_VALUE': '\"000\"',\n",
       "   'C_M_AXI_PROFILING_CACHE_VALUE': '\"0011\"',\n",
       "   'C_M_AXI_B_ID_WIDTH': '1',\n",
       "   'C_M_AXI_B_ADDR_WIDTH': '64',\n",
       "   'C_M_AXI_B_DATA_WIDTH': '32',\n",
       "   'C_M_AXI_B_AWUSER_WIDTH': '1',\n",
       "   'C_M_AXI_B_ARUSER_WIDTH': '1',\n",
       "   'C_M_AXI_B_WUSER_WIDTH': '1',\n",
       "   'C_M_AXI_B_RUSER_WIDTH': '1',\n",
       "   'C_M_AXI_B_BUSER_WIDTH': '1',\n",
       "   'C_M_AXI_B_USER_VALUE': '0x00000000',\n",
       "   'C_M_AXI_B_PROT_VALUE': '\"000\"',\n",
       "   'C_M_AXI_B_CACHE_VALUE': '\"0011\"',\n",
       "   'C_M_AXI_D1_ID_WIDTH': '1',\n",
       "   'C_M_AXI_D1_ADDR_WIDTH': '64',\n",
       "   'C_M_AXI_D1_DATA_WIDTH': '32',\n",
       "   'C_M_AXI_D1_AWUSER_WIDTH': '1',\n",
       "   'C_M_AXI_D1_ARUSER_WIDTH': '1',\n",
       "   'C_M_AXI_D1_WUSER_WIDTH': '1',\n",
       "   'C_M_AXI_D1_RUSER_WIDTH': '1',\n",
       "   'C_M_AXI_D1_BUSER_WIDTH': '1',\n",
       "   'C_M_AXI_D1_USER_VALUE': '0x00000000',\n",
       "   'C_M_AXI_D1_PROT_VALUE': '\"000\"',\n",
       "   'C_M_AXI_D1_CACHE_VALUE': '\"0011\"',\n",
       "   'C_M_AXI_D2_ID_WIDTH': '1',\n",
       "   'C_M_AXI_D2_ADDR_WIDTH': '64',\n",
       "   'C_M_AXI_D2_DATA_WIDTH': '32',\n",
       "   'C_M_AXI_D2_AWUSER_WIDTH': '1',\n",
       "   'C_M_AXI_D2_ARUSER_WIDTH': '1',\n",
       "   'C_M_AXI_D2_WUSER_WIDTH': '1',\n",
       "   'C_M_AXI_D2_RUSER_WIDTH': '1',\n",
       "   'C_M_AXI_D2_BUSER_WIDTH': '1',\n",
       "   'C_M_AXI_D2_USER_VALUE': '0x00000000',\n",
       "   'C_M_AXI_D2_PROT_VALUE': '\"000\"',\n",
       "   'C_M_AXI_D2_CACHE_VALUE': '\"0011\"',\n",
       "   'C_M_AXI_D3_ID_WIDTH': '1',\n",
       "   'C_M_AXI_D3_ADDR_WIDTH': '64',\n",
       "   'C_M_AXI_D3_DATA_WIDTH': '32',\n",
       "   'C_M_AXI_D3_AWUSER_WIDTH': '1',\n",
       "   'C_M_AXI_D3_ARUSER_WIDTH': '1',\n",
       "   'C_M_AXI_D3_WUSER_WIDTH': '1',\n",
       "   'C_M_AXI_D3_RUSER_WIDTH': '1',\n",
       "   'C_M_AXI_D3_BUSER_WIDTH': '1',\n",
       "   'C_M_AXI_D3_USER_VALUE': '0x00000000',\n",
       "   'C_M_AXI_D3_PROT_VALUE': '\"000\"',\n",
       "   'C_M_AXI_D3_CACHE_VALUE': '\"0011\"',\n",
       "   'C_M_AXI_D4_ID_WIDTH': '1',\n",
       "   'C_M_AXI_D4_ADDR_WIDTH': '64',\n",
       "   'C_M_AXI_D4_DATA_WIDTH': '32',\n",
       "   'C_M_AXI_D4_AWUSER_WIDTH': '1',\n",
       "   'C_M_AXI_D4_ARUSER_WIDTH': '1',\n",
       "   'C_M_AXI_D4_WUSER_WIDTH': '1',\n",
       "   'C_M_AXI_D4_RUSER_WIDTH': '1',\n",
       "   'C_M_AXI_D4_BUSER_WIDTH': '1',\n",
       "   'C_M_AXI_D4_USER_VALUE': '0x00000000',\n",
       "   'C_M_AXI_D4_PROT_VALUE': '\"000\"',\n",
       "   'C_M_AXI_D4_CACHE_VALUE': '\"0011\"',\n",
       "   'C_M_AXI_ROWPTR_FEA1_ID_WIDTH': '1',\n",
       "   'C_M_AXI_ROWPTR_FEA1_ADDR_WIDTH': '64',\n",
       "   'C_M_AXI_ROWPTR_FEA1_DATA_WIDTH': '32',\n",
       "   'C_M_AXI_ROWPTR_FEA1_AWUSER_WIDTH': '1',\n",
       "   'C_M_AXI_ROWPTR_FEA1_ARUSER_WIDTH': '1',\n",
       "   'C_M_AXI_ROWPTR_FEA1_WUSER_WIDTH': '1',\n",
       "   'C_M_AXI_ROWPTR_FEA1_RUSER_WIDTH': '1',\n",
       "   'C_M_AXI_ROWPTR_FEA1_BUSER_WIDTH': '1',\n",
       "   'C_M_AXI_ROWPTR_FEA1_USER_VALUE': '0x00000000',\n",
       "   'C_M_AXI_ROWPTR_FEA1_PROT_VALUE': '\"000\"',\n",
       "   'C_M_AXI_ROWPTR_FEA1_CACHE_VALUE': '\"0011\"',\n",
       "   'C_M_AXI_ROWPTR_FEA2_ID_WIDTH': '1',\n",
       "   'C_M_AXI_ROWPTR_FEA2_ADDR_WIDTH': '64',\n",
       "   'C_M_AXI_ROWPTR_FEA2_DATA_WIDTH': '32',\n",
       "   'C_M_AXI_ROWPTR_FEA2_AWUSER_WIDTH': '1',\n",
       "   'C_M_AXI_ROWPTR_FEA2_ARUSER_WIDTH': '1',\n",
       "   'C_M_AXI_ROWPTR_FEA2_WUSER_WIDTH': '1',\n",
       "   'C_M_AXI_ROWPTR_FEA2_RUSER_WIDTH': '1',\n",
       "   'C_M_AXI_ROWPTR_FEA2_BUSER_WIDTH': '1',\n",
       "   'C_M_AXI_ROWPTR_FEA2_USER_VALUE': '0x00000000',\n",
       "   'C_M_AXI_ROWPTR_FEA2_PROT_VALUE': '\"000\"',\n",
       "   'C_M_AXI_ROWPTR_FEA2_CACHE_VALUE': '\"0011\"',\n",
       "   'C_M_AXI_ROWPTR_FEA3_ID_WIDTH': '1',\n",
       "   'C_M_AXI_ROWPTR_FEA3_ADDR_WIDTH': '64',\n",
       "   'C_M_AXI_ROWPTR_FEA3_DATA_WIDTH': '32',\n",
       "   'C_M_AXI_ROWPTR_FEA3_AWUSER_WIDTH': '1',\n",
       "   'C_M_AXI_ROWPTR_FEA3_ARUSER_WIDTH': '1',\n",
       "   'C_M_AXI_ROWPTR_FEA3_WUSER_WIDTH': '1',\n",
       "   'C_M_AXI_ROWPTR_FEA3_RUSER_WIDTH': '1',\n",
       "   'C_M_AXI_ROWPTR_FEA3_BUSER_WIDTH': '1',\n",
       "   'C_M_AXI_ROWPTR_FEA3_USER_VALUE': '0x00000000',\n",
       "   'C_M_AXI_ROWPTR_FEA3_PROT_VALUE': '\"000\"',\n",
       "   'C_M_AXI_ROWPTR_FEA3_CACHE_VALUE': '\"0011\"',\n",
       "   'C_M_AXI_ROWPTR_FEA4_ID_WIDTH': '1',\n",
       "   'C_M_AXI_ROWPTR_FEA4_ADDR_WIDTH': '64',\n",
       "   'C_M_AXI_ROWPTR_FEA4_DATA_WIDTH': '32',\n",
       "   'C_M_AXI_ROWPTR_FEA4_AWUSER_WIDTH': '1',\n",
       "   'C_M_AXI_ROWPTR_FEA4_ARUSER_WIDTH': '1',\n",
       "   'C_M_AXI_ROWPTR_FEA4_WUSER_WIDTH': '1',\n",
       "   'C_M_AXI_ROWPTR_FEA4_RUSER_WIDTH': '1',\n",
       "   'C_M_AXI_ROWPTR_FEA4_BUSER_WIDTH': '1',\n",
       "   'C_M_AXI_ROWPTR_FEA4_USER_VALUE': '0x00000000',\n",
       "   'C_M_AXI_ROWPTR_FEA4_PROT_VALUE': '\"000\"',\n",
       "   'C_M_AXI_ROWPTR_FEA4_CACHE_VALUE': '\"0011\"',\n",
       "   'C_M_AXI_COLUMNINDEX_FEA1_ID_WIDTH': '1',\n",
       "   'C_M_AXI_COLUMNINDEX_FEA1_ADDR_WIDTH': '64',\n",
       "   'C_M_AXI_COLUMNINDEX_FEA1_DATA_WIDTH': '32',\n",
       "   'C_M_AXI_COLUMNINDEX_FEA1_AWUSER_WIDTH': '1',\n",
       "   'C_M_AXI_COLUMNINDEX_FEA1_ARUSER_WIDTH': '1',\n",
       "   'C_M_AXI_COLUMNINDEX_FEA1_WUSER_WIDTH': '1',\n",
       "   'C_M_AXI_COLUMNINDEX_FEA1_RUSER_WIDTH': '1',\n",
       "   'C_M_AXI_COLUMNINDEX_FEA1_BUSER_WIDTH': '1',\n",
       "   'C_M_AXI_COLUMNINDEX_FEA1_USER_VALUE': '0x00000000',\n",
       "   'C_M_AXI_COLUMNINDEX_FEA1_PROT_VALUE': '\"000\"',\n",
       "   'C_M_AXI_COLUMNINDEX_FEA1_CACHE_VALUE': '\"0011\"',\n",
       "   'C_M_AXI_COLUMNINDEX_FEA2_ID_WIDTH': '1',\n",
       "   'C_M_AXI_COLUMNINDEX_FEA2_ADDR_WIDTH': '64',\n",
       "   'C_M_AXI_COLUMNINDEX_FEA2_DATA_WIDTH': '32',\n",
       "   'C_M_AXI_COLUMNINDEX_FEA2_AWUSER_WIDTH': '1',\n",
       "   'C_M_AXI_COLUMNINDEX_FEA2_ARUSER_WIDTH': '1',\n",
       "   'C_M_AXI_COLUMNINDEX_FEA2_WUSER_WIDTH': '1',\n",
       "   'C_M_AXI_COLUMNINDEX_FEA2_RUSER_WIDTH': '1',\n",
       "   'C_M_AXI_COLUMNINDEX_FEA2_BUSER_WIDTH': '1',\n",
       "   'C_M_AXI_COLUMNINDEX_FEA2_USER_VALUE': '0x00000000',\n",
       "   'C_M_AXI_COLUMNINDEX_FEA2_PROT_VALUE': '\"000\"',\n",
       "   'C_M_AXI_COLUMNINDEX_FEA2_CACHE_VALUE': '\"0011\"',\n",
       "   'C_M_AXI_COLUMNINDEX_FEA3_ID_WIDTH': '1',\n",
       "   'C_M_AXI_COLUMNINDEX_FEA3_ADDR_WIDTH': '64',\n",
       "   'C_M_AXI_COLUMNINDEX_FEA3_DATA_WIDTH': '32',\n",
       "   'C_M_AXI_COLUMNINDEX_FEA3_AWUSER_WIDTH': '1',\n",
       "   'C_M_AXI_COLUMNINDEX_FEA3_ARUSER_WIDTH': '1',\n",
       "   'C_M_AXI_COLUMNINDEX_FEA3_WUSER_WIDTH': '1',\n",
       "   'C_M_AXI_COLUMNINDEX_FEA3_RUSER_WIDTH': '1',\n",
       "   'C_M_AXI_COLUMNINDEX_FEA3_BUSER_WIDTH': '1',\n",
       "   'C_M_AXI_COLUMNINDEX_FEA3_USER_VALUE': '0x00000000',\n",
       "   'C_M_AXI_COLUMNINDEX_FEA3_PROT_VALUE': '\"000\"',\n",
       "   'C_M_AXI_COLUMNINDEX_FEA3_CACHE_VALUE': '\"0011\"',\n",
       "   'C_M_AXI_COLUMNINDEX_FEA4_ID_WIDTH': '1',\n",
       "   'C_M_AXI_COLUMNINDEX_FEA4_ADDR_WIDTH': '64',\n",
       "   'C_M_AXI_COLUMNINDEX_FEA4_DATA_WIDTH': '32',\n",
       "   'C_M_AXI_COLUMNINDEX_FEA4_AWUSER_WIDTH': '1',\n",
       "   'C_M_AXI_COLUMNINDEX_FEA4_ARUSER_WIDTH': '1',\n",
       "   'C_M_AXI_COLUMNINDEX_FEA4_WUSER_WIDTH': '1',\n",
       "   'C_M_AXI_COLUMNINDEX_FEA4_RUSER_WIDTH': '1',\n",
       "   'C_M_AXI_COLUMNINDEX_FEA4_BUSER_WIDTH': '1',\n",
       "   'C_M_AXI_COLUMNINDEX_FEA4_USER_VALUE': '0x00000000',\n",
       "   'C_M_AXI_COLUMNINDEX_FEA4_PROT_VALUE': '\"000\"',\n",
       "   'C_M_AXI_COLUMNINDEX_FEA4_CACHE_VALUE': '\"0011\"',\n",
       "   'C_M_AXI_VALUES_FEA1_ID_WIDTH': '1',\n",
       "   'C_M_AXI_VALUES_FEA1_ADDR_WIDTH': '64',\n",
       "   'C_M_AXI_VALUES_FEA1_DATA_WIDTH': '32',\n",
       "   'C_M_AXI_VALUES_FEA1_AWUSER_WIDTH': '1',\n",
       "   'C_M_AXI_VALUES_FEA1_ARUSER_WIDTH': '1',\n",
       "   'C_M_AXI_VALUES_FEA1_WUSER_WIDTH': '1',\n",
       "   'C_M_AXI_VALUES_FEA1_RUSER_WIDTH': '1',\n",
       "   'C_M_AXI_VALUES_FEA1_BUSER_WIDTH': '1',\n",
       "   'C_M_AXI_VALUES_FEA1_USER_VALUE': '0x00000000',\n",
       "   'C_M_AXI_VALUES_FEA1_PROT_VALUE': '\"000\"',\n",
       "   'C_M_AXI_VALUES_FEA1_CACHE_VALUE': '\"0011\"',\n",
       "   'C_M_AXI_VALUES_FEA2_ID_WIDTH': '1',\n",
       "   'C_M_AXI_VALUES_FEA2_ADDR_WIDTH': '64',\n",
       "   'C_M_AXI_VALUES_FEA2_DATA_WIDTH': '32',\n",
       "   'C_M_AXI_VALUES_FEA2_AWUSER_WIDTH': '1',\n",
       "   'C_M_AXI_VALUES_FEA2_ARUSER_WIDTH': '1',\n",
       "   'C_M_AXI_VALUES_FEA2_WUSER_WIDTH': '1',\n",
       "   'C_M_AXI_VALUES_FEA2_RUSER_WIDTH': '1',\n",
       "   'C_M_AXI_VALUES_FEA2_BUSER_WIDTH': '1',\n",
       "   'C_M_AXI_VALUES_FEA2_USER_VALUE': '0x00000000',\n",
       "   'C_M_AXI_VALUES_FEA2_PROT_VALUE': '\"000\"',\n",
       "   'C_M_AXI_VALUES_FEA2_CACHE_VALUE': '\"0011\"',\n",
       "   'C_M_AXI_VALUES_FEA3_ID_WIDTH': '1',\n",
       "   'C_M_AXI_VALUES_FEA3_ADDR_WIDTH': '64',\n",
       "   'C_M_AXI_VALUES_FEA3_DATA_WIDTH': '32',\n",
       "   'C_M_AXI_VALUES_FEA3_AWUSER_WIDTH': '1',\n",
       "   'C_M_AXI_VALUES_FEA3_ARUSER_WIDTH': '1',\n",
       "   'C_M_AXI_VALUES_FEA3_WUSER_WIDTH': '1',\n",
       "   'C_M_AXI_VALUES_FEA3_RUSER_WIDTH': '1',\n",
       "   'C_M_AXI_VALUES_FEA3_BUSER_WIDTH': '1',\n",
       "   'C_M_AXI_VALUES_FEA3_USER_VALUE': '0x00000000',\n",
       "   'C_M_AXI_VALUES_FEA3_PROT_VALUE': '\"000\"',\n",
       "   'C_M_AXI_VALUES_FEA3_CACHE_VALUE': '\"0011\"',\n",
       "   'C_M_AXI_VALUES_FEA4_ID_WIDTH': '1',\n",
       "   'C_M_AXI_VALUES_FEA4_ADDR_WIDTH': '64',\n",
       "   'C_M_AXI_VALUES_FEA4_DATA_WIDTH': '32',\n",
       "   'C_M_AXI_VALUES_FEA4_AWUSER_WIDTH': '1',\n",
       "   'C_M_AXI_VALUES_FEA4_ARUSER_WIDTH': '1',\n",
       "   'C_M_AXI_VALUES_FEA4_WUSER_WIDTH': '1',\n",
       "   'C_M_AXI_VALUES_FEA4_RUSER_WIDTH': '1',\n",
       "   'C_M_AXI_VALUES_FEA4_BUSER_WIDTH': '1',\n",
       "   'C_M_AXI_VALUES_FEA4_USER_VALUE': '0x00000000',\n",
       "   'C_M_AXI_VALUES_FEA4_PROT_VALUE': '\"000\"',\n",
       "   'C_M_AXI_VALUES_FEA4_CACHE_VALUE': '\"0011\"',\n",
       "   'C_M_AXI_ROWPTR_ADJ1_ID_WIDTH': '1',\n",
       "   'C_M_AXI_ROWPTR_ADJ1_ADDR_WIDTH': '64',\n",
       "   'C_M_AXI_ROWPTR_ADJ1_DATA_WIDTH': '32',\n",
       "   'C_M_AXI_ROWPTR_ADJ1_AWUSER_WIDTH': '1',\n",
       "   'C_M_AXI_ROWPTR_ADJ1_ARUSER_WIDTH': '1',\n",
       "   'C_M_AXI_ROWPTR_ADJ1_WUSER_WIDTH': '1',\n",
       "   'C_M_AXI_ROWPTR_ADJ1_RUSER_WIDTH': '1',\n",
       "   'C_M_AXI_ROWPTR_ADJ1_BUSER_WIDTH': '1',\n",
       "   'C_M_AXI_ROWPTR_ADJ1_USER_VALUE': '0x00000000',\n",
       "   'C_M_AXI_ROWPTR_ADJ1_PROT_VALUE': '\"000\"',\n",
       "   'C_M_AXI_ROWPTR_ADJ1_CACHE_VALUE': '\"0011\"',\n",
       "   'C_M_AXI_ROWPTR_ADJ2_ID_WIDTH': '1',\n",
       "   'C_M_AXI_ROWPTR_ADJ2_ADDR_WIDTH': '64',\n",
       "   'C_M_AXI_ROWPTR_ADJ2_DATA_WIDTH': '32',\n",
       "   'C_M_AXI_ROWPTR_ADJ2_AWUSER_WIDTH': '1',\n",
       "   'C_M_AXI_ROWPTR_ADJ2_ARUSER_WIDTH': '1',\n",
       "   'C_M_AXI_ROWPTR_ADJ2_WUSER_WIDTH': '1',\n",
       "   'C_M_AXI_ROWPTR_ADJ2_RUSER_WIDTH': '1',\n",
       "   'C_M_AXI_ROWPTR_ADJ2_BUSER_WIDTH': '1',\n",
       "   'C_M_AXI_ROWPTR_ADJ2_USER_VALUE': '0x00000000',\n",
       "   'C_M_AXI_ROWPTR_ADJ2_PROT_VALUE': '\"000\"',\n",
       "   'C_M_AXI_ROWPTR_ADJ2_CACHE_VALUE': '\"0011\"',\n",
       "   'C_M_AXI_ROWPTR_ADJ3_ID_WIDTH': '1',\n",
       "   'C_M_AXI_ROWPTR_ADJ3_ADDR_WIDTH': '64',\n",
       "   'C_M_AXI_ROWPTR_ADJ3_DATA_WIDTH': '32',\n",
       "   'C_M_AXI_ROWPTR_ADJ3_AWUSER_WIDTH': '1',\n",
       "   'C_M_AXI_ROWPTR_ADJ3_ARUSER_WIDTH': '1',\n",
       "   'C_M_AXI_ROWPTR_ADJ3_WUSER_WIDTH': '1',\n",
       "   'C_M_AXI_ROWPTR_ADJ3_RUSER_WIDTH': '1',\n",
       "   'C_M_AXI_ROWPTR_ADJ3_BUSER_WIDTH': '1',\n",
       "   'C_M_AXI_ROWPTR_ADJ3_USER_VALUE': '0x00000000',\n",
       "   'C_M_AXI_ROWPTR_ADJ3_PROT_VALUE': '\"000\"',\n",
       "   'C_M_AXI_ROWPTR_ADJ3_CACHE_VALUE': '\"0011\"',\n",
       "   'C_M_AXI_ROWPTR_ADJ4_ID_WIDTH': '1',\n",
       "   'C_M_AXI_ROWPTR_ADJ4_ADDR_WIDTH': '64',\n",
       "   'C_M_AXI_ROWPTR_ADJ4_DATA_WIDTH': '32',\n",
       "   'C_M_AXI_ROWPTR_ADJ4_AWUSER_WIDTH': '1',\n",
       "   'C_M_AXI_ROWPTR_ADJ4_ARUSER_WIDTH': '1',\n",
       "   'C_M_AXI_ROWPTR_ADJ4_WUSER_WIDTH': '1',\n",
       "   'C_M_AXI_ROWPTR_ADJ4_RUSER_WIDTH': '1',\n",
       "   'C_M_AXI_ROWPTR_ADJ4_BUSER_WIDTH': '1',\n",
       "   'C_M_AXI_ROWPTR_ADJ4_USER_VALUE': '0x00000000',\n",
       "   'C_M_AXI_ROWPTR_ADJ4_PROT_VALUE': '\"000\"',\n",
       "   'C_M_AXI_ROWPTR_ADJ4_CACHE_VALUE': '\"0011\"',\n",
       "   'C_M_AXI_COLUMNINDEX_ADJ1_ID_WIDTH': '1',\n",
       "   'C_M_AXI_COLUMNINDEX_ADJ1_ADDR_WIDTH': '64',\n",
       "   'C_M_AXI_COLUMNINDEX_ADJ1_DATA_WIDTH': '32',\n",
       "   'C_M_AXI_COLUMNINDEX_ADJ1_AWUSER_WIDTH': '1',\n",
       "   'C_M_AXI_COLUMNINDEX_ADJ1_ARUSER_WIDTH': '1',\n",
       "   'C_M_AXI_COLUMNINDEX_ADJ1_WUSER_WIDTH': '1',\n",
       "   'C_M_AXI_COLUMNINDEX_ADJ1_RUSER_WIDTH': '1',\n",
       "   'C_M_AXI_COLUMNINDEX_ADJ1_BUSER_WIDTH': '1',\n",
       "   'C_M_AXI_COLUMNINDEX_ADJ1_USER_VALUE': '0x00000000',\n",
       "   'C_M_AXI_COLUMNINDEX_ADJ1_PROT_VALUE': '\"000\"',\n",
       "   'C_M_AXI_COLUMNINDEX_ADJ1_CACHE_VALUE': '\"0011\"',\n",
       "   'C_M_AXI_COLUMNINDEX_ADJ2_ID_WIDTH': '1',\n",
       "   'C_M_AXI_COLUMNINDEX_ADJ2_ADDR_WIDTH': '64',\n",
       "   'C_M_AXI_COLUMNINDEX_ADJ2_DATA_WIDTH': '32',\n",
       "   'C_M_AXI_COLUMNINDEX_ADJ2_AWUSER_WIDTH': '1',\n",
       "   'C_M_AXI_COLUMNINDEX_ADJ2_ARUSER_WIDTH': '1',\n",
       "   'C_M_AXI_COLUMNINDEX_ADJ2_WUSER_WIDTH': '1',\n",
       "   'C_M_AXI_COLUMNINDEX_ADJ2_RUSER_WIDTH': '1',\n",
       "   'C_M_AXI_COLUMNINDEX_ADJ2_BUSER_WIDTH': '1',\n",
       "   'C_M_AXI_COLUMNINDEX_ADJ2_USER_VALUE': '0x00000000',\n",
       "   'C_M_AXI_COLUMNINDEX_ADJ2_PROT_VALUE': '\"000\"',\n",
       "   'C_M_AXI_COLUMNINDEX_ADJ2_CACHE_VALUE': '\"0011\"',\n",
       "   'C_M_AXI_COLUMNINDEX_ADJ3_ID_WIDTH': '1',\n",
       "   'C_M_AXI_COLUMNINDEX_ADJ3_ADDR_WIDTH': '64',\n",
       "   'C_M_AXI_COLUMNINDEX_ADJ3_DATA_WIDTH': '32',\n",
       "   'C_M_AXI_COLUMNINDEX_ADJ3_AWUSER_WIDTH': '1',\n",
       "   'C_M_AXI_COLUMNINDEX_ADJ3_ARUSER_WIDTH': '1',\n",
       "   'C_M_AXI_COLUMNINDEX_ADJ3_WUSER_WIDTH': '1',\n",
       "   'C_M_AXI_COLUMNINDEX_ADJ3_RUSER_WIDTH': '1',\n",
       "   'C_M_AXI_COLUMNINDEX_ADJ3_BUSER_WIDTH': '1',\n",
       "   'C_M_AXI_COLUMNINDEX_ADJ3_USER_VALUE': '0x00000000',\n",
       "   'C_M_AXI_COLUMNINDEX_ADJ3_PROT_VALUE': '\"000\"',\n",
       "   'C_M_AXI_COLUMNINDEX_ADJ3_CACHE_VALUE': '\"0011\"',\n",
       "   'C_M_AXI_COLUMNINDEX_ADJ4_ID_WIDTH': '1',\n",
       "   'C_M_AXI_COLUMNINDEX_ADJ4_ADDR_WIDTH': '64',\n",
       "   'C_M_AXI_COLUMNINDEX_ADJ4_DATA_WIDTH': '32',\n",
       "   'C_M_AXI_COLUMNINDEX_ADJ4_AWUSER_WIDTH': '1',\n",
       "   'C_M_AXI_COLUMNINDEX_ADJ4_ARUSER_WIDTH': '1',\n",
       "   'C_M_AXI_COLUMNINDEX_ADJ4_WUSER_WIDTH': '1',\n",
       "   'C_M_AXI_COLUMNINDEX_ADJ4_RUSER_WIDTH': '1',\n",
       "   'C_M_AXI_COLUMNINDEX_ADJ4_BUSER_WIDTH': '1',\n",
       "   'C_M_AXI_COLUMNINDEX_ADJ4_USER_VALUE': '0x00000000',\n",
       "   'C_M_AXI_COLUMNINDEX_ADJ4_PROT_VALUE': '\"000\"',\n",
       "   'C_M_AXI_COLUMNINDEX_ADJ4_CACHE_VALUE': '\"0011\"',\n",
       "   'C_M_AXI_VALUES_ADJ1_ID_WIDTH': '1',\n",
       "   'C_M_AXI_VALUES_ADJ1_ADDR_WIDTH': '64',\n",
       "   'C_M_AXI_VALUES_ADJ1_DATA_WIDTH': '32',\n",
       "   'C_M_AXI_VALUES_ADJ1_AWUSER_WIDTH': '1',\n",
       "   'C_M_AXI_VALUES_ADJ1_ARUSER_WIDTH': '1',\n",
       "   'C_M_AXI_VALUES_ADJ1_WUSER_WIDTH': '1',\n",
       "   'C_M_AXI_VALUES_ADJ1_RUSER_WIDTH': '1',\n",
       "   'C_M_AXI_VALUES_ADJ1_BUSER_WIDTH': '1',\n",
       "   'C_M_AXI_VALUES_ADJ1_USER_VALUE': '0x00000000',\n",
       "   'C_M_AXI_VALUES_ADJ1_PROT_VALUE': '\"000\"',\n",
       "   'C_M_AXI_VALUES_ADJ1_CACHE_VALUE': '\"0011\"',\n",
       "   'C_M_AXI_VALUES_ADJ2_ID_WIDTH': '1',\n",
       "   'C_M_AXI_VALUES_ADJ2_ADDR_WIDTH': '64',\n",
       "   'C_M_AXI_VALUES_ADJ2_DATA_WIDTH': '32',\n",
       "   'C_M_AXI_VALUES_ADJ2_AWUSER_WIDTH': '1',\n",
       "   'C_M_AXI_VALUES_ADJ2_ARUSER_WIDTH': '1',\n",
       "   'C_M_AXI_VALUES_ADJ2_WUSER_WIDTH': '1',\n",
       "   'C_M_AXI_VALUES_ADJ2_RUSER_WIDTH': '1',\n",
       "   'C_M_AXI_VALUES_ADJ2_BUSER_WIDTH': '1',\n",
       "   'C_M_AXI_VALUES_ADJ2_USER_VALUE': '0x00000000',\n",
       "   'C_M_AXI_VALUES_ADJ2_PROT_VALUE': '\"000\"',\n",
       "   'C_M_AXI_VALUES_ADJ2_CACHE_VALUE': '\"0011\"',\n",
       "   'C_M_AXI_VALUES_ADJ3_ID_WIDTH': '1',\n",
       "   'C_M_AXI_VALUES_ADJ3_ADDR_WIDTH': '64',\n",
       "   'C_M_AXI_VALUES_ADJ3_DATA_WIDTH': '32',\n",
       "   'C_M_AXI_VALUES_ADJ3_AWUSER_WIDTH': '1',\n",
       "   'C_M_AXI_VALUES_ADJ3_ARUSER_WIDTH': '1',\n",
       "   'C_M_AXI_VALUES_ADJ3_WUSER_WIDTH': '1',\n",
       "   'C_M_AXI_VALUES_ADJ3_RUSER_WIDTH': '1',\n",
       "   'C_M_AXI_VALUES_ADJ3_BUSER_WIDTH': '1',\n",
       "   'C_M_AXI_VALUES_ADJ3_USER_VALUE': '0x00000000',\n",
       "   'C_M_AXI_VALUES_ADJ3_PROT_VALUE': '\"000\"',\n",
       "   'C_M_AXI_VALUES_ADJ3_CACHE_VALUE': '\"0011\"',\n",
       "   'C_M_AXI_VALUES_ADJ4_ID_WIDTH': '1',\n",
       "   'C_M_AXI_VALUES_ADJ4_ADDR_WIDTH': '64',\n",
       "   'C_M_AXI_VALUES_ADJ4_DATA_WIDTH': '32',\n",
       "   'C_M_AXI_VALUES_ADJ4_AWUSER_WIDTH': '1',\n",
       "   'C_M_AXI_VALUES_ADJ4_ARUSER_WIDTH': '1',\n",
       "   'C_M_AXI_VALUES_ADJ4_WUSER_WIDTH': '1',\n",
       "   'C_M_AXI_VALUES_ADJ4_RUSER_WIDTH': '1',\n",
       "   'C_M_AXI_VALUES_ADJ4_BUSER_WIDTH': '1',\n",
       "   'C_M_AXI_VALUES_ADJ4_USER_VALUE': '0x00000000',\n",
       "   'C_M_AXI_VALUES_ADJ4_PROT_VALUE': '\"000\"',\n",
       "   'C_M_AXI_VALUES_ADJ4_CACHE_VALUE': '\"0011\"',\n",
       "   'C_M_AXI_QUANTIZED_MULTIPLIER_ENABLE_ID_PORTS': 'false',\n",
       "   'C_M_AXI_QUANTIZED_MULTIPLIER_ENABLE_USER_PORTS': 'false',\n",
       "   'C_M_AXI_SHIFT_ENABLE_ID_PORTS': 'false',\n",
       "   'C_M_AXI_SHIFT_ENABLE_USER_PORTS': 'false',\n",
       "   'C_M_AXI_BIAS_ENABLE_ID_PORTS': 'false',\n",
       "   'C_M_AXI_BIAS_ENABLE_USER_PORTS': 'false',\n",
       "   'C_M_AXI_PROFILING_ENABLE_ID_PORTS': 'false',\n",
       "   'C_M_AXI_PROFILING_ENABLE_USER_PORTS': 'false',\n",
       "   'C_M_AXI_B_ENABLE_ID_PORTS': 'false',\n",
       "   'C_M_AXI_B_ENABLE_USER_PORTS': 'false',\n",
       "   'C_M_AXI_D1_ENABLE_ID_PORTS': 'false',\n",
       "   'C_M_AXI_D1_ENABLE_USER_PORTS': 'false',\n",
       "   'C_M_AXI_D2_ENABLE_ID_PORTS': 'false',\n",
       "   'C_M_AXI_D2_ENABLE_USER_PORTS': 'false',\n",
       "   'C_M_AXI_D3_ENABLE_ID_PORTS': 'false',\n",
       "   'C_M_AXI_D3_ENABLE_USER_PORTS': 'false',\n",
       "   'C_M_AXI_D4_ENABLE_ID_PORTS': 'false',\n",
       "   'C_M_AXI_D4_ENABLE_USER_PORTS': 'false',\n",
       "   'C_M_AXI_ROWPTR_FEA1_ENABLE_ID_PORTS': 'false',\n",
       "   'C_M_AXI_ROWPTR_FEA1_ENABLE_USER_PORTS': 'false',\n",
       "   'C_M_AXI_ROWPTR_FEA2_ENABLE_ID_PORTS': 'false',\n",
       "   'C_M_AXI_ROWPTR_FEA2_ENABLE_USER_PORTS': 'false',\n",
       "   'C_M_AXI_ROWPTR_FEA3_ENABLE_ID_PORTS': 'false',\n",
       "   'C_M_AXI_ROWPTR_FEA3_ENABLE_USER_PORTS': 'false',\n",
       "   'C_M_AXI_ROWPTR_FEA4_ENABLE_ID_PORTS': 'false',\n",
       "   'C_M_AXI_ROWPTR_FEA4_ENABLE_USER_PORTS': 'false',\n",
       "   'C_M_AXI_COLUMNINDEX_FEA1_ENABLE_ID_PORTS': 'false',\n",
       "   'C_M_AXI_COLUMNINDEX_FEA1_ENABLE_USER_PORTS': 'false',\n",
       "   'C_M_AXI_COLUMNINDEX_FEA2_ENABLE_ID_PORTS': 'false',\n",
       "   'C_M_AXI_COLUMNINDEX_FEA2_ENABLE_USER_PORTS': 'false',\n",
       "   'C_M_AXI_COLUMNINDEX_FEA3_ENABLE_ID_PORTS': 'false',\n",
       "   'C_M_AXI_COLUMNINDEX_FEA3_ENABLE_USER_PORTS': 'false',\n",
       "   'C_M_AXI_COLUMNINDEX_FEA4_ENABLE_ID_PORTS': 'false',\n",
       "   'C_M_AXI_COLUMNINDEX_FEA4_ENABLE_USER_PORTS': 'false',\n",
       "   'C_M_AXI_VALUES_FEA1_ENABLE_ID_PORTS': 'false',\n",
       "   'C_M_AXI_VALUES_FEA1_ENABLE_USER_PORTS': 'false',\n",
       "   'C_M_AXI_VALUES_FEA2_ENABLE_ID_PORTS': 'false',\n",
       "   'C_M_AXI_VALUES_FEA2_ENABLE_USER_PORTS': 'false',\n",
       "   'C_M_AXI_VALUES_FEA3_ENABLE_ID_PORTS': 'false',\n",
       "   'C_M_AXI_VALUES_FEA3_ENABLE_USER_PORTS': 'false',\n",
       "   'C_M_AXI_VALUES_FEA4_ENABLE_ID_PORTS': 'false',\n",
       "   'C_M_AXI_VALUES_FEA4_ENABLE_USER_PORTS': 'false',\n",
       "   'C_M_AXI_ROWPTR_ADJ1_ENABLE_ID_PORTS': 'false',\n",
       "   'C_M_AXI_ROWPTR_ADJ1_ENABLE_USER_PORTS': 'false',\n",
       "   'C_M_AXI_ROWPTR_ADJ2_ENABLE_ID_PORTS': 'false',\n",
       "   'C_M_AXI_ROWPTR_ADJ2_ENABLE_USER_PORTS': 'false',\n",
       "   'C_M_AXI_ROWPTR_ADJ3_ENABLE_ID_PORTS': 'false',\n",
       "   'C_M_AXI_ROWPTR_ADJ3_ENABLE_USER_PORTS': 'false',\n",
       "   'C_M_AXI_ROWPTR_ADJ4_ENABLE_ID_PORTS': 'false',\n",
       "   'C_M_AXI_ROWPTR_ADJ4_ENABLE_USER_PORTS': 'false',\n",
       "   'C_M_AXI_COLUMNINDEX_ADJ1_ENABLE_ID_PORTS': 'false',\n",
       "   'C_M_AXI_COLUMNINDEX_ADJ1_ENABLE_USER_PORTS': 'false',\n",
       "   'C_M_AXI_COLUMNINDEX_ADJ2_ENABLE_ID_PORTS': 'false',\n",
       "   'C_M_AXI_COLUMNINDEX_ADJ2_ENABLE_USER_PORTS': 'false',\n",
       "   'C_M_AXI_COLUMNINDEX_ADJ3_ENABLE_ID_PORTS': 'false',\n",
       "   'C_M_AXI_COLUMNINDEX_ADJ3_ENABLE_USER_PORTS': 'false',\n",
       "   'C_M_AXI_COLUMNINDEX_ADJ4_ENABLE_ID_PORTS': 'false',\n",
       "   'C_M_AXI_COLUMNINDEX_ADJ4_ENABLE_USER_PORTS': 'false',\n",
       "   'C_M_AXI_VALUES_ADJ1_ENABLE_ID_PORTS': 'false',\n",
       "   'C_M_AXI_VALUES_ADJ1_ENABLE_USER_PORTS': 'false',\n",
       "   'C_M_AXI_VALUES_ADJ2_ENABLE_ID_PORTS': 'false',\n",
       "   'C_M_AXI_VALUES_ADJ2_ENABLE_USER_PORTS': 'false',\n",
       "   'C_M_AXI_VALUES_ADJ3_ENABLE_ID_PORTS': 'false',\n",
       "   'C_M_AXI_VALUES_ADJ3_ENABLE_USER_PORTS': 'false',\n",
       "   'C_M_AXI_VALUES_ADJ4_ENABLE_ID_PORTS': 'false',\n",
       "   'C_M_AXI_VALUES_ADJ4_ENABLE_USER_PORTS': 'false',\n",
       "   'Component_Name': 'design_1_mmult_top_0_0',\n",
       "   'clk_period': '5',\n",
       "   'machine': '64',\n",
       "   'combinational': '0',\n",
       "   'latency': 'undef',\n",
       "   'II': 'x',\n",
       "   'EDK_IPTYPE': 'PERIPHERAL',\n",
       "   'C_S_AXI_CONTROL_BASEADDR': '0xB0000000',\n",
       "   'C_S_AXI_CONTROL_HIGHADDR': '0xB000FFFF'},\n",
       "  'registers': {'CTRL': {'address_offset': 0,\n",
       "    'size': 32,\n",
       "    'access': 'read-write',\n",
       "    'description': 'Control signals',\n",
       "    'fields': {'AP_START': {'bit_offset': 0,\n",
       "      'bit_width': 1,\n",
       "      'description': 'Control signals',\n",
       "      'access': 'read-write'},\n",
       "     'AP_DONE': {'bit_offset': 1,\n",
       "      'bit_width': 1,\n",
       "      'description': 'Control signals',\n",
       "      'access': 'read-only'},\n",
       "     'AP_IDLE': {'bit_offset': 2,\n",
       "      'bit_width': 1,\n",
       "      'description': 'Control signals',\n",
       "      'access': 'read-only'},\n",
       "     'AP_READY': {'bit_offset': 3,\n",
       "      'bit_width': 1,\n",
       "      'description': 'Control signals',\n",
       "      'access': 'read-only'},\n",
       "     'RESERVED_1': {'bit_offset': 4,\n",
       "      'bit_width': 3,\n",
       "      'description': 'Control signals',\n",
       "      'access': 'read-only'},\n",
       "     'AUTO_RESTART': {'bit_offset': 7,\n",
       "      'bit_width': 1,\n",
       "      'description': 'Control signals',\n",
       "      'access': 'read-write'},\n",
       "     'RESERVED_2': {'bit_offset': 8,\n",
       "      'bit_width': 1,\n",
       "      'description': 'Control signals',\n",
       "      'access': 'read-only'},\n",
       "     'INTERRUPT': {'bit_offset': 9,\n",
       "      'bit_width': 1,\n",
       "      'description': 'Control signals',\n",
       "      'access': 'read-only'},\n",
       "     'RESERVED_3': {'bit_offset': 10,\n",
       "      'bit_width': 22,\n",
       "      'description': 'Control signals',\n",
       "      'access': 'read-only'}}},\n",
       "   'GIER': {'address_offset': 4,\n",
       "    'size': 32,\n",
       "    'access': 'read-write',\n",
       "    'description': 'Global Interrupt Enable Register',\n",
       "    'fields': {'Enable': {'bit_offset': 0,\n",
       "      'bit_width': 1,\n",
       "      'description': 'Global Interrupt Enable Register',\n",
       "      'access': 'read-write'},\n",
       "     'RESERVED': {'bit_offset': 1,\n",
       "      'bit_width': 31,\n",
       "      'description': 'Global Interrupt Enable Register',\n",
       "      'access': 'read-only'}}},\n",
       "   'IP_IER': {'address_offset': 8,\n",
       "    'size': 32,\n",
       "    'access': 'read-write',\n",
       "    'description': 'IP Interrupt Enable Register',\n",
       "    'fields': {'CHAN0_INT_EN': {'bit_offset': 0,\n",
       "      'bit_width': 1,\n",
       "      'description': 'IP Interrupt Enable Register',\n",
       "      'access': 'read-write'},\n",
       "     'CHAN1_INT_EN': {'bit_offset': 1,\n",
       "      'bit_width': 1,\n",
       "      'description': 'IP Interrupt Enable Register',\n",
       "      'access': 'read-write'},\n",
       "     'RESERVED_0': {'bit_offset': 2,\n",
       "      'bit_width': 30,\n",
       "      'description': 'IP Interrupt Enable Register',\n",
       "      'access': 'read-only'}}},\n",
       "   'IP_ISR': {'address_offset': 12,\n",
       "    'size': 32,\n",
       "    'access': 'read-write',\n",
       "    'description': 'IP Interrupt Status Register',\n",
       "    'fields': {'CHAN0_INT_ST': {'bit_offset': 0,\n",
       "      'bit_width': 1,\n",
       "      'description': 'IP Interrupt Status Register',\n",
       "      'access': 'read-only'},\n",
       "     'CHAN1_INT_ST': {'bit_offset': 1,\n",
       "      'bit_width': 1,\n",
       "      'description': 'IP Interrupt Status Register',\n",
       "      'access': 'read-only'},\n",
       "     'RESERVED_0': {'bit_offset': 2,\n",
       "      'bit_width': 30,\n",
       "      'description': 'IP Interrupt Status Register',\n",
       "      'access': 'read-only'}}},\n",
       "   'gemm_mode': {'address_offset': 16,\n",
       "    'size': 32,\n",
       "    'access': 'write-only',\n",
       "    'description': 'Data signal of gemm_mode',\n",
       "    'fields': {'gemm_mode': {'bit_offset': 0,\n",
       "      'bit_width': 1,\n",
       "      'description': 'Data signal of gemm_mode',\n",
       "      'access': 'write-only'},\n",
       "     'RESERVED': {'bit_offset': 1,\n",
       "      'bit_width': 31,\n",
       "      'description': 'Data signal of gemm_mode',\n",
       "      'access': 'read-only'}}},\n",
       "   'quantized_multiplier_offset_1': {'address_offset': 24,\n",
       "    'size': 32,\n",
       "    'access': 'write-only',\n",
       "    'description': 'Data signal of quantized_multiplier_offset',\n",
       "    'fields': {'quantized_multiplier_offset': {'bit_offset': 0,\n",
       "      'bit_width': 32,\n",
       "      'description': 'Data signal of quantized_multiplier_offset',\n",
       "      'access': 'write-only'}}},\n",
       "   'quantized_multiplier_offset_2': {'address_offset': 28,\n",
       "    'size': 32,\n",
       "    'access': 'write-only',\n",
       "    'description': 'Data signal of quantized_multiplier_offset',\n",
       "    'fields': {'quantized_multiplier_offset': {'bit_offset': 0,\n",
       "      'bit_width': 32,\n",
       "      'description': 'Data signal of quantized_multiplier_offset',\n",
       "      'access': 'write-only'}}},\n",
       "   'shift_offset_1': {'address_offset': 36,\n",
       "    'size': 32,\n",
       "    'access': 'write-only',\n",
       "    'description': 'Data signal of shift_offset',\n",
       "    'fields': {'shift_offset': {'bit_offset': 0,\n",
       "      'bit_width': 32,\n",
       "      'description': 'Data signal of shift_offset',\n",
       "      'access': 'write-only'}}},\n",
       "   'shift_offset_2': {'address_offset': 40,\n",
       "    'size': 32,\n",
       "    'access': 'write-only',\n",
       "    'description': 'Data signal of shift_offset',\n",
       "    'fields': {'shift_offset': {'bit_offset': 0,\n",
       "      'bit_width': 32,\n",
       "      'description': 'Data signal of shift_offset',\n",
       "      'access': 'write-only'}}},\n",
       "   'bias_offset_1': {'address_offset': 48,\n",
       "    'size': 32,\n",
       "    'access': 'write-only',\n",
       "    'description': 'Data signal of bias_offset',\n",
       "    'fields': {'bias_offset': {'bit_offset': 0,\n",
       "      'bit_width': 32,\n",
       "      'description': 'Data signal of bias_offset',\n",
       "      'access': 'write-only'}}},\n",
       "   'bias_offset_2': {'address_offset': 52,\n",
       "    'size': 32,\n",
       "    'access': 'write-only',\n",
       "    'description': 'Data signal of bias_offset',\n",
       "    'fields': {'bias_offset': {'bit_offset': 0,\n",
       "      'bit_width': 32,\n",
       "      'description': 'Data signal of bias_offset',\n",
       "      'access': 'write-only'}}},\n",
       "   'bias_count': {'address_offset': 60,\n",
       "    'size': 32,\n",
       "    'access': 'write-only',\n",
       "    'description': 'Data signal of bias_count',\n",
       "    'fields': {'bias_count': {'bit_offset': 0,\n",
       "      'bit_width': 32,\n",
       "      'description': 'Data signal of bias_count',\n",
       "      'access': 'write-only'}}},\n",
       "   'profiling_offset_1': {'address_offset': 68,\n",
       "    'size': 32,\n",
       "    'access': 'write-only',\n",
       "    'description': 'Data signal of profiling_offset',\n",
       "    'fields': {'profiling_offset': {'bit_offset': 0,\n",
       "      'bit_width': 32,\n",
       "      'description': 'Data signal of profiling_offset',\n",
       "      'access': 'write-only'}}},\n",
       "   'profiling_offset_2': {'address_offset': 72,\n",
       "    'size': 32,\n",
       "    'access': 'write-only',\n",
       "    'description': 'Data signal of profiling_offset',\n",
       "    'fields': {'profiling_offset': {'bit_offset': 0,\n",
       "      'bit_width': 32,\n",
       "      'description': 'Data signal of profiling_offset',\n",
       "      'access': 'write-only'}}},\n",
       "   'zero_point_lhs': {'address_offset': 80,\n",
       "    'size': 32,\n",
       "    'access': 'write-only',\n",
       "    'description': 'Data signal of zero_point_lhs',\n",
       "    'fields': {'zero_point_lhs': {'bit_offset': 0,\n",
       "      'bit_width': 8,\n",
       "      'description': 'Data signal of zero_point_lhs',\n",
       "      'access': 'write-only'},\n",
       "     'RESERVED': {'bit_offset': 8,\n",
       "      'bit_width': 24,\n",
       "      'description': 'Data signal of zero_point_lhs',\n",
       "      'access': 'read-only'}}},\n",
       "   'zero_point_rhs': {'address_offset': 88,\n",
       "    'size': 32,\n",
       "    'access': 'write-only',\n",
       "    'description': 'Data signal of zero_point_rhs',\n",
       "    'fields': {'zero_point_rhs': {'bit_offset': 0,\n",
       "      'bit_width': 8,\n",
       "      'description': 'Data signal of zero_point_rhs',\n",
       "      'access': 'write-only'},\n",
       "     'RESERVED': {'bit_offset': 8,\n",
       "      'bit_width': 24,\n",
       "      'description': 'Data signal of zero_point_rhs',\n",
       "      'access': 'read-only'}}},\n",
       "   'zero_point_dst': {'address_offset': 96,\n",
       "    'size': 32,\n",
       "    'access': 'write-only',\n",
       "    'description': 'Data signal of zero_point_dst',\n",
       "    'fields': {'zero_point_dst': {'bit_offset': 0,\n",
       "      'bit_width': 8,\n",
       "      'description': 'Data signal of zero_point_dst',\n",
       "      'access': 'write-only'},\n",
       "     'RESERVED': {'bit_offset': 8,\n",
       "      'bit_width': 24,\n",
       "      'description': 'Data signal of zero_point_dst',\n",
       "      'access': 'read-only'}}},\n",
       "   'clamp_max': {'address_offset': 104,\n",
       "    'size': 32,\n",
       "    'access': 'write-only',\n",
       "    'description': 'Data signal of clamp_max',\n",
       "    'fields': {'clamp_max': {'bit_offset': 0,\n",
       "      'bit_width': 8,\n",
       "      'description': 'Data signal of clamp_max',\n",
       "      'access': 'write-only'},\n",
       "     'RESERVED': {'bit_offset': 8,\n",
       "      'bit_width': 24,\n",
       "      'description': 'Data signal of clamp_max',\n",
       "      'access': 'read-only'}}},\n",
       "   'clamp_min': {'address_offset': 112,\n",
       "    'size': 32,\n",
       "    'access': 'write-only',\n",
       "    'description': 'Data signal of clamp_min',\n",
       "    'fields': {'clamp_min': {'bit_offset': 0,\n",
       "      'bit_width': 8,\n",
       "      'description': 'Data signal of clamp_min',\n",
       "      'access': 'write-only'},\n",
       "     'RESERVED': {'bit_offset': 8,\n",
       "      'bit_width': 24,\n",
       "      'description': 'Data signal of clamp_min',\n",
       "      'access': 'read-only'}}},\n",
       "   'N_adj': {'address_offset': 120,\n",
       "    'size': 32,\n",
       "    'access': 'write-only',\n",
       "    'description': 'Data signal of N_adj',\n",
       "    'fields': {'N_adj': {'bit_offset': 0,\n",
       "      'bit_width': 32,\n",
       "      'description': 'Data signal of N_adj',\n",
       "      'access': 'write-only'}}},\n",
       "   'M_adj': {'address_offset': 128,\n",
       "    'size': 32,\n",
       "    'access': 'write-only',\n",
       "    'description': 'Data signal of M_adj',\n",
       "    'fields': {'M_adj': {'bit_offset': 0,\n",
       "      'bit_width': 32,\n",
       "      'description': 'Data signal of M_adj',\n",
       "      'access': 'write-only'}}},\n",
       "   'M_fea': {'address_offset': 136,\n",
       "    'size': 32,\n",
       "    'access': 'write-only',\n",
       "    'description': 'Data signal of M_fea',\n",
       "    'fields': {'M_fea': {'bit_offset': 0,\n",
       "      'bit_width': 32,\n",
       "      'description': 'Data signal of M_fea',\n",
       "      'access': 'write-only'}}},\n",
       "   'P_w': {'address_offset': 144,\n",
       "    'size': 32,\n",
       "    'access': 'write-only',\n",
       "    'description': 'Data signal of P_w',\n",
       "    'fields': {'P_w': {'bit_offset': 0,\n",
       "      'bit_width': 32,\n",
       "      'description': 'Data signal of P_w',\n",
       "      'access': 'write-only'}}},\n",
       "   'B_offset_1': {'address_offset': 152,\n",
       "    'size': 32,\n",
       "    'access': 'write-only',\n",
       "    'description': 'Data signal of B_offset',\n",
       "    'fields': {'B_offset': {'bit_offset': 0,\n",
       "      'bit_width': 32,\n",
       "      'description': 'Data signal of B_offset',\n",
       "      'access': 'write-only'}}},\n",
       "   'B_offset_2': {'address_offset': 156,\n",
       "    'size': 32,\n",
       "    'access': 'write-only',\n",
       "    'description': 'Data signal of B_offset',\n",
       "    'fields': {'B_offset': {'bit_offset': 0,\n",
       "      'bit_width': 32,\n",
       "      'description': 'Data signal of B_offset',\n",
       "      'access': 'write-only'}}},\n",
       "   'D1_offset_1': {'address_offset': 164,\n",
       "    'size': 32,\n",
       "    'access': 'write-only',\n",
       "    'description': 'Data signal of D1_offset',\n",
       "    'fields': {'D1_offset': {'bit_offset': 0,\n",
       "      'bit_width': 32,\n",
       "      'description': 'Data signal of D1_offset',\n",
       "      'access': 'write-only'}}},\n",
       "   'D1_offset_2': {'address_offset': 168,\n",
       "    'size': 32,\n",
       "    'access': 'write-only',\n",
       "    'description': 'Data signal of D1_offset',\n",
       "    'fields': {'D1_offset': {'bit_offset': 0,\n",
       "      'bit_width': 32,\n",
       "      'description': 'Data signal of D1_offset',\n",
       "      'access': 'write-only'}}},\n",
       "   'D2_offset_1': {'address_offset': 176,\n",
       "    'size': 32,\n",
       "    'access': 'write-only',\n",
       "    'description': 'Data signal of D2_offset',\n",
       "    'fields': {'D2_offset': {'bit_offset': 0,\n",
       "      'bit_width': 32,\n",
       "      'description': 'Data signal of D2_offset',\n",
       "      'access': 'write-only'}}},\n",
       "   'D2_offset_2': {'address_offset': 180,\n",
       "    'size': 32,\n",
       "    'access': 'write-only',\n",
       "    'description': 'Data signal of D2_offset',\n",
       "    'fields': {'D2_offset': {'bit_offset': 0,\n",
       "      'bit_width': 32,\n",
       "      'description': 'Data signal of D2_offset',\n",
       "      'access': 'write-only'}}},\n",
       "   'D3_offset_1': {'address_offset': 188,\n",
       "    'size': 32,\n",
       "    'access': 'write-only',\n",
       "    'description': 'Data signal of D3_offset',\n",
       "    'fields': {'D3_offset': {'bit_offset': 0,\n",
       "      'bit_width': 32,\n",
       "      'description': 'Data signal of D3_offset',\n",
       "      'access': 'write-only'}}},\n",
       "   'D3_offset_2': {'address_offset': 192,\n",
       "    'size': 32,\n",
       "    'access': 'write-only',\n",
       "    'description': 'Data signal of D3_offset',\n",
       "    'fields': {'D3_offset': {'bit_offset': 0,\n",
       "      'bit_width': 32,\n",
       "      'description': 'Data signal of D3_offset',\n",
       "      'access': 'write-only'}}},\n",
       "   'D4_offset_1': {'address_offset': 200,\n",
       "    'size': 32,\n",
       "    'access': 'write-only',\n",
       "    'description': 'Data signal of D4_offset',\n",
       "    'fields': {'D4_offset': {'bit_offset': 0,\n",
       "      'bit_width': 32,\n",
       "      'description': 'Data signal of D4_offset',\n",
       "      'access': 'write-only'}}},\n",
       "   'D4_offset_2': {'address_offset': 204,\n",
       "    'size': 32,\n",
       "    'access': 'write-only',\n",
       "    'description': 'Data signal of D4_offset',\n",
       "    'fields': {'D4_offset': {'bit_offset': 0,\n",
       "      'bit_width': 32,\n",
       "      'description': 'Data signal of D4_offset',\n",
       "      'access': 'write-only'}}},\n",
       "   'array_c_adjust': {'address_offset': 212,\n",
       "    'size': 32,\n",
       "    'access': 'write-only',\n",
       "    'description': 'Data signal of array_c_adjust',\n",
       "    'fields': {'array_c_adjust': {'bit_offset': 0,\n",
       "      'bit_width': 32,\n",
       "      'description': 'Data signal of array_c_adjust',\n",
       "      'access': 'write-only'}}},\n",
       "   'rowPtr_fea1_offset_1': {'address_offset': 220,\n",
       "    'size': 32,\n",
       "    'access': 'write-only',\n",
       "    'description': 'Data signal of rowPtr_fea1_offset',\n",
       "    'fields': {'rowPtr_fea1_offset': {'bit_offset': 0,\n",
       "      'bit_width': 32,\n",
       "      'description': 'Data signal of rowPtr_fea1_offset',\n",
       "      'access': 'write-only'}}},\n",
       "   'rowPtr_fea1_offset_2': {'address_offset': 224,\n",
       "    'size': 32,\n",
       "    'access': 'write-only',\n",
       "    'description': 'Data signal of rowPtr_fea1_offset',\n",
       "    'fields': {'rowPtr_fea1_offset': {'bit_offset': 0,\n",
       "      'bit_width': 32,\n",
       "      'description': 'Data signal of rowPtr_fea1_offset',\n",
       "      'access': 'write-only'}}},\n",
       "   'rowPtr_fea2_offset_1': {'address_offset': 232,\n",
       "    'size': 32,\n",
       "    'access': 'write-only',\n",
       "    'description': 'Data signal of rowPtr_fea2_offset',\n",
       "    'fields': {'rowPtr_fea2_offset': {'bit_offset': 0,\n",
       "      'bit_width': 32,\n",
       "      'description': 'Data signal of rowPtr_fea2_offset',\n",
       "      'access': 'write-only'}}},\n",
       "   'rowPtr_fea2_offset_2': {'address_offset': 236,\n",
       "    'size': 32,\n",
       "    'access': 'write-only',\n",
       "    'description': 'Data signal of rowPtr_fea2_offset',\n",
       "    'fields': {'rowPtr_fea2_offset': {'bit_offset': 0,\n",
       "      'bit_width': 32,\n",
       "      'description': 'Data signal of rowPtr_fea2_offset',\n",
       "      'access': 'write-only'}}},\n",
       "   'rowPtr_fea3_offset_1': {'address_offset': 244,\n",
       "    'size': 32,\n",
       "    'access': 'write-only',\n",
       "    'description': 'Data signal of rowPtr_fea3_offset',\n",
       "    'fields': {'rowPtr_fea3_offset': {'bit_offset': 0,\n",
       "      'bit_width': 32,\n",
       "      'description': 'Data signal of rowPtr_fea3_offset',\n",
       "      'access': 'write-only'}}},\n",
       "   'rowPtr_fea3_offset_2': {'address_offset': 248,\n",
       "    'size': 32,\n",
       "    'access': 'write-only',\n",
       "    'description': 'Data signal of rowPtr_fea3_offset',\n",
       "    'fields': {'rowPtr_fea3_offset': {'bit_offset': 0,\n",
       "      'bit_width': 32,\n",
       "      'description': 'Data signal of rowPtr_fea3_offset',\n",
       "      'access': 'write-only'}}},\n",
       "   'rowPtr_fea4_offset_1': {'address_offset': 256,\n",
       "    'size': 32,\n",
       "    'access': 'write-only',\n",
       "    'description': 'Data signal of rowPtr_fea4_offset',\n",
       "    'fields': {'rowPtr_fea4_offset': {'bit_offset': 0,\n",
       "      'bit_width': 32,\n",
       "      'description': 'Data signal of rowPtr_fea4_offset',\n",
       "      'access': 'write-only'}}},\n",
       "   'rowPtr_fea4_offset_2': {'address_offset': 260,\n",
       "    'size': 32,\n",
       "    'access': 'write-only',\n",
       "    'description': 'Data signal of rowPtr_fea4_offset',\n",
       "    'fields': {'rowPtr_fea4_offset': {'bit_offset': 0,\n",
       "      'bit_width': 32,\n",
       "      'description': 'Data signal of rowPtr_fea4_offset',\n",
       "      'access': 'write-only'}}},\n",
       "   'columnIndex_fea1_offset_1': {'address_offset': 268,\n",
       "    'size': 32,\n",
       "    'access': 'write-only',\n",
       "    'description': 'Data signal of columnIndex_fea1_offset',\n",
       "    'fields': {'columnIndex_fea1_offset': {'bit_offset': 0,\n",
       "      'bit_width': 32,\n",
       "      'description': 'Data signal of columnIndex_fea1_offset',\n",
       "      'access': 'write-only'}}},\n",
       "   'columnIndex_fea1_offset_2': {'address_offset': 272,\n",
       "    'size': 32,\n",
       "    'access': 'write-only',\n",
       "    'description': 'Data signal of columnIndex_fea1_offset',\n",
       "    'fields': {'columnIndex_fea1_offset': {'bit_offset': 0,\n",
       "      'bit_width': 32,\n",
       "      'description': 'Data signal of columnIndex_fea1_offset',\n",
       "      'access': 'write-only'}}},\n",
       "   'columnIndex_fea2_offset_1': {'address_offset': 280,\n",
       "    'size': 32,\n",
       "    'access': 'write-only',\n",
       "    'description': 'Data signal of columnIndex_fea2_offset',\n",
       "    'fields': {'columnIndex_fea2_offset': {'bit_offset': 0,\n",
       "      'bit_width': 32,\n",
       "      'description': 'Data signal of columnIndex_fea2_offset',\n",
       "      'access': 'write-only'}}},\n",
       "   'columnIndex_fea2_offset_2': {'address_offset': 284,\n",
       "    'size': 32,\n",
       "    'access': 'write-only',\n",
       "    'description': 'Data signal of columnIndex_fea2_offset',\n",
       "    'fields': {'columnIndex_fea2_offset': {'bit_offset': 0,\n",
       "      'bit_width': 32,\n",
       "      'description': 'Data signal of columnIndex_fea2_offset',\n",
       "      'access': 'write-only'}}},\n",
       "   'columnIndex_fea3_offset_1': {'address_offset': 292,\n",
       "    'size': 32,\n",
       "    'access': 'write-only',\n",
       "    'description': 'Data signal of columnIndex_fea3_offset',\n",
       "    'fields': {'columnIndex_fea3_offset': {'bit_offset': 0,\n",
       "      'bit_width': 32,\n",
       "      'description': 'Data signal of columnIndex_fea3_offset',\n",
       "      'access': 'write-only'}}},\n",
       "   'columnIndex_fea3_offset_2': {'address_offset': 296,\n",
       "    'size': 32,\n",
       "    'access': 'write-only',\n",
       "    'description': 'Data signal of columnIndex_fea3_offset',\n",
       "    'fields': {'columnIndex_fea3_offset': {'bit_offset': 0,\n",
       "      'bit_width': 32,\n",
       "      'description': 'Data signal of columnIndex_fea3_offset',\n",
       "      'access': 'write-only'}}},\n",
       "   'columnIndex_fea4_offset_1': {'address_offset': 304,\n",
       "    'size': 32,\n",
       "    'access': 'write-only',\n",
       "    'description': 'Data signal of columnIndex_fea4_offset',\n",
       "    'fields': {'columnIndex_fea4_offset': {'bit_offset': 0,\n",
       "      'bit_width': 32,\n",
       "      'description': 'Data signal of columnIndex_fea4_offset',\n",
       "      'access': 'write-only'}}},\n",
       "   'columnIndex_fea4_offset_2': {'address_offset': 308,\n",
       "    'size': 32,\n",
       "    'access': 'write-only',\n",
       "    'description': 'Data signal of columnIndex_fea4_offset',\n",
       "    'fields': {'columnIndex_fea4_offset': {'bit_offset': 0,\n",
       "      'bit_width': 32,\n",
       "      'description': 'Data signal of columnIndex_fea4_offset',\n",
       "      'access': 'write-only'}}},\n",
       "   'values_fea1_offset_1': {'address_offset': 316,\n",
       "    'size': 32,\n",
       "    'access': 'write-only',\n",
       "    'description': 'Data signal of values_fea1_offset',\n",
       "    'fields': {'values_fea1_offset': {'bit_offset': 0,\n",
       "      'bit_width': 32,\n",
       "      'description': 'Data signal of values_fea1_offset',\n",
       "      'access': 'write-only'}}},\n",
       "   'values_fea1_offset_2': {'address_offset': 320,\n",
       "    'size': 32,\n",
       "    'access': 'write-only',\n",
       "    'description': 'Data signal of values_fea1_offset',\n",
       "    'fields': {'values_fea1_offset': {'bit_offset': 0,\n",
       "      'bit_width': 32,\n",
       "      'description': 'Data signal of values_fea1_offset',\n",
       "      'access': 'write-only'}}},\n",
       "   'values_fea2_offset_1': {'address_offset': 328,\n",
       "    'size': 32,\n",
       "    'access': 'write-only',\n",
       "    'description': 'Data signal of values_fea2_offset',\n",
       "    'fields': {'values_fea2_offset': {'bit_offset': 0,\n",
       "      'bit_width': 32,\n",
       "      'description': 'Data signal of values_fea2_offset',\n",
       "      'access': 'write-only'}}},\n",
       "   'values_fea2_offset_2': {'address_offset': 332,\n",
       "    'size': 32,\n",
       "    'access': 'write-only',\n",
       "    'description': 'Data signal of values_fea2_offset',\n",
       "    'fields': {'values_fea2_offset': {'bit_offset': 0,\n",
       "      'bit_width': 32,\n",
       "      'description': 'Data signal of values_fea2_offset',\n",
       "      'access': 'write-only'}}},\n",
       "   'values_fea3_offset_1': {'address_offset': 340,\n",
       "    'size': 32,\n",
       "    'access': 'write-only',\n",
       "    'description': 'Data signal of values_fea3_offset',\n",
       "    'fields': {'values_fea3_offset': {'bit_offset': 0,\n",
       "      'bit_width': 32,\n",
       "      'description': 'Data signal of values_fea3_offset',\n",
       "      'access': 'write-only'}}},\n",
       "   'values_fea3_offset_2': {'address_offset': 344,\n",
       "    'size': 32,\n",
       "    'access': 'write-only',\n",
       "    'description': 'Data signal of values_fea3_offset',\n",
       "    'fields': {'values_fea3_offset': {'bit_offset': 0,\n",
       "      'bit_width': 32,\n",
       "      'description': 'Data signal of values_fea3_offset',\n",
       "      'access': 'write-only'}}},\n",
       "   'values_fea4_offset_1': {'address_offset': 352,\n",
       "    'size': 32,\n",
       "    'access': 'write-only',\n",
       "    'description': 'Data signal of values_fea4_offset',\n",
       "    'fields': {'values_fea4_offset': {'bit_offset': 0,\n",
       "      'bit_width': 32,\n",
       "      'description': 'Data signal of values_fea4_offset',\n",
       "      'access': 'write-only'}}},\n",
       "   'values_fea4_offset_2': {'address_offset': 356,\n",
       "    'size': 32,\n",
       "    'access': 'write-only',\n",
       "    'description': 'Data signal of values_fea4_offset',\n",
       "    'fields': {'values_fea4_offset': {'bit_offset': 0,\n",
       "      'bit_width': 32,\n",
       "      'description': 'Data signal of values_fea4_offset',\n",
       "      'access': 'write-only'}}},\n",
       "   'rowPtr_adj1_offset_1': {'address_offset': 364,\n",
       "    'size': 32,\n",
       "    'access': 'write-only',\n",
       "    'description': 'Data signal of rowPtr_adj1_offset',\n",
       "    'fields': {'rowPtr_adj1_offset': {'bit_offset': 0,\n",
       "      'bit_width': 32,\n",
       "      'description': 'Data signal of rowPtr_adj1_offset',\n",
       "      'access': 'write-only'}}},\n",
       "   'rowPtr_adj1_offset_2': {'address_offset': 368,\n",
       "    'size': 32,\n",
       "    'access': 'write-only',\n",
       "    'description': 'Data signal of rowPtr_adj1_offset',\n",
       "    'fields': {'rowPtr_adj1_offset': {'bit_offset': 0,\n",
       "      'bit_width': 32,\n",
       "      'description': 'Data signal of rowPtr_adj1_offset',\n",
       "      'access': 'write-only'}}},\n",
       "   'rowPtr_adj2_offset_1': {'address_offset': 376,\n",
       "    'size': 32,\n",
       "    'access': 'write-only',\n",
       "    'description': 'Data signal of rowPtr_adj2_offset',\n",
       "    'fields': {'rowPtr_adj2_offset': {'bit_offset': 0,\n",
       "      'bit_width': 32,\n",
       "      'description': 'Data signal of rowPtr_adj2_offset',\n",
       "      'access': 'write-only'}}},\n",
       "   'rowPtr_adj2_offset_2': {'address_offset': 380,\n",
       "    'size': 32,\n",
       "    'access': 'write-only',\n",
       "    'description': 'Data signal of rowPtr_adj2_offset',\n",
       "    'fields': {'rowPtr_adj2_offset': {'bit_offset': 0,\n",
       "      'bit_width': 32,\n",
       "      'description': 'Data signal of rowPtr_adj2_offset',\n",
       "      'access': 'write-only'}}},\n",
       "   'rowPtr_adj3_offset_1': {'address_offset': 388,\n",
       "    'size': 32,\n",
       "    'access': 'write-only',\n",
       "    'description': 'Data signal of rowPtr_adj3_offset',\n",
       "    'fields': {'rowPtr_adj3_offset': {'bit_offset': 0,\n",
       "      'bit_width': 32,\n",
       "      'description': 'Data signal of rowPtr_adj3_offset',\n",
       "      'access': 'write-only'}}},\n",
       "   'rowPtr_adj3_offset_2': {'address_offset': 392,\n",
       "    'size': 32,\n",
       "    'access': 'write-only',\n",
       "    'description': 'Data signal of rowPtr_adj3_offset',\n",
       "    'fields': {'rowPtr_adj3_offset': {'bit_offset': 0,\n",
       "      'bit_width': 32,\n",
       "      'description': 'Data signal of rowPtr_adj3_offset',\n",
       "      'access': 'write-only'}}},\n",
       "   'rowPtr_adj4_offset_1': {'address_offset': 400,\n",
       "    'size': 32,\n",
       "    'access': 'write-only',\n",
       "    'description': 'Data signal of rowPtr_adj4_offset',\n",
       "    'fields': {'rowPtr_adj4_offset': {'bit_offset': 0,\n",
       "      'bit_width': 32,\n",
       "      'description': 'Data signal of rowPtr_adj4_offset',\n",
       "      'access': 'write-only'}}},\n",
       "   'rowPtr_adj4_offset_2': {'address_offset': 404,\n",
       "    'size': 32,\n",
       "    'access': 'write-only',\n",
       "    'description': 'Data signal of rowPtr_adj4_offset',\n",
       "    'fields': {'rowPtr_adj4_offset': {'bit_offset': 0,\n",
       "      'bit_width': 32,\n",
       "      'description': 'Data signal of rowPtr_adj4_offset',\n",
       "      'access': 'write-only'}}},\n",
       "   'columnIndex_adj1_offset_1': {'address_offset': 412,\n",
       "    'size': 32,\n",
       "    'access': 'write-only',\n",
       "    'description': 'Data signal of columnIndex_adj1_offset',\n",
       "    'fields': {'columnIndex_adj1_offset': {'bit_offset': 0,\n",
       "      'bit_width': 32,\n",
       "      'description': 'Data signal of columnIndex_adj1_offset',\n",
       "      'access': 'write-only'}}},\n",
       "   'columnIndex_adj1_offset_2': {'address_offset': 416,\n",
       "    'size': 32,\n",
       "    'access': 'write-only',\n",
       "    'description': 'Data signal of columnIndex_adj1_offset',\n",
       "    'fields': {'columnIndex_adj1_offset': {'bit_offset': 0,\n",
       "      'bit_width': 32,\n",
       "      'description': 'Data signal of columnIndex_adj1_offset',\n",
       "      'access': 'write-only'}}},\n",
       "   'columnIndex_adj2_offset_1': {'address_offset': 424,\n",
       "    'size': 32,\n",
       "    'access': 'write-only',\n",
       "    'description': 'Data signal of columnIndex_adj2_offset',\n",
       "    'fields': {'columnIndex_adj2_offset': {'bit_offset': 0,\n",
       "      'bit_width': 32,\n",
       "      'description': 'Data signal of columnIndex_adj2_offset',\n",
       "      'access': 'write-only'}}},\n",
       "   'columnIndex_adj2_offset_2': {'address_offset': 428,\n",
       "    'size': 32,\n",
       "    'access': 'write-only',\n",
       "    'description': 'Data signal of columnIndex_adj2_offset',\n",
       "    'fields': {'columnIndex_adj2_offset': {'bit_offset': 0,\n",
       "      'bit_width': 32,\n",
       "      'description': 'Data signal of columnIndex_adj2_offset',\n",
       "      'access': 'write-only'}}},\n",
       "   'columnIndex_adj3_offset_1': {'address_offset': 436,\n",
       "    'size': 32,\n",
       "    'access': 'write-only',\n",
       "    'description': 'Data signal of columnIndex_adj3_offset',\n",
       "    'fields': {'columnIndex_adj3_offset': {'bit_offset': 0,\n",
       "      'bit_width': 32,\n",
       "      'description': 'Data signal of columnIndex_adj3_offset',\n",
       "      'access': 'write-only'}}},\n",
       "   'columnIndex_adj3_offset_2': {'address_offset': 440,\n",
       "    'size': 32,\n",
       "    'access': 'write-only',\n",
       "    'description': 'Data signal of columnIndex_adj3_offset',\n",
       "    'fields': {'columnIndex_adj3_offset': {'bit_offset': 0,\n",
       "      'bit_width': 32,\n",
       "      'description': 'Data signal of columnIndex_adj3_offset',\n",
       "      'access': 'write-only'}}},\n",
       "   'columnIndex_adj4_offset_1': {'address_offset': 448,\n",
       "    'size': 32,\n",
       "    'access': 'write-only',\n",
       "    'description': 'Data signal of columnIndex_adj4_offset',\n",
       "    'fields': {'columnIndex_adj4_offset': {'bit_offset': 0,\n",
       "      'bit_width': 32,\n",
       "      'description': 'Data signal of columnIndex_adj4_offset',\n",
       "      'access': 'write-only'}}},\n",
       "   'columnIndex_adj4_offset_2': {'address_offset': 452,\n",
       "    'size': 32,\n",
       "    'access': 'write-only',\n",
       "    'description': 'Data signal of columnIndex_adj4_offset',\n",
       "    'fields': {'columnIndex_adj4_offset': {'bit_offset': 0,\n",
       "      'bit_width': 32,\n",
       "      'description': 'Data signal of columnIndex_adj4_offset',\n",
       "      'access': 'write-only'}}},\n",
       "   'values_adj1_offset_1': {'address_offset': 460,\n",
       "    'size': 32,\n",
       "    'access': 'write-only',\n",
       "    'description': 'Data signal of values_adj1_offset',\n",
       "    'fields': {'values_adj1_offset': {'bit_offset': 0,\n",
       "      'bit_width': 32,\n",
       "      'description': 'Data signal of values_adj1_offset',\n",
       "      'access': 'write-only'}}},\n",
       "   'values_adj1_offset_2': {'address_offset': 464,\n",
       "    'size': 32,\n",
       "    'access': 'write-only',\n",
       "    'description': 'Data signal of values_adj1_offset',\n",
       "    'fields': {'values_adj1_offset': {'bit_offset': 0,\n",
       "      'bit_width': 32,\n",
       "      'description': 'Data signal of values_adj1_offset',\n",
       "      'access': 'write-only'}}},\n",
       "   'values_adj2_offset_1': {'address_offset': 472,\n",
       "    'size': 32,\n",
       "    'access': 'write-only',\n",
       "    'description': 'Data signal of values_adj2_offset',\n",
       "    'fields': {'values_adj2_offset': {'bit_offset': 0,\n",
       "      'bit_width': 32,\n",
       "      'description': 'Data signal of values_adj2_offset',\n",
       "      'access': 'write-only'}}},\n",
       "   'values_adj2_offset_2': {'address_offset': 476,\n",
       "    'size': 32,\n",
       "    'access': 'write-only',\n",
       "    'description': 'Data signal of values_adj2_offset',\n",
       "    'fields': {'values_adj2_offset': {'bit_offset': 0,\n",
       "      'bit_width': 32,\n",
       "      'description': 'Data signal of values_adj2_offset',\n",
       "      'access': 'write-only'}}},\n",
       "   'values_adj3_offset_1': {'address_offset': 484,\n",
       "    'size': 32,\n",
       "    'access': 'write-only',\n",
       "    'description': 'Data signal of values_adj3_offset',\n",
       "    'fields': {'values_adj3_offset': {'bit_offset': 0,\n",
       "      'bit_width': 32,\n",
       "      'description': 'Data signal of values_adj3_offset',\n",
       "      'access': 'write-only'}}},\n",
       "   'values_adj3_offset_2': {'address_offset': 488,\n",
       "    'size': 32,\n",
       "    'access': 'write-only',\n",
       "    'description': 'Data signal of values_adj3_offset',\n",
       "    'fields': {'values_adj3_offset': {'bit_offset': 0,\n",
       "      'bit_width': 32,\n",
       "      'description': 'Data signal of values_adj3_offset',\n",
       "      'access': 'write-only'}}},\n",
       "   'values_adj4_offset_1': {'address_offset': 496,\n",
       "    'size': 32,\n",
       "    'access': 'write-only',\n",
       "    'description': 'Data signal of values_adj4_offset',\n",
       "    'fields': {'values_adj4_offset': {'bit_offset': 0,\n",
       "      'bit_width': 32,\n",
       "      'description': 'Data signal of values_adj4_offset',\n",
       "      'access': 'write-only'}}},\n",
       "   'values_adj4_offset_2': {'address_offset': 500,\n",
       "    'size': 32,\n",
       "    'access': 'write-only',\n",
       "    'description': 'Data signal of values_adj4_offset',\n",
       "    'fields': {'values_adj4_offset': {'bit_offset': 0,\n",
       "      'bit_width': 32,\n",
       "      'description': 'Data signal of values_adj4_offset',\n",
       "      'access': 'write-only'}}}},\n",
       "  'device': <pynq.pl_server.embedded_device.EmbeddedDevice at 0xffff932b2880>,\n",
       "  'driver': pynq.overlay.DefaultIP},\n",
       " 'zynq_ultra_ps_e_0': {'gpio': {},\n",
       "  'interrupts': {},\n",
       "  'parameters': {'C_DP_USE_AUDIO': '0',\n",
       "   'C_DP_USE_VIDEO': '0',\n",
       "   'C_MAXIGP0_DATA_WIDTH': '128',\n",
       "   'C_MAXIGP1_DATA_WIDTH': '128',\n",
       "   'C_MAXIGP2_DATA_WIDTH': '32',\n",
       "   'C_SAXIGP0_DATA_WIDTH': '128',\n",
       "   'C_SAXIGP1_DATA_WIDTH': '128',\n",
       "   'C_SAXIGP2_DATA_WIDTH': '128',\n",
       "   'C_SAXIGP3_DATA_WIDTH': '128',\n",
       "   'C_SAXIGP4_DATA_WIDTH': '128',\n",
       "   'C_SAXIGP5_DATA_WIDTH': '128',\n",
       "   'C_SAXIGP6_DATA_WIDTH': '128',\n",
       "   'C_USE_DIFF_RW_CLK_GP0': '0',\n",
       "   'C_USE_DIFF_RW_CLK_GP1': '0',\n",
       "   'C_USE_DIFF_RW_CLK_GP2': '0',\n",
       "   'C_USE_DIFF_RW_CLK_GP3': '0',\n",
       "   'C_USE_DIFF_RW_CLK_GP4': '0',\n",
       "   'C_USE_DIFF_RW_CLK_GP5': '0',\n",
       "   'C_USE_DIFF_RW_CLK_GP6': '0',\n",
       "   'C_EN_FIFO_ENET0': '0',\n",
       "   'C_EN_FIFO_ENET1': '0',\n",
       "   'C_EN_FIFO_ENET2': '0',\n",
       "   'C_EN_FIFO_ENET3': '0',\n",
       "   'C_PL_CLK0_BUF': 'TRUE',\n",
       "   'C_PL_CLK1_BUF': 'FALSE',\n",
       "   'C_PL_CLK2_BUF': 'FALSE',\n",
       "   'C_PL_CLK3_BUF': 'FALSE',\n",
       "   'C_TRACE_PIPELINE_WIDTH': '8',\n",
       "   'C_EN_EMIO_TRACE': '0',\n",
       "   'C_TRACE_DATA_WIDTH': '32',\n",
       "   'C_USE_DEBUG_TEST': '0',\n",
       "   'C_SD0_INTERNAL_BUS_WIDTH': '5',\n",
       "   'C_SD1_INTERNAL_BUS_WIDTH': '8',\n",
       "   'C_NUM_F2P_0_INTR_INPUTS': '1',\n",
       "   'C_NUM_F2P_1_INTR_INPUTS': '1',\n",
       "   'C_EMIO_GPIO_WIDTH': '1',\n",
       "   'C_NUM_FABRIC_RESETS': '1',\n",
       "   'PSU_VALUE_SILVERSION': '3',\n",
       "   'PSU__USE__DDR_INTF_REQUESTED': '0',\n",
       "   'PSU__EN_AXI_STATUS_PORTS': '0',\n",
       "   'PSU__PSS_REF_CLK__FREQMHZ': '33.333',\n",
       "   'PSU__PSS_ALT_REF_CLK__FREQMHZ': '33.333',\n",
       "   'PSU__VIDEO_REF_CLK__FREQMHZ': '33.333',\n",
       "   'PSU__AUX_REF_CLK__FREQMHZ': '33.333',\n",
       "   'PSU__GT_REF_CLK__FREQMHZ': '33.333',\n",
       "   'PSU__VIDEO_REF_CLK__ENABLE': '0',\n",
       "   'PSU__VIDEO_REF_CLK__IO': '<Select>',\n",
       "   'PSU__PSS_ALT_REF_CLK__ENABLE': '0',\n",
       "   'PSU__PSS_ALT_REF_CLK__IO': '<Select>',\n",
       "   'PSU__CAN0__PERIPHERAL__ENABLE': '0',\n",
       "   'PSU__CAN0__PERIPHERAL__IO': '<Select>',\n",
       "   'PSU__CAN0__GRP_CLK__ENABLE': '0',\n",
       "   'PSU__CAN0__GRP_CLK__IO': '<Select>',\n",
       "   'PSU__CAN1__PERIPHERAL__ENABLE': '0',\n",
       "   'PSU__CAN1__PERIPHERAL__IO': '<Select>',\n",
       "   'PSU__CAN1__GRP_CLK__ENABLE': '0',\n",
       "   'PSU__CAN1__GRP_CLK__IO': '<Select>',\n",
       "   'PSU__CAN0_LOOP_CAN1__ENABLE': '0',\n",
       "   'PSU__DPAUX__PERIPHERAL__ENABLE': '1',\n",
       "   'PSU__DPAUX__PERIPHERAL__IO': 'EMIO',\n",
       "   'PSU__ENET0__GRP_MDIO__ENABLE': '1',\n",
       "   'PSU__ACT_DDR_FREQ_MHZ': '1199.988037',\n",
       "   'PSU__ENET0__GRP_MDIO__IO': 'MIO 76 .. 77',\n",
       "   'PSU__GEM__TSU__ENABLE': '0',\n",
       "   'PSU__GEM__TSU__IO': '<Select>',\n",
       "   'PSU__ENET0__PERIPHERAL__ENABLE': '1',\n",
       "   'PSU__ENET0__FIFO__ENABLE': '0',\n",
       "   'PSU__ENET0__PTP__ENABLE': '0',\n",
       "   'PSU__ENET0__PERIPHERAL__IO': 'MIO 26 .. 37',\n",
       "   'PSU__ENET1__PERIPHERAL__ENABLE': '0',\n",
       "   'PSU__ENET1__FIFO__ENABLE': '0',\n",
       "   'PSU__ENET1__PTP__ENABLE': '0',\n",
       "   'PSU__ENET1__PERIPHERAL__IO': '<Select>',\n",
       "   'PSU__ENET1__GRP_MDIO__ENABLE': '0',\n",
       "   'PSU__FPGA_PL0_ENABLE': '1',\n",
       "   'PSU__FPGA_PL1_ENABLE': '0',\n",
       "   'PSU__FPGA_PL2_ENABLE': '0',\n",
       "   'PSU__FPGA_PL3_ENABLE': '0',\n",
       "   'PSU__ENET1__GRP_MDIO__IO': '<Select>',\n",
       "   'PSU__ENET2__PERIPHERAL__ENABLE': '0',\n",
       "   'PSU__ENET2__FIFO__ENABLE': '0',\n",
       "   'PSU__ENET2__PTP__ENABLE': '0',\n",
       "   'PSU__ENET2__PERIPHERAL__IO': '<Select>',\n",
       "   'PSU__ENET2__GRP_MDIO__ENABLE': '0',\n",
       "   'PSU__ENET2__GRP_MDIO__IO': '<Select>',\n",
       "   'PSU__ENET3__PERIPHERAL__ENABLE': '0',\n",
       "   'PSU__ENET3__FIFO__ENABLE': '0',\n",
       "   'PSU__ENET3__PTP__ENABLE': '0',\n",
       "   'PSU__ENET3__PERIPHERAL__IO': '<Select>',\n",
       "   'PSU__ENET3__GRP_MDIO__ENABLE': '0',\n",
       "   'PSU__ENET3__GRP_MDIO__IO': '<Select>',\n",
       "   'PSU__GPIO_EMIO__PERIPHERAL__ENABLE': '0',\n",
       "   'PSU__GPIO_EMIO__PERIPHERAL__IO': '<Select>',\n",
       "   'PSU__GPIO0_MIO__PERIPHERAL__ENABLE': '1',\n",
       "   'PSU__GPIO0_MIO__IO': 'MIO 0 .. 25',\n",
       "   'PSU__GPIO1_MIO__PERIPHERAL__ENABLE': '1',\n",
       "   'PSU__GPIO1_MIO__IO': 'MIO 26 .. 51',\n",
       "   'PSU__GPIO2_MIO__PERIPHERAL__ENABLE': '0',\n",
       "   'PSU__GPIO2_MIO__IO': '<Select>',\n",
       "   'PSU__I2C0__PERIPHERAL__ENABLE': '0',\n",
       "   'PSU__I2C0__PERIPHERAL__IO': '<Select>',\n",
       "   'PSU__I2C0__GRP_INT__ENABLE': '0',\n",
       "   'PSU__I2C0__GRP_INT__IO': '<Select>',\n",
       "   'PSU__I2C1__PERIPHERAL__ENABLE': '1',\n",
       "   'PSU__I2C1__PERIPHERAL__IO': 'MIO 16 .. 17',\n",
       "   'PSU__I2C1__GRP_INT__ENABLE': '0',\n",
       "   'PSU__I2C1__GRP_INT__IO': '<Select>',\n",
       "   'PSU__I2C0_LOOP_I2C1__ENABLE': '0',\n",
       "   'PSU__TESTSCAN__PERIPHERAL__ENABLE': '0',\n",
       "   'PSU__PCIE__PERIPHERAL__ENABLE': '0',\n",
       "   'PSU__PCIE__PERIPHERAL__ENDPOINT_ENABLE': '1',\n",
       "   'PSU__PCIE__PERIPHERAL__ROOTPORT_ENABLE': '0',\n",
       "   'PSU__PCIE__PERIPHERAL__ENDPOINT_IO': '<Select>',\n",
       "   'PSU__PCIE__PERIPHERAL__ROOTPORT_IO': '<Select>',\n",
       "   'PSU__PCIE__LANE0__ENABLE': '0',\n",
       "   'PSU__PCIE__LANE0__IO': '<Select>',\n",
       "   'PSU__PCIE__LANE1__ENABLE': '0',\n",
       "   'PSU__PCIE__LANE1__IO': '<Select>',\n",
       "   'PSU__PCIE__LANE2__ENABLE': '0',\n",
       "   'PSU__PCIE__LANE2__IO': '<Select>',\n",
       "   'PSU__PCIE__LANE3__ENABLE': '0',\n",
       "   'PSU__PCIE__LANE3__IO': '<Select>',\n",
       "   'PSU__PCIE__RESET__POLARITY': 'Active Low',\n",
       "   'PSU__GT__LINK_SPEED': 'HBR',\n",
       "   'PSU__GT__VLT_SWNG_LVL_4': '0',\n",
       "   'PSU__GT__PRE_EMPH_LVL_4': '0',\n",
       "   'PSU__USB0__REF_CLK_SEL': 'Ref Clk1',\n",
       "   'PSU__USB0__REF_CLK_FREQ': '100',\n",
       "   'PSU__USB1__REF_CLK_SEL': 'Ref Clk1',\n",
       "   'PSU__USB1__REF_CLK_FREQ': '100',\n",
       "   'PSU__GEM0__REF_CLK_SEL': '<Select>',\n",
       "   'PSU__GEM0__REF_CLK_FREQ': '<Select>',\n",
       "   'PSU__GEM1__REF_CLK_SEL': '<Select>',\n",
       "   'PSU__GEM1__REF_CLK_FREQ': '<Select>',\n",
       "   'PSU__GEM2__REF_CLK_SEL': '<Select>',\n",
       "   'PSU__GEM2__REF_CLK_FREQ': '<Select>',\n",
       "   'PSU__GEM3__REF_CLK_SEL': '<Select>',\n",
       "   'PSU__GEM3__REF_CLK_FREQ': '<Select>',\n",
       "   'PSU__DP__REF_CLK_SEL': 'Ref Clk0',\n",
       "   'PSU__DP__REF_CLK_FREQ': '27',\n",
       "   'PSU__SATA__REF_CLK_SEL': '<Select>',\n",
       "   'PSU__SATA__REF_CLK_FREQ': '<Select>',\n",
       "   'PSU__PCIE__REF_CLK_SEL': '<Select>',\n",
       "   'PSU__PCIE__REF_CLK_FREQ': '<Select>',\n",
       "   'PSU__DP__LANE_SEL': 'Dual Lower',\n",
       "   'PSU__PCIE__DEVICE_PORT_TYPE': '<Select>',\n",
       "   'PSU__PCIE__MAXIMUM_LINK_WIDTH': '<Select>',\n",
       "   'PSU__PCIE__LINK_SPEED': '<Select>',\n",
       "   'PSU__PCIE__INTERFACE_WIDTH': '<Select>',\n",
       "   'PSU__PCIE__BAR0_ENABLE': '0',\n",
       "   'PSU__PCIE__BAR0_TYPE': '<Select>',\n",
       "   'PSU__PCIE__BAR0_SCALE': '<Select>',\n",
       "   'PSU__PCIE__BAR0_64BIT': '0',\n",
       "   'PSU__PCIE__BAR0_SIZE': '<Select>',\n",
       "   'PSU__PCIE__BAR0_PREFETCHABLE': '0',\n",
       "   'PSU__PCIE__BAR1_ENABLE': '0',\n",
       "   'PSU__PCIE__BAR1_TYPE': '<Select>',\n",
       "   'PSU__PCIE__BAR1_SCALE': '<Select>',\n",
       "   'PSU__PCIE__BAR1_64BIT': '0',\n",
       "   'PSU__PCIE__BAR1_SIZE': '<Select>',\n",
       "   'PSU__PCIE__BAR1_PREFETCHABLE': '0',\n",
       "   'PSU__PCIE__BAR2_ENABLE': '0',\n",
       "   'PSU__PCIE__BAR2_TYPE': '<Select>',\n",
       "   'PSU__PCIE__BAR2_SCALE': '<Select>',\n",
       "   'PSU__PCIE__BAR2_64BIT': '0',\n",
       "   'PSU__PCIE__BAR2_SIZE': '<Select>',\n",
       "   'PSU__PCIE__BAR2_PREFETCHABLE': '0',\n",
       "   'PSU__PCIE__BAR3_ENABLE': '0',\n",
       "   'PSU__PCIE__BAR3_TYPE': '<Select>',\n",
       "   'PSU__PCIE__BAR3_SCALE': '<Select>',\n",
       "   'PSU__PCIE__BAR3_64BIT': '0',\n",
       "   'PSU__PCIE__BAR3_SIZE': '<Select>',\n",
       "   'PSU__PCIE__BAR3_PREFETCHABLE': '0',\n",
       "   'PSU__PCIE__BAR4_ENABLE': '0',\n",
       "   'PSU__PCIE__BAR4_TYPE': '<Select>',\n",
       "   'PSU__PCIE__BAR4_SCALE': '<Select>',\n",
       "   'PSU__PCIE__BAR4_64BIT': '0',\n",
       "   'PSU__PCIE__BAR4_SIZE': '<Select>',\n",
       "   'PSU__PCIE__BAR4_PREFETCHABLE': '0',\n",
       "   'PSU__PCIE__BAR5_ENABLE': '0',\n",
       "   'PSU__PCIE__BAR5_TYPE': '<Select>',\n",
       "   'PSU__PCIE__BAR5_SCALE': '<Select>',\n",
       "   'PSU__PCIE__BAR5_64BIT': '0',\n",
       "   'PSU__PCIE__BAR5_SIZE': '<Select>',\n",
       "   'PSU__PCIE__BAR5_PREFETCHABLE': '0',\n",
       "   'PSU__PCIE__EROM_ENABLE': '0',\n",
       "   'PSU__PCIE__EROM_SCALE': '<Select>',\n",
       "   'PSU__PCIE__EROM_SIZE': '<Select>',\n",
       "   'PSU__PCIE__CAP_SLOT_IMPLEMENTED': '<Select>',\n",
       "   'PSU__PCIE__MAX_PAYLOAD_SIZE': '<Select>',\n",
       "   'PSU__PCIE__LEGACY_INTERRUPT': '<Select>',\n",
       "   'PSU__PCIE__BASE_CLASS_MENU': '<Select>',\n",
       "   'PSU__PCIE__USE_CLASS_CODE_LOOKUP_ASSISTANT': '<Select>',\n",
       "   'PSU__PCIE__SUB_CLASS_INTERFACE_MENU': '<Select>',\n",
       "   'PSU__PCIE__AER_CAPABILITY': '0',\n",
       "   'PSU__PCIE__CORRECTABLE_INT_ERR': '0',\n",
       "   'PSU__PCIE__HEADER_LOG_OVERFLOW': '0',\n",
       "   'PSU__PCIE__RECEIVER_ERR': '0',\n",
       "   'PSU__PCIE__SURPRISE_DOWN': '0',\n",
       "   'PSU__PCIE__FLOW_CONTROL_ERR': '0',\n",
       "   'PSU__PCIE__COMPLTION_TIMEOUT': '0',\n",
       "   'PSU__PCIE__COMPLETER_ABORT': '0',\n",
       "   'PSU__PCIE__RECEIVER_OVERFLOW': '0',\n",
       "   'PSU__PCIE__ECRC_ERR': '0',\n",
       "   'PSU__PCIE__ACS_VIOLAION': '0',\n",
       "   'PSU__PCIE__UNCORRECTABL_INT_ERR': '0',\n",
       "   'PSU__PCIE__MC_BLOCKED_TLP': '0',\n",
       "   'PSU__PCIE__ATOMICOP_EGRESS_BLOCKED': '0',\n",
       "   'PSU__PCIE__TLP_PREFIX_BLOCKED': '0',\n",
       "   'PSU__PCIE__FLOW_CONTROL_PROTOCOL_ERR': '0',\n",
       "   'PSU__PCIE__ACS_VIOLATION': '0',\n",
       "   'PSU__PCIE__MULTIHEADER': '0',\n",
       "   'PSU__PCIE__ECRC_CHECK': '0',\n",
       "   'PSU__PCIE__ECRC_GEN': '0',\n",
       "   'PSU__PCIE__PERM_ROOT_ERR_UPDATE': '0',\n",
       "   'PSU__PCIE__CRS_SW_VISIBILITY': '0',\n",
       "   'PSU__PCIE__INTX_GENERATION': '0',\n",
       "   'PSU__PCIE__INTX_PIN': '<Select>',\n",
       "   'PSU__PCIE__MSI_CAPABILITY': '0',\n",
       "   'PSU__PCIE__MSI_64BIT_ADDR_CAPABLE': '0',\n",
       "   'PSU__PCIE__MSI_MULTIPLE_MSG_CAPABLE': '<Select>',\n",
       "   'PSU__PCIE__MSIX_CAPABILITY': '0',\n",
       "   'PSU__PCIE__MSIX_TABLE_SIZE': '0',\n",
       "   'PSU__PCIE__MSIX_TABLE_OFFSET': '0',\n",
       "   'PSU__PCIE__MSIX_PBA_OFFSET': '0',\n",
       "   'PSU__PCIE__BRIDGE_BAR_INDICATOR': '<Select>',\n",
       "   'PSU__PROTECTION__SUBSYSTEMS': 'PMU Firmware:PMU|Secure Subsystem:',\n",
       "   'PSU__PROTECTION__MASTERS_TZ': 'GEM0:NonSecure|SD1:NonSecure|GEM2:NonSecure|GEM1:NonSecure|GEM3:NonSecure|PCIe:NonSecure|DP:NonSecure|NAND:NonSecure|GPU:NonSecure|USB1:NonSecure|USB0:NonSecure|LDMA:NonSecure|FDMA:NonSecure|QSPI:NonSecure|SD0:NonSecure',\n",
       "   'PSU__PROTECTION__MASTERS': 'USB1:NonSecure;1|USB0:NonSecure;1|S_AXI_LPD:NA;0|S_AXI_HPC1_FPD:NA;1|S_AXI_HPC0_FPD:NA;1|S_AXI_HP3_FPD:NA;1|S_AXI_HP2_FPD:NA;1|S_AXI_HP1_FPD:NA;1|S_AXI_HP0_FPD:NA;1|S_AXI_ACP:NA;1|S_AXI_ACE:NA;0|SD1:NonSecure;1|SD0:NonSecure;0|SATA1:NonSecure;0|SATA0:NonSecure;0|RPU1:Secure;1|RPU0:Secure;1|QSPI:NonSecure;0|PMU:NA;1|PCIe:NonSecure;0|NAND:NonSecure;0|LDMA:NonSecure;1|GPU:NonSecure;1|GEM3:NonSecure;0|GEM2:NonSecure;0|GEM1:NonSecure;0|GEM0:NonSecure;1|FDMA:NonSecure;1|DP:NonSecure;1|DAP:NA;1|Coresight:NA;1|CSU:NA;1|APU:NA;1',\n",
       "   'PSU__PROTECTION__DDR_SEGMENTS': 'NONE',\n",
       "   'PSU__PROTECTION__OCM_SEGMENTS': 'NONE',\n",
       "   'PSU__PROTECTION__LPD_SEGMENTS': 'SA:0xFF980000; SIZE:64; UNIT:KB; RegionTZ:Secure; WrAllowed:Read/Write; subsystemId:PMU Firmware| SA:0xFF5E0000; SIZE:2560; UNIT:KB; RegionTZ:Secure; WrAllowed:Read/Write; subsystemId:PMU Firmware| SA:0xFFCC0000; SIZE:64; UNIT:KB; RegionTZ:Secure; WrAllowed:Read/Write; subsystemId:PMU Firmware| SA:0xFF180000; SIZE:768; UNIT:KB; RegionTZ:Secure; WrAllowed:Read/Write; subsystemId:PMU Firmware| SA:0xFF410000; SIZE:640; UNIT:KB; RegionTZ:Secure; WrAllowed:Read/Write; subsystemId:PMU Firmware| SA:0xFFA70000; SIZE:64; UNIT:KB; RegionTZ:Secure; WrAllowed:Read/Write; subsystemId:PMU Firmware| SA:0xFF9A0000; SIZE:64; UNIT:KB; RegionTZ:Secure; WrAllowed:Read/Write; subsystemId:PMU Firmware|SA:0xFF5E0000 ; SIZE:2560; UNIT:KB; RegionTZ:Secure ; WrAllowed:Read/Write; subsystemId:Secure Subsystem|SA:0xFFCC0000 ; SIZE:64; UNIT:KB; RegionTZ:Secure ; WrAllowed:Read/Write; subsystemId:Secure Subsystem|SA:0xFF180000 ; SIZE:768; UNIT:KB; RegionTZ:Secure ; WrAllowed:Read/Write; subsystemId:Secure Subsystem|SA:0xFF9A0000 ; SIZE:64; UNIT:KB; RegionTZ:Secure ; WrAllowed:Read/Write; subsystemId:Secure Subsystem',\n",
       "   'PSU__PROTECTION__FPD_SEGMENTS': 'SA:0xFD1A0000; SIZE:1280; UNIT:KB; RegionTZ:Secure; WrAllowed:Read/Write; subsystemId:PMU Firmware |  SA:0xFD000000; SIZE:64; UNIT:KB; RegionTZ:Secure; WrAllowed:Read/Write; subsystemId:PMU Firmware |  SA:0xFD010000; SIZE:64; UNIT:KB; RegionTZ:Secure; WrAllowed:Read/Write; subsystemId:PMU Firmware |  SA:0xFD020000; SIZE:64; UNIT:KB; RegionTZ:Secure; WrAllowed:Read/Write; subsystemId:PMU Firmware |  SA:0xFD030000; SIZE:64; UNIT:KB; RegionTZ:Secure; WrAllowed:Read/Write; subsystemId:PMU Firmware |  SA:0xFD040000; SIZE:64; UNIT:KB; RegionTZ:Secure; WrAllowed:Read/Write; subsystemId:PMU Firmware |  SA:0xFD050000; SIZE:64; UNIT:KB; RegionTZ:Secure; WrAllowed:Read/Write; subsystemId:PMU Firmware |  SA:0xFD610000; SIZE:512; UNIT:KB; RegionTZ:Secure; WrAllowed:Read/Write; subsystemId:PMU Firmware |  SA:0xFD5D0000; SIZE:64; UNIT:KB; RegionTZ:Secure; WrAllowed:Read/Write; subsystemId:PMU Firmware | SA:0xFD1A0000 ; SIZE:1280; UNIT:KB; RegionTZ:Secure ; WrAllowed:Read/Write; subsystemId:Secure Subsystem',\n",
       "   'PSU__PROTECTION__DEBUG': '0',\n",
       "   'PSU__PROTECTION__SLAVES': 'LPD;USB3_1_XHCI;FE300000;FE3FFFFF;1|LPD;USB3_1;FF9E0000;FF9EFFFF;1|LPD;USB3_0_XHCI;FE200000;FE2FFFFF;1|LPD;USB3_0;FF9D0000;FF9DFFFF;1|LPD;UART1;FF010000;FF01FFFF;0|LPD;UART0;FF000000;FF00FFFF;1|LPD;TTC3;FF140000;FF14FFFF;0|LPD;TTC2;FF130000;FF13FFFF;0|LPD;TTC1;FF120000;FF12FFFF;0|LPD;TTC0;FF110000;FF11FFFF;0|FPD;SWDT1;FD4D0000;FD4DFFFF;0|LPD;SWDT0;FF150000;FF15FFFF;0|LPD;SPI1;FF050000;FF05FFFF;0|LPD;SPI0;FF040000;FF04FFFF;0|FPD;SMMU_REG;FD5F0000;FD5FFFFF;1|FPD;SMMU;FD800000;FDFFFFFF;1|FPD;SIOU;FD3D0000;FD3DFFFF;1|FPD;SERDES;FD400000;FD47FFFF;1|LPD;SD1;FF170000;FF17FFFF;1|LPD;SD0;FF160000;FF16FFFF;0|FPD;SATA;FD0C0000;FD0CFFFF;0|LPD;RTC;FFA60000;FFA6FFFF;1|LPD;RSA_CORE;FFCE0000;FFCEFFFF;1|LPD;RPU;FF9A0000;FF9AFFFF;1|LPD;R5_TCM_RAM_GLOBAL;FFE00000;FFE3FFFF;1|LPD;R5_1_Instruction_Cache;FFEC0000;FFECFFFF;1|LPD;R5_1_Data_Cache;FFED0000;FFEDFFFF;1|LPD;R5_1_BTCM_GLOBAL;FFEB0000;FFEBFFFF;1|LPD;R5_1_ATCM_GLOBAL;FFE90000;FFE9FFFF;1|LPD;R5_0_Instruction_Cache;FFE40000;FFE4FFFF;1|LPD;R5_0_Data_Cache;FFE50000;FFE5FFFF;1|LPD;R5_0_BTCM_GLOBAL;FFE20000;FFE2FFFF;1|LPD;R5_0_ATCM_GLOBAL;FFE00000;FFE0FFFF;1|LPD;QSPI_Linear_Address;C0000000;DFFFFFFF;1|LPD;QSPI;FF0F0000;FF0FFFFF;0|LPD;PMU_RAM;FFDC0000;FFDDFFFF;1|LPD;PMU_GLOBAL;FFD80000;FFDBFFFF;1|FPD;PCIE_MAIN;FD0E0000;FD0EFFFF;0|FPD;PCIE_LOW;E0000000;EFFFFFFF;0|FPD;PCIE_HIGH2;8000000000;BFFFFFFFFF;0|FPD;PCIE_HIGH1;600000000;7FFFFFFFF;0|FPD;PCIE_DMA;FD0F0000;FD0FFFFF;0|FPD;PCIE_ATTRIB;FD480000;FD48FFFF;0|LPD;OCM_XMPU_CFG;FFA70000;FFA7FFFF;1|LPD;OCM_SLCR;FF960000;FF96FFFF;1|OCM;OCM;FFFC0000;FFFFFFFF;1|LPD;NAND;FF100000;FF10FFFF;0|LPD;MBISTJTAG;FFCF0000;FFCFFFFF;1|LPD;LPD_XPPU_SINK;FF9C0000;FF9CFFFF;1|LPD;LPD_XPPU;FF980000;FF98FFFF;1|LPD;LPD_SLCR_SECURE;FF4B0000;FF4DFFFF;1|LPD;LPD_SLCR;FF410000;FF4AFFFF;1|LPD;LPD_GPV;FE100000;FE1FFFFF;1|LPD;LPD_DMA_7;FFAF0000;FFAFFFFF;1|LPD;LPD_DMA_6;FFAE0000;FFAEFFFF;1|LPD;LPD_DMA_5;FFAD0000;FFADFFFF;1|LPD;LPD_DMA_4;FFAC0000;FFACFFFF;1|LPD;LPD_DMA_3;FFAB0000;FFABFFFF;1|LPD;LPD_DMA_2;FFAA0000;FFAAFFFF;1|LPD;LPD_DMA_1;FFA90000;FFA9FFFF;1|LPD;LPD_DMA_0;FFA80000;FFA8FFFF;1|LPD;IPI_CTRL;FF380000;FF3FFFFF;1|LPD;IOU_SLCR;FF180000;FF23FFFF;1|LPD;IOU_SECURE_SLCR;FF240000;FF24FFFF;1|LPD;IOU_SCNTRS;FF260000;FF26FFFF;1|LPD;IOU_SCNTR;FF250000;FF25FFFF;1|LPD;IOU_GPV;FE000000;FE0FFFFF;1|LPD;I2C1;FF030000;FF03FFFF;1|LPD;I2C0;FF020000;FF02FFFF;0|FPD;GPU;FD4B0000;FD4BFFFF;0|LPD;GPIO;FF0A0000;FF0AFFFF;1|LPD;GEM3;FF0E0000;FF0EFFFF;0|LPD;GEM2;FF0D0000;FF0DFFFF;0|LPD;GEM1;FF0C0000;FF0CFFFF;0|LPD;GEM0;FF0B0000;FF0BFFFF;1|FPD;FPD_XMPU_SINK;FD4F0000;FD4FFFFF;1|FPD;FPD_XMPU_CFG;FD5D0000;FD5DFFFF;1|FPD;FPD_SLCR_SECURE;FD690000;FD6CFFFF;1|FPD;FPD_SLCR;FD610000;FD68FFFF;1|FPD;FPD_DMA_CH7;FD570000;FD57FFFF;1|FPD;FPD_DMA_CH6;FD560000;FD56FFFF;1|FPD;FPD_DMA_CH5;FD550000;FD55FFFF;1|FPD;FPD_DMA_CH4;FD540000;FD54FFFF;1|FPD;FPD_DMA_CH3;FD530000;FD53FFFF;1|FPD;FPD_DMA_CH2;FD520000;FD52FFFF;1|FPD;FPD_DMA_CH1;FD510000;FD51FFFF;1|FPD;FPD_DMA_CH0;FD500000;FD50FFFF;1|LPD;EFUSE;FFCC0000;FFCCFFFF;1|FPD;Display Port;FD4A0000;FD4AFFFF;1|FPD;DPDMA;FD4C0000;FD4CFFFF;1|FPD;DDR_XMPU5_CFG;FD050000;FD05FFFF;1|FPD;DDR_XMPU4_CFG;FD040000;FD04FFFF;1|FPD;DDR_XMPU3_CFG;FD030000;FD03FFFF;1|FPD;DDR_XMPU2_CFG;FD020000;FD02FFFF;1|FPD;DDR_XMPU1_CFG;FD010000;FD01FFFF;1|FPD;DDR_XMPU0_CFG;FD000000;FD00FFFF;1|FPD;DDR_QOS_CTRL;FD090000;FD09FFFF;1|FPD;DDR_PHY;FD080000;FD08FFFF;1|DDR;DDR_LOW;0;7FFFFFFF;1|DDR;DDR_HIGH;800000000;97FFFFFFF;1|FPD;DDDR_CTRL;FD070000;FD070FFF;1|LPD;Coresight;FE800000;FEFFFFFF;1|LPD;CSU_DMA;FFC80000;FFC9FFFF;1|LPD;CSU;FFCA0000;FFCAFFFF;1|LPD;CRL_APB;FF5E0000;FF85FFFF;1|FPD;CRF_APB;FD1A0000;FD2DFFFF;1|FPD;CCI_REG;FD5E0000;FD5EFFFF;1|LPD;CAN1;FF070000;FF07FFFF;0|LPD;CAN0;FF060000;FF06FFFF;0|FPD;APU;FD5C0000;FD5CFFFF;1|LPD;APM_INTC_IOU;FFA20000;FFA2FFFF;1|LPD;APM_FPD_LPD;FFA30000;FFA3FFFF;1|FPD;APM_5;FD490000;FD49FFFF;1|FPD;APM_0;FD0B0000;FD0BFFFF;1|LPD;APM2;FFA10000;FFA1FFFF;1|LPD;APM1;FFA00000;FFA0FFFF;1|LPD;AMS;FFA50000;FFA5FFFF;1|FPD;AFI_5;FD3B0000;FD3BFFFF;1|FPD;AFI_4;FD3A0000;FD3AFFFF;1|FPD;AFI_3;FD390000;FD39FFFF;1|FPD;AFI_2;FD380000;FD38FFFF;1|FPD;AFI_1;FD370000;FD37FFFF;1|FPD;AFI_0;FD360000;FD36FFFF;1|LPD;AFIFM6;FF9B0000;FF9BFFFF;1|FPD;ACPU_GIC;F9010000;F907FFFF;1',\n",
       "   'PSU__PROTECTION__PRESUBSYSTEMS': 'NONE',\n",
       "   'PSU__PROTECTION__ENABLE': '0',\n",
       "   'PSU__DDR_SW_REFRESH_ENABLED': '1',\n",
       "   'PSU__PROTECTION__LOCK_UNUSED_SEGMENTS': '0',\n",
       "   'PSU__EP__IP': '0',\n",
       "   'PSU__ACTUAL__IP': '1',\n",
       "   'SUBPRESET1': 'Custom',\n",
       "   'SUBPRESET2': 'Custom',\n",
       "   'PSU_UIPARAM_GENERATE_SUMMARY': '<Select>',\n",
       "   'PSU_MIO_TREE_PERIPHERALS': 'GPIO0 MIO#GPIO0 MIO#GPIO0 MIO#GPIO0 MIO#GPIO0 MIO#GPIO0 MIO#GPIO0 MIO#GPIO0 MIO#GPIO0 MIO#GPIO0 MIO#GPIO0 MIO#GPIO0 MIO#GPIO0 MIO#GPIO0 MIO#GPIO0 MIO#GPIO0 MIO#I2C 1#I2C 1#UART 0#UART 0#GPIO0 MIO#GPIO0 MIO#GPIO0 MIO#GPIO0 MIO#GPIO0 MIO#GPIO0 MIO#Gem 0#Gem 0#Gem 0#Gem 0#Gem 0#Gem 0#Gem 0#Gem 0#Gem 0#Gem 0#Gem 0#Gem 0#GPIO1 MIO#SD 1#SD 1#SD 1#SD 1#GPIO1 MIO#SD 1#SD 1#SD 1#SD 1#SD 1#SD 1#SD 1#SD 1#USB 0#USB 0#USB 0#USB 0#USB 0#USB 0#USB 0#USB 0#USB 0#USB 0#USB 0#USB 0#USB 1#USB 1#USB 1#USB 1#USB 1#USB 1#USB 1#USB 1#USB 1#USB 1#USB 1#USB 1#MDIO 0#MDIO 0',\n",
       "   'PSU_MIO_TREE_SIGNALS': 'gpio0[0]#gpio0[1]#gpio0[2]#gpio0[3]#gpio0[4]#gpio0[5]#gpio0[6]#gpio0[7]#gpio0[8]#gpio0[9]#gpio0[10]#gpio0[11]#gpio0[12]#gpio0[13]#gpio0[14]#gpio0[15]#scl_out#sda_out#rxd#txd#gpio0[20]#gpio0[21]#gpio0[22]#gpio0[23]#gpio0[24]#gpio0[25]#rgmii_tx_clk#rgmii_txd[0]#rgmii_txd[1]#rgmii_txd[2]#rgmii_txd[3]#rgmii_tx_ctl#rgmii_rx_clk#rgmii_rxd[0]#rgmii_rxd[1]#rgmii_rxd[2]#rgmii_rxd[3]#rgmii_rx_ctl#gpio1[38]#sdio1_data_out[4]#sdio1_data_out[5]#sdio1_data_out[6]#sdio1_data_out[7]#gpio1[43]#sdio1_wp#sdio1_cd_n#sdio1_data_out[0]#sdio1_data_out[1]#sdio1_data_out[2]#sdio1_data_out[3]#sdio1_cmd_out#sdio1_clk_out#ulpi_clk_in#ulpi_dir#ulpi_tx_data[2]#ulpi_nxt#ulpi_tx_data[0]#ulpi_tx_data[1]#ulpi_stp#ulpi_tx_data[3]#ulpi_tx_data[4]#ulpi_tx_data[5]#ulpi_tx_data[6]#ulpi_tx_data[7]#ulpi_clk_in#ulpi_dir#ulpi_tx_data[2]#ulpi_nxt#ulpi_tx_data[0]#ulpi_tx_data[1]#ulpi_stp#ulpi_tx_data[3]#ulpi_tx_data[4]#ulpi_tx_data[5]#ulpi_tx_data[6]#ulpi_tx_data[7]#gem0_mdc#gem0_mdio_out',\n",
       "   'PSU__NAND__PERIPHERAL__IO': '<Select>',\n",
       "   'PSU__NAND__PERIPHERAL__ENABLE': '0',\n",
       "   'PSU__NAND__READY_BUSY__ENABLE': '0',\n",
       "   'PSU__NAND__READY0_BUSY__ENABLE': '0',\n",
       "   'PSU__NAND__READY1_BUSY__ENABLE': '0',\n",
       "   'PSU__NAND__READY_BUSY__IO': '<Select>',\n",
       "   'PSU__NAND__READY0_BUSY__IO': '<Select>',\n",
       "   'PSU__NAND__READY1_BUSY__IO': '<Select>',\n",
       "   'PSU__NAND__CHIP_ENABLE__ENABLE': '0',\n",
       "   'PSU__NAND__CHIP_ENABLE__IO': '<Select>',\n",
       "   'PSU__NAND__DATA_STROBE__ENABLE': '0',\n",
       "   'PSU__NAND__DATA_STROBE__IO': '<Select>',\n",
       "   'PSU__PJTAG__PERIPHERAL__ENABLE': '0',\n",
       "   'PSU__PJTAG__PERIPHERAL__IO': '<Select>',\n",
       "   'PSU__PMU__AIBACK__ENABLE': '0',\n",
       "   'PSU__PMU__PLERROR__ENABLE': '0',\n",
       "   'PSU__PMU__PERIPHERAL__ENABLE': '0',\n",
       "   'PSU__PMU__PERIPHERAL__IO': '<Select>',\n",
       "   'PSU__PMU__EMIO_GPI__ENABLE': '0',\n",
       "   'PSU__PMU__EMIO_GPO__ENABLE': '0',\n",
       "   'PSU__PMU__GPI0__ENABLE': '0',\n",
       "   'PSU__PMU__GPI1__ENABLE': '0',\n",
       "   'PSU__PMU__GPI2__ENABLE': '0',\n",
       "   'PSU__PMU__GPI3__ENABLE': '0',\n",
       "   'PSU__PMU__GPI4__ENABLE': '0',\n",
       "   'PSU__PMU__GPI5__ENABLE': '0',\n",
       "   'PSU__PMU__GPO0__ENABLE': '0',\n",
       "   'PSU__PMU__GPO1__ENABLE': '0',\n",
       "   'PSU__PMU__GPO2__ENABLE': '0',\n",
       "   'PSU__PMU__GPO3__ENABLE': '0',\n",
       "   'PSU__PMU__GPO4__ENABLE': '0',\n",
       "   'PSU__PMU__GPO5__ENABLE': '0',\n",
       "   'PSU__PMU__GPI0__IO': '<Select>',\n",
       "   'PSU__PMU__GPI1__IO': '<Select>',\n",
       "   'PSU__PMU__GPI2__IO': '<Select>',\n",
       "   'PSU__PMU__GPI3__IO': '<Select>',\n",
       "   'PSU__PMU__GPI4__IO': '<Select>',\n",
       "   'PSU__PMU__GPI5__IO': '<Select>',\n",
       "   'PSU__PMU__GPO0__IO': '<Select>',\n",
       "   'PSU__PMU__GPO1__IO': '<Select>',\n",
       "   'PSU__PMU__GPO2__IO': '<Select>',\n",
       "   'PSU__PMU__GPO3__IO': '<Select>',\n",
       "   'PSU__PMU__GPO4__IO': '<Select>',\n",
       "   'PSU__PMU__GPO5__IO': '<Select>',\n",
       "   'PSU__PMU__GPO2__POLARITY': '<Select>',\n",
       "   'PSU__PMU__GPO3__POLARITY': '<Select>',\n",
       "   'PSU__PMU__GPO4__POLARITY': '<Select>',\n",
       "   'PSU__PMU__GPO5__POLARITY': '<Select>',\n",
       "   'PSU__CSU__PERIPHERAL__ENABLE': '0',\n",
       "   'PSU__CSU__PERIPHERAL__IO': '<Select>',\n",
       "   'PSU__QSPI__PERIPHERAL__ENABLE': '0',\n",
       "   'PSU__QSPI__PERIPHERAL__IO': '<Select>',\n",
       "   'PSU__QSPI__PERIPHERAL__MODE': '<Select>',\n",
       "   'PSU__QSPI__PERIPHERAL__DATA_MODE': '<Select>',\n",
       "   'PSU__QSPI__GRP_FBCLK__ENABLE': '0',\n",
       "   'PSU__QSPI__GRP_FBCLK__IO': '<Select>',\n",
       "   'PSU__SD0__PERIPHERAL__ENABLE': '0',\n",
       "   'PSU__SD0__PERIPHERAL__IO': '<Select>',\n",
       "   'PSU__SD0__GRP_CD__ENABLE': '0',\n",
       "   'PSU__SD0__GRP_CD__IO': '<Select>',\n",
       "   'PSU__SD0__GRP_POW__ENABLE': '0',\n",
       "   'PSU__SD0__GRP_POW__IO': '<Select>',\n",
       "   'PSU__SD0__GRP_WP__ENABLE': '0',\n",
       "   'PSU__SD0__GRP_WP__IO': '<Select>',\n",
       "   'PSU__SD0__SLOT_TYPE': '<Select>',\n",
       "   'PSU__SD0__RESET__ENABLE': '0',\n",
       "   'PSU__SD0__DATA_TRANSFER_MODE': '<Select>',\n",
       "   'PSU__SD0__CLK_50_SDR_ITAP_DLY': '0x15',\n",
       "   'PSU__SD0__CLK_50_SDR_OTAP_DLY': '0x5',\n",
       "   'PSU__SD0__CLK_50_DDR_ITAP_DLY': '0x3D',\n",
       "   'PSU__SD0__CLK_50_DDR_OTAP_DLY': '0x4',\n",
       "   'PSU__SD0__CLK_100_SDR_OTAP_DLY': '0x3',\n",
       "   'PSU__SD0__CLK_200_SDR_OTAP_DLY': '0x3',\n",
       "   'PSU__SD1__PERIPHERAL__ENABLE': '1',\n",
       "   'PSU__SD1__PERIPHERAL__IO': 'MIO 39 .. 51',\n",
       "   'PSU__SD1__GRP_CD__ENABLE': '1',\n",
       "   'PSU__SD1__GRP_CD__IO': 'MIO 45',\n",
       "   'PSU__SD1__GRP_POW__ENABLE': '0',\n",
       "   'PSU__SD1__GRP_POW__IO': '<Select>',\n",
       "   'PSU__SD1__GRP_WP__ENABLE': '1',\n",
       "   'PSU__SD1__GRP_WP__IO': 'MIO 44',\n",
       "   'PSU__SD1__SLOT_TYPE': 'SD 3.0',\n",
       "   'PSU__SD1__RESET__ENABLE': '0',\n",
       "   'PSU__SD1__DATA_TRANSFER_MODE': '8Bit',\n",
       "   'PSU__SD1__CLK_50_SDR_ITAP_DLY': '0x15',\n",
       "   'PSU__SD1__CLK_50_SDR_OTAP_DLY': '0x5',\n",
       "   'PSU__SD1__CLK_50_DDR_ITAP_DLY': '0x3D',\n",
       "   'PSU__SD1__CLK_50_DDR_OTAP_DLY': '0x4',\n",
       "   'PSU__SD1__CLK_100_SDR_OTAP_DLY': '0x3',\n",
       "   'PSU__SD1__CLK_200_SDR_OTAP_DLY': '0x3',\n",
       "   'PSU__DEVICE_TYPE': 'RFSOC',\n",
       "   'PSU_SMC_CYCLE_T0': 'NA',\n",
       "   'PSU_SMC_CYCLE_T1': 'NA',\n",
       "   'PSU_SMC_CYCLE_T2': 'NA',\n",
       "   'PSU_SMC_CYCLE_T3': 'NA',\n",
       "   'PSU_SMC_CYCLE_T4': 'NA',\n",
       "   'PSU_SMC_CYCLE_T5': 'NA',\n",
       "   'PSU_SMC_CYCLE_T6': 'NA',\n",
       "   'PSU__SPI0__PERIPHERAL__ENABLE': '0',\n",
       "   'PSU__SPI0__PERIPHERAL__IO': '<Select>',\n",
       "   'PSU__SPI0__GRP_SS0__ENABLE': '0',\n",
       "   'PSU__SPI0__GRP_SS0__IO': '<Select>',\n",
       "   'PSU__SPI0__GRP_SS1__ENABLE': '0',\n",
       "   'PSU__SPI0__GRP_SS1__IO': '<Select>',\n",
       "   'PSU__SPI0__GRP_SS2__ENABLE': '0',\n",
       "   'PSU__SPI0__GRP_SS2__IO': '<Select>',\n",
       "   'PSU__SPI1__PERIPHERAL__ENABLE': '0',\n",
       "   'PSU__SPI1__PERIPHERAL__IO': '<Select>',\n",
       "   'PSU__SPI1__GRP_SS0__ENABLE': '0',\n",
       "   'PSU__SPI1__GRP_SS0__IO': '<Select>',\n",
       "   'PSU__SPI1__GRP_SS1__ENABLE': '0',\n",
       "   'PSU__SPI1__GRP_SS1__IO': '<Select>',\n",
       "   'PSU__SPI1__GRP_SS2__ENABLE': '0',\n",
       "   'PSU__SPI1__GRP_SS2__IO': '<Select>',\n",
       "   'PSU__SPI0_LOOP_SPI1__ENABLE': '0',\n",
       "   'PSU__LPD_SLCR__CSUPMU_WDT_CLK_SEL__SELECT': 'APB',\n",
       "   'PSU__SWDT0__PERIPHERAL__ENABLE': '0',\n",
       "   'PSU__SWDT0__CLOCK__ENABLE': '0',\n",
       "   'PSU__SWDT0__RESET__ENABLE': '0',\n",
       "   'PSU__SWDT0__PERIPHERAL__IO': 'NA',\n",
       "   'PSU__SWDT0__CLOCK__IO': '<Select>',\n",
       "   'PSU__SWDT0__RESET__IO': '<Select>',\n",
       "   'PSU__SWDT1__PERIPHERAL__ENABLE': '0',\n",
       "   'PSU__SWDT1__CLOCK__ENABLE': '0',\n",
       "   'PSU__SWDT1__RESET__ENABLE': '0',\n",
       "   'PSU__SWDT1__PERIPHERAL__IO': 'NA',\n",
       "   'PSU__SWDT1__CLOCK__IO': '<Select>',\n",
       "   'PSU__SWDT1__RESET__IO': '<Select>',\n",
       "   'PSU__UART0__BAUD_RATE': '115200',\n",
       "   'PSU__TRACE__PERIPHERAL__ENABLE': '0',\n",
       "   'PSU__TRACE__PERIPHERAL__IO': '<Select>',\n",
       "   'PSU__TRACE__WIDTH': '<Select>',\n",
       "   'PSU__TRACE__INTERNAL_WIDTH': '32',\n",
       "   'PSU_SD0_INTERNAL_BUS_WIDTH': '8',\n",
       "   'PSU__TTC0__PERIPHERAL__ENABLE': '0',\n",
       "   'PSU__TTC0__CLOCK__ENABLE': '0',\n",
       "   'PSU__TTC0__WAVEOUT__ENABLE': '0',\n",
       "   'PSU__TTC0__CLOCK__IO': '<Select>',\n",
       "   'PSU__TTC0__WAVEOUT__IO': '<Select>',\n",
       "   'PSU__TTC0__PERIPHERAL__IO': 'NA',\n",
       "   'PSU__TTC1__PERIPHERAL__ENABLE': '0',\n",
       "   'PSU__TTC1__PERIPHERAL__IO': 'NA',\n",
       "   'PSU__UART1__BAUD_RATE': '<Select>',\n",
       "   'PSU__TTC1__CLOCK__ENABLE': '0',\n",
       "   'PSU__TTC1__WAVEOUT__ENABLE': '0',\n",
       "   'PSU__TTC1__CLOCK__IO': '<Select>',\n",
       "   'PSU__TTC1__WAVEOUT__IO': '<Select>',\n",
       "   'PSU__TTC2__PERIPHERAL__ENABLE': '0',\n",
       "   'PSU__TTC2__PERIPHERAL__IO': 'NA',\n",
       "   'PSU__TTC2__CLOCK__ENABLE': '0',\n",
       "   'PSU__TTC2__WAVEOUT__ENABLE': '0',\n",
       "   'PSU__TTC2__CLOCK__IO': '<Select>',\n",
       "   'PSU__TTC2__WAVEOUT__IO': '<Select>',\n",
       "   'PSU__TTC3__PERIPHERAL__ENABLE': '0',\n",
       "   'PSU__TTC3__PERIPHERAL__IO': 'NA',\n",
       "   'PSU__TTC3__CLOCK__ENABLE': '0',\n",
       "   'PSU__TTC3__WAVEOUT__ENABLE': '0',\n",
       "   'PSU__TTC3__CLOCK__IO': '<Select>',\n",
       "   'PSU__TTC3__WAVEOUT__IO': '<Select>',\n",
       "   'PSU__CSUPMU__PERIPHERAL__VALID': '0',\n",
       "   'PSU__DDRC__AL': '0',\n",
       "   'PSU__DDRC__BANK_ADDR_COUNT': '2',\n",
       "   'PSU__DDRC__BUS_WIDTH': '64 Bit',\n",
       "   'PSU__DDRC__CL': '16',\n",
       "   'PSU__DDRC__CLOCK_STOP_EN': '0',\n",
       "   'PSU_DYNAMIC_DDR_CONFIG_EN': '0',\n",
       "   'PSU__DDRC__COL_ADDR_COUNT': '10',\n",
       "   'PSU__DDRC__RANK_ADDR_COUNT': '0',\n",
       "   'PSU__DDRC__CWL': '12',\n",
       "   'PSU__DDRC__BG_ADDR_COUNT': '1',\n",
       "   'PSU__DDRC__DEVICE_CAPACITY': '16384 MBits',\n",
       "   'PSU__DDRC__DRAM_WIDTH': '16 Bits',\n",
       "   'PSU__DDRC__ECC': 'Disabled',\n",
       "   'PSU__DDRC__ECC_SCRUB': '0',\n",
       "   'PSU__DDRC__ENABLE': '1',\n",
       "   'PSU__DDRC__FREQ_MHZ': '1',\n",
       "   'PSU__DDRC__HIGH_TEMP': '<Select>',\n",
       "   'PSU__DDRC__MEMORY_TYPE': 'DDR 4',\n",
       "   'PSU__DDRC__PARTNO': '<Select>',\n",
       "   'PSU__DDRC__ROW_ADDR_COUNT': '17',\n",
       "   'PSU__DDRC__SPEED_BIN': 'DDR4_2400R',\n",
       "   'PSU__DDRC__T_FAW': '30.0',\n",
       "   'PSU__DDRC__T_RAS_MIN': '32.0',\n",
       "   'PSU__DDRC__T_RC': '45.32',\n",
       "   'PSU__DDRC__T_RCD': '16',\n",
       "   'PSU__DDRC__T_RP': '16',\n",
       "   'PSU__DDRC__TRAIN_DATA_EYE': '1',\n",
       "   'PSU__DDRC__TRAIN_READ_GATE': '1',\n",
       "   'PSU__DDRC__TRAIN_WRITE_LEVEL': '1',\n",
       "   'PSU__DDRC__VREF': '1',\n",
       "   'PSU__DDRC__VIDEO_BUFFER_SIZE': '0',\n",
       "   'PSU__DDRC__BRC_MAPPING': 'ROW_BANK_COL',\n",
       "   'PSU__DDRC__DIMM_ADDR_MIRROR': '0',\n",
       "   'PSU__DDRC__STATIC_RD_MODE': '0',\n",
       "   'PSU__DDRC__DDR4_MAXPWR_SAVING_EN': '0',\n",
       "   'PSU__DDRC__PWR_DOWN_EN': '0',\n",
       "   'PSU__DDRC__DEEP_PWR_DOWN_EN': '0',\n",
       "   'PSU__DDRC__PLL_BYPASS': '0',\n",
       "   'PSU__DDRC__DDR4_T_REF_MODE': '0',\n",
       "   'PSU__DDRC__DDR4_T_REF_RANGE': 'Normal (0-85)',\n",
       "   'PSU__DDRC__DDR3_T_REF_RANGE': 'NA',\n",
       "   'PSU__DDRC__DDR3L_T_REF_RANGE': 'NA',\n",
       "   'PSU__DDRC__LPDDR3_T_REF_RANGE': 'NA',\n",
       "   'PSU__DDRC__LPDDR4_T_REF_RANGE': 'NA',\n",
       "   'PSU__DDRC__PHY_DBI_MODE': '0',\n",
       "   'PSU__DDRC__DM_DBI': 'DM_NO_DBI',\n",
       "   'PSU__DDRC__COMPONENTS': 'Components',\n",
       "   'PSU__DDRC__PARITY_ENABLE': '0',\n",
       "   'PSU__DDRC__DDR4_CAL_MODE_ENABLE': '0',\n",
       "   'PSU__DDRC__DDR4_CRC_CONTROL': '0',\n",
       "   'PSU__DDRC__FGRM': '1X',\n",
       "   'PSU__DDRC__VENDOR_PART': 'OTHERS',\n",
       "   'PSU__DDRC__SB_TARGET': '16-16-16',\n",
       "   'PSU__DDRC__LP_ASR': 'manual normal',\n",
       "   'PSU__DDRC__DDR4_ADDR_MAPPING': '0',\n",
       "   'PSU__DDRC__SELF_REF_ABORT': '0',\n",
       "   'PSU__DDRC__DERATE_INT_D': '<Select>',\n",
       "   'PSU__DDRC__ADDR_MIRROR': '0',\n",
       "   'PSU__DDRC__EN_2ND_CLK': '0',\n",
       "   'PSU__DDRC__LPDDR3_DUALRANK_SDP': '0',\n",
       "   'PSU__DDRC__PER_BANK_REFRESH': '0',\n",
       "   'PSU__DDRC__ENABLE_DP_SWITCH': '0',\n",
       "   'PSU__DDRC__ENABLE_LP4_SLOWBOOT': '0',\n",
       "   'PSU__DDRC__ENABLE_LP4_HAS_ECC_COMP': '0',\n",
       "   'PSU__DDRC__ENABLE_2T_TIMING': '0',\n",
       "   'PSU__DDRC__RD_DQS_CENTER': '0',\n",
       "   'PSU__DDRC__DQMAP_0_3': '0',\n",
       "   'PSU__DDRC__DQMAP_4_7': '0',\n",
       "   'PSU__DDRC__DQMAP_8_11': '0',\n",
       "   'PSU__DDRC__DQMAP_12_15': '0',\n",
       "   'PSU__DDRC__DQMAP_16_19': '0',\n",
       "   'PSU__DDRC__DQMAP_20_23': '0',\n",
       "   'PSU__DDRC__DQMAP_24_27': '0',\n",
       "   'PSU__DDRC__DQMAP_28_31': '0',\n",
       "   'PSU__DDRC__DQMAP_32_35': '0',\n",
       "   'PSU__DDRC__DQMAP_36_39': '0',\n",
       "   'PSU__DDRC__DQMAP_40_43': '0',\n",
       "   'PSU__DDRC__DQMAP_44_47': '0',\n",
       "   'PSU__DDRC__DQMAP_48_51': '0',\n",
       "   'PSU__DDRC__DQMAP_52_55': '0',\n",
       "   'PSU__DDRC__DQMAP_56_59': '0',\n",
       "   'PSU__DDRC__DQMAP_60_63': '0',\n",
       "   'PSU__DDRC__DQMAP_64_67': '0',\n",
       "   'PSU__DDRC__DQMAP_68_71': '0',\n",
       "   'PSU_DDR_RAM_HIGHADDR': '0x1FFFFFFFF',\n",
       "   'PSU_DDR_RAM_HIGHADDR_OFFSET': '0x800000000',\n",
       "   'PSU_DDR_RAM_LOWADDR_OFFSET': '0x80000000',\n",
       "   'PSU__DDR_QOS_ENABLE': '0',\n",
       "   'PSU__DDR_QOS_PORT0_TYPE': '<Select>',\n",
       "   'PSU__DDR_QOS_PORT1_VN1_TYPE': '<Select>',\n",
       "   'PSU__DDR_QOS_PORT1_VN2_TYPE': '<Select>',\n",
       "   'PSU__DDR_QOS_PORT2_VN1_TYPE': '<Select>',\n",
       "   'PSU__DDR_QOS_PORT2_VN2_TYPE': '<Select>',\n",
       "   'PSU__DDR_QOS_PORT3_TYPE': '<Select>',\n",
       "   'PSU__DDR_QOS_PORT4_TYPE': '<Select>',\n",
       "   'PSU__DDR_QOS_PORT5_TYPE': '<Select>',\n",
       "   'PSU__OVERRIDE_HPX_QOS': '0',\n",
       "   'PSU__FP__POWER__ON': '1',\n",
       "   'PSU__PL__POWER__ON': '1',\n",
       "   'PSU__OCM_BANK0__POWER__ON': '1',\n",
       "   'PSU__OCM_BANK1__POWER__ON': '1',\n",
       "   'PSU__OCM_BANK2__POWER__ON': '1',\n",
       "   'PSU__OCM_BANK3__POWER__ON': '1',\n",
       "   'PSU__TCM0A__POWER__ON': '1',\n",
       "   'PSU__TCM0B__POWER__ON': '1',\n",
       "   'PSU__TCM1A__POWER__ON': '1',\n",
       "   'PSU__TCM1B__POWER__ON': '1',\n",
       "   'PSU__RPU__POWER__ON': '1',\n",
       "   'PSU__L2_BANK0__POWER__ON': '1',\n",
       "   'PSU__GPU_PP0__POWER__ON': '0',\n",
       "   'PSU__GPU_PP1__POWER__ON': '0',\n",
       "   'PSU__ACPU0__POWER__ON': '1',\n",
       "   'PSU__ACPU1__POWER__ON': '1',\n",
       "   'PSU__ACPU2__POWER__ON': '1',\n",
       "   'PSU__ACPU3__POWER__ON': '1',\n",
       "   'PSU__UART0__PERIPHERAL__ENABLE': '1',\n",
       "   'PSU__UART0__PERIPHERAL__IO': 'MIO 18 .. 19',\n",
       "   'PSU__UART0__MODEM__ENABLE': '0',\n",
       "   'PSU__UART1__PERIPHERAL__ENABLE': '0',\n",
       "   'PSU__UART1__PERIPHERAL__IO': '<Select>',\n",
       "   'PSU__UART1__MODEM__ENABLE': '0',\n",
       "   'PSU__UART0_LOOP_UART1__ENABLE': '0',\n",
       "   'PSU__USB0__PERIPHERAL__ENABLE': '1',\n",
       "   'PSU__USB0__PERIPHERAL__IO': 'MIO 52 .. 63',\n",
       "   'PSU__USB0__RESET__ENABLE': '0',\n",
       "   'PSU__USB0__RESET__IO': '<Select>',\n",
       "   'PSU__USB__RESET__MODE': 'Boot Pin',\n",
       "   'PSU__USB__RESET__POLARITY': 'Active Low',\n",
       "   'PSU__USB1__PERIPHERAL__ENABLE': '1',\n",
       "   'PSU__USB1__PERIPHERAL__IO': 'MIO 64 .. 75',\n",
       "   'PSU__USB1__RESET__ENABLE': '0',\n",
       "   'PSU__USB1__RESET__IO': '<Select>',\n",
       "   'PSU__USB3_0__PERIPHERAL__ENABLE': '1',\n",
       "   'PSU__USB3_0__PERIPHERAL__IO': 'GT Lane2',\n",
       "   'PSU__USB3_1__PERIPHERAL__ENABLE': '1',\n",
       "   'PSU__USB3_1__PERIPHERAL__IO': 'GT Lane3',\n",
       "   'PSU__USB3_0__EMIO__ENABLE': '0',\n",
       "   'PSU__USB2_0__EMIO__ENABLE': '0',\n",
       "   'PSU__USB3_1__EMIO__ENABLE': '0',\n",
       "   'PSU__USB2_1__EMIO__ENABLE': '0',\n",
       "   'PSU__USE__USB3_0_HUB': '0',\n",
       "   'PSU__USE__USB3_1_HUB': '0',\n",
       "   'PSU__USE__ADMA': '0',\n",
       "   'PSU__USE__M_AXI_GP0': '1',\n",
       "   'PSU__M_AXI_GP0_SUPPORTS_NARROW_BURST': '1',\n",
       "   'PSU__MAXIGP0__DATA_WIDTH': '128',\n",
       "   'PSU__USE__M_AXI_GP1': '1',\n",
       "   'PSU__M_AXI_GP1_SUPPORTS_NARROW_BURST': '1',\n",
       "   'PSU__MAXIGP1__DATA_WIDTH': '128',\n",
       "   'PSU__USE__M_AXI_GP2': '0',\n",
       "   'PSU__M_AXI_GP2_SUPPORTS_NARROW_BURST': '1',\n",
       "   'PSU__MAXIGP2__DATA_WIDTH': '32',\n",
       "   'PSU__USE__S_AXI_ACP': '1',\n",
       "   'PSU__USE__S_AXI_GP0': '1',\n",
       "   'PSU__USE_DIFF_RW_CLK_GP0': '0',\n",
       "   'PSU__SAXIGP0__DATA_WIDTH': '128',\n",
       "   'PSU__USE__S_AXI_GP1': '1',\n",
       "   'PSU__USE_DIFF_RW_CLK_GP1': '0',\n",
       "   'PSU__SAXIGP1__DATA_WIDTH': '128',\n",
       "   'PSU__USE__S_AXI_GP2': '1',\n",
       "   'PSU__USE_DIFF_RW_CLK_GP2': '0',\n",
       "   'PSU__SAXIGP2__DATA_WIDTH': '128',\n",
       "   'PSU__USE__S_AXI_GP3': '1',\n",
       "   'PSU__USE_DIFF_RW_CLK_GP3': '0',\n",
       "   'PSU__SAXIGP3__DATA_WIDTH': '128',\n",
       "   'PSU__USE__S_AXI_GP4': '1',\n",
       "   'PSU__USE_DIFF_RW_CLK_GP4': '0',\n",
       "   'PSU__SAXIGP4__DATA_WIDTH': '128',\n",
       "   'PSU__USE__S_AXI_GP5': '1',\n",
       "   'PSU__USE_DIFF_RW_CLK_GP5': '0',\n",
       "   'PSU__SAXIGP5__DATA_WIDTH': '128',\n",
       "   'PSU__USE__S_AXI_GP6': '0',\n",
       "   'PSU__USE_DIFF_RW_CLK_GP6': '0',\n",
       "   'PSU__SAXIGP6__DATA_WIDTH': '128',\n",
       "   'PSU__USE__S_AXI_ACE': '0',\n",
       "   'PSU__TRACE_PIPELINE_WIDTH': '8',\n",
       "   'PSU__EN_EMIO_TRACE': '0',\n",
       "   'PSU__USE__AUDIO': '0',\n",
       "   'PSU__USE__VIDEO': '0',\n",
       "   'PSU__USE__PROC_EVENT_BUS': '0',\n",
       "   'PSU__USE__FTM': '0',\n",
       "   'PSU__USE__CROSS_TRIGGER': '0',\n",
       "   'PSU__FTM__CTI_IN_0': '0',\n",
       "   'PSU__FTM__CTI_IN_1': '0',\n",
       "   'PSU__FTM__CTI_IN_2': '0',\n",
       "   'PSU__FTM__CTI_IN_3': '0',\n",
       "   'PSU__FTM__CTI_OUT_0': '0',\n",
       "   'PSU__FTM__CTI_OUT_1': '0',\n",
       "   'PSU__FTM__CTI_OUT_2': '0',\n",
       "   'PSU__FTM__CTI_OUT_3': '0',\n",
       "   'PSU__FTM__GPO': '0',\n",
       "   'PSU__FTM__GPI': '0',\n",
       "   'PSU__USE__GDMA': '0',\n",
       "   'PSU__USE__IRQ': '0',\n",
       "   'PSU__USE__IRQ0': '1',\n",
       "   'PSU__USE__IRQ1': '0',\n",
       "   'PSU__USE__CLK0': '0',\n",
       "   'PSU__USE__CLK1': '0',\n",
       "   'PSU__USE__CLK2': '0',\n",
       "   'PSU__USE__CLK3': '0',\n",
       "   'PSU__USE__RST0': '0',\n",
       "   'PSU__USE__RST1': '0',\n",
       "   'PSU__USE__RST2': '0',\n",
       "   'PSU__USE__RST3': '0',\n",
       "   'PSU__USE__FABRIC__RST': '1',\n",
       "   'PSU__USE__RTC': '0',\n",
       "   'PSU__PRESET_APPLIED': '1',\n",
       "   'PSU__USE__EVENT_RPU': '0',\n",
       "   'PSU__USE__APU_LEGACY_INTERRUPT': '0',\n",
       "   'PSU__USE__RPU_LEGACY_INTERRUPT': '0',\n",
       "   'PSU__USE__STM': '0',\n",
       "   'PSU__USE__DEBUG__TEST': '0',\n",
       "   'PSU__HIGH_ADDRESS__ENABLE': '1',\n",
       "   'PSU__DDR_HIGH_ADDRESS_GUI_ENABLE': '1',\n",
       "   'PSU__EXPAND__LOWER_LPS_SLAVES': '0',\n",
       "   'PSU__EXPAND__CORESIGHT': '0',\n",
       "   'PSU__EXPAND__GIC': '0',\n",
       "   'PSU__EXPAND__FPD_SLAVES': '0',\n",
       "   'PSU__EXPAND__UPPER_LPS_SLAVES': '0',\n",
       "   'PSU_MIO_0_PULLUPDOWN': 'pullup',\n",
       "   'PSU_MIO_0_DRIVE_STRENGTH': '12',\n",
       "   'PSU_MIO_0_POLARITY': 'Default',\n",
       "   'PSU_MIO_0_INPUT_TYPE': 'cmos',\n",
       "   'PSU_MIO_0_SLEW': 'fast',\n",
       "   'PSU_MIO_0_DIRECTION': 'inout',\n",
       "   'PSU_MIO_1_PULLUPDOWN': 'pullup',\n",
       "   'PSU_MIO_1_DRIVE_STRENGTH': '12',\n",
       "   'PSU_MIO_1_POLARITY': 'Default',\n",
       "   'PSU_MIO_1_INPUT_TYPE': 'cmos',\n",
       "   'PSU_MIO_1_SLEW': 'fast',\n",
       "   'PSU_MIO_1_DIRECTION': 'inout',\n",
       "   'PSU_MIO_2_PULLUPDOWN': 'pullup',\n",
       "   'PSU_MIO_2_DRIVE_STRENGTH': '12',\n",
       "   'PSU_MIO_2_POLARITY': 'Default',\n",
       "   'PSU_MIO_2_INPUT_TYPE': 'cmos',\n",
       "   'PSU_MIO_2_SLEW': 'fast',\n",
       "   'PSU_MIO_2_DIRECTION': 'inout',\n",
       "   'PSU_MIO_3_PULLUPDOWN': 'pullup',\n",
       "   'PSU_MIO_3_DRIVE_STRENGTH': '12',\n",
       "   'PSU_MIO_3_POLARITY': 'Default',\n",
       "   'PSU_MIO_3_INPUT_TYPE': 'cmos',\n",
       "   'PSU_MIO_3_SLEW': 'fast',\n",
       "   'PSU_MIO_3_DIRECTION': 'inout',\n",
       "   'PSU_MIO_4_PULLUPDOWN': 'pullup',\n",
       "   'PSU_MIO_4_DRIVE_STRENGTH': '12',\n",
       "   'PSU_MIO_4_POLARITY': 'Default',\n",
       "   'PSU_MIO_4_INPUT_TYPE': 'cmos',\n",
       "   'PSU_MIO_4_SLEW': 'fast',\n",
       "   'PSU_MIO_4_DIRECTION': 'inout',\n",
       "   'PSU_MIO_5_PULLUPDOWN': 'pullup',\n",
       "   'PSU_MIO_5_DRIVE_STRENGTH': '12',\n",
       "   'PSU_MIO_5_POLARITY': 'Default',\n",
       "   'PSU_MIO_5_INPUT_TYPE': 'cmos',\n",
       "   'PSU_MIO_5_SLEW': 'fast',\n",
       "   'PSU_MIO_5_DIRECTION': 'inout',\n",
       "   'PSU_MIO_6_PULLUPDOWN': 'pullup',\n",
       "   'PSU_MIO_6_DRIVE_STRENGTH': '12',\n",
       "   'PSU_MIO_6_POLARITY': 'Default',\n",
       "   'PSU_MIO_6_INPUT_TYPE': 'cmos',\n",
       "   'PSU_MIO_6_SLEW': 'fast',\n",
       "   'PSU_MIO_6_DIRECTION': 'inout',\n",
       "   'PSU_MIO_7_PULLUPDOWN': 'pullup',\n",
       "   'PSU_MIO_7_DRIVE_STRENGTH': '12',\n",
       "   'PSU_MIO_7_POLARITY': 'Default',\n",
       "   'PSU_MIO_7_INPUT_TYPE': 'cmos',\n",
       "   'PSU_MIO_7_SLEW': 'fast',\n",
       "   'PSU_MIO_7_DIRECTION': 'inout',\n",
       "   'PSU_MIO_8_PULLUPDOWN': 'pullup',\n",
       "   'PSU_MIO_8_DRIVE_STRENGTH': '12',\n",
       "   'PSU_MIO_8_POLARITY': 'Default',\n",
       "   'PSU_MIO_8_INPUT_TYPE': 'cmos',\n",
       "   'PSU_MIO_8_SLEW': 'fast',\n",
       "   'PSU_MIO_8_DIRECTION': 'inout',\n",
       "   'PSU_MIO_9_PULLUPDOWN': 'pullup',\n",
       "   'PSU_MIO_9_DRIVE_STRENGTH': '12',\n",
       "   'PSU_MIO_9_POLARITY': 'Default',\n",
       "   'PSU_MIO_9_INPUT_TYPE': 'cmos',\n",
       "   'PSU_MIO_9_SLEW': 'fast',\n",
       "   'PSU_MIO_9_DIRECTION': 'inout',\n",
       "   'PSU_MIO_10_PULLUPDOWN': 'pullup',\n",
       "   'PSU_MIO_10_DRIVE_STRENGTH': '12',\n",
       "   'PSU_MIO_10_POLARITY': 'Default',\n",
       "   'PSU_MIO_10_INPUT_TYPE': 'cmos',\n",
       "   'PSU_MIO_10_SLEW': 'fast',\n",
       "   'PSU_MIO_10_DIRECTION': 'inout',\n",
       "   'PSU_MIO_11_PULLUPDOWN': 'pullup',\n",
       "   'PSU_MIO_11_DRIVE_STRENGTH': '12',\n",
       "   'PSU_MIO_11_POLARITY': 'Default',\n",
       "   'PSU_MIO_11_INPUT_TYPE': 'cmos',\n",
       "   'PSU_MIO_11_SLEW': 'fast',\n",
       "   'PSU_MIO_11_DIRECTION': 'inout',\n",
       "   'PSU_MIO_12_PULLUPDOWN': 'pullup',\n",
       "   'PSU_MIO_12_DRIVE_STRENGTH': '12',\n",
       "   'PSU_MIO_12_POLARITY': 'Default',\n",
       "   'PSU_MIO_12_INPUT_TYPE': 'cmos',\n",
       "   'PSU_MIO_12_SLEW': 'fast',\n",
       "   'PSU_MIO_12_DIRECTION': 'inout',\n",
       "   'PSU_MIO_13_PULLUPDOWN': 'pullup',\n",
       "   'PSU_MIO_13_DRIVE_STRENGTH': '12',\n",
       "   'PSU_MIO_13_POLARITY': 'Default',\n",
       "   'PSU_MIO_13_INPUT_TYPE': 'cmos',\n",
       "   'PSU_MIO_13_SLEW': 'fast',\n",
       "   'PSU_MIO_13_DIRECTION': 'inout',\n",
       "   'PSU_MIO_14_PULLUPDOWN': 'pullup',\n",
       "   'PSU_MIO_14_DRIVE_STRENGTH': '12',\n",
       "   'PSU_MIO_14_POLARITY': 'Default',\n",
       "   'PSU_MIO_14_INPUT_TYPE': 'cmos',\n",
       "   'PSU_MIO_14_SLEW': 'fast',\n",
       "   'PSU_MIO_14_DIRECTION': 'inout',\n",
       "   'PSU_MIO_15_PULLUPDOWN': 'pullup',\n",
       "   'PSU_MIO_15_DRIVE_STRENGTH': '12',\n",
       "   'PSU_MIO_15_POLARITY': 'Default',\n",
       "   'PSU_MIO_15_INPUT_TYPE': 'cmos',\n",
       "   'PSU_MIO_15_SLEW': 'fast',\n",
       "   'PSU_MIO_15_DIRECTION': 'inout',\n",
       "   'PSU_MIO_16_PULLUPDOWN': 'pullup',\n",
       "   'PSU_MIO_16_DRIVE_STRENGTH': '12',\n",
       "   'PSU_MIO_16_POLARITY': 'Default',\n",
       "   'PSU_MIO_16_INPUT_TYPE': 'cmos',\n",
       "   'PSU_MIO_16_SLEW': 'fast',\n",
       "   'PSU_MIO_16_DIRECTION': 'inout',\n",
       "   'PSU_MIO_17_PULLUPDOWN': 'pullup',\n",
       "   'PSU_MIO_17_DRIVE_STRENGTH': '12',\n",
       "   'PSU_MIO_17_POLARITY': 'Default',\n",
       "   'PSU_MIO_17_INPUT_TYPE': 'cmos',\n",
       "   'PSU_MIO_17_SLEW': 'fast',\n",
       "   'PSU_MIO_17_DIRECTION': 'inout',\n",
       "   'PSU_MIO_18_PULLUPDOWN': 'pullup',\n",
       "   'PSU_MIO_18_DRIVE_STRENGTH': '12',\n",
       "   'PSU_MIO_18_POLARITY': 'Default',\n",
       "   'PSU_MIO_18_INPUT_TYPE': 'cmos',\n",
       "   'PSU_MIO_18_SLEW': 'fast',\n",
       "   'PSU_MIO_18_DIRECTION': 'in',\n",
       "   'PSU_MIO_19_PULLUPDOWN': 'pullup',\n",
       "   'PSU_MIO_19_DRIVE_STRENGTH': '12',\n",
       "   'PSU_MIO_19_POLARITY': 'Default',\n",
       "   'PSU_MIO_19_INPUT_TYPE': 'cmos',\n",
       "   'PSU_MIO_19_SLEW': 'fast',\n",
       "   'PSU_MIO_19_DIRECTION': 'out',\n",
       "   'PSU_MIO_20_PULLUPDOWN': 'pullup',\n",
       "   'PSU_MIO_20_DRIVE_STRENGTH': '12',\n",
       "   'PSU_MIO_20_POLARITY': 'Default',\n",
       "   'PSU_MIO_20_INPUT_TYPE': 'cmos',\n",
       "   'PSU_MIO_20_SLEW': 'fast',\n",
       "   'PSU_MIO_20_DIRECTION': 'inout',\n",
       "   'PSU_MIO_21_PULLUPDOWN': 'pullup',\n",
       "   'PSU_MIO_21_DRIVE_STRENGTH': '12',\n",
       "   'PSU_MIO_21_POLARITY': 'Default',\n",
       "   'PSU_MIO_21_INPUT_TYPE': 'cmos',\n",
       "   'PSU_MIO_21_SLEW': 'fast',\n",
       "   'PSU_MIO_21_DIRECTION': 'inout',\n",
       "   'PSU_MIO_22_PULLUPDOWN': 'pullup',\n",
       "   'PSU_MIO_22_DRIVE_STRENGTH': '12',\n",
       "   'PSU_MIO_22_POLARITY': 'Default',\n",
       "   'PSU_MIO_22_INPUT_TYPE': 'cmos',\n",
       "   'PSU_MIO_22_SLEW': 'fast',\n",
       "   'PSU_MIO_22_DIRECTION': 'inout',\n",
       "   'PSU_MIO_23_PULLUPDOWN': 'pullup',\n",
       "   'PSU_MIO_23_DRIVE_STRENGTH': '12',\n",
       "   'PSU_MIO_23_POLARITY': 'Default',\n",
       "   'PSU_MIO_23_INPUT_TYPE': 'cmos',\n",
       "   'PSU_MIO_23_SLEW': 'fast',\n",
       "   'PSU_MIO_23_DIRECTION': 'inout',\n",
       "   'PSU_MIO_24_PULLUPDOWN': 'pullup',\n",
       "   'PSU_MIO_24_DRIVE_STRENGTH': '12',\n",
       "   'PSU_MIO_24_POLARITY': 'Default',\n",
       "   'PSU_MIO_24_INPUT_TYPE': 'cmos',\n",
       "   'PSU_MIO_24_SLEW': 'fast',\n",
       "   'PSU_MIO_24_DIRECTION': 'inout',\n",
       "   'PSU_MIO_25_PULLUPDOWN': 'pullup',\n",
       "   'PSU_MIO_25_DRIVE_STRENGTH': '12',\n",
       "   'PSU_MIO_25_POLARITY': 'Default',\n",
       "   'PSU_MIO_25_INPUT_TYPE': 'cmos',\n",
       "   'PSU_MIO_25_SLEW': 'fast',\n",
       "   'PSU_MIO_25_DIRECTION': 'inout',\n",
       "   'PSU_MIO_26_PULLUPDOWN': 'pullup',\n",
       "   'PSU_MIO_26_DRIVE_STRENGTH': '12',\n",
       "   'PSU_MIO_26_POLARITY': 'Default',\n",
       "   'PSU_MIO_26_INPUT_TYPE': 'cmos',\n",
       "   'PSU_MIO_26_SLEW': 'fast',\n",
       "   'PSU_MIO_26_DIRECTION': 'out',\n",
       "   'PSU_MIO_27_PULLUPDOWN': 'pullup',\n",
       "   'PSU_MIO_27_DRIVE_STRENGTH': '12',\n",
       "   'PSU_MIO_27_POLARITY': 'Default',\n",
       "   'PSU_MIO_27_INPUT_TYPE': 'cmos',\n",
       "   'PSU_MIO_27_SLEW': 'fast',\n",
       "   'PSU_MIO_27_DIRECTION': 'out',\n",
       "   'PSU_MIO_28_PULLUPDOWN': 'pullup',\n",
       "   'PSU_MIO_28_DRIVE_STRENGTH': '12',\n",
       "   'PSU_MIO_28_POLARITY': 'Default',\n",
       "   'PSU_MIO_28_INPUT_TYPE': 'cmos',\n",
       "   'PSU_MIO_28_SLEW': 'fast',\n",
       "   'PSU_MIO_28_DIRECTION': 'out',\n",
       "   'PSU_MIO_29_PULLUPDOWN': 'pullup',\n",
       "   'PSU_MIO_29_DRIVE_STRENGTH': '12',\n",
       "   'PSU_MIO_29_POLARITY': 'Default',\n",
       "   'PSU_MIO_29_INPUT_TYPE': 'cmos',\n",
       "   'PSU_MIO_29_SLEW': 'fast',\n",
       "   'PSU_MIO_29_DIRECTION': 'out',\n",
       "   'PSU_MIO_30_PULLUPDOWN': 'pullup',\n",
       "   'PSU_MIO_30_DRIVE_STRENGTH': '12',\n",
       "   'PSU_MIO_30_POLARITY': 'Default',\n",
       "   'PSU_MIO_30_INPUT_TYPE': 'cmos',\n",
       "   'PSU_MIO_30_SLEW': 'fast',\n",
       "   'PSU_MIO_30_DIRECTION': 'out',\n",
       "   'PSU_MIO_31_PULLUPDOWN': 'pullup',\n",
       "   'PSU_MIO_31_DRIVE_STRENGTH': '12',\n",
       "   'PSU_MIO_31_POLARITY': 'Default',\n",
       "   'PSU_MIO_31_INPUT_TYPE': 'cmos',\n",
       "   'PSU_MIO_31_SLEW': 'fast',\n",
       "   'PSU_MIO_31_DIRECTION': 'out',\n",
       "   'PSU_MIO_32_PULLUPDOWN': 'pullup',\n",
       "   'PSU_MIO_32_DRIVE_STRENGTH': '12',\n",
       "   'PSU_MIO_32_POLARITY': 'Default',\n",
       "   'PSU_MIO_32_INPUT_TYPE': 'cmos',\n",
       "   'PSU_MIO_32_SLEW': 'fast',\n",
       "   'PSU_MIO_32_DIRECTION': 'in',\n",
       "   'PSU_MIO_33_PULLUPDOWN': 'pullup',\n",
       "   'PSU_MIO_33_DRIVE_STRENGTH': '12',\n",
       "   'PSU_MIO_33_POLARITY': 'Default',\n",
       "   'PSU_MIO_33_INPUT_TYPE': 'cmos',\n",
       "   'PSU_MIO_33_SLEW': 'fast',\n",
       "   'PSU_MIO_33_DIRECTION': 'in',\n",
       "   'PSU_MIO_34_PULLUPDOWN': 'pullup',\n",
       "   'PSU_MIO_34_DRIVE_STRENGTH': '12',\n",
       "   'PSU_MIO_34_POLARITY': 'Default',\n",
       "   'PSU_MIO_34_INPUT_TYPE': 'cmos',\n",
       "   'PSU_MIO_34_SLEW': 'fast',\n",
       "   'PSU_MIO_34_DIRECTION': 'in',\n",
       "   'PSU_MIO_35_PULLUPDOWN': 'pullup',\n",
       "   'PSU_MIO_35_DRIVE_STRENGTH': '12',\n",
       "   'PSU_MIO_35_POLARITY': 'Default',\n",
       "   'PSU_MIO_35_INPUT_TYPE': 'cmos',\n",
       "   'PSU_MIO_35_SLEW': 'fast',\n",
       "   'PSU_MIO_35_DIRECTION': 'in',\n",
       "   'PSU_MIO_36_PULLUPDOWN': 'pullup',\n",
       "   'PSU_MIO_36_DRIVE_STRENGTH': '12',\n",
       "   'PSU_MIO_36_POLARITY': 'Default',\n",
       "   'PSU_MIO_36_INPUT_TYPE': 'cmos',\n",
       "   'PSU_MIO_36_SLEW': 'fast',\n",
       "   'PSU_MIO_36_DIRECTION': 'in',\n",
       "   'PSU_MIO_37_PULLUPDOWN': 'pullup',\n",
       "   'PSU_MIO_37_DRIVE_STRENGTH': '12',\n",
       "   'PSU_MIO_37_POLARITY': 'Default',\n",
       "   'PSU_MIO_37_INPUT_TYPE': 'cmos',\n",
       "   'PSU_MIO_37_SLEW': 'fast',\n",
       "   'PSU_MIO_37_DIRECTION': 'in',\n",
       "   'PSU_MIO_38_PULLUPDOWN': 'pullup',\n",
       "   'PSU_MIO_38_DRIVE_STRENGTH': '12',\n",
       "   'PSU_MIO_38_POLARITY': 'Default',\n",
       "   'PSU_MIO_38_INPUT_TYPE': 'cmos',\n",
       "   'PSU_MIO_38_SLEW': 'fast',\n",
       "   'PSU_MIO_38_DIRECTION': 'inout',\n",
       "   'PSU_MIO_39_PULLUPDOWN': 'pullup',\n",
       "   'PSU_MIO_39_DRIVE_STRENGTH': '12',\n",
       "   'PSU_MIO_39_POLARITY': 'Default',\n",
       "   'PSU_MIO_39_INPUT_TYPE': 'cmos',\n",
       "   'PSU_MIO_39_SLEW': 'fast',\n",
       "   'PSU_MIO_39_DIRECTION': 'inout',\n",
       "   'PSU_MIO_40_PULLUPDOWN': 'pullup',\n",
       "   'PSU_MIO_40_DRIVE_STRENGTH': '12',\n",
       "   'PSU_MIO_40_POLARITY': 'Default',\n",
       "   'PSU_MIO_40_INPUT_TYPE': 'cmos',\n",
       "   'PSU_MIO_40_SLEW': 'fast',\n",
       "   'PSU_MIO_40_DIRECTION': 'inout',\n",
       "   'PSU_MIO_41_PULLUPDOWN': 'pullup',\n",
       "   'PSU_MIO_41_DRIVE_STRENGTH': '12',\n",
       "   'PSU_MIO_41_POLARITY': 'Default',\n",
       "   'PSU_MIO_41_INPUT_TYPE': 'cmos',\n",
       "   'PSU_MIO_41_SLEW': 'fast',\n",
       "   'PSU_MIO_41_DIRECTION': 'inout',\n",
       "   'PSU_MIO_42_PULLUPDOWN': 'pullup',\n",
       "   'PSU_MIO_42_DRIVE_STRENGTH': '12',\n",
       "   'PSU_MIO_42_POLARITY': 'Default',\n",
       "   'PSU_MIO_42_INPUT_TYPE': 'cmos',\n",
       "   'PSU_MIO_42_SLEW': 'fast',\n",
       "   'PSU_MIO_42_DIRECTION': 'inout',\n",
       "   'PSU_MIO_43_PULLUPDOWN': 'pullup',\n",
       "   'PSU_MIO_43_DRIVE_STRENGTH': '12',\n",
       "   'PSU_MIO_43_POLARITY': 'Default',\n",
       "   'PSU_MIO_43_INPUT_TYPE': 'cmos',\n",
       "   'PSU_MIO_43_SLEW': 'fast',\n",
       "   'PSU_MIO_43_DIRECTION': 'inout',\n",
       "   'PSU_MIO_44_PULLUPDOWN': 'pullup',\n",
       "   'PSU_MIO_44_DRIVE_STRENGTH': '12',\n",
       "   'PSU_MIO_44_POLARITY': 'Default',\n",
       "   'PSU_MIO_44_INPUT_TYPE': 'cmos',\n",
       "   'PSU_MIO_44_SLEW': 'fast',\n",
       "   'PSU_MIO_44_DIRECTION': 'in',\n",
       "   'PSU_MIO_45_PULLUPDOWN': 'pullup',\n",
       "   'PSU_MIO_45_DRIVE_STRENGTH': '12',\n",
       "   'PSU_MIO_45_POLARITY': 'Default',\n",
       "   'PSU_MIO_45_INPUT_TYPE': 'cmos',\n",
       "   'PSU_MIO_45_SLEW': 'fast',\n",
       "   'PSU_MIO_45_DIRECTION': 'in',\n",
       "   'PSU_MIO_46_PULLUPDOWN': 'pullup',\n",
       "   'PSU_MIO_46_DRIVE_STRENGTH': '12',\n",
       "   'PSU_MIO_46_POLARITY': 'Default',\n",
       "   'PSU_MIO_46_INPUT_TYPE': 'cmos',\n",
       "   'PSU_MIO_46_SLEW': 'fast',\n",
       "   'PSU_MIO_46_DIRECTION': 'inout',\n",
       "   'PSU_MIO_47_PULLUPDOWN': 'pullup',\n",
       "   'PSU_MIO_47_DRIVE_STRENGTH': '12',\n",
       "   'PSU_MIO_47_POLARITY': 'Default',\n",
       "   'PSU_MIO_47_INPUT_TYPE': 'cmos',\n",
       "   'PSU_MIO_47_SLEW': 'fast',\n",
       "   'PSU_MIO_47_DIRECTION': 'inout',\n",
       "   'PSU_MIO_48_PULLUPDOWN': 'pullup',\n",
       "   'PSU_MIO_48_DRIVE_STRENGTH': '12',\n",
       "   'PSU_MIO_48_POLARITY': 'Default',\n",
       "   'PSU_MIO_48_INPUT_TYPE': 'cmos',\n",
       "   'PSU_MIO_48_SLEW': 'fast',\n",
       "   'PSU_MIO_48_DIRECTION': 'inout',\n",
       "   'PSU_MIO_49_PULLUPDOWN': 'pullup',\n",
       "   'PSU_MIO_49_DRIVE_STRENGTH': '12',\n",
       "   'PSU_MIO_49_POLARITY': 'Default',\n",
       "   'PSU_MIO_49_INPUT_TYPE': 'cmos',\n",
       "   'PSU_MIO_49_SLEW': 'fast',\n",
       "   'PSU_MIO_49_DIRECTION': 'inout',\n",
       "   'PSU_MIO_50_PULLUPDOWN': 'pullup',\n",
       "   'PSU_MIO_50_DRIVE_STRENGTH': '12',\n",
       "   'PSU_MIO_50_POLARITY': 'Default',\n",
       "   'PSU_MIO_50_INPUT_TYPE': 'cmos',\n",
       "   'PSU_MIO_50_SLEW': 'fast',\n",
       "   'PSU_MIO_50_DIRECTION': 'inout',\n",
       "   'PSU_MIO_51_PULLUPDOWN': 'pullup',\n",
       "   'PSU_MIO_51_DRIVE_STRENGTH': '12',\n",
       "   'PSU_MIO_51_POLARITY': 'Default',\n",
       "   'PSU_MIO_51_INPUT_TYPE': 'cmos',\n",
       "   'PSU_MIO_51_SLEW': 'fast',\n",
       "   'PSU_MIO_51_DIRECTION': 'out',\n",
       "   'PSU_MIO_52_PULLUPDOWN': 'pullup',\n",
       "   'PSU_MIO_52_DRIVE_STRENGTH': '12',\n",
       "   'PSU_MIO_52_POLARITY': 'Default',\n",
       "   'PSU_MIO_52_INPUT_TYPE': 'cmos',\n",
       "   'PSU_MIO_52_SLEW': 'fast',\n",
       "   'PSU_MIO_52_DIRECTION': 'in',\n",
       "   'PSU_MIO_53_PULLUPDOWN': 'pullup',\n",
       "   'PSU_MIO_53_DRIVE_STRENGTH': '12',\n",
       "   'PSU_MIO_53_POLARITY': 'Default',\n",
       "   'PSU_MIO_53_INPUT_TYPE': 'cmos',\n",
       "   'PSU_MIO_53_SLEW': 'fast',\n",
       "   'PSU_MIO_53_DIRECTION': 'in',\n",
       "   'PSU_MIO_54_PULLUPDOWN': 'pullup',\n",
       "   'PSU_MIO_54_DRIVE_STRENGTH': '12',\n",
       "   'PSU_MIO_54_POLARITY': 'Default',\n",
       "   'PSU_MIO_54_INPUT_TYPE': 'cmos',\n",
       "   'PSU_MIO_54_SLEW': 'fast',\n",
       "   'PSU_MIO_54_DIRECTION': 'inout',\n",
       "   'PSU_MIO_55_PULLUPDOWN': 'pullup',\n",
       "   'PSU_MIO_55_DRIVE_STRENGTH': '12',\n",
       "   'PSU_MIO_55_POLARITY': 'Default',\n",
       "   'PSU_MIO_55_INPUT_TYPE': 'cmos',\n",
       "   'PSU_MIO_55_SLEW': 'fast',\n",
       "   'PSU_MIO_55_DIRECTION': 'in',\n",
       "   'PSU_MIO_56_PULLUPDOWN': 'pullup',\n",
       "   'PSU_MIO_56_DRIVE_STRENGTH': '12',\n",
       "   'PSU_MIO_56_POLARITY': 'Default',\n",
       "   'PSU_MIO_56_INPUT_TYPE': 'cmos',\n",
       "   'PSU_MIO_56_SLEW': 'fast',\n",
       "   'PSU_MIO_56_DIRECTION': 'inout',\n",
       "   'PSU_MIO_57_PULLUPDOWN': 'pullup',\n",
       "   'PSU_MIO_57_DRIVE_STRENGTH': '12',\n",
       "   'PSU_MIO_57_POLARITY': 'Default',\n",
       "   'PSU_MIO_57_INPUT_TYPE': 'cmos',\n",
       "   'PSU_MIO_57_SLEW': 'fast',\n",
       "   'PSU_MIO_57_DIRECTION': 'inout',\n",
       "   'PSU_MIO_58_PULLUPDOWN': 'pullup',\n",
       "   'PSU_MIO_58_DRIVE_STRENGTH': '12',\n",
       "   'PSU_MIO_58_POLARITY': 'Default',\n",
       "   'PSU_MIO_58_INPUT_TYPE': 'cmos',\n",
       "   'PSU_MIO_58_SLEW': 'fast',\n",
       "   'PSU_MIO_58_DIRECTION': 'out',\n",
       "   'PSU_MIO_59_PULLUPDOWN': 'pullup',\n",
       "   'PSU_MIO_59_DRIVE_STRENGTH': '12',\n",
       "   'PSU_MIO_59_POLARITY': 'Default',\n",
       "   'PSU_MIO_59_INPUT_TYPE': 'cmos',\n",
       "   'PSU_MIO_59_SLEW': 'fast',\n",
       "   'PSU_MIO_59_DIRECTION': 'inout',\n",
       "   'PSU_MIO_60_PULLUPDOWN': 'pullup',\n",
       "   'PSU_MIO_60_DRIVE_STRENGTH': '12',\n",
       "   'PSU_MIO_60_POLARITY': 'Default',\n",
       "   'PSU_MIO_60_INPUT_TYPE': 'cmos',\n",
       "   'PSU_MIO_60_SLEW': 'fast',\n",
       "   'PSU_MIO_60_DIRECTION': 'inout',\n",
       "   'PSU_MIO_61_PULLUPDOWN': 'pullup',\n",
       "   'PSU_MIO_61_DRIVE_STRENGTH': '12',\n",
       "   'PSU_MIO_61_POLARITY': 'Default',\n",
       "   'PSU_MIO_61_INPUT_TYPE': 'cmos',\n",
       "   'PSU_MIO_61_SLEW': 'fast',\n",
       "   'PSU_MIO_61_DIRECTION': 'inout',\n",
       "   'PSU_MIO_62_PULLUPDOWN': 'pullup',\n",
       "   'PSU_MIO_62_DRIVE_STRENGTH': '12',\n",
       "   'PSU_MIO_62_POLARITY': 'Default',\n",
       "   ...},\n",
       "  'type': 'xilinx.com:ip:zynq_ultra_ps_e:3.4',\n",
       "  'device': <pynq.pl_server.embedded_device.EmbeddedDevice at 0xffff932b2880>,\n",
       "  'driver': pynq.overlay.DefaultIP}}"
      ]
     },
     "execution_count": 849,
     "metadata": {
      "application/json": {
       "expanded": false,
       "root": "ip_dict"
      }
     },
     "output_type": "execute_result"
    }
   ],
   "source": [
    "ol.ip_dict"
   ]
  },
  {
   "cell_type": "markdown",
   "id": "5521311b-f431-487d-bf99-ff46e93b339c",
   "metadata": {},
   "source": [
    "## Create an alias for the IP"
   ]
  },
  {
   "cell_type": "code",
   "execution_count": 850,
   "id": "724a71ba-1a7f-4bc3-988b-92a6c1404bb1",
   "metadata": {},
   "outputs": [],
   "source": [
    "my_ip = ol.mmult_top_0\n",
    "#my_monitor = ol.my_monitor_0"
   ]
  },
  {
   "cell_type": "markdown",
   "id": "fed7a035-46eb-425c-a16e-b3af2e21b408",
   "metadata": {},
   "source": [
    "## Check the register map for the HLS IP\n",
    "\n",
    "You should see the registers that we need to write values to:\n",
    "\n",
    "* CTRL - the control register\n",
    "* A_offset_1 - the lower 32-bits of the start address for the A matrix\n",
    "* B_offset_1 - the lower 32-bits of the start address for the B matrix\n",
    "* C_offset_1 - the lower 32-bits of the start address for the C matrix"
   ]
  },
  {
   "cell_type": "code",
   "execution_count": 851,
   "id": "e6084fa0-b359-480d-94f1-535bafc7e973",
   "metadata": {},
   "outputs": [
    {
     "data": {
      "text/plain": [
       "RegisterMap {\n",
       "  CTRL = Register(AP_START=0, AP_DONE=0, AP_IDLE=1, AP_READY=0, RESERVED_1=0, AUTO_RESTART=0, RESERVED_2=0, INTERRUPT=0, RESERVED_3=0),\n",
       "  GIER = Register(Enable=0, RESERVED=0),\n",
       "  IP_IER = Register(CHAN0_INT_EN=0, CHAN1_INT_EN=0, RESERVED_0=0),\n",
       "  IP_ISR = Register(CHAN0_INT_ST=0, CHAN1_INT_ST=0, RESERVED_0=0),\n",
       "  gemm_mode = Register(gemm_mode=write-only, RESERVED=write-only),\n",
       "  quantized_multiplier_offset_1 = Register(quantized_multiplier_offset=write-only),\n",
       "  quantized_multiplier_offset_2 = Register(quantized_multiplier_offset=write-only),\n",
       "  shift_offset_1 = Register(shift_offset=write-only),\n",
       "  shift_offset_2 = Register(shift_offset=write-only),\n",
       "  bias_offset_1 = Register(bias_offset=write-only),\n",
       "  bias_offset_2 = Register(bias_offset=write-only),\n",
       "  bias_count = Register(bias_count=write-only),\n",
       "  profiling_offset_1 = Register(profiling_offset=write-only),\n",
       "  profiling_offset_2 = Register(profiling_offset=write-only),\n",
       "  zero_point_lhs = Register(zero_point_lhs=write-only, RESERVED=write-only),\n",
       "  zero_point_rhs = Register(zero_point_rhs=write-only, RESERVED=write-only),\n",
       "  zero_point_dst = Register(zero_point_dst=write-only, RESERVED=write-only),\n",
       "  clamp_max = Register(clamp_max=write-only, RESERVED=write-only),\n",
       "  clamp_min = Register(clamp_min=write-only, RESERVED=write-only),\n",
       "  N_adj = Register(N_adj=write-only),\n",
       "  M_adj = Register(M_adj=write-only),\n",
       "  M_fea = Register(M_fea=write-only),\n",
       "  P_w = Register(P_w=write-only),\n",
       "  B_offset_1 = Register(B_offset=write-only),\n",
       "  B_offset_2 = Register(B_offset=write-only),\n",
       "  D1_offset_1 = Register(D1_offset=write-only),\n",
       "  D1_offset_2 = Register(D1_offset=write-only),\n",
       "  D2_offset_1 = Register(D2_offset=write-only),\n",
       "  D2_offset_2 = Register(D2_offset=write-only),\n",
       "  D3_offset_1 = Register(D3_offset=write-only),\n",
       "  D3_offset_2 = Register(D3_offset=write-only),\n",
       "  D4_offset_1 = Register(D4_offset=write-only),\n",
       "  D4_offset_2 = Register(D4_offset=write-only),\n",
       "  array_c_adjust = Register(array_c_adjust=write-only),\n",
       "  rowPtr_fea1_offset_1 = Register(rowPtr_fea1_offset=write-only),\n",
       "  rowPtr_fea1_offset_2 = Register(rowPtr_fea1_offset=write-only),\n",
       "  rowPtr_fea2_offset_1 = Register(rowPtr_fea2_offset=write-only),\n",
       "  rowPtr_fea2_offset_2 = Register(rowPtr_fea2_offset=write-only),\n",
       "  rowPtr_fea3_offset_1 = Register(rowPtr_fea3_offset=write-only),\n",
       "  rowPtr_fea3_offset_2 = Register(rowPtr_fea3_offset=write-only),\n",
       "  rowPtr_fea4_offset_1 = Register(rowPtr_fea4_offset=write-only),\n",
       "  rowPtr_fea4_offset_2 = Register(rowPtr_fea4_offset=write-only),\n",
       "  columnIndex_fea1_offset_1 = Register(columnIndex_fea1_offset=write-only),\n",
       "  columnIndex_fea1_offset_2 = Register(columnIndex_fea1_offset=write-only),\n",
       "  columnIndex_fea2_offset_1 = Register(columnIndex_fea2_offset=write-only),\n",
       "  columnIndex_fea2_offset_2 = Register(columnIndex_fea2_offset=write-only),\n",
       "  columnIndex_fea3_offset_1 = Register(columnIndex_fea3_offset=write-only),\n",
       "  columnIndex_fea3_offset_2 = Register(columnIndex_fea3_offset=write-only),\n",
       "  columnIndex_fea4_offset_1 = Register(columnIndex_fea4_offset=write-only),\n",
       "  columnIndex_fea4_offset_2 = Register(columnIndex_fea4_offset=write-only),\n",
       "  values_fea1_offset_1 = Register(values_fea1_offset=write-only),\n",
       "  values_fea1_offset_2 = Register(values_fea1_offset=write-only),\n",
       "  values_fea2_offset_1 = Register(values_fea2_offset=write-only),\n",
       "  values_fea2_offset_2 = Register(values_fea2_offset=write-only),\n",
       "  values_fea3_offset_1 = Register(values_fea3_offset=write-only),\n",
       "  values_fea3_offset_2 = Register(values_fea3_offset=write-only),\n",
       "  values_fea4_offset_1 = Register(values_fea4_offset=write-only),\n",
       "  values_fea4_offset_2 = Register(values_fea4_offset=write-only),\n",
       "  rowPtr_adj1_offset_1 = Register(rowPtr_adj1_offset=write-only),\n",
       "  rowPtr_adj1_offset_2 = Register(rowPtr_adj1_offset=write-only),\n",
       "  rowPtr_adj2_offset_1 = Register(rowPtr_adj2_offset=write-only),\n",
       "  rowPtr_adj2_offset_2 = Register(rowPtr_adj2_offset=write-only),\n",
       "  rowPtr_adj3_offset_1 = Register(rowPtr_adj3_offset=write-only),\n",
       "  rowPtr_adj3_offset_2 = Register(rowPtr_adj3_offset=write-only),\n",
       "  rowPtr_adj4_offset_1 = Register(rowPtr_adj4_offset=write-only),\n",
       "  rowPtr_adj4_offset_2 = Register(rowPtr_adj4_offset=write-only),\n",
       "  columnIndex_adj1_offset_1 = Register(columnIndex_adj1_offset=write-only),\n",
       "  columnIndex_adj1_offset_2 = Register(columnIndex_adj1_offset=write-only),\n",
       "  columnIndex_adj2_offset_1 = Register(columnIndex_adj2_offset=write-only),\n",
       "  columnIndex_adj2_offset_2 = Register(columnIndex_adj2_offset=write-only),\n",
       "  columnIndex_adj3_offset_1 = Register(columnIndex_adj3_offset=write-only),\n",
       "  columnIndex_adj3_offset_2 = Register(columnIndex_adj3_offset=write-only),\n",
       "  columnIndex_adj4_offset_1 = Register(columnIndex_adj4_offset=write-only),\n",
       "  columnIndex_adj4_offset_2 = Register(columnIndex_adj4_offset=write-only),\n",
       "  values_adj1_offset_1 = Register(values_adj1_offset=write-only),\n",
       "  values_adj1_offset_2 = Register(values_adj1_offset=write-only),\n",
       "  values_adj2_offset_1 = Register(values_adj2_offset=write-only),\n",
       "  values_adj2_offset_2 = Register(values_adj2_offset=write-only),\n",
       "  values_adj3_offset_1 = Register(values_adj3_offset=write-only),\n",
       "  values_adj3_offset_2 = Register(values_adj3_offset=write-only),\n",
       "  values_adj4_offset_1 = Register(values_adj4_offset=write-only),\n",
       "  values_adj4_offset_2 = Register(values_adj4_offset=write-only)\n",
       "}"
      ]
     },
     "execution_count": 851,
     "metadata": {},
     "output_type": "execute_result"
    }
   ],
   "source": [
    "my_ip.register_map"
   ]
  },
  {
   "cell_type": "code",
   "execution_count": 852,
   "id": "69033a7f",
   "metadata": {},
   "outputs": [
    {
     "data": {
      "text/plain": [
       "RegisterMap {\n",
       "  CTRL = Register(AP_START=0, AP_DONE=0, AP_IDLE=1, AP_READY=0, RESERVED_1=0, AUTO_RESTART=0, RESERVED_2=0, INTERRUPT=0, RESERVED_3=0),\n",
       "  GIER = Register(Enable=0, RESERVED=0),\n",
       "  IP_IER = Register(CHAN0_INT_EN=0, CHAN1_INT_EN=0, RESERVED_0=0),\n",
       "  IP_ISR = Register(CHAN0_INT_ST=0, CHAN1_INT_ST=0, RESERVED_0=0),\n",
       "  gemm_mode = Register(gemm_mode=write-only, RESERVED=write-only),\n",
       "  quantized_multiplier_offset_1 = Register(quantized_multiplier_offset=write-only),\n",
       "  quantized_multiplier_offset_2 = Register(quantized_multiplier_offset=write-only),\n",
       "  shift_offset_1 = Register(shift_offset=write-only),\n",
       "  shift_offset_2 = Register(shift_offset=write-only),\n",
       "  bias_offset_1 = Register(bias_offset=write-only),\n",
       "  bias_offset_2 = Register(bias_offset=write-only),\n",
       "  bias_count = Register(bias_count=write-only),\n",
       "  profiling_offset_1 = Register(profiling_offset=write-only),\n",
       "  profiling_offset_2 = Register(profiling_offset=write-only),\n",
       "  zero_point_lhs = Register(zero_point_lhs=write-only, RESERVED=write-only),\n",
       "  zero_point_rhs = Register(zero_point_rhs=write-only, RESERVED=write-only),\n",
       "  zero_point_dst = Register(zero_point_dst=write-only, RESERVED=write-only),\n",
       "  clamp_max = Register(clamp_max=write-only, RESERVED=write-only),\n",
       "  clamp_min = Register(clamp_min=write-only, RESERVED=write-only),\n",
       "  N_adj = Register(N_adj=write-only),\n",
       "  M_adj = Register(M_adj=write-only),\n",
       "  M_fea = Register(M_fea=write-only),\n",
       "  P_w = Register(P_w=write-only),\n",
       "  B_offset_1 = Register(B_offset=write-only),\n",
       "  B_offset_2 = Register(B_offset=write-only),\n",
       "  D1_offset_1 = Register(D1_offset=write-only),\n",
       "  D1_offset_2 = Register(D1_offset=write-only),\n",
       "  D2_offset_1 = Register(D2_offset=write-only),\n",
       "  D2_offset_2 = Register(D2_offset=write-only),\n",
       "  D3_offset_1 = Register(D3_offset=write-only),\n",
       "  D3_offset_2 = Register(D3_offset=write-only),\n",
       "  D4_offset_1 = Register(D4_offset=write-only),\n",
       "  D4_offset_2 = Register(D4_offset=write-only),\n",
       "  array_c_adjust = Register(array_c_adjust=write-only),\n",
       "  rowPtr_fea1_offset_1 = Register(rowPtr_fea1_offset=write-only),\n",
       "  rowPtr_fea1_offset_2 = Register(rowPtr_fea1_offset=write-only),\n",
       "  rowPtr_fea2_offset_1 = Register(rowPtr_fea2_offset=write-only),\n",
       "  rowPtr_fea2_offset_2 = Register(rowPtr_fea2_offset=write-only),\n",
       "  rowPtr_fea3_offset_1 = Register(rowPtr_fea3_offset=write-only),\n",
       "  rowPtr_fea3_offset_2 = Register(rowPtr_fea3_offset=write-only),\n",
       "  rowPtr_fea4_offset_1 = Register(rowPtr_fea4_offset=write-only),\n",
       "  rowPtr_fea4_offset_2 = Register(rowPtr_fea4_offset=write-only),\n",
       "  columnIndex_fea1_offset_1 = Register(columnIndex_fea1_offset=write-only),\n",
       "  columnIndex_fea1_offset_2 = Register(columnIndex_fea1_offset=write-only),\n",
       "  columnIndex_fea2_offset_1 = Register(columnIndex_fea2_offset=write-only),\n",
       "  columnIndex_fea2_offset_2 = Register(columnIndex_fea2_offset=write-only),\n",
       "  columnIndex_fea3_offset_1 = Register(columnIndex_fea3_offset=write-only),\n",
       "  columnIndex_fea3_offset_2 = Register(columnIndex_fea3_offset=write-only),\n",
       "  columnIndex_fea4_offset_1 = Register(columnIndex_fea4_offset=write-only),\n",
       "  columnIndex_fea4_offset_2 = Register(columnIndex_fea4_offset=write-only),\n",
       "  values_fea1_offset_1 = Register(values_fea1_offset=write-only),\n",
       "  values_fea1_offset_2 = Register(values_fea1_offset=write-only),\n",
       "  values_fea2_offset_1 = Register(values_fea2_offset=write-only),\n",
       "  values_fea2_offset_2 = Register(values_fea2_offset=write-only),\n",
       "  values_fea3_offset_1 = Register(values_fea3_offset=write-only),\n",
       "  values_fea3_offset_2 = Register(values_fea3_offset=write-only),\n",
       "  values_fea4_offset_1 = Register(values_fea4_offset=write-only),\n",
       "  values_fea4_offset_2 = Register(values_fea4_offset=write-only),\n",
       "  rowPtr_adj1_offset_1 = Register(rowPtr_adj1_offset=write-only),\n",
       "  rowPtr_adj1_offset_2 = Register(rowPtr_adj1_offset=write-only),\n",
       "  rowPtr_adj2_offset_1 = Register(rowPtr_adj2_offset=write-only),\n",
       "  rowPtr_adj2_offset_2 = Register(rowPtr_adj2_offset=write-only),\n",
       "  rowPtr_adj3_offset_1 = Register(rowPtr_adj3_offset=write-only),\n",
       "  rowPtr_adj3_offset_2 = Register(rowPtr_adj3_offset=write-only),\n",
       "  rowPtr_adj4_offset_1 = Register(rowPtr_adj4_offset=write-only),\n",
       "  rowPtr_adj4_offset_2 = Register(rowPtr_adj4_offset=write-only),\n",
       "  columnIndex_adj1_offset_1 = Register(columnIndex_adj1_offset=write-only),\n",
       "  columnIndex_adj1_offset_2 = Register(columnIndex_adj1_offset=write-only),\n",
       "  columnIndex_adj2_offset_1 = Register(columnIndex_adj2_offset=write-only),\n",
       "  columnIndex_adj2_offset_2 = Register(columnIndex_adj2_offset=write-only),\n",
       "  columnIndex_adj3_offset_1 = Register(columnIndex_adj3_offset=write-only),\n",
       "  columnIndex_adj3_offset_2 = Register(columnIndex_adj3_offset=write-only),\n",
       "  columnIndex_adj4_offset_1 = Register(columnIndex_adj4_offset=write-only),\n",
       "  columnIndex_adj4_offset_2 = Register(columnIndex_adj4_offset=write-only),\n",
       "  values_adj1_offset_1 = Register(values_adj1_offset=write-only),\n",
       "  values_adj1_offset_2 = Register(values_adj1_offset=write-only),\n",
       "  values_adj2_offset_1 = Register(values_adj2_offset=write-only),\n",
       "  values_adj2_offset_2 = Register(values_adj2_offset=write-only),\n",
       "  values_adj3_offset_1 = Register(values_adj3_offset=write-only),\n",
       "  values_adj3_offset_2 = Register(values_adj3_offset=write-only),\n",
       "  values_adj4_offset_1 = Register(values_adj4_offset=write-only),\n",
       "  values_adj4_offset_2 = Register(values_adj4_offset=write-only)\n",
       "}"
      ]
     },
     "execution_count": 852,
     "metadata": {},
     "output_type": "execute_result"
    }
   ],
   "source": [
    "my_ip.register_map"
   ]
  },
  {
   "cell_type": "code",
   "execution_count": 853,
   "id": "f60976cc",
   "metadata": {},
   "outputs": [
    {
     "name": "stdout",
     "output_type": "stream",
     "text": [
      "Allocate some memory\n"
     ]
    }
   ],
   "source": [
    "print(\"Allocate some memory\")\n",
    "\n",
    "##The start address for this memory will be passed to the HLS IP. The HLS IP will read data from this memory and write results back to the same locations. \n",
    "\n",
    "##We can initialise the memory "
   ]
  },
  {
   "cell_type": "code",
   "execution_count": 854,
   "id": "2ea19603",
   "metadata": {},
   "outputs": [],
   "source": [
    "from pynq import allocate\n",
    "import numpy as np \n",
    "quantized_multiplier_buffer  = allocate(1024, dtype=np.int32)\n",
    "bias_buffer  = allocate(1024, dtype=np.int32)\n",
    "shift_buffer  = allocate(1024, dtype=np.int32)\n",
    "profiling_buffer  = allocate(16, dtype=np.int64)\n",
    "rowPtr_fea_buffer = allocate(N_adj+1, dtype=np.int32)\n",
    "columnIndex_fea_buffer = allocate(NNZ_fea, dtype=np.int32)\n",
    "values_fea_buffer = allocate(NNZ_fea, dtype=np.float16)\n",
    "rowPtr_adj_buffer = allocate(N_adj+1, dtype=np.int32)\n",
    "columnIndex_adj_buffer = allocate(NNZ_adj, dtype=np.int32)\n",
    "values_adj_buffer = allocate(NNZ_adj, dtype=np.float16)\n",
    "B_buffer = allocate(shape=(P_w,M_fea), dtype=np.float16)\n",
    "#B_buffer = allocate((M_fea*P_w), dtype=np.float32)\n",
    "#D_buffer = allocate((N_adj*P_w), dtype=np.float32)\n",
    "D_buffer = allocate(shape=(N_adj,P_w), dtype=np.float16)"
   ]
  },
  {
   "cell_type": "code",
   "execution_count": 855,
   "id": "8ac3c9f9",
   "metadata": {},
   "outputs": [
    {
     "name": "stdout",
     "output_type": "stream",
     "text": [
      "Load weight data\n"
     ]
    }
   ],
   "source": [
    "## Initialize the D and B buffers\n",
    "\n",
    "print(\"Load weight data\")"
   ]
  },
  {
   "cell_type": "code",
   "execution_count": 856,
   "id": "096bb726",
   "metadata": {},
   "outputs": [],
   "source": [
    "fin = open(w_name, 'rb')\n",
    "#w_row = np.genfromtxt(fin, max_rows=1, delimiter=',', dtype=np.float32)\n",
    "w = np.genfromtxt(fin, delimiter=',', dtype=np.float16)\n",
    "for i in range(M_fea): \n",
    "    for j in range(P_w):\n",
    "            B_buffer[j][i] = w[i][j]\n",
    "            #B_buffer[i*P_w+j] = w[i][j] * (1 << FRAC_BITS_IN)\n",
    "            #B_buffer[i*P_w+j] = 255"
   ]
  },
  {
   "cell_type": "code",
   "execution_count": 857,
   "id": "89af442d",
   "metadata": {},
   "outputs": [],
   "source": [
    "#B_buffer=B_buffer.transpose() #we transpose weights so hardware can read column as contiguos data"
   ]
  },
  {
   "cell_type": "code",
   "execution_count": 858,
   "id": "133caa00",
   "metadata": {},
   "outputs": [
    {
     "data": {
      "text/plain": [
       "PynqBuffer([[ 0.01738  ,  0.03238  , -0.000407 , ..., -0.001362 ,\n",
       "             -0.       , -0.000456 ],\n",
       "            [-0.01135  , -0.0333   , -0.000504 , ..., -0.001169 ,\n",
       "             -0.       , -0.006878 ],\n",
       "            [-0.02078  ,  0.0268   ,  0.000892 , ..., -0.003405 ,\n",
       "              0.       , -0.0085   ],\n",
       "            ...,\n",
       "            [-0.018    ,  0.01904  ,  0.001408 , ...,  0.001011 ,\n",
       "              0.       ,  0.007812 ],\n",
       "            [ 0.01994  ,  0.05753  ,  0.0002897, ..., -0.00202  ,\n",
       "             -0.       , -0.002542 ],\n",
       "            [-0.001315 , -0.02975  , -0.0001557, ...,  0.003527 ,\n",
       "              0.       ,  0.010315 ]], dtype=float16)"
      ]
     },
     "execution_count": 858,
     "metadata": {},
     "output_type": "execute_result"
    }
   ],
   "source": [
    "B_buffer"
   ]
  },
  {
   "cell_type": "code",
   "execution_count": 859,
   "id": "22ad4083",
   "metadata": {},
   "outputs": [],
   "source": [
    "for i in range(N_adj):\n",
    "    for j in range(P_w):\n",
    "        D_buffer[i][j] = 1"
   ]
  },
  {
   "cell_type": "code",
   "execution_count": 860,
   "id": "66912593",
   "metadata": {},
   "outputs": [
    {
     "data": {
      "text/plain": [
       "PynqBuffer(-0.1556, dtype=float16)"
      ]
     },
     "execution_count": 860,
     "metadata": {},
     "output_type": "execute_result"
    }
   ],
   "source": [
    "np.amin(B_buffer)"
   ]
  },
  {
   "cell_type": "code",
   "execution_count": 861,
   "id": "2cac0857",
   "metadata": {},
   "outputs": [
    {
     "data": {
      "text/plain": [
       "PynqBuffer(0.265, dtype=float16)"
      ]
     },
     "execution_count": 861,
     "metadata": {},
     "output_type": "execute_result"
    }
   ],
   "source": [
    "np.amax(B_buffer)"
   ]
  },
  {
   "cell_type": "markdown",
   "id": "9b491c49",
   "metadata": {},
   "source": [
    "for i in range(32):\n",
    "    for j in range(32):\n",
    "        B_buffer[i][j] = 1\n",
    "for i in range(32):\n",
    "    for j in range(32):\n",
    "        D_buffer[i][j] = 0"
   ]
  },
  {
   "cell_type": "code",
   "execution_count": 862,
   "id": "772f4da7",
   "metadata": {
    "scrolled": true
   },
   "outputs": [
    {
     "name": "stdout",
     "output_type": "stream",
     "text": [
      "Read sparse data\n"
     ]
    }
   ],
   "source": [
    "print(\"Read sparse data\")"
   ]
  },
  {
   "cell_type": "markdown",
   "id": "ad8845b9",
   "metadata": {},
   "source": [
    "## Read Sparse data\n",
    "\n"
   ]
  },
  {
   "cell_type": "markdown",
   "id": "e5b283a8",
   "metadata": {},
   "source": [
    "with open('/home/xilinx/jupyter_notebooks/gnn/test_000_adj.csv', 'rb') as fin:\n",
    "    rowPtr_adj_row = np.genfromtxt(fin, max_rows=1, delimiter=',', dtype=np.int32)\n",
    "    for i in range(32):\n",
    "        rowPtr_adj_buffer[i] = rowPtr_adj_row[i]\n",
    "    columnIndex_adj_buffer = np.genfromtxt(fin, max_rows=1, delimiter=',', dtype=np.int32)\n",
    "    values_adj_buffer = np.genfromtxt(fin, max_rows=1, delimiter=',', dtype=np.int32)"
   ]
  },
  {
   "cell_type": "code",
   "execution_count": 863,
   "id": "514af20d",
   "metadata": {},
   "outputs": [],
   "source": [
    "with open(adj_name, 'rb') as fin:\n",
    "    rowPtr_adj_row = np.genfromtxt(fin, max_rows=1, delimiter=',', dtype=np.int32)\n",
    "    #print(rowPtr_adj_row[3327])\n",
    "    #for i in range(N_adj+1):\n",
    "        #print(rowPtr_adj_row[i])\n",
    "        #rowPtr_adj_buffer[i] = rowPtr_adj_row[i]\n",
    "    rowPtr_adj_buffer[:] = rowPtr_adj_row[:]\n",
    "    columnIndex_adj_row = np.genfromtxt(fin, max_rows=1, delimiter=',', dtype=np.int32)\n",
    "    #for i in range(NNZ_adj):\n",
    "        #columnIndex_adj_buffer[i] = columnIndex_adj_row[i]\n",
    "    columnIndex_adj_buffer[:] = columnIndex_adj_row[:]\n",
    "    values_adj_row = np.genfromtxt(fin, max_rows=1, delimiter=',', dtype=np.float16)\n",
    "    #for i in range(NNZ_adj):\n",
    "    values_adj_buffer[:] = values_adj_row[:]\n",
    "    #values_adj_buffer[:] = values_adj_row[:]\n",
    "        #values_adj_buffer[i] = 255"
   ]
  },
  {
   "cell_type": "code",
   "execution_count": 864,
   "id": "0bdf0ed3",
   "metadata": {},
   "outputs": [
    {
     "data": {
      "text/plain": [
       "PynqBuffer([   0,  628,    1, ..., 3325,   33, 3326], dtype=int32)"
      ]
     },
     "execution_count": 864,
     "metadata": {},
     "output_type": "execute_result"
    }
   ],
   "source": [
    "columnIndex_adj_buffer"
   ]
  },
  {
   "cell_type": "code",
   "execution_count": 865,
   "id": "ae958d12",
   "metadata": {},
   "outputs": [
    {
     "data": {
      "text/plain": [
       "1.0"
      ]
     },
     "execution_count": 865,
     "metadata": {},
     "output_type": "execute_result"
    }
   ],
   "source": [
    "np.amax(values_adj_row)"
   ]
  },
  {
   "cell_type": "code",
   "execution_count": 866,
   "id": "1ee64278",
   "metadata": {},
   "outputs": [
    {
     "data": {
      "text/plain": [
       "PynqBuffer([0.5   , 0.5   , 0.1666, ..., 0.5   , 0.2886, 0.5   ],\n",
       "           dtype=float16)"
      ]
     },
     "execution_count": 866,
     "metadata": {},
     "output_type": "execute_result"
    }
   ],
   "source": [
    "values_adj_buffer"
   ]
  },
  {
   "cell_type": "code",
   "execution_count": 867,
   "id": "93da577c",
   "metadata": {},
   "outputs": [],
   "source": [
    "with open(fea_name, 'rb') as fin:\n",
    "    rowPtr_fea_row = np.genfromtxt(fin, max_rows=1, delimiter=',', dtype=np.int32)\n",
    "    #for i in range(N_adj+1):\n",
    "        #rowPtr_fea_buffer[i] = rowPtr_fea_row[i]\n",
    "        #print(rowPtr_fea_buffer[i])\n",
    "    rowPtr_fea_buffer[:] = rowPtr_fea_row[:]\n",
    "    columnIndex_fea_row = np.genfromtxt(fin, max_rows=1, delimiter=',', dtype=np.int32)\n",
    "    #for i in range(NNZ_fea):\n",
    "    #    columnIndex_fea_buffer[i] = columnIndex_fea_row[i]\n",
    "    columnIndex_fea_buffer[:] = columnIndex_fea_row[:]\n",
    "    #columnIndex_fea_buffer = columnIndex_fea_row\n",
    "    values_fea_row = np.genfromtxt(fin, max_rows=1, delimiter=',', dtype=np.float16)\n",
    "    #for i in range(NNZ_fea):\n",
    "        #values_fea_buffer[i] = 0\n",
    "    #values_fea_buffer[:] = values_fea_row[:]\n",
    "    values_fea_buffer[:] = values_fea_row[:]"
   ]
  },
  {
   "cell_type": "code",
   "execution_count": 868,
   "id": "6554799c",
   "metadata": {},
   "outputs": [
    {
     "data": {
      "text/plain": [
       "PynqBuffer([     0,     31,     64, ..., 105103, 105139, 105165],\n",
       "           dtype=int32)"
      ]
     },
     "execution_count": 868,
     "metadata": {},
     "output_type": "execute_result"
    }
   ],
   "source": [
    "rowPtr_fea_buffer"
   ]
  },
  {
   "cell_type": "code",
   "execution_count": 869,
   "id": "38772f53",
   "metadata": {},
   "outputs": [
    {
     "data": {
      "text/plain": [
       "1.0"
      ]
     },
     "execution_count": 869,
     "metadata": {},
     "output_type": "execute_result"
    }
   ],
   "source": [
    "np.amax(values_fea_row)"
   ]
  },
  {
   "cell_type": "markdown",
   "id": "c2319806",
   "metadata": {},
   "source": [
    "with open(fea_name, 'rb') as fin:\n",
    "    rowPtr_fea_row = np.genfromtxt(fin, max_rows=1, delimiter=',', dtype=np.int32)\n",
    "    rowPtr_fea_buffer[:] = rowPtr_fea_row\n",
    "    columnIndex_fea_row = np.genfromtxt(fin, max_rows=1, delimiter=',', dtype=np.int32)\n",
    "    columnIndex_fea_buffer[:] = columnIndex_fea_row[0:N_adj]\n",
    "    values_fea_row = np.genfromtxt(fin, max_rows=1, delimiter=',', dtype=np.float32)\n",
    "    values_fea_buffer[:] = values_fea_row * (1 << FRAC_BITS)\n",
    "        "
   ]
  },
  {
   "cell_type": "code",
   "execution_count": 870,
   "id": "61558f66",
   "metadata": {},
   "outputs": [
    {
     "data": {
      "text/plain": [
       "PynqBuffer([0.5   , 0.5   , 0.1666, ..., 0.5   , 0.2886, 0.5   ],\n",
       "           dtype=float16)"
      ]
     },
     "execution_count": 870,
     "metadata": {},
     "output_type": "execute_result"
    }
   ],
   "source": [
    " values_adj_buffer"
   ]
  },
  {
   "cell_type": "code",
   "execution_count": 871,
   "id": "024de5d6",
   "metadata": {},
   "outputs": [
    {
     "name": "stdout",
     "output_type": "stream",
     "text": [
      "rowPtr_fea_buffer physical address 0x7a06c000\n",
      "columnIndex_fea_buffer physical address 0x7db00000\n",
      "values_fea_buffer physical address 0x7db80000\n",
      "rowPtr_adj_buffer physical address 0x7a1c4000\n",
      "columnIndex_adj_buffer physical address 0x7a270000\n",
      "quantized_multiplier physical address 0x739fc000\n",
      "bias physical address 0x739fd000\n",
      "shift physical address 0x739fe000\n",
      "B_buffer physical address 0x7dae0000\n",
      "D_buffer physical address 0x7dbc0000\n",
      "profiling physical address 0x739ff000\n"
     ]
    }
   ],
   "source": [
    "print(\"rowPtr_fea_buffer physical address {}\".format(hex(rowPtr_fea_buffer.physical_address)))\n",
    "print(\"columnIndex_fea_buffer physical address {}\".format(hex(columnIndex_fea_buffer.physical_address)))\n",
    "print(\"values_fea_buffer physical address {}\".format(hex(values_fea_buffer.physical_address)))\n",
    "print(\"rowPtr_adj_buffer physical address {}\".format(hex(rowPtr_adj_buffer.physical_address)))\n",
    "print(\"columnIndex_adj_buffer physical address {}\".format(hex(columnIndex_adj_buffer.physical_address)))\n",
    "print(\"quantized_multiplier physical address {}\".format(hex(quantized_multiplier_buffer.physical_address)))\n",
    "print(\"bias physical address {}\".format(hex(bias_buffer.physical_address)))\n",
    "print(\"shift physical address {}\".format(hex(shift_buffer.physical_address)))\n",
    "print(\"B_buffer physical address {}\".format(hex(B_buffer.physical_address)))\n",
    "print(\"D_buffer physical address {}\".format(hex(D_buffer.physical_address)))\n",
    "print(\"profiling physical address {}\".format(hex(profiling_buffer.physical_address)))"
   ]
  },
  {
   "cell_type": "code",
   "execution_count": 872,
   "id": "c0ffd3dc",
   "metadata": {},
   "outputs": [],
   "source": [
    "#columnIndex_adj_buffer"
   ]
  },
  {
   "cell_type": "code",
   "execution_count": 873,
   "id": "bd24c4cf",
   "metadata": {},
   "outputs": [],
   "source": [
    " #rowPtr_adj_buffer[:] = rowPtr_adj_row"
   ]
  },
  {
   "cell_type": "code",
   "execution_count": 874,
   "id": "60cf7026",
   "metadata": {},
   "outputs": [],
   "source": [
    " #rowPtr_adj_buffer[:]=0 "
   ]
  },
  {
   "cell_type": "code",
   "execution_count": 875,
   "id": "02a7515b",
   "metadata": {},
   "outputs": [],
   "source": [
    " #rowPtr_adj_buffer[1:] = 1"
   ]
  },
  {
   "cell_type": "code",
   "execution_count": 876,
   "id": "99f4bee2",
   "metadata": {},
   "outputs": [
    {
     "name": "stdout",
     "output_type": "stream",
     "text": [
      "configure IP\n"
     ]
    }
   ],
   "source": [
    "print(\"configure IP\")"
   ]
  },
  {
   "cell_type": "markdown",
   "id": "c071f8b6-54a5-4039-9cdc-4a21bff54230",
   "metadata": {},
   "source": [
    "## Configure the IP"
   ]
  },
  {
   "cell_type": "markdown",
   "id": "2883bf75-69b0-41db-ae5d-008ab8708ae7",
   "metadata": {},
   "source": [
    "Write the values of the memory address for all the buffers.\n",
    "The run kernel starts the IP block and checks the done bit to see when it goes high. "
   ]
  },
  {
   "cell_type": "code",
   "execution_count": 877,
   "id": "475fd389-ae4f-4170-874a-764e17c48dbe",
   "metadata": {},
   "outputs": [],
   "source": [
    "my_ip.register_map.B_offset_1 = B_buffer.physical_address\n",
    "my_ip.register_map.D1_offset_1 = D_buffer.physical_address\n",
    "my_ip.register_map.D2_offset_1 = D_buffer.physical_address+P_w*N_adj/ADJ_THREADS\n",
    "my_ip.register_map.D3_offset_1 = D_buffer.physical_address+P_w*2*N_adj/ADJ_THREADS\n",
    "my_ip.register_map.D4_offset_1 = D_buffer.physical_address+P_w*3*N_adj/ADJ_THREADS\n",
    "my_ip.register_map.rowPtr_fea1_offset_1 = rowPtr_fea_buffer.physical_address\n",
    "my_ip.register_map.rowPtr_fea2_offset_1 = rowPtr_fea_buffer.physical_address\n",
    "my_ip.register_map.rowPtr_fea3_offset_1 = rowPtr_fea_buffer.physical_address\n",
    "my_ip.register_map.rowPtr_fea4_offset_1 = rowPtr_fea_buffer.physical_address\n",
    "#my_ip.register_map.rowPtr_fea_offset_1 = 0\n",
    "my_ip.register_map.columnIndex_fea1_offset_1 =columnIndex_fea_buffer.physical_address\n",
    "my_ip.register_map.columnIndex_fea2_offset_1 =columnIndex_fea_buffer.physical_address \n",
    "my_ip.register_map.columnIndex_fea3_offset_1 =columnIndex_fea_buffer.physical_address \n",
    "my_ip.register_map.columnIndex_fea4_offset_1 =columnIndex_fea_buffer.physical_address \n",
    "#my_ip.register_map.columnIndex_fea_offset_1 =0\n",
    "my_ip.register_map.values_fea1_offset_1 = values_fea_buffer.physical_address \n",
    "my_ip.register_map.values_fea2_offset_1 = values_fea_buffer.physical_address \n",
    "my_ip.register_map.values_fea3_offset_1 = values_fea_buffer.physical_address \n",
    "my_ip.register_map.values_fea4_offset_1 = values_fea_buffer.physical_address \n",
    "my_ip.register_map.rowPtr_adj1_offset_1 = rowPtr_adj_buffer.physical_address \n",
    "my_ip.register_map.rowPtr_adj2_offset_1 = rowPtr_adj_buffer.physical_address \n",
    "my_ip.register_map.rowPtr_adj3_offset_1 = rowPtr_adj_buffer.physical_address\n",
    "my_ip.register_map.rowPtr_adj4_offset_1 = rowPtr_adj_buffer.physical_address\n",
    "#my_ip.register_map.rowPtr_adj_offset_1 = 0\n",
    "my_ip.register_map.columnIndex_adj1_offset_1 = columnIndex_adj_buffer.physical_address \n",
    "my_ip.register_map.columnIndex_adj2_offset_1 = columnIndex_adj_buffer.physical_address\n",
    "my_ip.register_map.columnIndex_adj3_offset_1 = columnIndex_adj_buffer.physical_address \n",
    "my_ip.register_map.columnIndex_adj4_offset_1 = columnIndex_adj_buffer.physical_address \n",
    "#my_ip.register_map.columnIndex_adj_offset_1 = 0\n",
    "my_ip.register_map.values_adj1_offset_1 = values_adj_buffer.physical_address\n",
    "my_ip.register_map.values_adj2_offset_1 = values_adj_buffer.physical_address\n",
    "my_ip.register_map.values_adj3_offset_1 = values_adj_buffer.physical_address\n",
    "my_ip.register_map.values_adj4_offset_1 = values_adj_buffer.physical_address\n",
    "my_ip.register_map.quantized_multiplier_offset_1 = quantized_multiplier_buffer.physical_address\n",
    "my_ip.register_map.bias_offset_1  = bias_buffer.physical_address\n",
    "my_ip.register_map.shift_offset_1  = shift_buffer.physical_address\n",
    "my_ip.register_map.profiling_offset_1  = profiling_buffer.physical_address\n",
    "my_ip.register_map.M_fea=M_fea\n",
    "my_ip.register_map.N_adj=N_adj\n",
    "my_ip.register_map.M_adj=N_adj\n",
    "my_ip.register_map.P_w=P_w\n",
    "my_ip.register_map.use_sblocks=0\n",
    "my_ip.register_map.gemm_mode=0\n",
    "my_ip.register_map.bias_count=0\n",
    "my_ip.register_map.nnz_fea=NNZ_fea\n",
    "my_ip.register_map.array_c_adjust=N_adj"
   ]
  },
  {
   "cell_type": "code",
   "execution_count": 878,
   "id": "92dff574",
   "metadata": {},
   "outputs": [],
   "source": [
    "def run_kernel():\n",
    "    my_ip.register_map.CTRL.AP_START=1\n",
    "    kernel_done = my_ip.register_map.CTRL.AP_DONE\n",
    "    while kernel_done == 0:\n",
    "            kernel_done = my_ip.register_map.CTRL.AP_DONE"
   ]
  },
  {
   "cell_type": "code",
   "execution_count": 879,
   "id": "94b7c102",
   "metadata": {},
   "outputs": [
    {
     "name": "stdout",
     "output_type": "stream",
     "text": [
      "Running..\n"
     ]
    }
   ],
   "source": [
    "## Start the IP and time its execution time\n",
    "print(\"Running..\")"
   ]
  },
  {
   "cell_type": "code",
   "execution_count": 880,
   "id": "69d900a6-4c80-40c2-88cf-64b933d575a8",
   "metadata": {},
   "outputs": [
    {
     "name": "stdout",
     "output_type": "stream",
     "text": [
      "4.65 ms ± 2.58 µs per loop (mean ± std. dev. of 7 runs, 100 loops each)\n"
     ]
    }
   ],
   "source": [
    "%timeit run_kernel()\n",
    "#run_kernel()"
   ]
  },
  {
   "cell_type": "markdown",
   "id": "c6d58560-d75d-4e85-ad38-5483ceff7574",
   "metadata": {},
   "source": [
    "## Check the contents of the memory to see if they look OK"
   ]
  },
  {
   "cell_type": "code",
   "execution_count": 79,
   "id": "25276fa6-6156-4a4b-a8df-361476c39c29",
   "metadata": {},
   "outputs": [],
   "source": [
    "result=np.zeros(shape=(N_adj,P_w), dtype=np.float16)\n",
    "result[:] = D_buffer[:]\n",
    "result[:] = result[:]"
   ]
  },
  {
   "cell_type": "code",
   "execution_count": 81,
   "id": "c0da8144",
   "metadata": {},
   "outputs": [
    {
     "name": "stdout",
     "output_type": "stream",
     "text": [
      "[0.001968 0.4778   0.5967   0.03113  0.002258 0.5645   0.5312   0.01105\n",
      " 0.1146   0.716    0.0995   0.1425   0.653    0.1676   0.001312 0.07336\n",
      " 0.12164  0.1553   0.6055   0.4922   0.4949  ]\n"
     ]
    }
   ],
   "source": [
    "with np.printoptions(threshold=np.inf,suppress=True):\n",
    "    print(result[0])"
   ]
  },
  {
   "cell_type": "code",
   "execution_count": 40,
   "id": "a5612419",
   "metadata": {},
   "outputs": [
    {
     "data": {
      "text/plain": [
       "array([[ 0.362  ,  0.4805 ,  0.4055 , ...,  0.3713 ,  0.497  ,  0.4531 ],\n",
       "       [ 0.4678 ,  0.2988 ,  0.3374 , ...,  0.698  ,  0.2983 ,  0.3792 ],\n",
       "       [-0.07153,  0.59   ,  0.0504 , ...,  0.609  ,  0.7686 ,  0.1338 ],\n",
       "       ...,\n",
       "       [ 0.502  ,  0.4756 ,  0.4128 , ...,  0.488  ,  0.4485 ,  0.363  ],\n",
       "       [ 0.3262 ,  0.6333 ,  0.5176 , ...,  0.3574 ,  0.572  ,  0.3357 ],\n",
       "       [ 0.496  ,  0.3784 ,  0.749  , ...,  0.1355 ,  0.392  ,  0.3357 ]],\n",
       "      dtype=float16)"
      ]
     },
     "execution_count": 40,
     "metadata": {},
     "output_type": "execute_result"
    }
   ],
   "source": [
    "result"
   ]
  },
  {
   "cell_type": "code",
   "execution_count": 484,
   "id": "319e8b24",
   "metadata": {},
   "outputs": [
    {
     "name": "stdout",
     "output_type": "stream",
     "text": [
      "fifo_full_0 (frontend process fast)= 0\n",
      "fifo_empty_0 (frontend process slow)= 0\n",
      "fifo_read_0 (data read process count)= 0\n",
      "fifo_write_0 (data write process count)= 0\n",
      "fifo_cycle_0 (data activation process count)= 0\n"
     ]
    }
   ],
   "source": [
    "print(\"fifo_full_0 (frontend process fast)=\",profiling_buffer[0])\n",
    "print(\"fifo_empty_0 (frontend process slow)=\",profiling_buffer[3])\n",
    "print(\"fifo_read_0 (data read process count)=\",profiling_buffer[6])\n",
    "print(\"fifo_write_0 (data write process count)=\",profiling_buffer[9])\n",
    "print(\"fifo_cycle_0 (data activation process count)=\",profiling_buffer[12])"
   ]
  },
  {
   "cell_type": "code",
   "execution_count": 485,
   "id": "7fa3cc90",
   "metadata": {},
   "outputs": [
    {
     "name": "stdout",
     "output_type": "stream",
     "text": [
      "fifo_full_2 (backend process slow)= 0\n",
      "fifo_empty_2 (backend process fast)= 0\n",
      "fifo_read_2 (data read process count)= 0\n",
      "fifo_write_2 (data write process count)= 0\n",
      "fifo_cycle_2 (data activation process count)= 0\n"
     ]
    }
   ],
   "source": [
    "print(\"fifo_full_2 (backend process slow)=\",profiling_buffer[2])\n",
    "print(\"fifo_empty_2 (backend process fast)=\",profiling_buffer[5])\n",
    "print(\"fifo_read_2 (data read process count)=\",profiling_buffer[8])\n",
    "print(\"fifo_write_2 (data write process count)=\",profiling_buffer[11])\n",
    "print(\"fifo_cycle_2 (data activation process count)=\",profiling_buffer[14])"
   ]
  },
  {
   "cell_type": "code",
   "execution_count": 486,
   "id": "70287390",
   "metadata": {},
   "outputs": [
    {
     "data": {
      "text/plain": [
       "RegisterMap {\n",
       "  reg0 = Register(value=4),\n",
       "  reg1 = Register(value=0),\n",
       "  reg2 = Register(value=0),\n",
       "  reg3 = Register(value=0),\n",
       "  reg4 = Register(value=0),\n",
       "  reg5 = Register(value=0)\n",
       "}"
      ]
     },
     "execution_count": 486,
     "metadata": {},
     "output_type": "execute_result"
    }
   ],
   "source": [
    "my_monitor.register_map\n"
   ]
  },
  {
   "cell_type": "code",
   "execution_count": 487,
   "id": "87af2b7b",
   "metadata": {},
   "outputs": [],
   "source": [
    "#my_ip.register_map.CTRL\n",
    "fea_vfifo_full=int(my_monitor.register_map.reg1)\n",
    "fea_vfifo_empty=int(my_monitor.register_map.reg2)\n",
    "adj_vfifo_full=int(my_monitor.register_map.reg3)\n",
    "adj_vfifo_empty=int(my_monitor.register_map.reg4)\n",
    "active=int(my_monitor.register_map.reg0)"
   ]
  },
  {
   "cell_type": "markdown",
   "id": "11a6eaba",
   "metadata": {},
   "source": [
    "reg1/reg2 readval_fea (value fifo full/empty)\n",
    "reg3/reg4 readval_adj (value fifo full/empty)\n",
    "reg0 active"
   ]
  },
  {
   "cell_type": "code",
   "execution_count": 488,
   "id": "9d4bc24b",
   "metadata": {
    "scrolled": true
   },
   "outputs": [
    {
     "name": "stdout",
     "output_type": "stream",
     "text": [
      "vfifo fea empty rate  0.0\n"
     ]
    }
   ],
   "source": [
    "print(\"vfifo fea empty rate \",fea_vfifo_empty/active)"
   ]
  },
  {
   "cell_type": "code",
   "execution_count": 440,
   "id": "7829e501",
   "metadata": {},
   "outputs": [
    {
     "name": "stdout",
     "output_type": "stream",
     "text": [
      "vfifo fea full rate  0.4590431070922145\n"
     ]
    }
   ],
   "source": [
    "print(\"vfifo fea full rate \",fea_vfifo_full/active)"
   ]
  },
  {
   "cell_type": "code",
   "execution_count": 441,
   "id": "a0627d43",
   "metadata": {},
   "outputs": [
    {
     "name": "stdout",
     "output_type": "stream",
     "text": [
      "vfifo adj empty rate  0.49534405661931524\n"
     ]
    }
   ],
   "source": [
    "print(\"vfifo adj empty rate \",adj_vfifo_empty/active)"
   ]
  },
  {
   "cell_type": "code",
   "execution_count": 442,
   "id": "983445fc",
   "metadata": {},
   "outputs": [
    {
     "name": "stdout",
     "output_type": "stream",
     "text": [
      "vfifo adj full rate  0.28641042840005615\n"
     ]
    }
   ],
   "source": [
    "print(\"vfifo adj full rate \",adj_vfifo_full/active)"
   ]
  },
  {
   "cell_type": "code",
   "execution_count": 443,
   "id": "ea4965c0",
   "metadata": {},
   "outputs": [
    {
     "name": "stdout",
     "output_type": "stream",
     "text": [
      "Execution time in ms 10.513444\n"
     ]
    }
   ],
   "source": [
    "print(\"Execution time in ms\",1000*active/250000000)"
   ]
  },
  {
   "cell_type": "code",
   "execution_count": 192,
   "id": "e967ab96",
   "metadata": {
    "jupyter": {
     "source_hidden": true
    },
    "tags": []
   },
   "outputs": [],
   "source": [
    "my_ip.register_map.CTRL.AUTO_RESTART=1"
   ]
  },
  {
   "cell_type": "markdown",
   "id": "a2641cfc",
   "metadata": {},
   "source": [
    "# Replicate in software to compare performance"
   ]
  },
  {
   "cell_type": "markdown",
   "id": "91c2bb15",
   "metadata": {},
   "source": [
    "for i in range(32):\n",
    "    for j in range(32):\n",
    "        A_buffer[i][j] = 1.0\n",
    "for i in range(32):\n",
    "    for j in range(32):\n",
    "        B_buffer[i][j] = 1.0\n",
    "for i in range(32):\n",
    "    for j in range(32):\n",
    "        C_buffer[i][j] = 0.0"
   ]
  },
  {
   "cell_type": "markdown",
   "id": "4712d300",
   "metadata": {},
   "source": [
    "%timeit C_buffer = A_buffer * B_buffer"
   ]
  },
  {
   "cell_type": "markdown",
   "id": "e9262b79",
   "metadata": {},
   "source": [
    "C_buffer[0][1]"
   ]
  },
  {
   "cell_type": "code",
   "execution_count": 324,
   "id": "714bd23b",
   "metadata": {},
   "outputs": [],
   "source": [
    "quantized_multiplier_buffer.freebuffer()\n",
    "bias_buffer.freebuffer()\n",
    "shift_buffer.freebuffer()\n",
    "profiling_buffer.freebuffer()\n",
    "rowPtr_fea_buffer.freebuffer()\n",
    "columnIndex_fea_buffer.freebuffer()\n",
    "values_fea_buffer.freebuffer()\n",
    "rowPtr_adj_buffer.freebuffer()\n",
    "columnIndex_adj_buffer.freebuffer()\n",
    "values_adj_buffer.freebuffer()\n",
    "B_buffer.freebuffer()\n",
    "D_buffer.freebuffer()"
   ]
  },
  {
   "cell_type": "code",
   "execution_count": null,
   "id": "6eb3533b",
   "metadata": {},
   "outputs": [],
   "source": []
  },
  {
   "cell_type": "code",
   "execution_count": 325,
   "id": "674641bb",
   "metadata": {},
   "outputs": [],
   "source": [
    "from scipy.sparse import csr_matrix\n",
    "csrMatrix_adj = csr_matrix((values_adj_row , columnIndex_adj_row, rowPtr_adj_row), shape=(N_adj, N_adj))\n",
    "csrMatrix_fea = csr_matrix((values_fea_row , columnIndex_fea_row, rowPtr_fea_row), shape=(N_adj, M_fea))"
   ]
  },
  {
   "cell_type": "code",
   "execution_count": 439,
   "id": "34b7e203",
   "metadata": {},
   "outputs": [
    {
     "data": {
      "text/plain": [
       "(500, 18)"
      ]
     },
     "execution_count": 439,
     "metadata": {},
     "output_type": "execute_result"
    }
   ],
   "source": [
    "w.shape"
   ]
  },
  {
   "cell_type": "code",
   "execution_count": 328,
   "id": "1aaecd07",
   "metadata": {},
   "outputs": [
    {
     "name": "stdout",
     "output_type": "stream",
     "text": [
      "268 ms ± 660 µs per loop (mean ± std. dev. of 7 runs, 1 loop each)\n"
     ]
    }
   ],
   "source": [
    "%timeit csrMatrix_adjfeaw = csrMatrix_adj*(csrMatrix_fea*w)\n",
    "#csrMatrix_adjfeaw = csrMatrix_adj*(csrMatrix_fea*w)"
   ]
  },
  {
   "cell_type": "code",
   "execution_count": 100,
   "id": "61cc863c",
   "metadata": {},
   "outputs": [
    {
     "data": {
      "text/plain": [
       "(3327, 21)"
      ]
     },
     "execution_count": 100,
     "metadata": {},
     "output_type": "execute_result"
    }
   ],
   "source": [
    "csrMatrix_adjfeaw.shape"
   ]
  },
  {
   "cell_type": "code",
   "execution_count": 101,
   "id": "587642d4",
   "metadata": {},
   "outputs": [
    {
     "name": "stdout",
     "output_type": "stream",
     "text": [
      "[0.0019877  0.47759533 0.5971749  0.03115976 0.00219059 0.5643878\n",
      " 0.530963   0.01102665 0.11454511 0.7159475  0.09950522 0.14244223\n",
      " 0.6527748  0.16745949 0.00133669 0.073318   0.12169862 0.15521336\n",
      " 0.60524035 0.4921999  0.4949317 ]\n"
     ]
    }
   ],
   "source": [
    "with np.printoptions(threshold=np.inf,suppress=True):\n",
    "    print(csrMatrix_adjfeaw[0])"
   ]
  },
  {
   "cell_type": "code",
   "execution_count": 102,
   "id": "accec11f",
   "metadata": {},
   "outputs": [
    {
     "data": {
      "text/plain": [
       "False"
      ]
     },
     "execution_count": 102,
     "metadata": {},
     "output_type": "execute_result"
    }
   ],
   "source": [
    "np.allclose(result, csrMatrix_adjfeaw,atol=0.1)"
   ]
  },
  {
   "cell_type": "code",
   "execution_count": 109,
   "id": "bbcb4ed3",
   "metadata": {},
   "outputs": [
    {
     "ename": "TypeError",
     "evalue": "matmul(): argument 'input' (position 1) must be Tensor, not csr_matrix",
     "output_type": "error",
     "traceback": [
      "\u001b[0;31m---------------------------------------------------------------------------\u001b[0m",
      "\u001b[0;31mTypeError\u001b[0m                                 Traceback (most recent call last)",
      "\u001b[0;32m<ipython-input-109-a8f4a4d463ba>\u001b[0m in \u001b[0;36m<module>\u001b[0;34m\u001b[0m\n\u001b[1;32m      1\u001b[0m \u001b[0;31m#support = torch.matmul(csrMatrix_fea,w)\u001b[0m\u001b[0;34m\u001b[0m\u001b[0;34m\u001b[0m\u001b[0;34m\u001b[0m\u001b[0m\n\u001b[1;32m      2\u001b[0m \u001b[0;31m#output = torch.spmm(csrMatrix_adj, support)\u001b[0m\u001b[0;34m\u001b[0m\u001b[0;34m\u001b[0m\u001b[0;34m\u001b[0m\u001b[0m\n\u001b[0;32m----> 3\u001b[0;31m \u001b[0msupport\u001b[0m \u001b[0;34m=\u001b[0m \u001b[0mtorch\u001b[0m\u001b[0;34m.\u001b[0m\u001b[0mmatmul\u001b[0m\u001b[0;34m(\u001b[0m\u001b[0mcsrMatrix_fea\u001b[0m\u001b[0;34m,\u001b[0m\u001b[0mw\u001b[0m\u001b[0;34m)\u001b[0m\u001b[0;34m\u001b[0m\u001b[0;34m\u001b[0m\u001b[0m\n\u001b[0m",
      "\u001b[0;31mTypeError\u001b[0m: matmul(): argument 'input' (position 1) must be Tensor, not csr_matrix"
     ]
    }
   ],
   "source": [
    "#support = torch.matmul(csrMatrix_fea,w)\n",
    "#output = torch.spmm(csrMatrix_adj, support)\n",
    "support = torch.matmul(csrMatrix_fea,w)"
   ]
  },
  {
   "cell_type": "code",
   "execution_count": null,
   "id": "72fed4e7",
   "metadata": {},
   "outputs": [],
   "source": []
  }
 ],
 "metadata": {
  "kernelspec": {
   "display_name": "Python 3",
   "language": "python",
   "name": "python3"
  },
  "language_info": {
   "codemirror_mode": {
    "name": "ipython",
    "version": 3
   },
   "file_extension": ".py",
   "mimetype": "text/x-python",
   "name": "python",
   "nbconvert_exporter": "python",
   "pygments_lexer": "ipython3",
   "version": "3.8.2"
  }
 },
 "nbformat": 4,
 "nbformat_minor": 5
}
